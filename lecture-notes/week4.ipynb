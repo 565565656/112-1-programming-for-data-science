{
 "cells": [
  {
   "cell_type": "code",
   "execution_count": 1,
   "metadata": {
    "vscode": {
     "languageId": "r"
    }
   },
   "outputs": [
    {
     "data": {
      "text/html": [
       "'en_US.UTF-8'"
      ],
      "text/latex": [
       "'en\\_US.UTF-8'"
      ],
      "text/markdown": [
       "'en_US.UTF-8'"
      ],
      "text/plain": [
       "[1] \"en_US.UTF-8\""
      ]
     },
     "metadata": {},
     "output_type": "display_data"
    }
   ],
   "source": [
    "# To ensure Chinese characters are displayed correctly\n",
    "options(encoding = \"UTF-8\")\n",
    "Sys.setlocale(\"LC_CTYPE\", \"en_US.UTF-8\")"
   ]
  },
  {
   "cell_type": "markdown",
   "metadata": {},
   "source": [
    "# Progress storage\n",
    "\n",
    "During the research process, you will need to save your progress and come back the next data to pick up where you left off. This is a good practice to avoid losing your work. In this section, we will learn how to save and load data in R."
   ]
  },
  {
   "cell_type": "code",
   "execution_count": 4,
   "metadata": {
    "vscode": {
     "languageId": "r"
    }
   },
   "outputs": [],
   "source": [
    "flights <- list(\n",
    "    data = list(\n",
    "        file = \"data/international_flights.json\",\n",
    "        meta = list(\n",
    "            name = \"國際航空定期時刻表\",\n",
    "            source_link = \"https://data.gov.tw/dataset/161167\"\n",
    "        )\n",
    "    )\n",
    ")"
   ]
  },
  {
   "cell_type": "markdown",
   "metadata": {},
   "source": [
    "# Exercise: understand your data\n",
    "\n",
    "- what's the name of the dataset? where is it from? "
   ]
  },
  {
   "cell_type": "markdown",
   "metadata": {},
   "source": [
    "# Import data"
   ]
  },
  {
   "cell_type": "code",
   "execution_count": 7,
   "metadata": {
    "vscode": {
     "languageId": "r"
    }
   },
   "outputs": [],
   "source": [
    "# Read JSON file\n",
    "\n",
    "filepath = flights$data$file\n",
    "flightsData <- jsonlite::fromJSON(filepath)"
   ]
  },
  {
   "cell_type": "markdown",
   "metadata": {},
   "source": [
    "# Store progress"
   ]
  },
  {
   "cell_type": "code",
   "execution_count": null,
   "metadata": {
    "vscode": {
     "languageId": "r"
    }
   },
   "outputs": [],
   "source": [
    "flights$data"
   ]
  },
  {
   "cell_type": "markdown",
   "metadata": {},
   "source": [
    "# Data acquantance\n",
    "\n",
    "## Data structure\n",
    "\n",
    "- Type of storage: an atomic vector, a list, a data frame, or a matrix.  \n",
    "- Class: numeric, character, integer, list, data frame, or matrix.  "
   ]
  },
  {
   "cell_type": "code",
   "execution_count": 12,
   "metadata": {
    "vscode": {
     "languageId": "r"
    }
   },
   "outputs": [
    {
     "data": {
      "text/html": [
       "'list'"
      ],
      "text/latex": [
       "'list'"
      ],
      "text/markdown": [
       "'list'"
      ],
      "text/plain": [
       "[1] \"list\""
      ]
     },
     "metadata": {},
     "output_type": "display_data"
    },
    {
     "data": {
      "text/html": [
       "'data.frame'"
      ],
      "text/latex": [
       "'data.frame'"
      ],
      "text/markdown": [
       "'data.frame'"
      ],
      "text/plain": [
       "[1] \"data.frame\""
      ]
     },
     "metadata": {},
     "output_type": "display_data"
    }
   ],
   "source": [
    "typeof(flightsData)\n",
    "class(flightsData)"
   ]
  },
  {
   "cell_type": "markdown",
   "metadata": {},
   "source": [
    "### Two classes of collective data \n",
    "\n",
    "- Observation by observation (obo): mostly a `list` class.\n",
    "- Feature by feature (fbf): mostly a `data.frame` class.\n",
    "\n",
    "[3.1.1 Json data](https://tpemartin.github.io/NTPU-R-for-Data-Science-EN/element-values.html#json-data)  \n",
    "[4.2.4 Data frame](https://tpemartin.github.io/NTPU-R-for-Data-Science-EN/operations-on-atomic-vectors.html#data-frame)\n",
    "\n",
    "[Benefit of data frame](https://hyp.is/K1GeGme-Ee6m2vNkdp7lnw/tpemartin.github.io/NTPU-R-for-Data-Science-EN/operations-on-atomic-vectors.html)"
   ]
  },
  {
   "cell_type": "code",
   "execution_count": 15,
   "metadata": {
    "vscode": {
     "languageId": "r"
    }
   },
   "outputs": [],
   "source": [
    "# Observation by observation\n",
    "concerts_obo <-\n",
    "  jsonlite::fromJSON(\"https://cloud.culture.tw/frontsite/trans/SearchShowAction.do?method=doFindTypeJ&category=17\", simplifyDataFrame = F)\n",
    "\n",
    "# Feature by feature\n",
    "concerts_fbf <-\n",
    "  jsonlite::fromJSON(\"https://cloud.culture.tw/frontsite/trans/SearchShowAction.do?method=doFindTypeJ&category=17\", simplifyDataFrame = T)"
   ]
  },
  {
   "cell_type": "code",
   "execution_count": null,
   "metadata": {
    "vscode": {
     "languageId": "r"
    }
   },
   "outputs": [],
   "source": [
    "concerts_obo[[1]]\n"
   ]
  },
  {
   "cell_type": "code",
   "execution_count": 19,
   "metadata": {
    "vscode": {
     "languageId": "r"
    }
   },
   "outputs": [
    {
     "data": {
      "text/html": [
       "<style>\n",
       ".list-inline {list-style: none; margin:0; padding: 0}\n",
       ".list-inline>li {display: inline-block}\n",
       ".list-inline>li:not(:last-child)::after {content: \"\\00b7\"; padding: 0 .5ex}\n",
       "</style>\n",
       "<ol class=list-inline><li>'1.4'</li><li>'1.4'</li><li>'1.4'</li><li>'1.4'</li><li>'1.4'</li><li>'1.4'</li><li>'1.4'</li><li>'1.4'</li></ol>\n"
      ],
      "text/latex": [
       "\\begin{enumerate*}\n",
       "\\item '1.4'\n",
       "\\item '1.4'\n",
       "\\item '1.4'\n",
       "\\item '1.4'\n",
       "\\item '1.4'\n",
       "\\item '1.4'\n",
       "\\item '1.4'\n",
       "\\item '1.4'\n",
       "\\end{enumerate*}\n"
      ],
      "text/markdown": [
       "1. '1.4'\n",
       "2. '1.4'\n",
       "3. '1.4'\n",
       "4. '1.4'\n",
       "5. '1.4'\n",
       "6. '1.4'\n",
       "7. '1.4'\n",
       "8. '1.4'\n",
       "\n",
       "\n"
      ],
      "text/plain": [
       "[1] \"1.4\" \"1.4\" \"1.4\" \"1.4\" \"1.4\" \"1.4\" \"1.4\" \"1.4\""
      ]
     },
     "metadata": {},
     "output_type": "display_data"
    }
   ],
   "source": [
    "\n",
    "concerts_fbf[[1]]"
   ]
  },
  {
   "cell_type": "markdown",
   "metadata": {},
   "source": [
    "## Names of columns"
   ]
  },
  {
   "cell_type": "code",
   "execution_count": 13,
   "metadata": {
    "vscode": {
     "languageId": "r"
    }
   },
   "outputs": [
    {
     "data": {
      "text/html": [
       "<style>\n",
       ".list-inline {list-style: none; margin:0; padding: 0}\n",
       ".list-inline>li {display: inline-block}\n",
       ".list-inline>li:not(:last-child)::after {content: \"\\00b7\"; padding: 0 .5ex}\n",
       "</style>\n",
       "<ol class=list-inline><li>'AirlineID'</li><li>'ScheduleStartDate'</li><li>'ScheduleEndDate'</li><li>'FlightNumber'</li><li>'DepartureAirportID'</li><li>'DepartureTime'</li><li>'CodeShare'</li><li>'ArrivalAirportID'</li><li>'ArrivalTime'</li><li>'Monday'</li><li>'Tuesday'</li><li>'Wednesday'</li><li>'Thursday'</li><li>'Friday'</li><li>'Saturday'</li><li>'Sunday'</li><li>'UpdateTime'</li><li>'VersionID'</li><li>'Terminal'</li><li>'num_codeShare'</li></ol>\n"
      ],
      "text/latex": [
       "\\begin{enumerate*}\n",
       "\\item 'AirlineID'\n",
       "\\item 'ScheduleStartDate'\n",
       "\\item 'ScheduleEndDate'\n",
       "\\item 'FlightNumber'\n",
       "\\item 'DepartureAirportID'\n",
       "\\item 'DepartureTime'\n",
       "\\item 'CodeShare'\n",
       "\\item 'ArrivalAirportID'\n",
       "\\item 'ArrivalTime'\n",
       "\\item 'Monday'\n",
       "\\item 'Tuesday'\n",
       "\\item 'Wednesday'\n",
       "\\item 'Thursday'\n",
       "\\item 'Friday'\n",
       "\\item 'Saturday'\n",
       "\\item 'Sunday'\n",
       "\\item 'UpdateTime'\n",
       "\\item 'VersionID'\n",
       "\\item 'Terminal'\n",
       "\\item 'num\\_codeShare'\n",
       "\\end{enumerate*}\n"
      ],
      "text/markdown": [
       "1. 'AirlineID'\n",
       "2. 'ScheduleStartDate'\n",
       "3. 'ScheduleEndDate'\n",
       "4. 'FlightNumber'\n",
       "5. 'DepartureAirportID'\n",
       "6. 'DepartureTime'\n",
       "7. 'CodeShare'\n",
       "8. 'ArrivalAirportID'\n",
       "9. 'ArrivalTime'\n",
       "10. 'Monday'\n",
       "11. 'Tuesday'\n",
       "12. 'Wednesday'\n",
       "13. 'Thursday'\n",
       "14. 'Friday'\n",
       "15. 'Saturday'\n",
       "16. 'Sunday'\n",
       "17. 'UpdateTime'\n",
       "18. 'VersionID'\n",
       "19. 'Terminal'\n",
       "20. 'num_codeShare'\n",
       "\n",
       "\n"
      ],
      "text/plain": [
       " [1] \"AirlineID\"          \"ScheduleStartDate\"  \"ScheduleEndDate\"   \n",
       " [4] \"FlightNumber\"       \"DepartureAirportID\" \"DepartureTime\"     \n",
       " [7] \"CodeShare\"          \"ArrivalAirportID\"   \"ArrivalTime\"       \n",
       "[10] \"Monday\"             \"Tuesday\"            \"Wednesday\"         \n",
       "[13] \"Thursday\"           \"Friday\"             \"Saturday\"          \n",
       "[16] \"Sunday\"             \"UpdateTime\"         \"VersionID\"         \n",
       "[19] \"Terminal\"           \"num_codeShare\"     "
      ]
     },
     "metadata": {},
     "output_type": "display_data"
    }
   ],
   "source": [
    "names(flightsData)"
   ]
  },
  {
   "cell_type": "markdown",
   "metadata": {},
   "source": [
    "Each name represents:\n",
    "\n",
    "- `AirlineID`: an identification number assigned by IATA to identify a unique airline (carrier).\n",
    "- `ScheduleStartDate`: the start date of the flight schedule season for which the row of data is relevant to.\n",
    "- `ScheduleEndDate`: the end date of the flight schedule season for which the row of data is relevant to.\n",
    "- `FlightNumber`: the flight number assigned by the carrier.\n",
    "- `DepartureAirportID`: an identification number assigned by IATA to identify a unique airport.\n",
    "- `ArrivalAirportID`: an identification number assigned by IATA to identify a unique airport.\n",
    "- `DepartureTime`: the scheduled departure time of the flight.\n",
    "- `ArrivalTime`: the scheduled arrival time of the flight.\n",
    "- `Monday` to `Sunday`: the days of the week on which the flight operates based on departure date.\n",
    "- `CodeShare`: a code share flight is a flight booked through one airline but operated by another airline (as indicated by the carrier code).\n",
    "\n"
   ]
  },
  {
   "cell_type": "markdown",
   "metadata": {},
   "source": [
    "## Check the first few rows"
   ]
  },
  {
   "cell_type": "code",
   "execution_count": 14,
   "metadata": {
    "vscode": {
     "languageId": "r"
    }
   },
   "outputs": [
    {
     "data": {
      "text/html": [
       "<table class=\"dataframe\">\n",
       "<caption>A data.frame: 6 × 20</caption>\n",
       "<thead>\n",
       "\t<tr><th></th><th scope=col>AirlineID</th><th scope=col>ScheduleStartDate</th><th scope=col>ScheduleEndDate</th><th scope=col>FlightNumber</th><th scope=col>DepartureAirportID</th><th scope=col>DepartureTime</th><th scope=col>CodeShare</th><th scope=col>ArrivalAirportID</th><th scope=col>ArrivalTime</th><th scope=col>Monday</th><th scope=col>Tuesday</th><th scope=col>Wednesday</th><th scope=col>Thursday</th><th scope=col>Friday</th><th scope=col>Saturday</th><th scope=col>Sunday</th><th scope=col>UpdateTime</th><th scope=col>VersionID</th><th scope=col>Terminal</th><th scope=col>num_codeShare</th></tr>\n",
       "\t<tr><th></th><th scope=col>&lt;list&gt;</th><th scope=col>&lt;list&gt;</th><th scope=col>&lt;list&gt;</th><th scope=col>&lt;list&gt;</th><th scope=col>&lt;list&gt;</th><th scope=col>&lt;list&gt;</th><th scope=col>&lt;list&gt;</th><th scope=col>&lt;list&gt;</th><th scope=col>&lt;list&gt;</th><th scope=col>&lt;list&gt;</th><th scope=col>&lt;list&gt;</th><th scope=col>&lt;list&gt;</th><th scope=col>&lt;list&gt;</th><th scope=col>&lt;list&gt;</th><th scope=col>&lt;list&gt;</th><th scope=col>&lt;list&gt;</th><th scope=col>&lt;list&gt;</th><th scope=col>&lt;list&gt;</th><th scope=col>&lt;list&gt;</th><th scope=col>&lt;int&gt;</th></tr>\n",
       "</thead>\n",
       "<tbody>\n",
       "\t<tr><th scope=row>1</th><td>3U</td><td>2023-10-13</td><td>2023-10-15</td><td>3U3783</td><td>CKG</td><td>15:00</td><td>NULL</td><td>TSA</td><td>18:00</td><td>FALSE</td><td>FALSE</td><td>FALSE</td><td>FALSE</td><td>TRUE</td><td>FALSE</td><td>TRUE</td><td>2023-10-10T08:26:07+08:00</td><td>1111</td><td>NA</td><td>0</td></tr>\n",
       "\t<tr><th scope=row>2</th><td>3U</td><td>2023-10-20</td><td>2023-10-22</td><td>3U3783</td><td>CKG</td><td>15:00</td><td>NULL</td><td>TSA</td><td>18:00</td><td>FALSE</td><td>FALSE</td><td>FALSE</td><td>FALSE</td><td>TRUE</td><td>FALSE</td><td>TRUE</td><td>2023-10-10T08:26:07+08:00</td><td>1111</td><td>NA</td><td>0</td></tr>\n",
       "\t<tr><th scope=row>3</th><td>3U</td><td>2023-10-27</td><td>2023-10-27</td><td>3U3783</td><td>CKG</td><td>15:00</td><td>NULL</td><td>TSA</td><td>18:00</td><td>FALSE</td><td>FALSE</td><td>FALSE</td><td>FALSE</td><td>TRUE</td><td>FALSE</td><td>FALSE</td><td>2023-10-10T08:26:07+08:00</td><td>1111</td><td>NA</td><td>0</td></tr>\n",
       "\t<tr><th scope=row>4</th><td>3U</td><td>2023-10-13</td><td>2023-10-15</td><td>3U3784</td><td>TSA</td><td>19:00</td><td>NULL</td><td>CKG</td><td>22:15</td><td>FALSE</td><td>FALSE</td><td>FALSE</td><td>FALSE</td><td>TRUE</td><td>FALSE</td><td>TRUE</td><td>2023-10-10T08:26:07+08:00</td><td>1111</td><td>NA</td><td>0</td></tr>\n",
       "\t<tr><th scope=row>5</th><td>3U</td><td>2023-10-20</td><td>2023-10-22</td><td>3U3784</td><td>TSA</td><td>19:00</td><td>NULL</td><td>CKG</td><td>22:15</td><td>FALSE</td><td>FALSE</td><td>FALSE</td><td>FALSE</td><td>TRUE</td><td>FALSE</td><td>TRUE</td><td>2023-10-10T08:26:07+08:00</td><td>1111</td><td>NA</td><td>0</td></tr>\n",
       "\t<tr><th scope=row>6</th><td>3U</td><td>2023-10-27</td><td>2023-10-27</td><td>3U3784</td><td>TSA</td><td>19:00</td><td>NULL</td><td>CKG</td><td>22:15</td><td>FALSE</td><td>FALSE</td><td>FALSE</td><td>FALSE</td><td>TRUE</td><td>FALSE</td><td>FALSE</td><td>2023-10-10T08:26:07+08:00</td><td>1111</td><td>NA</td><td>0</td></tr>\n",
       "</tbody>\n",
       "</table>\n"
      ],
      "text/latex": [
       "A data.frame: 6 × 20\n",
       "\\begin{tabular}{r|llllllllllllllllllll}\n",
       "  & AirlineID & ScheduleStartDate & ScheduleEndDate & FlightNumber & DepartureAirportID & DepartureTime & CodeShare & ArrivalAirportID & ArrivalTime & Monday & Tuesday & Wednesday & Thursday & Friday & Saturday & Sunday & UpdateTime & VersionID & Terminal & num\\_codeShare\\\\\n",
       "  & <list> & <list> & <list> & <list> & <list> & <list> & <list> & <list> & <list> & <list> & <list> & <list> & <list> & <list> & <list> & <list> & <list> & <list> & <list> & <int>\\\\\n",
       "\\hline\n",
       "\t1 & 3U & 2023-10-13 & 2023-10-15 & 3U3783 & CKG & 15:00 & NULL & TSA & 18:00 & FALSE & FALSE & FALSE & FALSE & TRUE & FALSE & TRUE & 2023-10-10T08:26:07+08:00 & 1111 & NA & 0\\\\\n",
       "\t2 & 3U & 2023-10-20 & 2023-10-22 & 3U3783 & CKG & 15:00 & NULL & TSA & 18:00 & FALSE & FALSE & FALSE & FALSE & TRUE & FALSE & TRUE & 2023-10-10T08:26:07+08:00 & 1111 & NA & 0\\\\\n",
       "\t3 & 3U & 2023-10-27 & 2023-10-27 & 3U3783 & CKG & 15:00 & NULL & TSA & 18:00 & FALSE & FALSE & FALSE & FALSE & TRUE & FALSE & FALSE & 2023-10-10T08:26:07+08:00 & 1111 & NA & 0\\\\\n",
       "\t4 & 3U & 2023-10-13 & 2023-10-15 & 3U3784 & TSA & 19:00 & NULL & CKG & 22:15 & FALSE & FALSE & FALSE & FALSE & TRUE & FALSE & TRUE & 2023-10-10T08:26:07+08:00 & 1111 & NA & 0\\\\\n",
       "\t5 & 3U & 2023-10-20 & 2023-10-22 & 3U3784 & TSA & 19:00 & NULL & CKG & 22:15 & FALSE & FALSE & FALSE & FALSE & TRUE & FALSE & TRUE & 2023-10-10T08:26:07+08:00 & 1111 & NA & 0\\\\\n",
       "\t6 & 3U & 2023-10-27 & 2023-10-27 & 3U3784 & TSA & 19:00 & NULL & CKG & 22:15 & FALSE & FALSE & FALSE & FALSE & TRUE & FALSE & FALSE & 2023-10-10T08:26:07+08:00 & 1111 & NA & 0\\\\\n",
       "\\end{tabular}\n"
      ],
      "text/markdown": [
       "\n",
       "A data.frame: 6 × 20\n",
       "\n",
       "| <!--/--> | AirlineID &lt;list&gt; | ScheduleStartDate &lt;list&gt; | ScheduleEndDate &lt;list&gt; | FlightNumber &lt;list&gt; | DepartureAirportID &lt;list&gt; | DepartureTime &lt;list&gt; | CodeShare &lt;list&gt; | ArrivalAirportID &lt;list&gt; | ArrivalTime &lt;list&gt; | Monday &lt;list&gt; | Tuesday &lt;list&gt; | Wednesday &lt;list&gt; | Thursday &lt;list&gt; | Friday &lt;list&gt; | Saturday &lt;list&gt; | Sunday &lt;list&gt; | UpdateTime &lt;list&gt; | VersionID &lt;list&gt; | Terminal &lt;list&gt; | num_codeShare &lt;int&gt; |\n",
       "|---|---|---|---|---|---|---|---|---|---|---|---|---|---|---|---|---|---|---|---|---|\n",
       "| 1 | 3U | 2023-10-13 | 2023-10-15 | 3U3783 | CKG | 15:00 | NULL | TSA | 18:00 | FALSE | FALSE | FALSE | FALSE | TRUE | FALSE | TRUE | 2023-10-10T08:26:07+08:00 | 1111 | NA | 0 |\n",
       "| 2 | 3U | 2023-10-20 | 2023-10-22 | 3U3783 | CKG | 15:00 | NULL | TSA | 18:00 | FALSE | FALSE | FALSE | FALSE | TRUE | FALSE | TRUE | 2023-10-10T08:26:07+08:00 | 1111 | NA | 0 |\n",
       "| 3 | 3U | 2023-10-27 | 2023-10-27 | 3U3783 | CKG | 15:00 | NULL | TSA | 18:00 | FALSE | FALSE | FALSE | FALSE | TRUE | FALSE | FALSE | 2023-10-10T08:26:07+08:00 | 1111 | NA | 0 |\n",
       "| 4 | 3U | 2023-10-13 | 2023-10-15 | 3U3784 | TSA | 19:00 | NULL | CKG | 22:15 | FALSE | FALSE | FALSE | FALSE | TRUE | FALSE | TRUE | 2023-10-10T08:26:07+08:00 | 1111 | NA | 0 |\n",
       "| 5 | 3U | 2023-10-20 | 2023-10-22 | 3U3784 | TSA | 19:00 | NULL | CKG | 22:15 | FALSE | FALSE | FALSE | FALSE | TRUE | FALSE | TRUE | 2023-10-10T08:26:07+08:00 | 1111 | NA | 0 |\n",
       "| 6 | 3U | 2023-10-27 | 2023-10-27 | 3U3784 | TSA | 19:00 | NULL | CKG | 22:15 | FALSE | FALSE | FALSE | FALSE | TRUE | FALSE | FALSE | 2023-10-10T08:26:07+08:00 | 1111 | NA | 0 |\n",
       "\n"
      ],
      "text/plain": [
       "  AirlineID ScheduleStartDate ScheduleEndDate FlightNumber DepartureAirportID\n",
       "1 3U        2023-10-13        2023-10-15      3U3783       CKG               \n",
       "2 3U        2023-10-20        2023-10-22      3U3783       CKG               \n",
       "3 3U        2023-10-27        2023-10-27      3U3783       CKG               \n",
       "4 3U        2023-10-13        2023-10-15      3U3784       TSA               \n",
       "5 3U        2023-10-20        2023-10-22      3U3784       TSA               \n",
       "6 3U        2023-10-27        2023-10-27      3U3784       TSA               \n",
       "  DepartureTime CodeShare ArrivalAirportID ArrivalTime Monday Tuesday Wednesday\n",
       "1 15:00         NULL      TSA              18:00       FALSE  FALSE   FALSE    \n",
       "2 15:00         NULL      TSA              18:00       FALSE  FALSE   FALSE    \n",
       "3 15:00         NULL      TSA              18:00       FALSE  FALSE   FALSE    \n",
       "4 19:00         NULL      CKG              22:15       FALSE  FALSE   FALSE    \n",
       "5 19:00         NULL      CKG              22:15       FALSE  FALSE   FALSE    \n",
       "6 19:00         NULL      CKG              22:15       FALSE  FALSE   FALSE    \n",
       "  Thursday Friday Saturday Sunday UpdateTime                VersionID Terminal\n",
       "1 FALSE    TRUE   FALSE    TRUE   2023-10-10T08:26:07+08:00 1111      NA      \n",
       "2 FALSE    TRUE   FALSE    TRUE   2023-10-10T08:26:07+08:00 1111      NA      \n",
       "3 FALSE    TRUE   FALSE    FALSE  2023-10-10T08:26:07+08:00 1111      NA      \n",
       "4 FALSE    TRUE   FALSE    TRUE   2023-10-10T08:26:07+08:00 1111      NA      \n",
       "5 FALSE    TRUE   FALSE    TRUE   2023-10-10T08:26:07+08:00 1111      NA      \n",
       "6 FALSE    TRUE   FALSE    FALSE  2023-10-10T08:26:07+08:00 1111      NA      \n",
       "  num_codeShare\n",
       "1 0            \n",
       "2 0            \n",
       "3 0            \n",
       "4 0            \n",
       "5 0            \n",
       "6 0            "
      ]
     },
     "metadata": {},
     "output_type": "display_data"
    }
   ],
   "source": [
    "head(flightsData)"
   ]
  },
  {
   "cell_type": "code",
   "execution_count": null,
   "metadata": {
    "vscode": {
     "languageId": "r"
    }
   },
   "outputs": [],
   "source": [
    "install.packages(\"airportr\")\n"
   ]
  },
  {
   "cell_type": "code",
   "execution_count": 23,
   "metadata": {
    "vscode": {
     "languageId": "r"
    }
   },
   "outputs": [
    {
     "data": {
      "text/html": [
       "<table class=\"dataframe\">\n",
       "<caption>A spec_tbl_df: 6 × 17</caption>\n",
       "<thead>\n",
       "\t<tr><th scope=col>OpenFlights ID</th><th scope=col>Name</th><th scope=col>City</th><th scope=col>IATA</th><th scope=col>ICAO</th><th scope=col>Country</th><th scope=col>Country Code</th><th scope=col>Country Code (Alpha-2)</th><th scope=col>Country Code (Alpha-3)</th><th scope=col>Latitude</th><th scope=col>Longitude</th><th scope=col>Altitude</th><th scope=col>UTC</th><th scope=col>DST</th><th scope=col>Timezone</th><th scope=col>Type</th><th scope=col>Source</th></tr>\n",
       "\t<tr><th scope=col>&lt;dbl&gt;</th><th scope=col>&lt;chr&gt;</th><th scope=col>&lt;chr&gt;</th><th scope=col>&lt;chr&gt;</th><th scope=col>&lt;chr&gt;</th><th scope=col>&lt;chr&gt;</th><th scope=col>&lt;chr&gt;</th><th scope=col>&lt;chr&gt;</th><th scope=col>&lt;chr&gt;</th><th scope=col>&lt;dbl&gt;</th><th scope=col>&lt;dbl&gt;</th><th scope=col>&lt;dbl&gt;</th><th scope=col>&lt;dbl&gt;</th><th scope=col>&lt;chr&gt;</th><th scope=col>&lt;chr&gt;</th><th scope=col>&lt;chr&gt;</th><th scope=col>&lt;chr&gt;</th></tr>\n",
       "</thead>\n",
       "<tbody>\n",
       "\t<tr><td>1</td><td>Goroka Airport                             </td><td>Goroka      </td><td>GKA</td><td>AYGA</td><td>Papua New Guinea</td><td>598</td><td>PG</td><td>PNG</td><td>-6.081690</td><td>145.392</td><td>5282</td><td>10</td><td>U</td><td>Pacific/Port_Moresby</td><td>airport</td><td>OurAirports</td></tr>\n",
       "\t<tr><td>2</td><td>Madang Airport                             </td><td>Madang      </td><td>MAG</td><td>AYMD</td><td>Papua New Guinea</td><td>598</td><td>PG</td><td>PNG</td><td>-5.207080</td><td>145.789</td><td>  20</td><td>10</td><td>U</td><td>Pacific/Port_Moresby</td><td>airport</td><td>OurAirports</td></tr>\n",
       "\t<tr><td>3</td><td>Mount Hagen Kagamuga Airport               </td><td>Mount Hagen </td><td>HGU</td><td>AYMH</td><td>Papua New Guinea</td><td>598</td><td>PG</td><td>PNG</td><td>-5.826790</td><td>144.296</td><td>5388</td><td>10</td><td>U</td><td>Pacific/Port_Moresby</td><td>airport</td><td>OurAirports</td></tr>\n",
       "\t<tr><td>4</td><td>Nadzab Airport                             </td><td>Nadzab      </td><td>LAE</td><td>AYNZ</td><td>Papua New Guinea</td><td>598</td><td>PG</td><td>PNG</td><td>-6.569803</td><td>146.726</td><td> 239</td><td>10</td><td>U</td><td>Pacific/Port_Moresby</td><td>airport</td><td>OurAirports</td></tr>\n",
       "\t<tr><td>5</td><td>Port Moresby Jacksons International Airport</td><td>Port Moresby</td><td>POM</td><td>AYPY</td><td>Papua New Guinea</td><td>598</td><td>PG</td><td>PNG</td><td>-9.443380</td><td>147.220</td><td> 146</td><td>10</td><td>U</td><td>Pacific/Port_Moresby</td><td>airport</td><td>OurAirports</td></tr>\n",
       "\t<tr><td>6</td><td>Wewak International Airport                </td><td>Wewak       </td><td>WWK</td><td>AYWK</td><td>Papua New Guinea</td><td>598</td><td>PG</td><td>PNG</td><td>-3.583830</td><td>143.669</td><td>  19</td><td>10</td><td>U</td><td>Pacific/Port_Moresby</td><td>airport</td><td>OurAirports</td></tr>\n",
       "</tbody>\n",
       "</table>\n"
      ],
      "text/latex": [
       "A spec\\_tbl\\_df: 6 × 17\n",
       "\\begin{tabular}{lllllllllllllllll}\n",
       " OpenFlights ID & Name & City & IATA & ICAO & Country & Country Code & Country Code (Alpha-2) & Country Code (Alpha-3) & Latitude & Longitude & Altitude & UTC & DST & Timezone & Type & Source\\\\\n",
       " <dbl> & <chr> & <chr> & <chr> & <chr> & <chr> & <chr> & <chr> & <chr> & <dbl> & <dbl> & <dbl> & <dbl> & <chr> & <chr> & <chr> & <chr>\\\\\n",
       "\\hline\n",
       "\t 1 & Goroka Airport                              & Goroka       & GKA & AYGA & Papua New Guinea & 598 & PG & PNG & -6.081690 & 145.392 & 5282 & 10 & U & Pacific/Port\\_Moresby & airport & OurAirports\\\\\n",
       "\t 2 & Madang Airport                              & Madang       & MAG & AYMD & Papua New Guinea & 598 & PG & PNG & -5.207080 & 145.789 &   20 & 10 & U & Pacific/Port\\_Moresby & airport & OurAirports\\\\\n",
       "\t 3 & Mount Hagen Kagamuga Airport                & Mount Hagen  & HGU & AYMH & Papua New Guinea & 598 & PG & PNG & -5.826790 & 144.296 & 5388 & 10 & U & Pacific/Port\\_Moresby & airport & OurAirports\\\\\n",
       "\t 4 & Nadzab Airport                              & Nadzab       & LAE & AYNZ & Papua New Guinea & 598 & PG & PNG & -6.569803 & 146.726 &  239 & 10 & U & Pacific/Port\\_Moresby & airport & OurAirports\\\\\n",
       "\t 5 & Port Moresby Jacksons International Airport & Port Moresby & POM & AYPY & Papua New Guinea & 598 & PG & PNG & -9.443380 & 147.220 &  146 & 10 & U & Pacific/Port\\_Moresby & airport & OurAirports\\\\\n",
       "\t 6 & Wewak International Airport                 & Wewak        & WWK & AYWK & Papua New Guinea & 598 & PG & PNG & -3.583830 & 143.669 &   19 & 10 & U & Pacific/Port\\_Moresby & airport & OurAirports\\\\\n",
       "\\end{tabular}\n"
      ],
      "text/markdown": [
       "\n",
       "A spec_tbl_df: 6 × 17\n",
       "\n",
       "| OpenFlights ID &lt;dbl&gt; | Name &lt;chr&gt; | City &lt;chr&gt; | IATA &lt;chr&gt; | ICAO &lt;chr&gt; | Country &lt;chr&gt; | Country Code &lt;chr&gt; | Country Code (Alpha-2) &lt;chr&gt; | Country Code (Alpha-3) &lt;chr&gt; | Latitude &lt;dbl&gt; | Longitude &lt;dbl&gt; | Altitude &lt;dbl&gt; | UTC &lt;dbl&gt; | DST &lt;chr&gt; | Timezone &lt;chr&gt; | Type &lt;chr&gt; | Source &lt;chr&gt; |\n",
       "|---|---|---|---|---|---|---|---|---|---|---|---|---|---|---|---|---|\n",
       "| 1 | Goroka Airport                              | Goroka       | GKA | AYGA | Papua New Guinea | 598 | PG | PNG | -6.081690 | 145.392 | 5282 | 10 | U | Pacific/Port_Moresby | airport | OurAirports |\n",
       "| 2 | Madang Airport                              | Madang       | MAG | AYMD | Papua New Guinea | 598 | PG | PNG | -5.207080 | 145.789 |   20 | 10 | U | Pacific/Port_Moresby | airport | OurAirports |\n",
       "| 3 | Mount Hagen Kagamuga Airport                | Mount Hagen  | HGU | AYMH | Papua New Guinea | 598 | PG | PNG | -5.826790 | 144.296 | 5388 | 10 | U | Pacific/Port_Moresby | airport | OurAirports |\n",
       "| 4 | Nadzab Airport                              | Nadzab       | LAE | AYNZ | Papua New Guinea | 598 | PG | PNG | -6.569803 | 146.726 |  239 | 10 | U | Pacific/Port_Moresby | airport | OurAirports |\n",
       "| 5 | Port Moresby Jacksons International Airport | Port Moresby | POM | AYPY | Papua New Guinea | 598 | PG | PNG | -9.443380 | 147.220 |  146 | 10 | U | Pacific/Port_Moresby | airport | OurAirports |\n",
       "| 6 | Wewak International Airport                 | Wewak        | WWK | AYWK | Papua New Guinea | 598 | PG | PNG | -3.583830 | 143.669 |   19 | 10 | U | Pacific/Port_Moresby | airport | OurAirports |\n",
       "\n"
      ],
      "text/plain": [
       "  OpenFlights ID Name                                        City         IATA\n",
       "1 1              Goroka Airport                              Goroka       GKA \n",
       "2 2              Madang Airport                              Madang       MAG \n",
       "3 3              Mount Hagen Kagamuga Airport                Mount Hagen  HGU \n",
       "4 4              Nadzab Airport                              Nadzab       LAE \n",
       "5 5              Port Moresby Jacksons International Airport Port Moresby POM \n",
       "6 6              Wewak International Airport                 Wewak        WWK \n",
       "  ICAO Country          Country Code Country Code (Alpha-2)\n",
       "1 AYGA Papua New Guinea 598          PG                    \n",
       "2 AYMD Papua New Guinea 598          PG                    \n",
       "3 AYMH Papua New Guinea 598          PG                    \n",
       "4 AYNZ Papua New Guinea 598          PG                    \n",
       "5 AYPY Papua New Guinea 598          PG                    \n",
       "6 AYWK Papua New Guinea 598          PG                    \n",
       "  Country Code (Alpha-3) Latitude  Longitude Altitude UTC DST\n",
       "1 PNG                    -6.081690 145.392   5282     10  U  \n",
       "2 PNG                    -5.207080 145.789     20     10  U  \n",
       "3 PNG                    -5.826790 144.296   5388     10  U  \n",
       "4 PNG                    -6.569803 146.726    239     10  U  \n",
       "5 PNG                    -9.443380 147.220    146     10  U  \n",
       "6 PNG                    -3.583830 143.669     19     10  U  \n",
       "  Timezone             Type    Source     \n",
       "1 Pacific/Port_Moresby airport OurAirports\n",
       "2 Pacific/Port_Moresby airport OurAirports\n",
       "3 Pacific/Port_Moresby airport OurAirports\n",
       "4 Pacific/Port_Moresby airport OurAirports\n",
       "5 Pacific/Port_Moresby airport OurAirports\n",
       "6 Pacific/Port_Moresby airport OurAirports"
      ]
     },
     "metadata": {},
     "output_type": "display_data"
    }
   ],
   "source": [
    "\n",
    "head(airportr::airports)"
   ]
  },
  {
   "cell_type": "code",
   "execution_count": 30,
   "metadata": {
    "vscode": {
     "languageId": "r"
    }
   },
   "outputs": [
    {
     "data": {
      "text/plain": [
       "\n",
       " TPE  PVG  KHH  HKG  NRT  BKK  KIX  ICN  TSA  SIN  MFM  FUK  HAN  BWN  LAX  SGN \n",
       "2268  156  140  138  134  120  120  108   99   82   70   66   63   60   60   59 \n",
       " SFO  MNL  KUL  OKA  PEK  CEB  PUS  SDJ  DAD  CTS  HND  SZX  CAN  KMQ  SHA  HGH \n",
       "  57   54   50   49   42   41   37   36   35   33   33   33   27   27   24   23 \n",
       " XMN  DMK  RMQ  GMP  NGO  PEN  BKI  JFK  DXB  NKG  FOC  TFU  YVR  CGK  CKG  CNX \n",
       "  23   22   22   21   21   21   19   18   16   16   15   15   15   12   12   12 \n",
       " MEL  ORD  PNH  TAO  YYZ  BNE  TAE  CRK  DPS  LHR  SEA  SYD  TAK  WUH  VIE  AKL \n",
       "  12   12   12   12   12   11   10    9    9    9    9    9    9    9    8    6 \n",
       " AMS  CJJ  CJU  FCO  FRA  GAJ  HIJ  IAH  IST  KMJ  MUC  NGB  KIJ  MXP  TKS  CXR \n",
       "   6    6    6    6    6    6    6    6    6    6    6    6    5    5    5    4 \n",
       " PRG  AKJ  CDG  CGO  HKD  HKT  HNA  HSG  HUI  IBR  KCZ  KLO  MPH  OKJ  ONT  PPS \n",
       "   4    3    3    3    3    3    3    3    3    3    3    3    3    3    3    3 \n",
       " RGN  ROR  TNN  AOJ  IZO  TOY  TTJ  NTQ  VII \n",
       "   3    3    3    2    2    2    2    1    1 "
      ]
     },
     "metadata": {},
     "output_type": "display_data"
    }
   ],
   "source": [
    "flightsData$ArrivalAirportID |> unlist() |> table() |> sort(decreasing = T)"
   ]
  },
  {
   "cell_type": "code",
   "execution_count": 36,
   "metadata": {
    "vscode": {
     "languageId": "r"
    }
   },
   "outputs": [
    {
     "name": "stderr",
     "output_type": "stream",
     "text": [
      "Warning message in data(\"airports\", envir = environment()):\n",
      "“data set ‘airports’ not found”\n"
     ]
    },
    {
     "data": {
      "text/html": [
       "'Noi Bai International Airport'"
      ],
      "text/latex": [
       "'Noi Bai International Airport'"
      ],
      "text/markdown": [
       "'Noi Bai International Airport'"
      ],
      "text/plain": [
       "[1] \"Noi Bai International Airport\""
      ]
     },
     "metadata": {},
     "output_type": "display_data"
    }
   ],
   "source": [
    "han <- airportr::airport_lookup(\"HAN\")\n",
    "\n",
    "han "
   ]
  },
  {
   "cell_type": "markdown",
   "metadata": {},
   "source": [
    "> Warning message could be ignored most of the time since the command still goes through. "
   ]
  }
 ],
 "metadata": {
  "kernelspec": {
   "display_name": "R",
   "language": "R",
   "name": "ir"
  },
  "language_info": {
   "codemirror_mode": "r",
   "file_extension": ".r",
   "mimetype": "text/x-r-source",
   "name": "R",
   "pygments_lexer": "r",
   "version": "4.2.2"
  },
  "orig_nbformat": 4
 },
 "nbformat": 4,
 "nbformat_minor": 2
}
