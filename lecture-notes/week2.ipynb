{
 "cells": [
  {
   "cell_type": "markdown",
   "metadata": {},
   "source": [
    "# Goals\n",
    "\n",
    "  1. Github: Create a repo online [#](#github)\n",
    "  2. Project folder: How to create a project folder [#](#project-folder)\n",
    "  3. Error in English: How to setup English error message environment [#](#error-in-english)\n",
    "  4. File encoding settings [#](#file-encoding-settings)\n",
    "  5. File download: How to deal with downloadable data file [#](#file-download)\n",
    "  6. File path: How to get the path of a file [#](#file-path)\n",
    "  7. Upload file: How to upload a file to github [#](#upload-your-practice-file-to-github)"
   ]
  },
  {
   "cell_type": "markdown",
   "metadata": {},
   "source": [
    "[link-test](#link-test)"
   ]
  },
  {
   "cell_type": "markdown",
   "metadata": {},
   "source": [
    "# Github\n",
    "\n",
    "## 1 Create a repository\n",
    "\n",
    "Go to [Github.com](https://github.com) and sign in.\n",
    "\n",
    "Navigate to ![](img/repositories.png)\n",
    "\n",
    "Click ![](img/new%20repository.png)\n",
    "\n",
    "Set up according to the following figure:\n",
    "\n",
    "![](img/repo%20setup.png)\n",
    "\n",
    "Click **Create repository**."
   ]
  },
  {
   "cell_type": "markdown",
   "metadata": {},
   "source": [
    "## 2 Url of your practice repo\n",
    "<a id=\"link-test\"></a>\n",
    "In your browser, copy the url of your practice repo.\n",
    "\n",
    "In my case it is ![](img/practice%20repo.png), so the url is `https://github.com/tpemartin/r-practice`\n",
    "\n",
    "Fill the course [who's who form](https://docs.google.com/forms/d/e/1FAIpQLSeNPSl81NwajJyOMLE1wazhzuanFJ9FMppyFNbxW1dJ8MyXYQ/viewform) with your url."
   ]
  },
  {
   "cell_type": "markdown",
   "metadata": {},
   "source": [
    "\n",
    "## 3 Clone a repository (Optional)\n",
    "\n",
    "Visit your repository on Github.com, click **Clone or download** and then click **Open in Desktop**.\n",
    "\n",
    "![](img/clone%20repository%20to%20local%20computer.png)"
   ]
  },
  {
   "cell_type": "markdown",
   "metadata": {},
   "source": [
    "# Project folder\n",
    "\n",
    "If you use Github desktop clone your repository, you will have a folder on your local computer. That will be your project folder.\n",
    "\n",
    "If you don't clone your repository, create a folder on your local computer and that will be your project folder.\n",
    "\n",
    "Launch RStudio and open your project folder as the following steps:"
   ]
  },
  {
   "cell_type": "markdown",
   "metadata": {},
   "source": [
    "## 1 New project\n",
    "\n",
    "![](img/new%20project.png)"
   ]
  },
  {
   "cell_type": "markdown",
   "metadata": {},
   "source": [
    "## 2 Existing directory\n",
    "\n",
    "![](img/existing%20directory.png)\n"
   ]
  },
  {
   "cell_type": "markdown",
   "metadata": {},
   "source": [
    "## 3 Create project\n",
    "\n",
    "![](img/create%20project.png)"
   ]
  },
  {
   "cell_type": "markdown",
   "metadata": {},
   "source": [
    "# Error in English\n",
    "\n",
    "<a id={error-in-english}></a>"
   ]
  },
  {
   "cell_type": "code",
   "execution_count": null,
   "metadata": {
    "vscode": {
     "languageId": "r"
    }
   },
   "outputs": [],
   "source": [
    "devtools::install_github(\"tpemartin/econR2\")"
   ]
  },
  {
   "cell_type": "code",
   "execution_count": null,
   "metadata": {
    "vscode": {
     "languageId": "r"
    }
   },
   "outputs": [],
   "source": [
    "library(econR2)\n",
    "fix_language2english()"
   ]
  },
  {
   "cell_type": "markdown",
   "metadata": {},
   "source": [
    "# File encoding settings\n",
    "\n",
    "**Tools > Global Options > Code > Saving > Default text encoding**\n"
   ]
  },
  {
   "cell_type": "markdown",
   "metadata": {},
   "source": [
    "# R script and R markdown\n",
    "\n",
    "[R script and R markdown](https://tpemartin.github.io/NTPU-R-for-Data-Science-EN/r-basics.html#r-scriptr-markdown)"
   ]
  },
  {
   "cell_type": "markdown",
   "metadata": {},
   "source": [
    "# File download\n",
    "\n",
    "  [.csv File](https://raw.githubusercontent.com/tpemartin/112-1-programming-for-data-science/main/data/cities.csv)  \n",
    "  [.json File](https://raw.githubusercontent.com/tpemartin/112-1-programming-for-data-science/main/data/foodpandaMenu_a0ab.json)"
   ]
  },
  {
   "cell_type": "markdown",
   "metadata": {},
   "source": [
    "## 1 import .csv File\n",
    "\n",
    "Use `readr::read_csv` to download and import the data into R.\n"
   ]
  },
  {
   "cell_type": "code",
   "execution_count": 5,
   "metadata": {
    "vscode": {
     "languageId": "r"
    }
   },
   "outputs": [
    {
     "name": "stderr",
     "output_type": "stream",
     "text": [
      "\u001b[1mRows: \u001b[22m\u001b[34m482\u001b[39m \u001b[1mColumns: \u001b[22m\u001b[34m14\u001b[39m\n",
      "\u001b[36m--\u001b[39m \u001b[1mColumn specification\u001b[22m \u001b[36m--------------------------------------------------------\u001b[39m\n",
      "\u001b[1mDelimiter:\u001b[22m \",\"\n",
      "\u001b[31mchr\u001b[39m  (1): city\n",
      "\u001b[32mdbl\u001b[39m (13): obs, latd, longd, elevation_m, elevation_ft, population_total, are...\n",
      "\n",
      "\u001b[36mi\u001b[39m Use `spec()` to retrieve the full column specification for this data.\n",
      "\u001b[36mi\u001b[39m Specify the column types or set `show_col_types = FALSE` to quiet this message.\n"
     ]
    }
   ],
   "source": [
    "dt1 <- readr::read_csv(\"https://raw.githubusercontent.com/tpemartin/112-1-programming-for-data-science/main/data/cities.csv\") "
   ]
  },
  {
   "cell_type": "markdown",
   "metadata": {},
   "source": [
    "## 2 import .json File\n",
    "\n",
    "Use `jsonlite::fromJSON()`\n",
    "\n",
    "[![](img/2023-09-20-06-03-34.png)](https://www.foodpanda.com.tw/restaurant/a0ab/hao-ji-wan-xiao-yang-rou)"
   ]
  },
  {
   "cell_type": "code",
   "execution_count": 4,
   "metadata": {
    "vscode": {
     "languageId": "r"
    }
   },
   "outputs": [],
   "source": [
    "dt2 <- jsonlite::fromJSON(\"https://raw.githubusercontent.com/tpemartin/112-1-programming-for-data-science/main/data/foodpandaMenu_a0ab.json\")"
   ]
  },
  {
   "cell_type": "markdown",
   "metadata": {},
   "source": [
    "## File path\n",
    "\n",
    "You can manually down those two files and use:"
   ]
  },
  {
   "cell_type": "code",
   "execution_count": null,
   "metadata": {
    "vscode": {
     "languageId": "r"
    }
   },
   "outputs": [],
   "source": [
    "dt1 <- readr::read_csv(\"{local path to the .csv file}\")\n",
    "dt2 <- jsonlite::fromJSON(\"{local path to the .json file}\")"
   ]
  },
  {
   "cell_type": "markdown",
   "metadata": {},
   "source": [
    "First, make sure those files are in your project folder.\n",
    "My project folder has the following structure:\n",
    "\n",
    "```\n",
    "root  \n",
    "├── data\n",
    "│   ├── cities.csv\n",
    "│   └── foodpandaMenu_a0ab.json\n",
    "├── r-practice.Rproj\n",
    "└── ...\n",
    "```"
   ]
  },
  {
   "cell_type": "markdown",
   "metadata": {},
   "source": [
    "  * `r-practice.Rproj` tells you that this is a project folder.  \n",
    "  * Use `{folder name}/` to gain access to a folder.\n",
    "  * root folder does not require `/` to gain its access.\n",
    "\n",
    "We want to access root folder's `data` folder, so we use `data/` to gain its access. \n",
    "\n",
    "  * citis.csv: `data/cities.csv`  \n",
    "  * foodpandaMenu_a0ab.json: `data/foodpandaMenu_a0ab.json`  "
   ]
  },
  {
   "cell_type": "markdown",
   "metadata": {},
   "source": [
    "# Upload your practice file to Github\n",
    "\n",
    "## Avoid Github Desktop \n",
    "\n",
    "Go to your practice repo on Github.com,\n",
    "\n",
    "![upload](img/upload%20file.png)\n",
    "\n",
    "![](img/add%20upload%20files.png)\n",
    "\n",
    "## Use Github Desktop\n",
    "\n",
    "![](img/use%20github%20desktop%20upload.png)\n",
    "\n",
    "Then \n",
    "\n",
    "![](img/push%20origin.png)"
   ]
  },
  {
   "cell_type": "markdown",
   "metadata": {},
   "source": [
    "# Courses and Grades\n",
    "\n",
    "[NTPU course system](http://sea.cc.ntpu.edu.tw/pls/dev_stud/course_query_all.query_frame?flag=1)\n",
    "\n",
    "## One course\n",
    "\n",
    "How would you store the information of one course?\n",
    "\n",
    "The following information are essential:\n",
    "\n",
    "  * Academic year\n",
    "  * Semester\n",
    "  * Course ID\n",
    "  * Course name\n",
    "  * Credit\n",
    "  * Teacher\n",
    "  * Time\n",
    "  * Location\n",
    "  * Associated programs (應修系級, 及其為必或選)\n",
    "  * Is full year course?\n",
    "\n"
   ]
  }
 ],
 "metadata": {
  "kernelspec": {
   "display_name": "R",
   "language": "R",
   "name": "ir"
  },
  "language_info": {
   "codemirror_mode": "r",
   "file_extension": ".r",
   "mimetype": "text/x-r-source",
   "name": "R",
   "pygments_lexer": "r",
   "version": "4.2.2"
  },
  "orig_nbformat": 4
 },
 "nbformat": 4,
 "nbformat_minor": 2
}
