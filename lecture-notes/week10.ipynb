{
 "cells": [
  {
   "cell_type": "code",
   "execution_count": null,
   "metadata": {
    "vscode": {
     "languageId": "r"
    }
   },
   "outputs": [],
   "source": [
    "# To ensure Chinese characters are displayed correctly\n",
    "options(encoding = \"UTF-8\")\n",
    "Sys.setlocale(\"LC_CTYPE\", \"zh_TW.UTF-8\")"
   ]
  },
  {
   "cell_type": "code",
   "execution_count": null,
   "metadata": {
    "vscode": {
     "languageId": "r"
    }
   },
   "outputs": [],
   "source": [
    "flights <- readRDS(\"data/flights_week10.rds\")"
   ]
  },
  {
   "cell_type": "code",
   "execution_count": null,
   "metadata": {
    "vscode": {
     "languageId": "r"
    }
   },
   "outputs": [],
   "source": [
    "flightsData <- flights$data[[1]]$data_frame"
   ]
  },
  {
   "cell_type": "code",
   "execution_count": null,
   "metadata": {
    "vscode": {
     "languageId": "r"
    }
   },
   "outputs": [],
   "source": [
    "dplyr::glimpse(flightsData)"
   ]
  },
  {
   "cell_type": "markdown",
   "metadata": {},
   "source": [
    "Data frame `flightsData` has a string column `DepartureTime` with values like \"2023-10-13 15:00\". There is another column `DepartureTimeZone` with values like \"Asia/Taipei\" telling us the `DepartureTime` time zone for each value. How to convert `DepartureTime` to a `datetime` column with the correct time zone, using dplyr and lubridate packages in R? "
   ]
  },
  {
   "cell_type": "code",
   "execution_count": null,
   "metadata": {
    "vscode": {
     "languageId": "r"
    }
   },
   "outputs": [],
   "source": [
    "\n",
    "library(dplyr)\n",
    "library(lubridate)\n",
    "\n",
    "flightsData <- flightsData %>%\n",
    "  group_by(DepartureTimeZone) %>%\n",
    "  mutate(DepartureTime = ymd_hms(DepartureTime, tz = DepartureTimeZone[[1]])) |>\n",
    "  glimpse()\n"
   ]
  },
  {
   "cell_type": "markdown",
   "metadata": {},
   "source": [
    "# Parse time with different time zone\n",
    "\n",
    "Our data come from different time zone. We can use `lubridate::ymd_hm(..., tz={time zone})` to parse `...` into the same `{time zone}` value. \n",
    "\n",
    "## Split data according to time zone"
   ]
  },
  {
   "cell_type": "code",
   "execution_count": null,
   "metadata": {
    "vscode": {
     "languageId": "r"
    }
   },
   "outputs": [],
   "source": [
    "# 3. parse time with time zone\n",
    "## split flightsData according to its timezone\n",
    "flightsData |> split(flightsData$DepartureTimeZone) -> split_flightsData"
   ]
  },
  {
   "cell_type": "code",
   "execution_count": null,
   "metadata": {
    "vscode": {
     "languageId": "r"
    }
   },
   "outputs": [],
   "source": [
    "head(split_flightsData[[1]], 3)\n",
    "head(split_flightsData[[2]]$DepartureTimeZone, 3)\n",
    "head(split_flightsData[[3]]$DepartureTimeZone, 3)"
   ]
  },
  {
   "cell_type": "markdown",
   "metadata": {},
   "source": [
    "## Parsing a time zone\n"
   ]
  },
  {
   "cell_type": "code",
   "execution_count": null,
   "metadata": {
    "vscode": {
     "languageId": "r"
    }
   },
   "outputs": [],
   "source": [
    "# for each sub data frame\n",
    ".x=1 # say the first one\n",
    "# we want to parse the time\n",
    "split_flightsData[[.x]]$DepartureTime <- \n",
    "  lubridate::ymd_hm(split_flightsData[[.x]]$DepartureTime, tz = split_flightsData[[.x]]$DepartureTimeZone[[1]]) \n"
   ]
  },
  {
   "cell_type": "markdown",
   "metadata": {},
   "source": [
    "- `tz = groupXdata$DepartureTimeZone[[1]]` only take ONE time zone value because the same sub data frame has the same time zone. Also `tz=` can take in only one string.\n"
   ]
  },
  {
   "cell_type": "markdown",
   "metadata": {},
   "source": [
    "### dplyr::mutate\n",
    "\n",
    "If you have an expression like\n",
    "\n",
    "```\n",
    "data_frame$some_column <- operations on ... other data_frame$column(s)\n",
    "```\n",
    "\n",
    "you can use `dplyr::mutate` to do the same thing:\n",
    "\n",
    "```\n",
    "data_frame |>\n",
    "  dplyr::mutate(\n",
    "    some_column = operations on ... other column(s)\n",
    "  )\n",
    "```"
   ]
  },
  {
   "cell_type": "markdown",
   "metadata": {},
   "source": [
    "In our previous example `data_frame` is `split_flightData[[.x]]`, so we can write"
   ]
  },
  {
   "cell_type": "code",
   "execution_count": null,
   "metadata": {
    "vscode": {
     "languageId": "r"
    }
   },
   "outputs": [],
   "source": [
    "split_flightsData[[.x]] |>\n",
    "  dplyr::mutate(\n",
    "    DepartureTime = \n",
    "      lubridate::ymd_hm(DepartureTime, tz = DepartureTimeZone[[1]])\n",
    "  )"
   ]
  },
  {
   "cell_type": "markdown",
   "metadata": {},
   "source": [
    "### dplyr::group_by\n",
    "\n",
    "So far we have ..."
   ]
  },
  {
   "cell_type": "markdown",
   "metadata": {},
   "source": [
    "- If you want going to work on every group in your split data frame, which is split based on `DepartureTimeZone`, then you can replace `split_flightsData[[.x]] ` with `flightsData |> dplyr::group_by(DepartureTimeZone) |> dplyr::mutate(...) |> dplyr::ungroup()`\n"
   ]
  },
  {
   "cell_type": "markdown",
   "metadata": {},
   "source": [
    "- If we want to `flightsData |> split(flightsData$DepartureTimeZone) ` and then work on each group separately on other dplyr procedure. Then we can use `dplyr::group_by` as\n",
    "`flightsData |> dplyr::group_by(DepartureTimeZone) |>  {continue to other dplyr procedure}`"
   ]
  },
  {
   "cell_type": "code",
   "execution_count": null,
   "metadata": {
    "vscode": {
     "languageId": "r"
    }
   },
   "outputs": [],
   "source": [
    "flightsData |>\n",
    "    dplyr::group_by(DepartureTimeZone) |> # split and do the following on each sub data frame\n",
    "    dplyr::mutate(\n",
    "        DepartureTime = lubridate::ymd_hm(DepartureTime, tz = DepartureTimeZone[[1]]) # parse time\n",
    "    ) |>\n",
    "    dplyr::ungroup() -> # unsplit the data frame\n",
    "    flightsData2"
   ]
  },
  {
   "cell_type": "markdown",
   "metadata": {},
   "source": [
    "- end your procedure with `dplyr::ungroup()` to ungroup the data frame."
   ]
  },
  {
   "cell_type": "code",
   "execution_count": null,
   "metadata": {
    "vscode": {
     "languageId": "r"
    }
   },
   "outputs": [],
   "source": [
    "dplyr::glimpse(flightsData2)"
   ]
  },
  {
   "cell_type": "markdown",
   "metadata": {},
   "source": [
    "jupyter nbconvert --to markdown lecture-notes/week10.ipynb\n"
   ]
  }
 ],
 "metadata": {
  "kernelspec": {
   "display_name": "R",
   "language": "R",
   "name": "ir"
  },
  "language_info": {
   "codemirror_mode": "r",
   "file_extension": ".r",
   "mimetype": "text/x-r-source",
   "name": "R",
   "pygments_lexer": "r",
   "version": "4.2.2"
  }
 },
 "nbformat": 4,
 "nbformat_minor": 2
}
