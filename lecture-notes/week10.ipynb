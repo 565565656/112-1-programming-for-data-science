{
 "cells": [
  {
   "cell_type": "code",
   "execution_count": 3,
   "metadata": {
    "vscode": {
     "languageId": "r"
    }
   },
   "outputs": [
    {
     "data": {
      "text/html": [
       "'zh_TW.UTF-8'"
      ],
      "text/latex": [
       "'zh\\_TW.UTF-8'"
      ],
      "text/markdown": [
       "'zh_TW.UTF-8'"
      ],
      "text/plain": [
       "[1] \"zh_TW.UTF-8\""
      ]
     },
     "metadata": {},
     "output_type": "display_data"
    }
   ],
   "source": [
    "# To ensure Chinese characters are displayed correctly\n",
    "options(encoding = \"UTF-8\")\n",
    "Sys.setlocale(\"LC_CTYPE\", \"zh_TW.UTF-8\")"
   ]
  },
  {
   "cell_type": "code",
   "execution_count": 24,
   "metadata": {
    "vscode": {
     "languageId": "r"
    }
   },
   "outputs": [],
   "source": [
    "flights <- readRDS(\"data/flights_week10.rds\")"
   ]
  },
  {
   "cell_type": "code",
   "execution_count": 25,
   "metadata": {
    "vscode": {
     "languageId": "r"
    }
   },
   "outputs": [],
   "source": [
    "flightsData <- flights$data[[1]]$data_frame"
   ]
  },
  {
   "cell_type": "code",
   "execution_count": 26,
   "metadata": {
    "vscode": {
     "languageId": "r"
    }
   },
   "outputs": [
    {
     "name": "stdout",
     "output_type": "stream",
     "text": [
      "Rows: 4,941\n",
      "Columns: 24\n",
      "$ AirlineID          \u001b[3m\u001b[90m<fct>\u001b[39m\u001b[23m 3U, 3U, 3U, 3U, 3U, 3U, 3U, 3U, 3U, 3U, 3U, 3U, 5J,…\n",
      "$ ScheduleStartDate  \u001b[3m\u001b[90m<date>\u001b[39m\u001b[23m 2023-10-13, 2023-10-20, 2023-10-27, 2023-10-13, 20…\n",
      "$ ScheduleEndDate    \u001b[3m\u001b[90m<chr>\u001b[39m\u001b[23m \"2023-10-15\", \"2023-10-22\", \"2023-10-27\", \"2023-10-…\n",
      "$ FlightNumber       \u001b[3m\u001b[90m<chr>\u001b[39m\u001b[23m \"3U3783\", \"3U3783\", \"3U3783\", \"3U3784\", \"3U3784\", \"…\n",
      "$ DepartureAirportID \u001b[3m\u001b[90m<chr>\u001b[39m\u001b[23m \"CKG\", \"CKG\", \"CKG\", \"TSA\", \"TSA\", \"TSA\", \"TFU\", \"T…\n",
      "$ DepartureTime      \u001b[3m\u001b[90m<chr>\u001b[39m\u001b[23m \"2023-10-13 15:00\", \"2023-10-20 15:00\", \"2023-10-27…\n",
      "$ CodeShare          \u001b[3m\u001b[90m<list>\u001b[39m\u001b[23m [<data.frame[0 x 0]>], [<data.frame[0 x 0]>], [<da…\n",
      "$ ArrivalAirportID   \u001b[3m\u001b[90m<chr>\u001b[39m\u001b[23m \"TSA\", \"TSA\", \"TSA\", \"CKG\", \"CKG\", \"CKG\", \"TSA\", \"T…\n",
      "$ ArrivalTime        \u001b[3m\u001b[90m<chr>\u001b[39m\u001b[23m \"18:00\", \"18:00\", \"18:00\", \"22:15\", \"22:15\", \"22:15…\n",
      "$ Monday             \u001b[3m\u001b[90m<lgl>\u001b[39m\u001b[23m FALSE, FALSE, FALSE, FALSE, FALSE, FALSE, TRUE, TRU…\n",
      "$ Tuesday            \u001b[3m\u001b[90m<lgl>\u001b[39m\u001b[23m FALSE, FALSE, FALSE, FALSE, FALSE, FALSE, FALSE, FA…\n",
      "$ Wednesday          \u001b[3m\u001b[90m<lgl>\u001b[39m\u001b[23m FALSE, FALSE, FALSE, FALSE, FALSE, FALSE, TRUE, TRU…\n",
      "$ Thursday           \u001b[3m\u001b[90m<lgl>\u001b[39m\u001b[23m FALSE, FALSE, FALSE, FALSE, FALSE, FALSE, FALSE, FA…\n",
      "$ Friday             \u001b[3m\u001b[90m<lgl>\u001b[39m\u001b[23m TRUE, TRUE, TRUE, TRUE, TRUE, TRUE, TRUE, TRUE, TRU…\n",
      "$ Saturday           \u001b[3m\u001b[90m<lgl>\u001b[39m\u001b[23m FALSE, FALSE, FALSE, FALSE, FALSE, FALSE, FALSE, FA…\n",
      "$ Sunday             \u001b[3m\u001b[90m<lgl>\u001b[39m\u001b[23m TRUE, TRUE, FALSE, TRUE, TRUE, FALSE, TRUE, TRUE, F…\n",
      "$ UpdateTime         \u001b[3m\u001b[90m<chr>\u001b[39m\u001b[23m \"2023-10-10T08:26:07+08:00\", \"2023-10-10T08:26:07+0…\n",
      "$ VersionID          \u001b[3m\u001b[90m<int>\u001b[39m\u001b[23m 1111, 1111, 1111, 1111, 1111, 1111, 1111, 1111, 111…\n",
      "$ Terminal           \u001b[3m\u001b[90m<chr>\u001b[39m\u001b[23m NA, NA, NA, NA, NA, NA, NA, NA, NA, NA, NA, NA, \"1\"…\n",
      "$ num_codeShare      \u001b[3m\u001b[90m<int>\u001b[39m\u001b[23m 0, 0, 0, 0, 0, 0, 0, 0, 0, 0, 0, 0, 0, 0, 0, 0, 0, …\n",
      "$ DepartureTimeZone  \u001b[3m\u001b[90m<chr>\u001b[39m\u001b[23m \"Asia/Shanghai\", \"Asia/Shanghai\", \"Asia/Shanghai\", …\n",
      "$ ArrivalTimeZone    \u001b[3m\u001b[90m<chr>\u001b[39m\u001b[23m \"Asia/Taipei\", \"Asia/Taipei\", \"Asia/Taipei\", \"Asia/…\n",
      "$ DepartTaiwan       \u001b[3m\u001b[90m<lgl>\u001b[39m\u001b[23m FALSE, FALSE, FALSE, TRUE, TRUE, TRUE, FALSE, FALSE…\n",
      "$ ArriveTaiwan       \u001b[3m\u001b[90m<lgl>\u001b[39m\u001b[23m TRUE, TRUE, TRUE, FALSE, FALSE, FALSE, TRUE, TRUE, …\n"
     ]
    }
   ],
   "source": [
    "dplyr::glimpse(flightsData)"
   ]
  },
  {
   "cell_type": "code",
   "execution_count": null,
   "metadata": {
    "vscode": {
     "languageId": "r"
    }
   },
   "outputs": [],
   "source": []
  },
  {
   "cell_type": "markdown",
   "metadata": {},
   "source": [
    "Data frame `flightsData` has a string column `DepartureTime` with values like \"2023-10-13 15:00\". There is another column `DepartureTimeZone` with values like \"Asia/Taipei\" telling us the `DepartureTime` time zone for each value. How to convert `DepartureTime` to a `datetime` column with the correct time zone, using dplyr and lubridate packages in R? "
   ]
  },
  {
   "cell_type": "code",
   "execution_count": 8,
   "metadata": {
    "vscode": {
     "languageId": "r"
    }
   },
   "outputs": [
    {
     "name": "stdout",
     "output_type": "stream",
     "text": [
      "Rows: 4,941\n",
      "Columns: 24\n",
      "Groups: DepartureTimeZone [35]\n",
      "$ AirlineID          \u001b[3m\u001b[90m<fct>\u001b[39m\u001b[23m 3U, 3U, 3U, 3U, 3U, 3U, 3U, 3U, 3U, 3U, 3U, 3U, 5J,…\n",
      "$ ScheduleStartDate  \u001b[3m\u001b[90m<date>\u001b[39m\u001b[23m 2023-10-13, 2023-10-20, 2023-10-27, 2023-10-13, 20…\n",
      "$ ScheduleEndDate    \u001b[3m\u001b[90m<chr>\u001b[39m\u001b[23m \"2023-10-15\", \"2023-10-22\", \"2023-10-27\", \"2023-10-…\n",
      "$ FlightNumber       \u001b[3m\u001b[90m<chr>\u001b[39m\u001b[23m \"3U3783\", \"3U3783\", \"3U3783\", \"3U3784\", \"3U3784\", \"…\n",
      "$ DepartureAirportID \u001b[3m\u001b[90m<chr>\u001b[39m\u001b[23m \"CKG\", \"CKG\", \"CKG\", \"TSA\", \"TSA\", \"TSA\", \"TFU\", \"T…\n",
      "$ DepartureTime      \u001b[3m\u001b[90m<dttm>\u001b[39m\u001b[23m NA, NA, NA, NA, NA, NA, NA, NA, NA, NA, NA, NA, NA…\n",
      "$ CodeShare          \u001b[3m\u001b[90m<list>\u001b[39m\u001b[23m [<data.frame[0 x 0]>], [<data.frame[0 x 0]>], [<da…\n",
      "$ ArrivalAirportID   \u001b[3m\u001b[90m<chr>\u001b[39m\u001b[23m \"TSA\", \"TSA\", \"TSA\", \"CKG\", \"CKG\", \"CKG\", \"TSA\", \"T…\n",
      "$ ArrivalTime        \u001b[3m\u001b[90m<chr>\u001b[39m\u001b[23m \"18:00\", \"18:00\", \"18:00\", \"22:15\", \"22:15\", \"22:15…\n",
      "$ Monday             \u001b[3m\u001b[90m<lgl>\u001b[39m\u001b[23m FALSE, FALSE, FALSE, FALSE, FALSE, FALSE, TRUE, TRU…\n",
      "$ Tuesday            \u001b[3m\u001b[90m<lgl>\u001b[39m\u001b[23m FALSE, FALSE, FALSE, FALSE, FALSE, FALSE, FALSE, FA…\n",
      "$ Wednesday          \u001b[3m\u001b[90m<lgl>\u001b[39m\u001b[23m FALSE, FALSE, FALSE, FALSE, FALSE, FALSE, TRUE, TRU…\n",
      "$ Thursday           \u001b[3m\u001b[90m<lgl>\u001b[39m\u001b[23m FALSE, FALSE, FALSE, FALSE, FALSE, FALSE, FALSE, FA…\n",
      "$ Friday             \u001b[3m\u001b[90m<lgl>\u001b[39m\u001b[23m TRUE, TRUE, TRUE, TRUE, TRUE, TRUE, TRUE, TRUE, TRU…\n",
      "$ Saturday           \u001b[3m\u001b[90m<lgl>\u001b[39m\u001b[23m FALSE, FALSE, FALSE, FALSE, FALSE, FALSE, FALSE, FA…\n",
      "$ Sunday             \u001b[3m\u001b[90m<lgl>\u001b[39m\u001b[23m TRUE, TRUE, FALSE, TRUE, TRUE, FALSE, TRUE, TRUE, F…\n",
      "$ UpdateTime         \u001b[3m\u001b[90m<chr>\u001b[39m\u001b[23m \"2023-10-10T08:26:07+08:00\", \"2023-10-10T08:26:07+0…\n",
      "$ VersionID          \u001b[3m\u001b[90m<int>\u001b[39m\u001b[23m 1111, 1111, 1111, 1111, 1111, 1111, 1111, 1111, 111…\n",
      "$ Terminal           \u001b[3m\u001b[90m<chr>\u001b[39m\u001b[23m NA, NA, NA, NA, NA, NA, NA, NA, NA, NA, NA, NA, \"1\"…\n",
      "$ num_codeShare      \u001b[3m\u001b[90m<int>\u001b[39m\u001b[23m 0, 0, 0, 0, 0, 0, 0, 0, 0, 0, 0, 0, 0, 0, 0, 0, 0, …\n",
      "$ DepartureTimeZone  \u001b[3m\u001b[90m<chr>\u001b[39m\u001b[23m \"Asia/Shanghai\", \"Asia/Shanghai\", \"Asia/Shanghai\", …\n",
      "$ ArrivalTimeZone    \u001b[3m\u001b[90m<chr>\u001b[39m\u001b[23m \"Asia/Taipei\", \"Asia/Taipei\", \"Asia/Taipei\", \"Asia/…\n",
      "$ DepartTaiwan       \u001b[3m\u001b[90m<lgl>\u001b[39m\u001b[23m FALSE, FALSE, FALSE, TRUE, TRUE, TRUE, FALSE, FALSE…\n",
      "$ ArriveTaiwan       \u001b[3m\u001b[90m<lgl>\u001b[39m\u001b[23m TRUE, TRUE, TRUE, FALSE, FALSE, FALSE, TRUE, TRUE, …\n"
     ]
    }
   ],
   "source": [
    "\n",
    "library(dplyr)\n",
    "library(lubridate)\n",
    "\n",
    "flightsData <- flightsData %>%\n",
    "  group_by(DepartureTimeZone) %>%\n",
    "  mutate(DepartureTime = ymd_hms(DepartureTime, tz = DepartureTimeZone[[1]])) |>\n",
    "  glimpse()\n"
   ]
  },
  {
   "cell_type": "markdown",
   "metadata": {},
   "source": [
    "# Parse time with different time zone\n",
    "\n",
    "Our data come from different time zone. We can use `lubridate::ymd_hm(..., tz={time zone})` to parse `...` into the same `{time zone}` value. \n",
    "\n",
    "## Split data according to time zone"
   ]
  },
  {
   "cell_type": "code",
   "execution_count": 9,
   "metadata": {
    "vscode": {
     "languageId": "r"
    }
   },
   "outputs": [],
   "source": [
    "# 3. parse time with time zone\n",
    "## split flightsData according to its timezone\n",
    "flightsData |> split(flightsData$DepartureTimeZone) -> split_flightsData"
   ]
  },
  {
   "cell_type": "code",
   "execution_count": 15,
   "metadata": {
    "vscode": {
     "languageId": "r"
    }
   },
   "outputs": [
    {
     "data": {
      "text/html": [
       "<table class=\"dataframe\">\n",
       "<caption>A grouped_df: 3 × 24</caption>\n",
       "<thead>\n",
       "\t<tr><th scope=col>AirlineID</th><th scope=col>ScheduleStartDate</th><th scope=col>ScheduleEndDate</th><th scope=col>FlightNumber</th><th scope=col>DepartureAirportID</th><th scope=col>DepartureTime</th><th scope=col>CodeShare</th><th scope=col>ArrivalAirportID</th><th scope=col>ArrivalTime</th><th scope=col>Monday</th><th scope=col>⋯</th><th scope=col>Saturday</th><th scope=col>Sunday</th><th scope=col>UpdateTime</th><th scope=col>VersionID</th><th scope=col>Terminal</th><th scope=col>num_codeShare</th><th scope=col>DepartureTimeZone</th><th scope=col>ArrivalTimeZone</th><th scope=col>DepartTaiwan</th><th scope=col>ArriveTaiwan</th></tr>\n",
       "\t<tr><th scope=col>&lt;fct&gt;</th><th scope=col>&lt;date&gt;</th><th scope=col>&lt;chr&gt;</th><th scope=col>&lt;chr&gt;</th><th scope=col>&lt;chr&gt;</th><th scope=col>&lt;dttm&gt;</th><th scope=col>&lt;list&gt;</th><th scope=col>&lt;chr&gt;</th><th scope=col>&lt;chr&gt;</th><th scope=col>&lt;lgl&gt;</th><th scope=col>⋯</th><th scope=col>&lt;lgl&gt;</th><th scope=col>&lt;lgl&gt;</th><th scope=col>&lt;chr&gt;</th><th scope=col>&lt;int&gt;</th><th scope=col>&lt;chr&gt;</th><th scope=col>&lt;int&gt;</th><th scope=col>&lt;chr&gt;</th><th scope=col>&lt;chr&gt;</th><th scope=col>&lt;lgl&gt;</th><th scope=col>&lt;lgl&gt;</th></tr>\n",
       "</thead>\n",
       "<tbody>\n",
       "\t<tr><td>BR</td><td>2023-10-09</td><td>2023-10-15</td><td>BR051</td><td>IAH</td><td>NA</td><td>NULL</td><td>TPE</td><td>06:00+1</td><td>TRUE</td><td>⋯</td><td>TRUE</td><td> TRUE</td><td>2023-10-10T08:26:07+08:00</td><td>1111</td><td>2</td><td>0</td><td>America/Chicago</td><td>Asia/Taipei</td><td>FALSE</td><td>TRUE</td></tr>\n",
       "\t<tr><td>BR</td><td>2023-10-16</td><td>2023-10-22</td><td>BR051</td><td>IAH</td><td>NA</td><td>NULL</td><td>TPE</td><td>06:00+1</td><td>TRUE</td><td>⋯</td><td>TRUE</td><td> TRUE</td><td>2023-10-10T08:26:07+08:00</td><td>1111</td><td>2</td><td>0</td><td>America/Chicago</td><td>Asia/Taipei</td><td>FALSE</td><td>TRUE</td></tr>\n",
       "\t<tr><td>BR</td><td>2023-10-23</td><td>2023-10-28</td><td>BR051</td><td>IAH</td><td>NA</td><td>NULL</td><td>TPE</td><td>06:00+1</td><td>TRUE</td><td>⋯</td><td>TRUE</td><td>FALSE</td><td>2023-10-10T08:26:07+08:00</td><td>1111</td><td>2</td><td>0</td><td>America/Chicago</td><td>Asia/Taipei</td><td>FALSE</td><td>TRUE</td></tr>\n",
       "</tbody>\n",
       "</table>\n"
      ],
      "text/latex": [
       "A grouped\\_df: 3 × 24\n",
       "\\begin{tabular}{lllllllllllllllllllll}\n",
       " AirlineID & ScheduleStartDate & ScheduleEndDate & FlightNumber & DepartureAirportID & DepartureTime & CodeShare & ArrivalAirportID & ArrivalTime & Monday & ⋯ & Saturday & Sunday & UpdateTime & VersionID & Terminal & num\\_codeShare & DepartureTimeZone & ArrivalTimeZone & DepartTaiwan & ArriveTaiwan\\\\\n",
       " <fct> & <date> & <chr> & <chr> & <chr> & <dttm> & <list> & <chr> & <chr> & <lgl> & ⋯ & <lgl> & <lgl> & <chr> & <int> & <chr> & <int> & <chr> & <chr> & <lgl> & <lgl>\\\\\n",
       "\\hline\n",
       "\t BR & 2023-10-09 & 2023-10-15 & BR051 & IAH & NA & NULL & TPE & 06:00+1 & TRUE & ⋯ & TRUE &  TRUE & 2023-10-10T08:26:07+08:00 & 1111 & 2 & 0 & America/Chicago & Asia/Taipei & FALSE & TRUE\\\\\n",
       "\t BR & 2023-10-16 & 2023-10-22 & BR051 & IAH & NA & NULL & TPE & 06:00+1 & TRUE & ⋯ & TRUE &  TRUE & 2023-10-10T08:26:07+08:00 & 1111 & 2 & 0 & America/Chicago & Asia/Taipei & FALSE & TRUE\\\\\n",
       "\t BR & 2023-10-23 & 2023-10-28 & BR051 & IAH & NA & NULL & TPE & 06:00+1 & TRUE & ⋯ & TRUE & FALSE & 2023-10-10T08:26:07+08:00 & 1111 & 2 & 0 & America/Chicago & Asia/Taipei & FALSE & TRUE\\\\\n",
       "\\end{tabular}\n"
      ],
      "text/markdown": [
       "\n",
       "A grouped_df: 3 × 24\n",
       "\n",
       "| AirlineID &lt;fct&gt; | ScheduleStartDate &lt;date&gt; | ScheduleEndDate &lt;chr&gt; | FlightNumber &lt;chr&gt; | DepartureAirportID &lt;chr&gt; | DepartureTime &lt;dttm&gt; | CodeShare &lt;list&gt; | ArrivalAirportID &lt;chr&gt; | ArrivalTime &lt;chr&gt; | Monday &lt;lgl&gt; | ⋯ ⋯ | Saturday &lt;lgl&gt; | Sunday &lt;lgl&gt; | UpdateTime &lt;chr&gt; | VersionID &lt;int&gt; | Terminal &lt;chr&gt; | num_codeShare &lt;int&gt; | DepartureTimeZone &lt;chr&gt; | ArrivalTimeZone &lt;chr&gt; | DepartTaiwan &lt;lgl&gt; | ArriveTaiwan &lt;lgl&gt; |\n",
       "|---|---|---|---|---|---|---|---|---|---|---|---|---|---|---|---|---|---|---|---|---|\n",
       "| BR | 2023-10-09 | 2023-10-15 | BR051 | IAH | NA | NULL | TPE | 06:00+1 | TRUE | ⋯ | TRUE |  TRUE | 2023-10-10T08:26:07+08:00 | 1111 | 2 | 0 | America/Chicago | Asia/Taipei | FALSE | TRUE |\n",
       "| BR | 2023-10-16 | 2023-10-22 | BR051 | IAH | NA | NULL | TPE | 06:00+1 | TRUE | ⋯ | TRUE |  TRUE | 2023-10-10T08:26:07+08:00 | 1111 | 2 | 0 | America/Chicago | Asia/Taipei | FALSE | TRUE |\n",
       "| BR | 2023-10-23 | 2023-10-28 | BR051 | IAH | NA | NULL | TPE | 06:00+1 | TRUE | ⋯ | TRUE | FALSE | 2023-10-10T08:26:07+08:00 | 1111 | 2 | 0 | America/Chicago | Asia/Taipei | FALSE | TRUE |\n",
       "\n"
      ],
      "text/plain": [
       "  AirlineID ScheduleStartDate ScheduleEndDate FlightNumber DepartureAirportID\n",
       "1 BR        2023-10-09        2023-10-15      BR051        IAH               \n",
       "2 BR        2023-10-16        2023-10-22      BR051        IAH               \n",
       "3 BR        2023-10-23        2023-10-28      BR051        IAH               \n",
       "  DepartureTime CodeShare ArrivalAirportID ArrivalTime Monday ⋯ Saturday Sunday\n",
       "1 <NA>          NULL      TPE              06:00+1     TRUE   ⋯ TRUE      TRUE \n",
       "2 <NA>          NULL      TPE              06:00+1     TRUE   ⋯ TRUE      TRUE \n",
       "3 <NA>          NULL      TPE              06:00+1     TRUE   ⋯ TRUE     FALSE \n",
       "  UpdateTime                VersionID Terminal num_codeShare DepartureTimeZone\n",
       "1 2023-10-10T08:26:07+08:00 1111      2        0             America/Chicago  \n",
       "2 2023-10-10T08:26:07+08:00 1111      2        0             America/Chicago  \n",
       "3 2023-10-10T08:26:07+08:00 1111      2        0             America/Chicago  \n",
       "  ArrivalTimeZone DepartTaiwan ArriveTaiwan\n",
       "1 Asia/Taipei     FALSE        TRUE        \n",
       "2 Asia/Taipei     FALSE        TRUE        \n",
       "3 Asia/Taipei     FALSE        TRUE        "
      ]
     },
     "metadata": {},
     "output_type": "display_data"
    },
    {
     "data": {
      "text/html": [
       "<style>\n",
       ".list-inline {list-style: none; margin:0; padding: 0}\n",
       ".list-inline>li {display: inline-block}\n",
       ".list-inline>li:not(:last-child)::after {content: \"\\00b7\"; padding: 0 .5ex}\n",
       "</style>\n",
       "<ol class=list-inline><li>'America/Los_Angeles'</li><li>'America/Los_Angeles'</li><li>'America/Los_Angeles'</li></ol>\n"
      ],
      "text/latex": [
       "\\begin{enumerate*}\n",
       "\\item 'America/Los\\_Angeles'\n",
       "\\item 'America/Los\\_Angeles'\n",
       "\\item 'America/Los\\_Angeles'\n",
       "\\end{enumerate*}\n"
      ],
      "text/markdown": [
       "1. 'America/Los_Angeles'\n",
       "2. 'America/Los_Angeles'\n",
       "3. 'America/Los_Angeles'\n",
       "\n",
       "\n"
      ],
      "text/plain": [
       "[1] \"America/Los_Angeles\" \"America/Los_Angeles\" \"America/Los_Angeles\""
      ]
     },
     "metadata": {},
     "output_type": "display_data"
    },
    {
     "data": {
      "text/html": [
       "<style>\n",
       ".list-inline {list-style: none; margin:0; padding: 0}\n",
       ".list-inline>li {display: inline-block}\n",
       ".list-inline>li:not(:last-child)::after {content: \"\\00b7\"; padding: 0 .5ex}\n",
       "</style>\n",
       "<ol class=list-inline><li>'America/New_York'</li><li>'America/New_York'</li><li>'America/New_York'</li></ol>\n"
      ],
      "text/latex": [
       "\\begin{enumerate*}\n",
       "\\item 'America/New\\_York'\n",
       "\\item 'America/New\\_York'\n",
       "\\item 'America/New\\_York'\n",
       "\\end{enumerate*}\n"
      ],
      "text/markdown": [
       "1. 'America/New_York'\n",
       "2. 'America/New_York'\n",
       "3. 'America/New_York'\n",
       "\n",
       "\n"
      ],
      "text/plain": [
       "[1] \"America/New_York\" \"America/New_York\" \"America/New_York\""
      ]
     },
     "metadata": {},
     "output_type": "display_data"
    }
   ],
   "source": [
    "head(split_flightsData[[1]], 3)\n",
    "head(split_flightsData[[2]]$DepartureTimeZone, 3)\n",
    "head(split_flightsData[[3]]$DepartureTimeZone, 3)"
   ]
  },
  {
   "cell_type": "markdown",
   "metadata": {},
   "source": [
    "## Parsing a time zone\n"
   ]
  },
  {
   "cell_type": "code",
   "execution_count": 16,
   "metadata": {
    "vscode": {
     "languageId": "r"
    }
   },
   "outputs": [],
   "source": [
    "# for each sub data frame\n",
    ".x=1 # say the first one\n",
    "# we want to parse the time\n",
    "split_flightsData[[.x]]$DepartureTime <- \n",
    "  lubridate::ymd_hm(split_flightsData[[.x]]$DepartureTime, tz = split_flightsData[[.x]]$DepartureTimeZone[[1]]) \n"
   ]
  },
  {
   "cell_type": "markdown",
   "metadata": {},
   "source": [
    "- `tz = groupXdata$DepartureTimeZone[[1]]` only take ONE time zone value because the same sub data frame has the same time zone. Also `tz=` can take in only one string.\n"
   ]
  },
  {
   "cell_type": "markdown",
   "metadata": {},
   "source": [
    "### dplyr::mutate\n",
    "\n",
    "If you have an expression like\n",
    "\n",
    "```\n",
    "data_frame$some_column <- operations on ... other data_frame$column(s)\n",
    "```\n",
    "\n",
    "you can use `dplyr::mutate` to do the same thing:\n",
    "\n",
    "```\n",
    "data_frame |>\n",
    "  dplyr::mutate(\n",
    "    some_column = operations on ... other column(s)\n",
    "  )\n",
    "```"
   ]
  },
  {
   "cell_type": "markdown",
   "metadata": {},
   "source": [
    "In our previous example `data_frame` is `split_flightData[[.x]]`, so we can write"
   ]
  },
  {
   "cell_type": "code",
   "execution_count": 18,
   "metadata": {
    "vscode": {
     "languageId": "r"
    }
   },
   "outputs": [
    {
     "data": {
      "text/html": [
       "<table class=\"dataframe\">\n",
       "<caption>A grouped_df: 18 × 24</caption>\n",
       "<thead>\n",
       "\t<tr><th scope=col>AirlineID</th><th scope=col>ScheduleStartDate</th><th scope=col>ScheduleEndDate</th><th scope=col>FlightNumber</th><th scope=col>DepartureAirportID</th><th scope=col>DepartureTime</th><th scope=col>CodeShare</th><th scope=col>ArrivalAirportID</th><th scope=col>ArrivalTime</th><th scope=col>Monday</th><th scope=col>⋯</th><th scope=col>Saturday</th><th scope=col>Sunday</th><th scope=col>UpdateTime</th><th scope=col>VersionID</th><th scope=col>Terminal</th><th scope=col>num_codeShare</th><th scope=col>DepartureTimeZone</th><th scope=col>ArrivalTimeZone</th><th scope=col>DepartTaiwan</th><th scope=col>ArriveTaiwan</th></tr>\n",
       "\t<tr><th scope=col>&lt;fct&gt;</th><th scope=col>&lt;date&gt;</th><th scope=col>&lt;chr&gt;</th><th scope=col>&lt;chr&gt;</th><th scope=col>&lt;chr&gt;</th><th scope=col>&lt;dttm&gt;</th><th scope=col>&lt;list&gt;</th><th scope=col>&lt;chr&gt;</th><th scope=col>&lt;chr&gt;</th><th scope=col>&lt;lgl&gt;</th><th scope=col>⋯</th><th scope=col>&lt;lgl&gt;</th><th scope=col>&lt;lgl&gt;</th><th scope=col>&lt;chr&gt;</th><th scope=col>&lt;int&gt;</th><th scope=col>&lt;chr&gt;</th><th scope=col>&lt;int&gt;</th><th scope=col>&lt;chr&gt;</th><th scope=col>&lt;chr&gt;</th><th scope=col>&lt;lgl&gt;</th><th scope=col>&lt;lgl&gt;</th></tr>\n",
       "</thead>\n",
       "<tbody>\n",
       "\t<tr><td>BR</td><td>2023-10-09</td><td>2023-10-15</td><td>BR051 </td><td>IAH</td><td>NA</td><td>NULL</td><td>TPE</td><td>06:00+1</td><td>TRUE</td><td>⋯</td><td>TRUE</td><td> TRUE</td><td>2023-10-10T08:26:07+08:00</td><td>1111</td><td>2</td><td>0</td><td>America/Chicago</td><td>Asia/Taipei</td><td>FALSE</td><td>TRUE</td></tr>\n",
       "\t<tr><td>BR</td><td>2023-10-16</td><td>2023-10-22</td><td>BR051 </td><td>IAH</td><td>NA</td><td>NULL</td><td>TPE</td><td>06:00+1</td><td>TRUE</td><td>⋯</td><td>TRUE</td><td> TRUE</td><td>2023-10-10T08:26:07+08:00</td><td>1111</td><td>2</td><td>0</td><td>America/Chicago</td><td>Asia/Taipei</td><td>FALSE</td><td>TRUE</td></tr>\n",
       "\t<tr><td>BR</td><td>2023-10-23</td><td>2023-10-28</td><td>BR051 </td><td>IAH</td><td>NA</td><td>NULL</td><td>TPE</td><td>06:00+1</td><td>TRUE</td><td>⋯</td><td>TRUE</td><td>FALSE</td><td>2023-10-10T08:26:07+08:00</td><td>1111</td><td>2</td><td>0</td><td>America/Chicago</td><td>Asia/Taipei</td><td>FALSE</td><td>TRUE</td></tr>\n",
       "\t<tr><td>BR</td><td>2023-10-09</td><td>2023-10-15</td><td>BR055 </td><td>ORD</td><td>NA</td><td>NULL</td><td>TPE</td><td>05:25+1</td><td>TRUE</td><td>⋯</td><td>TRUE</td><td> TRUE</td><td>2023-10-10T08:26:07+08:00</td><td>1111</td><td>2</td><td>0</td><td>America/Chicago</td><td>Asia/Taipei</td><td>FALSE</td><td>TRUE</td></tr>\n",
       "\t<tr><td>BR</td><td>2023-10-16</td><td>2023-10-22</td><td>BR055 </td><td>ORD</td><td>NA</td><td>NULL</td><td>TPE</td><td>05:25+1</td><td>TRUE</td><td>⋯</td><td>TRUE</td><td> TRUE</td><td>2023-10-10T08:26:07+08:00</td><td>1111</td><td>2</td><td>0</td><td>America/Chicago</td><td>Asia/Taipei</td><td>FALSE</td><td>TRUE</td></tr>\n",
       "\t<tr><td>BR</td><td>2023-10-23</td><td>2023-10-28</td><td>BR055 </td><td>ORD</td><td>NA</td><td>NULL</td><td>TPE</td><td>05:25+1</td><td>TRUE</td><td>⋯</td><td>TRUE</td><td>FALSE</td><td>2023-10-10T08:26:07+08:00</td><td>1111</td><td>2</td><td>0</td><td>America/Chicago</td><td>Asia/Taipei</td><td>FALSE</td><td>TRUE</td></tr>\n",
       "\t<tr><td>CM</td><td>2023-10-09</td><td>2023-10-15</td><td>CM8019</td><td>ORD</td><td>NA</td><td>NULL</td><td>TPE</td><td>05:25+1</td><td>TRUE</td><td>⋯</td><td>TRUE</td><td> TRUE</td><td>2023-10-10T08:26:07+08:00</td><td>1111</td><td>2</td><td>0</td><td>America/Chicago</td><td>Asia/Taipei</td><td>FALSE</td><td>TRUE</td></tr>\n",
       "\t<tr><td>CM</td><td>2023-10-16</td><td>2023-10-22</td><td>CM8019</td><td>ORD</td><td>NA</td><td>NULL</td><td>TPE</td><td>05:25+1</td><td>TRUE</td><td>⋯</td><td>TRUE</td><td> TRUE</td><td>2023-10-10T08:26:07+08:00</td><td>1111</td><td>2</td><td>0</td><td>America/Chicago</td><td>Asia/Taipei</td><td>FALSE</td><td>TRUE</td></tr>\n",
       "\t<tr><td>CM</td><td>2023-10-23</td><td>2023-10-28</td><td>CM8019</td><td>ORD</td><td>NA</td><td>NULL</td><td>TPE</td><td>05:25+1</td><td>TRUE</td><td>⋯</td><td>TRUE</td><td>FALSE</td><td>2023-10-10T08:26:07+08:00</td><td>1111</td><td>2</td><td>0</td><td>America/Chicago</td><td>Asia/Taipei</td><td>FALSE</td><td>TRUE</td></tr>\n",
       "\t<tr><td>SQ</td><td>2023-10-09</td><td>2023-10-15</td><td>SQ5821</td><td>ORD</td><td>NA</td><td>NULL</td><td>TPE</td><td>05:25+1</td><td>TRUE</td><td>⋯</td><td>TRUE</td><td> TRUE</td><td>2023-10-10T08:26:07+08:00</td><td>1111</td><td>2</td><td>0</td><td>America/Chicago</td><td>Asia/Taipei</td><td>FALSE</td><td>TRUE</td></tr>\n",
       "\t<tr><td>SQ</td><td>2023-10-16</td><td>2023-10-22</td><td>SQ5821</td><td>ORD</td><td>NA</td><td>NULL</td><td>TPE</td><td>05:25+1</td><td>TRUE</td><td>⋯</td><td>TRUE</td><td> TRUE</td><td>2023-10-10T08:26:07+08:00</td><td>1111</td><td>2</td><td>0</td><td>America/Chicago</td><td>Asia/Taipei</td><td>FALSE</td><td>TRUE</td></tr>\n",
       "\t<tr><td>SQ</td><td>2023-10-23</td><td>2023-10-28</td><td>SQ5821</td><td>ORD</td><td>NA</td><td>NULL</td><td>TPE</td><td>05:25+1</td><td>TRUE</td><td>⋯</td><td>TRUE</td><td>FALSE</td><td>2023-10-10T08:26:07+08:00</td><td>1111</td><td>2</td><td>0</td><td>America/Chicago</td><td>Asia/Taipei</td><td>FALSE</td><td>TRUE</td></tr>\n",
       "\t<tr><td>TG</td><td>2023-10-09</td><td>2023-10-15</td><td>TG6265</td><td>IAH</td><td>NA</td><td>NULL</td><td>TPE</td><td>06:00+1</td><td>TRUE</td><td>⋯</td><td>TRUE</td><td> TRUE</td><td>2023-10-10T08:26:07+08:00</td><td>1111</td><td>2</td><td>0</td><td>America/Chicago</td><td>Asia/Taipei</td><td>FALSE</td><td>TRUE</td></tr>\n",
       "\t<tr><td>TG</td><td>2023-10-16</td><td>2023-10-22</td><td>TG6265</td><td>IAH</td><td>NA</td><td>NULL</td><td>TPE</td><td>06:00+1</td><td>TRUE</td><td>⋯</td><td>TRUE</td><td> TRUE</td><td>2023-10-10T08:26:07+08:00</td><td>1111</td><td>2</td><td>0</td><td>America/Chicago</td><td>Asia/Taipei</td><td>FALSE</td><td>TRUE</td></tr>\n",
       "\t<tr><td>TG</td><td>2023-10-23</td><td>2023-10-28</td><td>TG6265</td><td>IAH</td><td>NA</td><td>NULL</td><td>TPE</td><td>06:00+1</td><td>TRUE</td><td>⋯</td><td>TRUE</td><td>FALSE</td><td>2023-10-10T08:26:07+08:00</td><td>1111</td><td>2</td><td>0</td><td>America/Chicago</td><td>Asia/Taipei</td><td>FALSE</td><td>TRUE</td></tr>\n",
       "\t<tr><td>TG</td><td>2023-10-09</td><td>2023-10-15</td><td>TG6273</td><td>ORD</td><td>NA</td><td>NULL</td><td>TPE</td><td>05:25+1</td><td>TRUE</td><td>⋯</td><td>TRUE</td><td> TRUE</td><td>2023-10-10T08:26:07+08:00</td><td>1111</td><td>2</td><td>0</td><td>America/Chicago</td><td>Asia/Taipei</td><td>FALSE</td><td>TRUE</td></tr>\n",
       "\t<tr><td>TG</td><td>2023-10-16</td><td>2023-10-22</td><td>TG6273</td><td>ORD</td><td>NA</td><td>NULL</td><td>TPE</td><td>05:25+1</td><td>TRUE</td><td>⋯</td><td>TRUE</td><td> TRUE</td><td>2023-10-10T08:26:07+08:00</td><td>1111</td><td>2</td><td>0</td><td>America/Chicago</td><td>Asia/Taipei</td><td>FALSE</td><td>TRUE</td></tr>\n",
       "\t<tr><td>TG</td><td>2023-10-23</td><td>2023-10-28</td><td>TG6273</td><td>ORD</td><td>NA</td><td>NULL</td><td>TPE</td><td>05:25+1</td><td>TRUE</td><td>⋯</td><td>TRUE</td><td>FALSE</td><td>2023-10-10T08:26:07+08:00</td><td>1111</td><td>2</td><td>0</td><td>America/Chicago</td><td>Asia/Taipei</td><td>FALSE</td><td>TRUE</td></tr>\n",
       "</tbody>\n",
       "</table>\n"
      ],
      "text/latex": [
       "A grouped\\_df: 18 × 24\n",
       "\\begin{tabular}{lllllllllllllllllllll}\n",
       " AirlineID & ScheduleStartDate & ScheduleEndDate & FlightNumber & DepartureAirportID & DepartureTime & CodeShare & ArrivalAirportID & ArrivalTime & Monday & ⋯ & Saturday & Sunday & UpdateTime & VersionID & Terminal & num\\_codeShare & DepartureTimeZone & ArrivalTimeZone & DepartTaiwan & ArriveTaiwan\\\\\n",
       " <fct> & <date> & <chr> & <chr> & <chr> & <dttm> & <list> & <chr> & <chr> & <lgl> & ⋯ & <lgl> & <lgl> & <chr> & <int> & <chr> & <int> & <chr> & <chr> & <lgl> & <lgl>\\\\\n",
       "\\hline\n",
       "\t BR & 2023-10-09 & 2023-10-15 & BR051  & IAH & NA & NULL & TPE & 06:00+1 & TRUE & ⋯ & TRUE &  TRUE & 2023-10-10T08:26:07+08:00 & 1111 & 2 & 0 & America/Chicago & Asia/Taipei & FALSE & TRUE\\\\\n",
       "\t BR & 2023-10-16 & 2023-10-22 & BR051  & IAH & NA & NULL & TPE & 06:00+1 & TRUE & ⋯ & TRUE &  TRUE & 2023-10-10T08:26:07+08:00 & 1111 & 2 & 0 & America/Chicago & Asia/Taipei & FALSE & TRUE\\\\\n",
       "\t BR & 2023-10-23 & 2023-10-28 & BR051  & IAH & NA & NULL & TPE & 06:00+1 & TRUE & ⋯ & TRUE & FALSE & 2023-10-10T08:26:07+08:00 & 1111 & 2 & 0 & America/Chicago & Asia/Taipei & FALSE & TRUE\\\\\n",
       "\t BR & 2023-10-09 & 2023-10-15 & BR055  & ORD & NA & NULL & TPE & 05:25+1 & TRUE & ⋯ & TRUE &  TRUE & 2023-10-10T08:26:07+08:00 & 1111 & 2 & 0 & America/Chicago & Asia/Taipei & FALSE & TRUE\\\\\n",
       "\t BR & 2023-10-16 & 2023-10-22 & BR055  & ORD & NA & NULL & TPE & 05:25+1 & TRUE & ⋯ & TRUE &  TRUE & 2023-10-10T08:26:07+08:00 & 1111 & 2 & 0 & America/Chicago & Asia/Taipei & FALSE & TRUE\\\\\n",
       "\t BR & 2023-10-23 & 2023-10-28 & BR055  & ORD & NA & NULL & TPE & 05:25+1 & TRUE & ⋯ & TRUE & FALSE & 2023-10-10T08:26:07+08:00 & 1111 & 2 & 0 & America/Chicago & Asia/Taipei & FALSE & TRUE\\\\\n",
       "\t CM & 2023-10-09 & 2023-10-15 & CM8019 & ORD & NA & NULL & TPE & 05:25+1 & TRUE & ⋯ & TRUE &  TRUE & 2023-10-10T08:26:07+08:00 & 1111 & 2 & 0 & America/Chicago & Asia/Taipei & FALSE & TRUE\\\\\n",
       "\t CM & 2023-10-16 & 2023-10-22 & CM8019 & ORD & NA & NULL & TPE & 05:25+1 & TRUE & ⋯ & TRUE &  TRUE & 2023-10-10T08:26:07+08:00 & 1111 & 2 & 0 & America/Chicago & Asia/Taipei & FALSE & TRUE\\\\\n",
       "\t CM & 2023-10-23 & 2023-10-28 & CM8019 & ORD & NA & NULL & TPE & 05:25+1 & TRUE & ⋯ & TRUE & FALSE & 2023-10-10T08:26:07+08:00 & 1111 & 2 & 0 & America/Chicago & Asia/Taipei & FALSE & TRUE\\\\\n",
       "\t SQ & 2023-10-09 & 2023-10-15 & SQ5821 & ORD & NA & NULL & TPE & 05:25+1 & TRUE & ⋯ & TRUE &  TRUE & 2023-10-10T08:26:07+08:00 & 1111 & 2 & 0 & America/Chicago & Asia/Taipei & FALSE & TRUE\\\\\n",
       "\t SQ & 2023-10-16 & 2023-10-22 & SQ5821 & ORD & NA & NULL & TPE & 05:25+1 & TRUE & ⋯ & TRUE &  TRUE & 2023-10-10T08:26:07+08:00 & 1111 & 2 & 0 & America/Chicago & Asia/Taipei & FALSE & TRUE\\\\\n",
       "\t SQ & 2023-10-23 & 2023-10-28 & SQ5821 & ORD & NA & NULL & TPE & 05:25+1 & TRUE & ⋯ & TRUE & FALSE & 2023-10-10T08:26:07+08:00 & 1111 & 2 & 0 & America/Chicago & Asia/Taipei & FALSE & TRUE\\\\\n",
       "\t TG & 2023-10-09 & 2023-10-15 & TG6265 & IAH & NA & NULL & TPE & 06:00+1 & TRUE & ⋯ & TRUE &  TRUE & 2023-10-10T08:26:07+08:00 & 1111 & 2 & 0 & America/Chicago & Asia/Taipei & FALSE & TRUE\\\\\n",
       "\t TG & 2023-10-16 & 2023-10-22 & TG6265 & IAH & NA & NULL & TPE & 06:00+1 & TRUE & ⋯ & TRUE &  TRUE & 2023-10-10T08:26:07+08:00 & 1111 & 2 & 0 & America/Chicago & Asia/Taipei & FALSE & TRUE\\\\\n",
       "\t TG & 2023-10-23 & 2023-10-28 & TG6265 & IAH & NA & NULL & TPE & 06:00+1 & TRUE & ⋯ & TRUE & FALSE & 2023-10-10T08:26:07+08:00 & 1111 & 2 & 0 & America/Chicago & Asia/Taipei & FALSE & TRUE\\\\\n",
       "\t TG & 2023-10-09 & 2023-10-15 & TG6273 & ORD & NA & NULL & TPE & 05:25+1 & TRUE & ⋯ & TRUE &  TRUE & 2023-10-10T08:26:07+08:00 & 1111 & 2 & 0 & America/Chicago & Asia/Taipei & FALSE & TRUE\\\\\n",
       "\t TG & 2023-10-16 & 2023-10-22 & TG6273 & ORD & NA & NULL & TPE & 05:25+1 & TRUE & ⋯ & TRUE &  TRUE & 2023-10-10T08:26:07+08:00 & 1111 & 2 & 0 & America/Chicago & Asia/Taipei & FALSE & TRUE\\\\\n",
       "\t TG & 2023-10-23 & 2023-10-28 & TG6273 & ORD & NA & NULL & TPE & 05:25+1 & TRUE & ⋯ & TRUE & FALSE & 2023-10-10T08:26:07+08:00 & 1111 & 2 & 0 & America/Chicago & Asia/Taipei & FALSE & TRUE\\\\\n",
       "\\end{tabular}\n"
      ],
      "text/markdown": [
       "\n",
       "A grouped_df: 18 × 24\n",
       "\n",
       "| AirlineID &lt;fct&gt; | ScheduleStartDate &lt;date&gt; | ScheduleEndDate &lt;chr&gt; | FlightNumber &lt;chr&gt; | DepartureAirportID &lt;chr&gt; | DepartureTime &lt;dttm&gt; | CodeShare &lt;list&gt; | ArrivalAirportID &lt;chr&gt; | ArrivalTime &lt;chr&gt; | Monday &lt;lgl&gt; | ⋯ ⋯ | Saturday &lt;lgl&gt; | Sunday &lt;lgl&gt; | UpdateTime &lt;chr&gt; | VersionID &lt;int&gt; | Terminal &lt;chr&gt; | num_codeShare &lt;int&gt; | DepartureTimeZone &lt;chr&gt; | ArrivalTimeZone &lt;chr&gt; | DepartTaiwan &lt;lgl&gt; | ArriveTaiwan &lt;lgl&gt; |\n",
       "|---|---|---|---|---|---|---|---|---|---|---|---|---|---|---|---|---|---|---|---|---|\n",
       "| BR | 2023-10-09 | 2023-10-15 | BR051  | IAH | NA | NULL | TPE | 06:00+1 | TRUE | ⋯ | TRUE |  TRUE | 2023-10-10T08:26:07+08:00 | 1111 | 2 | 0 | America/Chicago | Asia/Taipei | FALSE | TRUE |\n",
       "| BR | 2023-10-16 | 2023-10-22 | BR051  | IAH | NA | NULL | TPE | 06:00+1 | TRUE | ⋯ | TRUE |  TRUE | 2023-10-10T08:26:07+08:00 | 1111 | 2 | 0 | America/Chicago | Asia/Taipei | FALSE | TRUE |\n",
       "| BR | 2023-10-23 | 2023-10-28 | BR051  | IAH | NA | NULL | TPE | 06:00+1 | TRUE | ⋯ | TRUE | FALSE | 2023-10-10T08:26:07+08:00 | 1111 | 2 | 0 | America/Chicago | Asia/Taipei | FALSE | TRUE |\n",
       "| BR | 2023-10-09 | 2023-10-15 | BR055  | ORD | NA | NULL | TPE | 05:25+1 | TRUE | ⋯ | TRUE |  TRUE | 2023-10-10T08:26:07+08:00 | 1111 | 2 | 0 | America/Chicago | Asia/Taipei | FALSE | TRUE |\n",
       "| BR | 2023-10-16 | 2023-10-22 | BR055  | ORD | NA | NULL | TPE | 05:25+1 | TRUE | ⋯ | TRUE |  TRUE | 2023-10-10T08:26:07+08:00 | 1111 | 2 | 0 | America/Chicago | Asia/Taipei | FALSE | TRUE |\n",
       "| BR | 2023-10-23 | 2023-10-28 | BR055  | ORD | NA | NULL | TPE | 05:25+1 | TRUE | ⋯ | TRUE | FALSE | 2023-10-10T08:26:07+08:00 | 1111 | 2 | 0 | America/Chicago | Asia/Taipei | FALSE | TRUE |\n",
       "| CM | 2023-10-09 | 2023-10-15 | CM8019 | ORD | NA | NULL | TPE | 05:25+1 | TRUE | ⋯ | TRUE |  TRUE | 2023-10-10T08:26:07+08:00 | 1111 | 2 | 0 | America/Chicago | Asia/Taipei | FALSE | TRUE |\n",
       "| CM | 2023-10-16 | 2023-10-22 | CM8019 | ORD | NA | NULL | TPE | 05:25+1 | TRUE | ⋯ | TRUE |  TRUE | 2023-10-10T08:26:07+08:00 | 1111 | 2 | 0 | America/Chicago | Asia/Taipei | FALSE | TRUE |\n",
       "| CM | 2023-10-23 | 2023-10-28 | CM8019 | ORD | NA | NULL | TPE | 05:25+1 | TRUE | ⋯ | TRUE | FALSE | 2023-10-10T08:26:07+08:00 | 1111 | 2 | 0 | America/Chicago | Asia/Taipei | FALSE | TRUE |\n",
       "| SQ | 2023-10-09 | 2023-10-15 | SQ5821 | ORD | NA | NULL | TPE | 05:25+1 | TRUE | ⋯ | TRUE |  TRUE | 2023-10-10T08:26:07+08:00 | 1111 | 2 | 0 | America/Chicago | Asia/Taipei | FALSE | TRUE |\n",
       "| SQ | 2023-10-16 | 2023-10-22 | SQ5821 | ORD | NA | NULL | TPE | 05:25+1 | TRUE | ⋯ | TRUE |  TRUE | 2023-10-10T08:26:07+08:00 | 1111 | 2 | 0 | America/Chicago | Asia/Taipei | FALSE | TRUE |\n",
       "| SQ | 2023-10-23 | 2023-10-28 | SQ5821 | ORD | NA | NULL | TPE | 05:25+1 | TRUE | ⋯ | TRUE | FALSE | 2023-10-10T08:26:07+08:00 | 1111 | 2 | 0 | America/Chicago | Asia/Taipei | FALSE | TRUE |\n",
       "| TG | 2023-10-09 | 2023-10-15 | TG6265 | IAH | NA | NULL | TPE | 06:00+1 | TRUE | ⋯ | TRUE |  TRUE | 2023-10-10T08:26:07+08:00 | 1111 | 2 | 0 | America/Chicago | Asia/Taipei | FALSE | TRUE |\n",
       "| TG | 2023-10-16 | 2023-10-22 | TG6265 | IAH | NA | NULL | TPE | 06:00+1 | TRUE | ⋯ | TRUE |  TRUE | 2023-10-10T08:26:07+08:00 | 1111 | 2 | 0 | America/Chicago | Asia/Taipei | FALSE | TRUE |\n",
       "| TG | 2023-10-23 | 2023-10-28 | TG6265 | IAH | NA | NULL | TPE | 06:00+1 | TRUE | ⋯ | TRUE | FALSE | 2023-10-10T08:26:07+08:00 | 1111 | 2 | 0 | America/Chicago | Asia/Taipei | FALSE | TRUE |\n",
       "| TG | 2023-10-09 | 2023-10-15 | TG6273 | ORD | NA | NULL | TPE | 05:25+1 | TRUE | ⋯ | TRUE |  TRUE | 2023-10-10T08:26:07+08:00 | 1111 | 2 | 0 | America/Chicago | Asia/Taipei | FALSE | TRUE |\n",
       "| TG | 2023-10-16 | 2023-10-22 | TG6273 | ORD | NA | NULL | TPE | 05:25+1 | TRUE | ⋯ | TRUE |  TRUE | 2023-10-10T08:26:07+08:00 | 1111 | 2 | 0 | America/Chicago | Asia/Taipei | FALSE | TRUE |\n",
       "| TG | 2023-10-23 | 2023-10-28 | TG6273 | ORD | NA | NULL | TPE | 05:25+1 | TRUE | ⋯ | TRUE | FALSE | 2023-10-10T08:26:07+08:00 | 1111 | 2 | 0 | America/Chicago | Asia/Taipei | FALSE | TRUE |\n",
       "\n"
      ],
      "text/plain": [
       "   AirlineID ScheduleStartDate ScheduleEndDate FlightNumber DepartureAirportID\n",
       "1  BR        2023-10-09        2023-10-15      BR051        IAH               \n",
       "2  BR        2023-10-16        2023-10-22      BR051        IAH               \n",
       "3  BR        2023-10-23        2023-10-28      BR051        IAH               \n",
       "4  BR        2023-10-09        2023-10-15      BR055        ORD               \n",
       "5  BR        2023-10-16        2023-10-22      BR055        ORD               \n",
       "6  BR        2023-10-23        2023-10-28      BR055        ORD               \n",
       "7  CM        2023-10-09        2023-10-15      CM8019       ORD               \n",
       "8  CM        2023-10-16        2023-10-22      CM8019       ORD               \n",
       "9  CM        2023-10-23        2023-10-28      CM8019       ORD               \n",
       "10 SQ        2023-10-09        2023-10-15      SQ5821       ORD               \n",
       "11 SQ        2023-10-16        2023-10-22      SQ5821       ORD               \n",
       "12 SQ        2023-10-23        2023-10-28      SQ5821       ORD               \n",
       "13 TG        2023-10-09        2023-10-15      TG6265       IAH               \n",
       "14 TG        2023-10-16        2023-10-22      TG6265       IAH               \n",
       "15 TG        2023-10-23        2023-10-28      TG6265       IAH               \n",
       "16 TG        2023-10-09        2023-10-15      TG6273       ORD               \n",
       "17 TG        2023-10-16        2023-10-22      TG6273       ORD               \n",
       "18 TG        2023-10-23        2023-10-28      TG6273       ORD               \n",
       "   DepartureTime CodeShare ArrivalAirportID ArrivalTime Monday ⋯ Saturday\n",
       "1  <NA>          NULL      TPE              06:00+1     TRUE   ⋯ TRUE    \n",
       "2  <NA>          NULL      TPE              06:00+1     TRUE   ⋯ TRUE    \n",
       "3  <NA>          NULL      TPE              06:00+1     TRUE   ⋯ TRUE    \n",
       "4  <NA>          NULL      TPE              05:25+1     TRUE   ⋯ TRUE    \n",
       "5  <NA>          NULL      TPE              05:25+1     TRUE   ⋯ TRUE    \n",
       "6  <NA>          NULL      TPE              05:25+1     TRUE   ⋯ TRUE    \n",
       "7  <NA>          NULL      TPE              05:25+1     TRUE   ⋯ TRUE    \n",
       "8  <NA>          NULL      TPE              05:25+1     TRUE   ⋯ TRUE    \n",
       "9  <NA>          NULL      TPE              05:25+1     TRUE   ⋯ TRUE    \n",
       "10 <NA>          NULL      TPE              05:25+1     TRUE   ⋯ TRUE    \n",
       "11 <NA>          NULL      TPE              05:25+1     TRUE   ⋯ TRUE    \n",
       "12 <NA>          NULL      TPE              05:25+1     TRUE   ⋯ TRUE    \n",
       "13 <NA>          NULL      TPE              06:00+1     TRUE   ⋯ TRUE    \n",
       "14 <NA>          NULL      TPE              06:00+1     TRUE   ⋯ TRUE    \n",
       "15 <NA>          NULL      TPE              06:00+1     TRUE   ⋯ TRUE    \n",
       "16 <NA>          NULL      TPE              05:25+1     TRUE   ⋯ TRUE    \n",
       "17 <NA>          NULL      TPE              05:25+1     TRUE   ⋯ TRUE    \n",
       "18 <NA>          NULL      TPE              05:25+1     TRUE   ⋯ TRUE    \n",
       "   Sunday UpdateTime                VersionID Terminal num_codeShare\n",
       "1   TRUE  2023-10-10T08:26:07+08:00 1111      2        0            \n",
       "2   TRUE  2023-10-10T08:26:07+08:00 1111      2        0            \n",
       "3  FALSE  2023-10-10T08:26:07+08:00 1111      2        0            \n",
       "4   TRUE  2023-10-10T08:26:07+08:00 1111      2        0            \n",
       "5   TRUE  2023-10-10T08:26:07+08:00 1111      2        0            \n",
       "6  FALSE  2023-10-10T08:26:07+08:00 1111      2        0            \n",
       "7   TRUE  2023-10-10T08:26:07+08:00 1111      2        0            \n",
       "8   TRUE  2023-10-10T08:26:07+08:00 1111      2        0            \n",
       "9  FALSE  2023-10-10T08:26:07+08:00 1111      2        0            \n",
       "10  TRUE  2023-10-10T08:26:07+08:00 1111      2        0            \n",
       "11  TRUE  2023-10-10T08:26:07+08:00 1111      2        0            \n",
       "12 FALSE  2023-10-10T08:26:07+08:00 1111      2        0            \n",
       "13  TRUE  2023-10-10T08:26:07+08:00 1111      2        0            \n",
       "14  TRUE  2023-10-10T08:26:07+08:00 1111      2        0            \n",
       "15 FALSE  2023-10-10T08:26:07+08:00 1111      2        0            \n",
       "16  TRUE  2023-10-10T08:26:07+08:00 1111      2        0            \n",
       "17  TRUE  2023-10-10T08:26:07+08:00 1111      2        0            \n",
       "18 FALSE  2023-10-10T08:26:07+08:00 1111      2        0            \n",
       "   DepartureTimeZone ArrivalTimeZone DepartTaiwan ArriveTaiwan\n",
       "1  America/Chicago   Asia/Taipei     FALSE        TRUE        \n",
       "2  America/Chicago   Asia/Taipei     FALSE        TRUE        \n",
       "3  America/Chicago   Asia/Taipei     FALSE        TRUE        \n",
       "4  America/Chicago   Asia/Taipei     FALSE        TRUE        \n",
       "5  America/Chicago   Asia/Taipei     FALSE        TRUE        \n",
       "6  America/Chicago   Asia/Taipei     FALSE        TRUE        \n",
       "7  America/Chicago   Asia/Taipei     FALSE        TRUE        \n",
       "8  America/Chicago   Asia/Taipei     FALSE        TRUE        \n",
       "9  America/Chicago   Asia/Taipei     FALSE        TRUE        \n",
       "10 America/Chicago   Asia/Taipei     FALSE        TRUE        \n",
       "11 America/Chicago   Asia/Taipei     FALSE        TRUE        \n",
       "12 America/Chicago   Asia/Taipei     FALSE        TRUE        \n",
       "13 America/Chicago   Asia/Taipei     FALSE        TRUE        \n",
       "14 America/Chicago   Asia/Taipei     FALSE        TRUE        \n",
       "15 America/Chicago   Asia/Taipei     FALSE        TRUE        \n",
       "16 America/Chicago   Asia/Taipei     FALSE        TRUE        \n",
       "17 America/Chicago   Asia/Taipei     FALSE        TRUE        \n",
       "18 America/Chicago   Asia/Taipei     FALSE        TRUE        "
      ]
     },
     "metadata": {},
     "output_type": "display_data"
    }
   ],
   "source": [
    "split_flightsData[[.x]] |>\n",
    "  dplyr::mutate(\n",
    "    DepartureTime = \n",
    "      lubridate::ymd_hm(DepartureTime, tz = DepartureTimeZone[[1]])\n",
    "  )"
   ]
  },
  {
   "cell_type": "markdown",
   "metadata": {},
   "source": [
    "### dplyr::group_by\n",
    "\n",
    "So far we have ..."
   ]
  },
  {
   "cell_type": "markdown",
   "metadata": {},
   "source": [
    "- If you want going to work on every group in your split data frame, which is split based on `DepartureTimeZone`, then you can replace `split_flightsData[[.x]] ` with `flightsData |> dplyr::group_by(DepartureTimeZone) |> dplyr::mutate(...) |> dplyr::ungroup()`\n"
   ]
  },
  {
   "cell_type": "markdown",
   "metadata": {},
   "source": [
    "- If we want to `flightsData |> split(flightsData$DepartureTimeZone) ` and then work on each group separately on other dplyr procedure. Then we can use `dplyr::group_by` as\n",
    "`flightsData |> dplyr::group_by(DepartureTimeZone) |>  {continue to other dplyr procedure}`"
   ]
  },
  {
   "cell_type": "code",
   "execution_count": 27,
   "metadata": {
    "vscode": {
     "languageId": "r"
    }
   },
   "outputs": [],
   "source": [
    "flightsData |>\n",
    "    dplyr::group_by(DepartureTimeZone) |> # split and do the following on each sub data frame\n",
    "    dplyr::mutate(\n",
    "        DepartureTime = lubridate::ymd_hm(DepartureTime, tz = DepartureTimeZone[[1]]) # parse time\n",
    "    ) |>\n",
    "    dplyr::ungroup() -> # unsplit the data frame\n",
    "    flightsData2"
   ]
  },
  {
   "cell_type": "markdown",
   "metadata": {},
   "source": [
    "- end your procedure with `dplyr::ungroup()` to ungroup the data frame."
   ]
  },
  {
   "cell_type": "code",
   "execution_count": null,
   "metadata": {
    "vscode": {
     "languageId": "r"
    }
   },
   "outputs": [],
   "source": [
    "dplyr::glimpse(flightsData2)"
   ]
  },
  {
   "cell_type": "markdown",
   "metadata": {},
   "source": [
    "jupyter nbconvert --to markdown lecture-notes/week10.ipynb\n"
   ]
  }
 ],
 "metadata": {
  "kernelspec": {
   "display_name": "R",
   "language": "R",
   "name": "ir"
  },
  "language_info": {
   "codemirror_mode": "r",
   "file_extension": ".r",
   "mimetype": "text/x-r-source",
   "name": "R",
   "pygments_lexer": "r",
   "version": "4.2.2"
  }
 },
 "nbformat": 4,
 "nbformat_minor": 2
}
