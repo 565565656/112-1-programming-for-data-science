{
 "cells": [
  {
   "cell_type": "code",
   "execution_count": null,
   "metadata": {
    "vscode": {
     "languageId": "r"
    }
   },
   "outputs": [],
   "source": [
    "# To ensure Chinese characters are displayed correctly\n",
    "options(encoding = \"UTF-8\")\n",
    "Sys.setlocale(\"LC_CTYPE\", \"zh_TW.UTF-8\")"
   ]
  },
  {
   "cell_type": "markdown",
   "metadata": {},
   "source": [
    "# Date/Time\n",
    "\n",
    "- [textbook 4.2.3](https://tpemartin.github.io/NTPU-R-for-Data-Science-EN/operations-on-atomic-vectors.html#datetime)"
   ]
  },
  {
   "cell_type": "markdown",
   "metadata": {},
   "source": [
    "Download flightsData_week8.rds"
   ]
  },
  {
   "cell_type": "code",
   "execution_count": null,
   "metadata": {
    "vscode": {
     "languageId": "r"
    }
   },
   "outputs": [],
   "source": [
    "flightsData <- readRDS(\"data/flightsData_week8.rds\")"
   ]
  },
  {
   "cell_type": "code",
   "execution_count": null,
   "metadata": {
    "vscode": {
     "languageId": "r"
    }
   },
   "outputs": [],
   "source": [
    "dplyr::glimpse(flightsData)"
   ]
  },
  {
   "cell_type": "markdown",
   "metadata": {},
   "source": [
    "- DepartureTime/ArrivalTime: Some of them has date change \"+1\" at the end.   \n",
    "- To parse **Time**, we need date/time/timzone. \n",
    "  - date, time: paste date and time together to fit into `lubridate::ymd_hm` format. \n",
    "  - Be careful some date need to plus 1 day to fit into the Departure/Arrival Airport's local time expression\n",
    "\n",
    "Take `DepartureTime` as an example. We need to\n",
    "\n",
    "1. Find out which `ScheduleStartDate` needs to plus one day, and plus one day on those `ScheduleStartDate`.\n",
    "2. Paste `ScheduleStartDate` and `DepartureTime` together. \n",
    "3. Parse the string into `Data/Time` class with time zone specification"
   ]
  },
  {
   "cell_type": "code",
   "execution_count": null,
   "metadata": {
    "vscode": {
     "languageId": "r"
    }
   },
   "outputs": [],
   "source": [
    "# 1. which ScheduleStartDate need plus 1\n",
    "## Find out which DepartureTime has +1 at the end\n",
    "whichNeedPlus1 <- grep(pattern = \"+1\", flightsData$DepartureTime, fixed = TRUE)\n",
    "\n",
    "whichNeedPlus1"
   ]
  },
  {
   "cell_type": "markdown",
   "metadata": {},
   "source": [
    "- `fixed=TRUE` means the pattern is fixed as the string specified, i.e. \"+1\" is a fixed pattern no other possible interpretation. This option must always be there until you learn Regular Expression (which will no be taught at this level course)."
   ]
  },
  {
   "cell_type": "code",
   "execution_count": null,
   "metadata": {
    "vscode": {
     "languageId": "r"
    }
   },
   "outputs": [],
   "source": [
    "## Add one day to those ScheduleStartDate\n",
    "\n",
    "### teach R understand date so it can do plus one day later\n",
    "flightsData$ScheduleStartDate <- lubridate::ymd(flightsData$ScheduleStartDate)"
   ]
  },
  {
   "cell_type": "code",
   "execution_count": null,
   "metadata": {
    "vscode": {
     "languageId": "r"
    }
   },
   "outputs": [],
   "source": [
    "departureDate <- flightsData$ScheduleStartDate\n",
    "departureDate[whichNeedPlus1] <- departureDate[whichNeedPlus1] + lubridate::days(1)"
   ]
  },
  {
   "cell_type": "code",
   "execution_count": null,
   "metadata": {
    "vscode": {
     "languageId": "r"
    }
   },
   "outputs": [],
   "source": [
    "# 2. paste date time together\n",
    "departureTimeString <- flightsData$DepartureTime\n",
    "# remove \"+1\" at the end\n",
    "departureTimeString <- flightsData$DepartureTime\n",
    "departureTimeString <- sub(\"+1\", \"\", departureTimeString, fixed = T)\n",
    "\n",
    "departureTime <- paste(departureDate, departureTimeString)\n",
    "\n",
    "head(departureTime)\n"
   ]
  },
  {
   "cell_type": "code",
   "execution_count": null,
   "metadata": {
    "vscode": {
     "languageId": "r"
    }
   },
   "outputs": [],
   "source": [
    "flightsData$DepartureTime <- departureTime # replace the old DepartureTime inside the data frame"
   ]
  },
  {
   "cell_type": "markdown",
   "metadata": {},
   "source": []
  },
  {
   "cell_type": "code",
   "execution_count": null,
   "metadata": {
    "vscode": {
     "languageId": "r"
    }
   },
   "outputs": [],
   "source": [
    "names(flightsData)\n"
   ]
  },
  {
   "cell_type": "markdown",
   "metadata": {},
   "source": [
    "# Data summary\n",
    "\n",
    "## Departure Date/Time"
   ]
  },
  {
   "cell_type": "code",
   "execution_count": null,
   "metadata": {
    "vscode": {
     "languageId": "r"
    }
   },
   "outputs": [],
   "source": [
    "flightsData2$ArriveTaiwan"
   ]
  },
  {
   "cell_type": "code",
   "execution_count": null,
   "metadata": {
    "vscode": {
     "languageId": "r"
    }
   },
   "outputs": [],
   "source": [
    "### Range\n",
    "\n",
    "flightsData2$DepartureTime |> range() |> lubridate::with_tz(\"Asia/Taipei\")\n",
    "\n",
    "### ScheduleStartDate \n",
    "flightsData2 |> split(flightsData2$ArriveTaiwan) -> split_flightsData2\n",
    "\n",
    "#### Departure from Taiwan\n",
    "flightsData2 |>\n",
    "  dplyr::filter(\n",
    "    DepartTaiwan \n",
    "  ) -> DepartFlights\n",
    "\n",
    "DepartFlights$ScheduleStartDate |> table() |> sort(d=T) |> head()\n",
    "\n",
    "\n"
   ]
  },
  {
   "cell_type": "markdown",
   "metadata": {},
   "source": [
    "# Exercise\n",
    "\n",
    "Do the same procedure on `ArrivalTime`."
   ]
  }
 ],
 "metadata": {
  "kernelspec": {
   "display_name": "R",
   "language": "R",
   "name": "ir"
  },
  "language_info": {
   "codemirror_mode": "r",
   "file_extension": ".r",
   "mimetype": "text/x-r-source",
   "name": "R",
   "pygments_lexer": "r",
   "version": "4.2.2"
  }
 },
 "nbformat": 4,
 "nbformat_minor": 2
}
