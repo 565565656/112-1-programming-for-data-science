{
 "cells": [
  {
   "cell_type": "code",
   "execution_count": 20,
   "metadata": {
    "vscode": {
     "languageId": "r"
    }
   },
   "outputs": [
    {
     "data": {
      "text/html": [
       "'zh_TW.UTF-8'"
      ],
      "text/latex": [
       "'zh\\_TW.UTF-8'"
      ],
      "text/markdown": [
       "'zh_TW.UTF-8'"
      ],
      "text/plain": [
       "[1] \"zh_TW.UTF-8\""
      ]
     },
     "metadata": {},
     "output_type": "display_data"
    }
   ],
   "source": [
    "# To ensure Chinese characters are displayed correctly\n",
    "options(encoding = \"UTF-8\")\n",
    "Sys.setlocale(\"LC_CTYPE\", \"zh_TW.UTF-8\")"
   ]
  },
  {
   "cell_type": "markdown",
   "metadata": {},
   "source": [
    "# Date/Time\n",
    "\n",
    "- [textbook 4.2.3](https://tpemartin.github.io/NTPU-R-for-Data-Science-EN/operations-on-atomic-vectors.html#datetime)"
   ]
  },
  {
   "cell_type": "markdown",
   "metadata": {},
   "source": [
    "Download flightsData_week8.rds"
   ]
  },
  {
   "cell_type": "code",
   "execution_count": 2,
   "metadata": {
    "vscode": {
     "languageId": "r"
    }
   },
   "outputs": [],
   "source": [
    "flightsData <- readRDS(\"data/flightsData_week8.rds\")"
   ]
  },
  {
   "cell_type": "code",
   "execution_count": 3,
   "metadata": {
    "vscode": {
     "languageId": "r"
    }
   },
   "outputs": [
    {
     "name": "stdout",
     "output_type": "stream",
     "text": [
      "Rows: 4,941\n",
      "Columns: 24\n",
      "$ AirlineID          \u001b[3m\u001b[90m<fct>\u001b[39m\u001b[23m 3U, 3U, 3U, 3U, 3U, 3U, 3U, 3U, 3U, 3U, 3U, 3U, 5J,~\n",
      "$ ScheduleStartDate  \u001b[3m\u001b[90m<chr>\u001b[39m\u001b[23m \"2023-10-13\", \"2023-10-20\", \"2023-10-27\", \"2023-10-~\n",
      "$ ScheduleEndDate    \u001b[3m\u001b[90m<chr>\u001b[39m\u001b[23m \"2023-10-15\", \"2023-10-22\", \"2023-10-27\", \"2023-10-~\n",
      "$ FlightNumber       \u001b[3m\u001b[90m<chr>\u001b[39m\u001b[23m \"3U3783\", \"3U3783\", \"3U3783\", \"3U3784\", \"3U3784\", \"~\n",
      "$ DepartureAirportID \u001b[3m\u001b[90m<chr>\u001b[39m\u001b[23m \"CKG\", \"CKG\", \"CKG\", \"TSA\", \"TSA\", \"TSA\", \"TFU\", \"T~\n",
      "$ DepartureTime      \u001b[3m\u001b[90m<chr>\u001b[39m\u001b[23m \"15:00\", \"15:00\", \"15:00\", \"19:00\", \"19:00\", \"19:00~\n",
      "$ CodeShare          \u001b[3m\u001b[90m<list>\u001b[39m\u001b[23m [<data.frame[0 x 0]>], [<data.frame[0 x 0]>], [<da~\n",
      "$ ArrivalAirportID   \u001b[3m\u001b[90m<chr>\u001b[39m\u001b[23m \"TSA\", \"TSA\", \"TSA\", \"CKG\", \"CKG\", \"CKG\", \"TSA\", \"T~\n",
      "$ ArrivalTime        \u001b[3m\u001b[90m<chr>\u001b[39m\u001b[23m \"18:00\", \"18:00\", \"18:00\", \"22:15\", \"22:15\", \"22:15~\n",
      "$ Monday             \u001b[3m\u001b[90m<lgl>\u001b[39m\u001b[23m FALSE, FALSE, FALSE, FALSE, FALSE, FALSE, TRUE, TRU~\n",
      "$ Tuesday            \u001b[3m\u001b[90m<lgl>\u001b[39m\u001b[23m FALSE, FALSE, FALSE, FALSE, FALSE, FALSE, FALSE, FA~\n",
      "$ Wednesday          \u001b[3m\u001b[90m<lgl>\u001b[39m\u001b[23m FALSE, FALSE, FALSE, FALSE, FALSE, FALSE, TRUE, TRU~\n",
      "$ Thursday           \u001b[3m\u001b[90m<lgl>\u001b[39m\u001b[23m FALSE, FALSE, FALSE, FALSE, FALSE, FALSE, FALSE, FA~\n",
      "$ Friday             \u001b[3m\u001b[90m<lgl>\u001b[39m\u001b[23m TRUE, TRUE, TRUE, TRUE, TRUE, TRUE, TRUE, TRUE, TRU~\n",
      "$ Saturday           \u001b[3m\u001b[90m<lgl>\u001b[39m\u001b[23m FALSE, FALSE, FALSE, FALSE, FALSE, FALSE, FALSE, FA~\n",
      "$ Sunday             \u001b[3m\u001b[90m<lgl>\u001b[39m\u001b[23m TRUE, TRUE, FALSE, TRUE, TRUE, FALSE, TRUE, TRUE, F~\n",
      "$ UpdateTime         \u001b[3m\u001b[90m<chr>\u001b[39m\u001b[23m \"2023-10-10T08:26:07+08:00\", \"2023-10-10T08:26:07+0~\n",
      "$ VersionID          \u001b[3m\u001b[90m<int>\u001b[39m\u001b[23m 1111, 1111, 1111, 1111, 1111, 1111, 1111, 1111, 111~\n",
      "$ Terminal           \u001b[3m\u001b[90m<chr>\u001b[39m\u001b[23m NA, NA, NA, NA, NA, NA, NA, NA, NA, NA, NA, NA, \"1\"~\n",
      "$ num_codeShare      \u001b[3m\u001b[90m<int>\u001b[39m\u001b[23m 0, 0, 0, 0, 0, 0, 0, 0, 0, 0, 0, 0, 0, 0, 0, 0, 0, ~\n",
      "$ DepartureTimeZone  \u001b[3m\u001b[90m<chr>\u001b[39m\u001b[23m \"Asia/Shanghai\", \"Asia/Shanghai\", \"Asia/Shanghai\", ~\n",
      "$ ArrivalTimeZone    \u001b[3m\u001b[90m<chr>\u001b[39m\u001b[23m \"Asia/Taipei\", \"Asia/Taipei\", \"Asia/Taipei\", \"Asia/~\n",
      "$ DepartTaiwan       \u001b[3m\u001b[90m<lgl>\u001b[39m\u001b[23m FALSE, FALSE, FALSE, TRUE, TRUE, TRUE, FALSE, FALSE~\n",
      "$ ArriveTaiwan       \u001b[3m\u001b[90m<lgl>\u001b[39m\u001b[23m TRUE, TRUE, TRUE, FALSE, FALSE, FALSE, TRUE, TRUE, ~\n"
     ]
    }
   ],
   "source": [
    "dplyr::glimpse(flightsData)"
   ]
  },
  {
   "cell_type": "markdown",
   "metadata": {},
   "source": [
    "- DepartureTime/ArrivalTime: Some of them has date change \"+1\" at the end.   \n",
    "- To parse **Time**, we need date/time/timzone. \n",
    "  - date, time: paste date and time together to fit into `lubridate::ymd_hm` format. \n",
    "  - Be careful some date need to plus 1 day to fit into the Departure/Arrival Airport's local time expression\n",
    "\n",
    "Take `DepartureTime` as an example. We need to\n",
    "\n",
    "1. Find out which `ScheduleStartDate` needs to plus one day, and plus one day on those `ScheduleStartDate`.\n",
    "2. Paste `ScheduleStartDate` and `DepartureTime` together. \n",
    "3. Parse the string into `Data/Time` class with time zone specification"
   ]
  },
  {
   "cell_type": "code",
   "execution_count": 4,
   "metadata": {
    "vscode": {
     "languageId": "r"
    }
   },
   "outputs": [
    {
     "data": {
      "text/html": [
       "<style>\n",
       ".list-inline {list-style: none; margin:0; padding: 0}\n",
       ".list-inline>li {display: inline-block}\n",
       ".list-inline>li:not(:last-child)::after {content: \"\\00b7\"; padding: 0 .5ex}\n",
       "</style>\n",
       "<ol class=list-inline><li>475</li><li>476</li><li>477</li><li>478</li><li>479</li><li>480</li><li>492</li><li>493</li><li>494</li><li>516</li><li>517</li><li>518</li><li>3346</li><li>3347</li><li>3348</li></ol>\n"
      ],
      "text/latex": [
       "\\begin{enumerate*}\n",
       "\\item 475\n",
       "\\item 476\n",
       "\\item 477\n",
       "\\item 478\n",
       "\\item 479\n",
       "\\item 480\n",
       "\\item 492\n",
       "\\item 493\n",
       "\\item 494\n",
       "\\item 516\n",
       "\\item 517\n",
       "\\item 518\n",
       "\\item 3346\n",
       "\\item 3347\n",
       "\\item 3348\n",
       "\\end{enumerate*}\n"
      ],
      "text/markdown": [
       "1. 475\n",
       "2. 476\n",
       "3. 477\n",
       "4. 478\n",
       "5. 479\n",
       "6. 480\n",
       "7. 492\n",
       "8. 493\n",
       "9. 494\n",
       "10. 516\n",
       "11. 517\n",
       "12. 518\n",
       "13. 3346\n",
       "14. 3347\n",
       "15. 3348\n",
       "\n",
       "\n"
      ],
      "text/plain": [
       " [1]  475  476  477  478  479  480  492  493  494  516  517  518 3346 3347 3348"
      ]
     },
     "metadata": {},
     "output_type": "display_data"
    }
   ],
   "source": [
    "# 1. which ScheduleStartDate need plus 1\n",
    "## Find out which DepartureTime has +1 at the end\n",
    "whichNeedPlus1 <- grep(pattern = \"+1\", flightsData$DepartureTime, fixed = TRUE)\n",
    "\n",
    "whichNeedPlus1"
   ]
  },
  {
   "cell_type": "markdown",
   "metadata": {},
   "source": [
    "- `fixed=TRUE` means the pattern is fixed as the string specified, i.e. \"+1\" is a fixed pattern no other possible interpretation. This option must always be there until you learn Regular Expression (which will no be taught at this level course)."
   ]
  },
  {
   "cell_type": "code",
   "execution_count": 5,
   "metadata": {
    "vscode": {
     "languageId": "r"
    }
   },
   "outputs": [],
   "source": [
    "## Add one day to those ScheduleStartDate\n",
    "\n",
    "### teach R understand date so it can do plus one day later\n",
    "flightsData$ScheduleStartDate <- lubridate::ymd(flightsData$ScheduleStartDate)"
   ]
  },
  {
   "cell_type": "code",
   "execution_count": 6,
   "metadata": {
    "vscode": {
     "languageId": "r"
    }
   },
   "outputs": [],
   "source": [
    "departureDate <- flightsData$ScheduleStartDate\n",
    "departureDate[whichNeedPlus1] <- departureDate[whichNeedPlus1] + lubridate::days(1)"
   ]
  },
  {
   "cell_type": "code",
   "execution_count": 7,
   "metadata": {
    "vscode": {
     "languageId": "r"
    }
   },
   "outputs": [
    {
     "data": {
      "text/html": [
       "<style>\n",
       ".list-inline {list-style: none; margin:0; padding: 0}\n",
       ".list-inline>li {display: inline-block}\n",
       ".list-inline>li:not(:last-child)::after {content: \"\\00b7\"; padding: 0 .5ex}\n",
       "</style>\n",
       "<ol class=list-inline><li>'2023-10-13 15:00'</li><li>'2023-10-20 15:00'</li><li>'2023-10-27 15:00'</li><li>'2023-10-13 19:00'</li><li>'2023-10-20 19:00'</li><li>'2023-10-27 19:00'</li></ol>\n"
      ],
      "text/latex": [
       "\\begin{enumerate*}\n",
       "\\item '2023-10-13 15:00'\n",
       "\\item '2023-10-20 15:00'\n",
       "\\item '2023-10-27 15:00'\n",
       "\\item '2023-10-13 19:00'\n",
       "\\item '2023-10-20 19:00'\n",
       "\\item '2023-10-27 19:00'\n",
       "\\end{enumerate*}\n"
      ],
      "text/markdown": [
       "1. '2023-10-13 15:00'\n",
       "2. '2023-10-20 15:00'\n",
       "3. '2023-10-27 15:00'\n",
       "4. '2023-10-13 19:00'\n",
       "5. '2023-10-20 19:00'\n",
       "6. '2023-10-27 19:00'\n",
       "\n",
       "\n"
      ],
      "text/plain": [
       "[1] \"2023-10-13 15:00\" \"2023-10-20 15:00\" \"2023-10-27 15:00\" \"2023-10-13 19:00\"\n",
       "[5] \"2023-10-20 19:00\" \"2023-10-27 19:00\""
      ]
     },
     "metadata": {},
     "output_type": "display_data"
    }
   ],
   "source": [
    "# 2. paste date time together\n",
    "departureTimeString <- flightsData$DepartureTime\n",
    "# remove \"+1\" at the end\n",
    "departureTimeString <- flightsData$DepartureTime\n",
    "departureTimeString <- sub(\"+1\", \"\", departureTimeString, fixed = T)\n",
    "\n",
    "departureTime <- paste(departureDate, departureTimeString)\n",
    "\n",
    "head(departureTime)\n"
   ]
  },
  {
   "cell_type": "code",
   "execution_count": 8,
   "metadata": {
    "vscode": {
     "languageId": "r"
    }
   },
   "outputs": [],
   "source": [
    "flightsData$DepartureTime <- departureTime # replace the old DepartureTime inside the data frame"
   ]
  },
  {
   "cell_type": "markdown",
   "metadata": {},
   "source": []
  },
  {
   "cell_type": "code",
   "execution_count": 19,
   "metadata": {
    "vscode": {
     "languageId": "r"
    }
   },
   "outputs": [
    {
     "data": {
      "text/html": [
       "<style>\n",
       ".list-inline {list-style: none; margin:0; padding: 0}\n",
       ".list-inline>li {display: inline-block}\n",
       ".list-inline>li:not(:last-child)::after {content: \"\\00b7\"; padding: 0 .5ex}\n",
       "</style>\n",
       "<ol class=list-inline><li>'AirlineID'</li><li>'ScheduleStartDate'</li><li>'ScheduleEndDate'</li><li>'FlightNumber'</li><li>'DepartureAirportID'</li><li>'DepartureTime'</li><li>'CodeShare'</li><li>'ArrivalAirportID'</li><li>'ArrivalTime'</li><li>'Monday'</li><li>'Tuesday'</li><li>'Wednesday'</li><li>'Thursday'</li><li>'Friday'</li><li>'Saturday'</li><li>'Sunday'</li><li>'UpdateTime'</li><li>'VersionID'</li><li>'Terminal'</li><li>'num_codeShare'</li><li>'DepartureTimeZone'</li><li>'ArrivalTimeZone'</li><li>'DepartTaiwan'</li><li>'ArriveTaiwan'</li></ol>\n"
      ],
      "text/latex": [
       "\\begin{enumerate*}\n",
       "\\item 'AirlineID'\n",
       "\\item 'ScheduleStartDate'\n",
       "\\item 'ScheduleEndDate'\n",
       "\\item 'FlightNumber'\n",
       "\\item 'DepartureAirportID'\n",
       "\\item 'DepartureTime'\n",
       "\\item 'CodeShare'\n",
       "\\item 'ArrivalAirportID'\n",
       "\\item 'ArrivalTime'\n",
       "\\item 'Monday'\n",
       "\\item 'Tuesday'\n",
       "\\item 'Wednesday'\n",
       "\\item 'Thursday'\n",
       "\\item 'Friday'\n",
       "\\item 'Saturday'\n",
       "\\item 'Sunday'\n",
       "\\item 'UpdateTime'\n",
       "\\item 'VersionID'\n",
       "\\item 'Terminal'\n",
       "\\item 'num\\_codeShare'\n",
       "\\item 'DepartureTimeZone'\n",
       "\\item 'ArrivalTimeZone'\n",
       "\\item 'DepartTaiwan'\n",
       "\\item 'ArriveTaiwan'\n",
       "\\end{enumerate*}\n"
      ],
      "text/markdown": [
       "1. 'AirlineID'\n",
       "2. 'ScheduleStartDate'\n",
       "3. 'ScheduleEndDate'\n",
       "4. 'FlightNumber'\n",
       "5. 'DepartureAirportID'\n",
       "6. 'DepartureTime'\n",
       "7. 'CodeShare'\n",
       "8. 'ArrivalAirportID'\n",
       "9. 'ArrivalTime'\n",
       "10. 'Monday'\n",
       "11. 'Tuesday'\n",
       "12. 'Wednesday'\n",
       "13. 'Thursday'\n",
       "14. 'Friday'\n",
       "15. 'Saturday'\n",
       "16. 'Sunday'\n",
       "17. 'UpdateTime'\n",
       "18. 'VersionID'\n",
       "19. 'Terminal'\n",
       "20. 'num_codeShare'\n",
       "21. 'DepartureTimeZone'\n",
       "22. 'ArrivalTimeZone'\n",
       "23. 'DepartTaiwan'\n",
       "24. 'ArriveTaiwan'\n",
       "\n",
       "\n"
      ],
      "text/plain": [
       " [1] \"AirlineID\"          \"ScheduleStartDate\"  \"ScheduleEndDate\"   \n",
       " [4] \"FlightNumber\"       \"DepartureAirportID\" \"DepartureTime\"     \n",
       " [7] \"CodeShare\"          \"ArrivalAirportID\"   \"ArrivalTime\"       \n",
       "[10] \"Monday\"             \"Tuesday\"            \"Wednesday\"         \n",
       "[13] \"Thursday\"           \"Friday\"             \"Saturday\"          \n",
       "[16] \"Sunday\"             \"UpdateTime\"         \"VersionID\"         \n",
       "[19] \"Terminal\"           \"num_codeShare\"      \"DepartureTimeZone\" \n",
       "[22] \"ArrivalTimeZone\"    \"DepartTaiwan\"       \"ArriveTaiwan\"      "
      ]
     },
     "metadata": {},
     "output_type": "display_data"
    }
   ],
   "source": [
    "names(flightsData)\n"
   ]
  },
  {
   "cell_type": "markdown",
   "metadata": {},
   "source": []
  },
  {
   "cell_type": "markdown",
   "metadata": {},
   "source": [
    "# Data summary\n",
    "\n",
    "## Departure Date/Time"
   ]
  },
  {
   "cell_type": "code",
   "execution_count": null,
   "metadata": {
    "vscode": {
     "languageId": "r"
    }
   },
   "outputs": [],
   "source": [
    "flightsData2$ArriveTaiwan"
   ]
  },
  {
   "cell_type": "code",
   "execution_count": 38,
   "metadata": {
    "vscode": {
     "languageId": "r"
    }
   },
   "outputs": [
    {
     "data": {
      "text/plain": [
       "[1] \"2023-10-09 00:05:00 CST\" \"2024-01-18 14:30:00 CST\""
      ]
     },
     "metadata": {},
     "output_type": "display_data"
    },
    {
     "data": {
      "text/plain": [
       "\n",
       "2023-10-23 2023-10-16 2023-10-09 2023-10-10 2023-10-17 2023-10-24 \n",
       "       539        531        517        118        110        103 "
      ]
     },
     "metadata": {},
     "output_type": "display_data"
    }
   ],
   "source": [
    "### Range\n",
    "\n",
    "flightsData2$DepartureTime |> range() |> lubridate::with_tz(\"Asia/Taipei\")\n",
    "\n",
    "### ScheduleStartDate \n",
    "flightsData2 |> split(flightsData2$ArriveTaiwan) -> split_flightsData2\n",
    "\n",
    "#### Departure from Taiwan\n",
    "flightsData2 |>\n",
    "  dplyr::filter(\n",
    "    DepartTaiwan \n",
    "  ) -> DepartFlights\n",
    "\n",
    "DepartFlights$ScheduleStartDate |> table() |> sort(d=T) |> head()\n",
    "\n",
    "\n"
   ]
  },
  {
   "cell_type": "markdown",
   "metadata": {},
   "source": [
    "# Exercise\n",
    "\n",
    "Do the same procedure on `ArrivalTime`."
   ]
  }
 ],
 "metadata": {
  "kernelspec": {
   "display_name": "R",
   "language": "R",
   "name": "ir"
  },
  "language_info": {
   "codemirror_mode": "r",
   "file_extension": ".r",
   "mimetype": "text/x-r-source",
   "name": "R",
   "pygments_lexer": "r",
   "version": "4.2.2"
  }
 },
 "nbformat": 4,
 "nbformat_minor": 2
}
