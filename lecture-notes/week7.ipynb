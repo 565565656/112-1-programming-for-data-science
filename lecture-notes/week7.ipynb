{
 "cells": [
  {
   "cell_type": "code",
   "execution_count": 8,
   "metadata": {
    "vscode": {
     "languageId": "r"
    }
   },
   "outputs": [
    {
     "data": {
      "text/html": [
       "'zh_TW.UTF-8'"
      ],
      "text/latex": [
       "'zh\\_TW.UTF-8'"
      ],
      "text/markdown": [
       "'zh_TW.UTF-8'"
      ],
      "text/plain": [
       "[1] \"zh_TW.UTF-8\""
      ]
     },
     "metadata": {},
     "output_type": "display_data"
    }
   ],
   "source": [
    "# To ensure Chinese characters are displayed correctly\n",
    "options(encoding = \"UTF-8\")\n",
    "Sys.setlocale(\"LC_CTYPE\", \"zh_TW.UTF-8\")"
   ]
  },
  {
   "cell_type": "markdown",
   "metadata": {},
   "source": [
    "# Read progress file"
   ]
  },
  {
   "cell_type": "code",
   "execution_count": 34,
   "metadata": {
    "vscode": {
     "languageId": "r"
    }
   },
   "outputs": [],
   "source": [
    "flights = readRDS(\"data/flights.rds\")"
   ]
  },
  {
   "cell_type": "code",
   "execution_count": 3,
   "metadata": {
    "vscode": {
     "languageId": "r"
    }
   },
   "outputs": [
    {
     "name": "stdout",
     "output_type": "stream",
     "text": [
      "List of 1\n",
      " $ data:List of 1\n",
      "  ..$ :List of 4\n",
      "  .. ..$ file      : chr \"data/international_flights.json\"\n",
      "  .. ..$ meta      :List of 2\n",
      "  .. .. ..$ name       : chr \"<U+570B><U+969B><U+822A><U+7A7A><U+5B9A><U+671F><U+6642><U+523B><U+8868>\"\n",
      "  .. .. ..$ source_link: chr \"https://data.gov.tw/dataset/161167\"\n",
      "  .. ..$ data_frame:'data.frame':\t4941 obs. of  20 variables:\n",
      "  .. .. ..$ AirlineID         : Factor w/ 74 levels \"3U\",\"5J\",\"7C\",..: 1 1 1 1 1 1 1 1 1 1 ...\n",
      "  .. .. ..$ ScheduleStartDate : chr [1:4941] \"2023-10-13\" \"2023-10-20\" \"2023-10-27\" \"2023-10-13\" ...\n",
      "  .. .. ..$ ScheduleEndDate   : chr [1:4941] \"2023-10-15\" \"2023-10-22\" \"2023-10-27\" \"2023-10-15\" ...\n",
      "  .. .. ..$ FlightNumber      : chr [1:4941] \"3U3783\" \"3U3783\" \"3U3783\" \"3U3784\" ...\n",
      "  .. .. ..$ DepartureAirportID: chr [1:4941] \"CKG\" \"CKG\" \"CKG\" \"TSA\" ...\n",
      "  .. .. ..$ DepartureTime     : chr [1:4941] \"15:00\" \"15:00\" \"15:00\" \"19:00\" ...\n",
      "  .. .. ..$ CodeShare         :List of 4941\n",
      "  .. .. .. ..$ :'data.frame':\t0 obs. of  0 variables\n",
      "  .. .. .. ..$ :'data.frame':\t0 obs. of  0 variables\n",
      "  .. .. .. ..$ :'data.frame':\t0 obs. of  0 variables\n",
      "  .. .. .. ..$ :'data.frame':\t0 obs. of  0 variables\n",
      "  .. .. .. ..$ :'data.frame':\t0 obs. of  0 variables\n",
      "  .. .. .. ..$ :'data.frame':\t0 obs. of  0 variables\n",
      "  .. .. .. ..$ :'data.frame':\t0 obs. of  0 variables\n",
      "  .. .. .. ..$ :'data.frame':\t0 obs. of  0 variables\n",
      "  .. .. .. ..$ :'data.frame':\t0 obs. of  0 variables\n",
      "  .. .. .. ..$ :'data.frame':\t0 obs. of  0 variables\n",
      "  .. .. .. ..$ :'data.frame':\t0 obs. of  0 variables\n",
      "  .. .. .. ..$ :'data.frame':\t0 obs. of  0 variables\n",
      "  .. .. .. ..$ :'data.frame':\t0 obs. of  0 variables\n",
      "  .. .. .. ..$ :'data.frame':\t0 obs. of  0 variables\n",
      "  .. .. .. ..$ :'data.frame':\t0 obs. of  0 variables\n",
      "  .. .. .. ..$ :'data.frame':\t0 obs. of  0 variables\n",
      "  .. .. .. ..$ :'data.frame':\t0 obs. of  0 variables\n",
      "  .. .. .. ..$ :'data.frame':\t0 obs. of  0 variables\n",
      "  .. .. .. ..$ :'data.frame':\t0 obs. of  0 variables\n",
      "  .. .. .. ..$ :'data.frame':\t0 obs. of  0 variables\n",
      "  .. .. .. ..$ :'data.frame':\t0 obs. of  0 variables\n",
      "  .. .. .. ..$ :'data.frame':\t0 obs. of  0 variables\n",
      "  .. .. .. ..$ :'data.frame':\t0 obs. of  0 variables\n",
      "  .. .. .. ..$ :'data.frame':\t0 obs. of  0 variables\n",
      "  .. .. .. ..$ :'data.frame':\t0 obs. of  0 variables\n",
      "  .. .. .. ..$ :'data.frame':\t0 obs. of  0 variables\n",
      "  .. .. .. ..$ :'data.frame':\t0 obs. of  0 variables\n",
      "  .. .. .. ..$ :'data.frame':\t0 obs. of  0 variables\n",
      "  .. .. .. ..$ :'data.frame':\t0 obs. of  0 variables\n",
      "  .. .. .. ..$ :'data.frame':\t0 obs. of  0 variables\n",
      "  .. .. .. ..$ :'data.frame':\t0 obs. of  0 variables\n",
      "  .. .. .. ..$ :'data.frame':\t0 obs. of  0 variables\n",
      "  .. .. .. ..$ :'data.frame':\t0 obs. of  0 variables\n",
      "  .. .. .. ..$ :'data.frame':\t0 obs. of  0 variables\n",
      "  .. .. .. ..$ :'data.frame':\t0 obs. of  0 variables\n",
      "  .. .. .. ..$ :'data.frame':\t0 obs. of  0 variables\n",
      "  .. .. .. ..$ :'data.frame':\t0 obs. of  0 variables\n",
      "  .. .. .. ..$ :'data.frame':\t0 obs. of  0 variables\n",
      "  .. .. .. ..$ :'data.frame':\t0 obs. of  0 variables\n",
      "  .. .. .. ..$ :'data.frame':\t0 obs. of  0 variables\n",
      "  .. .. .. ..$ :'data.frame':\t0 obs. of  0 variables\n",
      "  .. .. .. ..$ :'data.frame':\t0 obs. of  0 variables\n",
      "  .. .. .. ..$ :'data.frame':\t0 obs. of  0 variables\n",
      "  .. .. .. ..$ :'data.frame':\t0 obs. of  0 variables\n",
      "  .. .. .. ..$ :'data.frame':\t0 obs. of  0 variables\n",
      "  .. .. .. ..$ :'data.frame':\t0 obs. of  0 variables\n",
      "  .. .. .. ..$ :'data.frame':\t0 obs. of  0 variables\n",
      "  .. .. .. ..$ :'data.frame':\t0 obs. of  0 variables\n",
      "  .. .. .. ..$ :'data.frame':\t0 obs. of  0 variables\n",
      "  .. .. .. ..$ :'data.frame':\t0 obs. of  0 variables\n",
      "  .. .. .. ..$ :'data.frame':\t0 obs. of  0 variables\n",
      "  .. .. .. ..$ :'data.frame':\t0 obs. of  0 variables\n",
      "  .. .. .. ..$ :'data.frame':\t0 obs. of  0 variables\n",
      "  .. .. .. ..$ :'data.frame':\t0 obs. of  0 variables\n",
      "  .. .. .. ..$ :'data.frame':\t0 obs. of  0 variables\n",
      "  .. .. .. ..$ :'data.frame':\t0 obs. of  0 variables\n",
      "  .. .. .. ..$ :'data.frame':\t0 obs. of  0 variables\n",
      "  .. .. .. ..$ :'data.frame':\t0 obs. of  0 variables\n",
      "  .. .. .. ..$ :'data.frame':\t0 obs. of  0 variables\n",
      "  .. .. .. ..$ :'data.frame':\t0 obs. of  0 variables\n",
      "  .. .. .. ..$ :'data.frame':\t0 obs. of  0 variables\n",
      "  .. .. .. ..$ :'data.frame':\t0 obs. of  0 variables\n",
      "  .. .. .. ..$ :'data.frame':\t0 obs. of  0 variables\n",
      "  .. .. .. ..$ :'data.frame':\t0 obs. of  0 variables\n",
      "  .. .. .. ..$ :'data.frame':\t0 obs. of  0 variables\n",
      "  .. .. .. ..$ :'data.frame':\t0 obs. of  0 variables\n",
      "  .. .. .. ..$ :'data.frame':\t0 obs. of  0 variables\n",
      "  .. .. .. ..$ :'data.frame':\t0 obs. of  0 variables\n",
      "  .. .. .. ..$ :'data.frame':\t0 obs. of  0 variables\n",
      "  .. .. .. ..$ :'data.frame':\t0 obs. of  0 variables\n",
      "  .. .. .. ..$ :'data.frame':\t0 obs. of  0 variables\n",
      "  .. .. .. ..$ :'data.frame':\t0 obs. of  0 variables\n",
      "  .. .. .. ..$ :'data.frame':\t0 obs. of  0 variables\n",
      "  .. .. .. ..$ :'data.frame':\t0 obs. of  0 variables\n",
      "  .. .. .. ..$ :'data.frame':\t0 obs. of  0 variables\n",
      "  .. .. .. ..$ :'data.frame':\t0 obs. of  0 variables\n",
      "  .. .. .. ..$ :'data.frame':\t0 obs. of  0 variables\n",
      "  .. .. .. ..$ :'data.frame':\t0 obs. of  0 variables\n",
      "  .. .. .. ..$ :'data.frame':\t0 obs. of  0 variables\n",
      "  .. .. .. ..$ :'data.frame':\t0 obs. of  0 variables\n",
      "  .. .. .. ..$ :'data.frame':\t0 obs. of  0 variables\n",
      "  .. .. .. ..$ :'data.frame':\t0 obs. of  0 variables\n",
      "  .. .. .. ..$ :'data.frame':\t0 obs. of  0 variables\n",
      "  .. .. .. ..$ :'data.frame':\t0 obs. of  0 variables\n",
      "  .. .. .. ..$ :'data.frame':\t0 obs. of  0 variables\n",
      "  .. .. .. ..$ :'data.frame':\t0 obs. of  0 variables\n",
      "  .. .. .. ..$ :'data.frame':\t0 obs. of  0 variables\n",
      "  .. .. .. ..$ :'data.frame':\t0 obs. of  0 variables\n",
      "  .. .. .. ..$ :'data.frame':\t0 obs. of  0 variables\n",
      "  .. .. .. ..$ :'data.frame':\t0 obs. of  0 variables\n",
      "  .. .. .. ..$ :'data.frame':\t0 obs. of  0 variables\n",
      "  .. .. .. ..$ :'data.frame':\t0 obs. of  0 variables\n",
      "  .. .. .. ..$ :'data.frame':\t0 obs. of  0 variables\n",
      "  .. .. .. ..$ :'data.frame':\t0 obs. of  0 variables\n",
      "  .. .. .. ..$ :'data.frame':\t0 obs. of  0 variables\n",
      "  .. .. .. ..$ :'data.frame':\t0 obs. of  0 variables\n",
      "  .. .. .. ..$ :'data.frame':\t0 obs. of  0 variables\n",
      "  .. .. .. ..$ :'data.frame':\t0 obs. of  0 variables\n",
      "  .. .. .. ..$ :'data.frame':\t0 obs. of  0 variables\n",
      "  .. .. .. .. [list output truncated]\n",
      "  .. .. ..$ ArrivalAirportID  : chr [1:4941] \"TSA\" \"TSA\" \"TSA\" \"CKG\" ...\n",
      "  .. .. ..$ ArrivalTime       : chr [1:4941] \"18:00\" \"18:00\" \"18:00\" \"22:15\" ...\n",
      "  .. .. ..$ Monday            : logi [1:4941] FALSE FALSE FALSE FALSE FALSE FALSE ...\n",
      "  .. .. ..$ Tuesday           : logi [1:4941] FALSE FALSE FALSE FALSE FALSE FALSE ...\n",
      "  .. .. ..$ Wednesday         : logi [1:4941] FALSE FALSE FALSE FALSE FALSE FALSE ...\n",
      "  .. .. ..$ Thursday          : logi [1:4941] FALSE FALSE FALSE FALSE FALSE FALSE ...\n",
      "  .. .. ..$ Friday            : logi [1:4941] TRUE TRUE TRUE TRUE TRUE TRUE ...\n",
      "  .. .. ..$ Saturday          : logi [1:4941] FALSE FALSE FALSE FALSE FALSE FALSE ...\n",
      "  .. .. ..$ Sunday            : logi [1:4941] TRUE TRUE FALSE TRUE TRUE FALSE ...\n",
      "  .. .. ..$ UpdateTime        : chr [1:4941] \"2023-10-10T08:26:07+08:00\" \"2023-10-10T08:26:07+08:00\" \"2023-10-10T08:26:07+08:00\" \"2023-10-10T08:26:07+08:00\" ...\n",
      "  .. .. ..$ VersionID         : int [1:4941] 1111 1111 1111 1111 1111 1111 1111 1111 1111 1111 ...\n",
      "  .. .. ..$ Terminal          : chr [1:4941] NA NA NA NA ...\n",
      "  .. .. ..$ num_codeShare     : int [1:4941] 0 0 0 0 0 0 0 0 0 0 ...\n",
      "  .. ..$ analysis  :List of 1\n",
      "  .. .. ..$ airlineID:List of 1\n",
      "  .. .. .. ..$ frequency_count: 'table' int [1:74(1d)] 801 730 304 277 220 143 116 112 111 101 ...\n",
      "  .. .. .. .. ..- attr(*, \"dimnames\")=List of 1\n",
      "  .. .. .. .. .. ..$ : chr [1:74] \"CI\" \"BR\" \"JX\" \"IT\" ...\n"
     ]
    }
   ],
   "source": [
    "str(flights)"
   ]
  },
  {
   "cell_type": "code",
   "execution_count": 14,
   "metadata": {
    "vscode": {
     "languageId": "r"
    }
   },
   "outputs": [
    {
     "data": {
      "text/html": [
       "'國際航空定期時刻表'"
      ],
      "text/latex": [
       "'國際航空定期時刻表'"
      ],
      "text/markdown": [
       "'國際航空定期時刻表'"
      ],
      "text/plain": [
       "[1] \"國際航空定期時刻表\""
      ]
     },
     "metadata": {},
     "output_type": "display_data"
    }
   ],
   "source": [
    "flights$data[[1]]$meta$name"
   ]
  },
  {
   "cell_type": "code",
   "execution_count": 4,
   "metadata": {
    "vscode": {
     "languageId": "r"
    }
   },
   "outputs": [],
   "source": [
    "flightsData <- flights$data[[1]]$data_frame"
   ]
  },
  {
   "cell_type": "code",
   "execution_count": null,
   "metadata": {
    "vscode": {
     "languageId": "r"
    }
   },
   "outputs": [],
   "source": [
    "flightsData$AirlineID"
   ]
  },
  {
   "cell_type": "markdown",
   "metadata": {},
   "source": [
    "# Preliminary data observations\n",
    "\n",
    "We need to describe variables in `flightsData` that we want to use in our analysis. \n",
    "\n",
    "## AirlineID\n",
    "\n",
    "- factor data type\n",
    "  - describe levels\n",
    "  - table"
   ]
  },
  {
   "cell_type": "code",
   "execution_count": 11,
   "metadata": {
    "vscode": {
     "languageId": "r"
    }
   },
   "outputs": [
    {
     "data": {
      "text/html": [
       "74"
      ],
      "text/latex": [
       "74"
      ],
      "text/markdown": [
       "74"
      ],
      "text/plain": [
       "[1] 74"
      ]
     },
     "metadata": {},
     "output_type": "display_data"
    },
    {
     "data": {
      "text/plain": [
       "\n",
       " CI  BR  JX  IT  TG  SQ  NH  CA  NZ  JL \n",
       "801 730 304 277 220 143 116 112 111 101 "
      ]
     },
     "metadata": {},
     "output_type": "display_data"
    }
   ],
   "source": [
    "levels(flightsData$AirlineID) |> length()\n",
    "\n"
   ]
  },
  {
   "cell_type": "markdown",
   "metadata": {},
   "source": [
    "There are 74 different airlines.\n",
    "The top 10 operators are:\n"
   ]
  },
  {
   "cell_type": "code",
   "execution_count": 12,
   "metadata": {
    "vscode": {
     "languageId": "r"
    }
   },
   "outputs": [
    {
     "data": {
      "text/plain": [
       "\n",
       " CI  BR  JX  IT  TG  SQ  NH  CA  NZ  JL \n",
       "801 730 304 277 220 143 116 112 111 101 "
      ]
     },
     "metadata": {},
     "output_type": "display_data"
    }
   ],
   "source": [
    "table(flightsData$AirlineID) |> sort(decreasing = TRUE) |> head(10)"
   ]
  },
  {
   "cell_type": "markdown",
   "metadata": {},
   "source": [
    " `|>` pipe operator\n",
    "\n",
    "`a |> fun()` is the same as `fun(a)`\n",
    "`a |> fun(b)` is the same as `fun(a, b)`\n",
    "\n",
    "- pipe operator is only for the first argument of a function"
   ]
  },
  {
   "cell_type": "markdown",
   "metadata": {},
   "source": [
    "What are those airline names? "
   ]
  },
  {
   "cell_type": "code",
   "execution_count": 16,
   "metadata": {
    "vscode": {
     "languageId": "r"
    }
   },
   "outputs": [],
   "source": [
    "\n",
    "data2 <- list(\n",
    "  meta = list(\n",
    "    name=\"航空公司統一代碼\n",
    "\",\n",
    "    source_link =\"https://data.gov.tw/dataset/8088\"\n",
    "  ),\n",
    "  file = \"data/airlines.json\"\n",
    ")\n",
    "\n",
    "flights$data[[2]] <- data2\n",
    "\n",
    "airlines <-\n",
    "  jsonlite::fromJSON(\n",
    "    flights$data[[2]]$file\n",
    "  )\n",
    "\n",
    "flights$data[[2]]$data_frame <- airlines\n",
    "\n",
    "saveRDS(flights, file=\"flights.rds\")"
   ]
  },
  {
   "cell_type": "code",
   "execution_count": 15,
   "metadata": {
    "vscode": {
     "languageId": "r"
    }
   },
   "outputs": [
    {
     "name": "stdout",
     "output_type": "stream",
     "text": [
      "Rows: 850\n",
      "Columns: 2\n",
      "$ AirlineName \u001b[3m\u001b[90m<chr>\u001b[39m\u001b[23m \"Executive Aviation Taiwan Corp.\", \"GREAT  WING  AIRLINES\"~\n",
      "$ AirlineID   \u001b[3m\u001b[90m<chr>\u001b[39m\u001b[23m NA, NA, NA, NA, \"00\", \"02\", \"0B\", \"0D\", \"0V\", \"1B\", \"1L\", ~\n"
     ]
    }
   ],
   "source": [
    "dplyr::glimpse(airlines)"
   ]
  },
  {
   "cell_type": "markdown",
   "metadata": {},
   "source": [
    "# Join two data frames\n",
    "\n",
    "We can `airlines` data into `flightsData` using `AirlineID` variable. We can use `dplyr::left_join` function to do that. \n"
   ]
  },
  {
   "cell_type": "code",
   "execution_count": 18,
   "metadata": {
    "vscode": {
     "languageId": "r"
    }
   },
   "outputs": [
    {
     "data": {
      "text/html": [
       "<table class=\"dataframe\">\n",
       "<caption>A data.frame: 5 × 3</caption>\n",
       "<thead>\n",
       "\t<tr><th scope=col>id</th><th scope=col>name</th><th scope=col>score</th></tr>\n",
       "\t<tr><th scope=col>&lt;dbl&gt;</th><th scope=col>&lt;chr&gt;</th><th scope=col>&lt;dbl&gt;</th></tr>\n",
       "</thead>\n",
       "<tbody>\n",
       "\t<tr><td>1</td><td>A</td><td>90</td></tr>\n",
       "\t<tr><td>2</td><td>B</td><td>80</td></tr>\n",
       "\t<tr><td>3</td><td>C</td><td>70</td></tr>\n",
       "\t<tr><td>4</td><td>D</td><td>60</td></tr>\n",
       "\t<tr><td>5</td><td>E</td><td>50</td></tr>\n",
       "</tbody>\n",
       "</table>\n"
      ],
      "text/latex": [
       "A data.frame: 5 × 3\n",
       "\\begin{tabular}{lll}\n",
       " id & name & score\\\\\n",
       " <dbl> & <chr> & <dbl>\\\\\n",
       "\\hline\n",
       "\t 1 & A & 90\\\\\n",
       "\t 2 & B & 80\\\\\n",
       "\t 3 & C & 70\\\\\n",
       "\t 4 & D & 60\\\\\n",
       "\t 5 & E & 50\\\\\n",
       "\\end{tabular}\n"
      ],
      "text/markdown": [
       "\n",
       "A data.frame: 5 × 3\n",
       "\n",
       "| id &lt;dbl&gt; | name &lt;chr&gt; | score &lt;dbl&gt; |\n",
       "|---|---|---|\n",
       "| 1 | A | 90 |\n",
       "| 2 | B | 80 |\n",
       "| 3 | C | 70 |\n",
       "| 4 | D | 60 |\n",
       "| 5 | E | 50 |\n",
       "\n"
      ],
      "text/plain": [
       "  id name score\n",
       "1 1  A    90   \n",
       "2 2  B    80   \n",
       "3 3  C    70   \n",
       "4 4  D    60   \n",
       "5 5  E    50   "
      ]
     },
     "metadata": {},
     "output_type": "display_data"
    },
    {
     "data": {
      "text/html": [
       "<table class=\"dataframe\">\n",
       "<caption>A data.frame: 5 × 3</caption>\n",
       "<thead>\n",
       "\t<tr><th scope=col>id</th><th scope=col>name</th><th scope=col>score</th></tr>\n",
       "\t<tr><th scope=col>&lt;dbl&gt;</th><th scope=col>&lt;chr&gt;</th><th scope=col>&lt;dbl&gt;</th></tr>\n",
       "</thead>\n",
       "<tbody>\n",
       "\t<tr><td>1</td><td>A</td><td>90</td></tr>\n",
       "\t<tr><td>2</td><td>B</td><td>80</td></tr>\n",
       "\t<tr><td>3</td><td>C</td><td>70</td></tr>\n",
       "\t<tr><td>4</td><td>D</td><td>60</td></tr>\n",
       "\t<tr><td>5</td><td>E</td><td>50</td></tr>\n",
       "</tbody>\n",
       "</table>\n"
      ],
      "text/latex": [
       "A data.frame: 5 × 3\n",
       "\\begin{tabular}{lll}\n",
       " id & name & score\\\\\n",
       " <dbl> & <chr> & <dbl>\\\\\n",
       "\\hline\n",
       "\t 1 & A & 90\\\\\n",
       "\t 2 & B & 80\\\\\n",
       "\t 3 & C & 70\\\\\n",
       "\t 4 & D & 60\\\\\n",
       "\t 5 & E & 50\\\\\n",
       "\\end{tabular}\n"
      ],
      "text/markdown": [
       "\n",
       "A data.frame: 5 × 3\n",
       "\n",
       "| id &lt;dbl&gt; | name &lt;chr&gt; | score &lt;dbl&gt; |\n",
       "|---|---|---|\n",
       "| 1 | A | 90 |\n",
       "| 2 | B | 80 |\n",
       "| 3 | C | 70 |\n",
       "| 4 | D | 60 |\n",
       "| 5 | E | 50 |\n",
       "\n"
      ],
      "text/plain": [
       "  id name score\n",
       "1 1  A    90   \n",
       "2 2  B    80   \n",
       "3 3  C    70   \n",
       "4 4  D    60   \n",
       "5 5  E    50   "
      ]
     },
     "metadata": {},
     "output_type": "display_data"
    }
   ],
   "source": [
    "# dplyr::left_join example\n",
    "\n",
    "# two data frames\n",
    "df1 <- data.frame(\n",
    "  id = c(1, 2, 3, 4, 5),\n",
    "  name = c(\"A\", \"B\", \"C\", \"D\", \"E\")\n",
    ")\n",
    "\n",
    "df2 <- data.frame(\n",
    "  id = c(1, 2, 3, 4, 5, 7),\n",
    "  score = c(90, 80, 70, 60, 50, 40)\n",
    ")\n",
    "\n",
    "# join by id\n",
    "dplyr::left_join(df1, df2, by = \"id\")\n",
    "\n",
    "# join by id\n",
    "df3 <- data.frame(\n",
    "  ID = c(1, 2, 3, 4, 5, 7),\n",
    "  score = c(90, 80, 70, 60, 50, 40)\n",
    ")\n",
    "\n",
    "# join by df$id and df3$ID\n",
    "dplyr::left_join(df1, df3, by = c(\"id\" = \"ID\"))"
   ]
  },
  {
   "cell_type": "code",
   "execution_count": 19,
   "metadata": {
    "vscode": {
     "languageId": "r"
    }
   },
   "outputs": [],
   "source": [
    "dplyr::left_join(\n",
    "  flightsData, airlines,\n",
    "  by=\"AirlineID\"\n",
    ") -> flightsData\n",
    "\n",
    "flightsData$AirlineName <-\n",
    "  factor(\n",
    "    flightsData$AirlineName\n",
    "  )\n"
   ]
  },
  {
   "cell_type": "markdown",
   "metadata": {},
   "source": [
    "# Departure and Arrival Flights\n"
   ]
  },
  {
   "cell_type": "code",
   "execution_count": 20,
   "metadata": {
    "vscode": {
     "languageId": "r"
    }
   },
   "outputs": [
    {
     "data": {
      "text/html": [
       "<style>\n",
       ".list-inline {list-style: none; margin:0; padding: 0}\n",
       ".list-inline>li {display: inline-block}\n",
       ".list-inline>li:not(:last-child)::after {content: \"\\00b7\"; padding: 0 .5ex}\n",
       "</style>\n",
       "<ol class=list-inline><li>'AirlineID'</li><li>'ScheduleStartDate'</li><li>'ScheduleEndDate'</li><li>'FlightNumber'</li><li>'DepartureAirportID'</li><li>'DepartureTime'</li><li>'CodeShare'</li><li>'ArrivalAirportID'</li><li>'ArrivalTime'</li><li>'Monday'</li><li>'Tuesday'</li><li>'Wednesday'</li><li>'Thursday'</li><li>'Friday'</li><li>'Saturday'</li><li>'Sunday'</li><li>'UpdateTime'</li><li>'VersionID'</li><li>'Terminal'</li><li>'num_codeShare'</li><li>'AirlineName'</li></ol>\n"
      ],
      "text/latex": [
       "\\begin{enumerate*}\n",
       "\\item 'AirlineID'\n",
       "\\item 'ScheduleStartDate'\n",
       "\\item 'ScheduleEndDate'\n",
       "\\item 'FlightNumber'\n",
       "\\item 'DepartureAirportID'\n",
       "\\item 'DepartureTime'\n",
       "\\item 'CodeShare'\n",
       "\\item 'ArrivalAirportID'\n",
       "\\item 'ArrivalTime'\n",
       "\\item 'Monday'\n",
       "\\item 'Tuesday'\n",
       "\\item 'Wednesday'\n",
       "\\item 'Thursday'\n",
       "\\item 'Friday'\n",
       "\\item 'Saturday'\n",
       "\\item 'Sunday'\n",
       "\\item 'UpdateTime'\n",
       "\\item 'VersionID'\n",
       "\\item 'Terminal'\n",
       "\\item 'num\\_codeShare'\n",
       "\\item 'AirlineName'\n",
       "\\end{enumerate*}\n"
      ],
      "text/markdown": [
       "1. 'AirlineID'\n",
       "2. 'ScheduleStartDate'\n",
       "3. 'ScheduleEndDate'\n",
       "4. 'FlightNumber'\n",
       "5. 'DepartureAirportID'\n",
       "6. 'DepartureTime'\n",
       "7. 'CodeShare'\n",
       "8. 'ArrivalAirportID'\n",
       "9. 'ArrivalTime'\n",
       "10. 'Monday'\n",
       "11. 'Tuesday'\n",
       "12. 'Wednesday'\n",
       "13. 'Thursday'\n",
       "14. 'Friday'\n",
       "15. 'Saturday'\n",
       "16. 'Sunday'\n",
       "17. 'UpdateTime'\n",
       "18. 'VersionID'\n",
       "19. 'Terminal'\n",
       "20. 'num_codeShare'\n",
       "21. 'AirlineName'\n",
       "\n",
       "\n"
      ],
      "text/plain": [
       " [1] \"AirlineID\"          \"ScheduleStartDate\"  \"ScheduleEndDate\"   \n",
       " [4] \"FlightNumber\"       \"DepartureAirportID\" \"DepartureTime\"     \n",
       " [7] \"CodeShare\"          \"ArrivalAirportID\"   \"ArrivalTime\"       \n",
       "[10] \"Monday\"             \"Tuesday\"            \"Wednesday\"         \n",
       "[13] \"Thursday\"           \"Friday\"             \"Saturday\"          \n",
       "[16] \"Sunday\"             \"UpdateTime\"         \"VersionID\"         \n",
       "[19] \"Terminal\"           \"num_codeShare\"      \"AirlineName\"       "
      ]
     },
     "metadata": {},
     "output_type": "display_data"
    }
   ],
   "source": [
    "names(flightsData)"
   ]
  },
  {
   "cell_type": "markdown",
   "metadata": {},
   "source": [
    "If DepartureAirportID belong to Taiwan airport, it is a departure flight. If ArrivalAirportID belong to Taiwan airport, it is an arrival flight."
   ]
  },
  {
   "cell_type": "markdown",
   "metadata": {},
   "source": [
    "What are Taiwan's airport IDs?"
   ]
  },
  {
   "cell_type": "code",
   "execution_count": null,
   "metadata": {
    "vscode": {
     "languageId": "r"
    }
   },
   "outputs": [],
   "source": [
    "# airportr package has a airports data frame\n",
    "install.packages(\"airportr\")"
   ]
  },
  {
   "cell_type": "code",
   "execution_count": 22,
   "metadata": {
    "vscode": {
     "languageId": "r"
    }
   },
   "outputs": [
    {
     "name": "stdout",
     "output_type": "stream",
     "text": [
      "Rows: 7,698\n",
      "Columns: 17\n",
      "$ `OpenFlights ID`         \u001b[3m\u001b[90m<dbl>\u001b[39m\u001b[23m 1, 2, 3, 4, 5, 6, 7, 8, 9, 10, 11, 12, 13, 14~\n",
      "$ Name                     \u001b[3m\u001b[90m<chr>\u001b[39m\u001b[23m \"Goroka Airport\", \"Madang Airport\", \"Mount Ha~\n",
      "$ City                     \u001b[3m\u001b[90m<chr>\u001b[39m\u001b[23m \"Goroka\", \"Madang\", \"Mount Hagen\", \"Nadzab\", ~\n",
      "$ IATA                     \u001b[3m\u001b[90m<chr>\u001b[39m\u001b[23m \"GKA\", \"MAG\", \"HGU\", \"LAE\", \"POM\", \"WWK\", \"UA~\n",
      "$ ICAO                     \u001b[3m\u001b[90m<chr>\u001b[39m\u001b[23m \"AYGA\", \"AYMD\", \"AYMH\", \"AYNZ\", \"AYPY\", \"AYWK~\n",
      "$ Country                  \u001b[3m\u001b[90m<chr>\u001b[39m\u001b[23m \"Papua New Guinea\", \"Papua New Guinea\", \"Papu~\n",
      "$ `Country Code`           \u001b[3m\u001b[90m<chr>\u001b[39m\u001b[23m \"598\", \"598\", \"598\", \"598\", \"598\", \"598\", \"30~\n",
      "$ `Country Code (Alpha-2)` \u001b[3m\u001b[90m<chr>\u001b[39m\u001b[23m \"PG\", \"PG\", \"PG\", \"PG\", \"PG\", \"PG\", \"GL\", \"GL~\n",
      "$ `Country Code (Alpha-3)` \u001b[3m\u001b[90m<chr>\u001b[39m\u001b[23m \"PNG\", \"PNG\", \"PNG\", \"PNG\", \"PNG\", \"PNG\", \"GR~\n",
      "$ Latitude                 \u001b[3m\u001b[90m<dbl>\u001b[39m\u001b[23m -6.081690, -5.207080, -5.826790, -6.569803, -~\n",
      "$ Longitude                \u001b[3m\u001b[90m<dbl>\u001b[39m\u001b[23m 145.3920, 145.7890, 144.2960, 146.7260, 147.2~\n",
      "$ Altitude                 \u001b[3m\u001b[90m<dbl>\u001b[39m\u001b[23m 5282, 20, 5388, 239, 146, 19, 112, 283, 165, ~\n",
      "$ UTC                      \u001b[3m\u001b[90m<dbl>\u001b[39m\u001b[23m 10.0, 10.0, 10.0, 10.0, 10.0, 10.0, -3.0, -3.~\n",
      "$ DST                      \u001b[3m\u001b[90m<chr>\u001b[39m\u001b[23m \"U\", \"U\", \"U\", \"U\", \"U\", \"U\", \"E\", \"E\", \"E\", ~\n",
      "$ Timezone                 \u001b[3m\u001b[90m<chr>\u001b[39m\u001b[23m \"Pacific/Port_Moresby\", \"Pacific/Port_Moresby~\n",
      "$ Type                     \u001b[3m\u001b[90m<chr>\u001b[39m\u001b[23m \"airport\", \"airport\", \"airport\", \"airport\", \"~\n",
      "$ Source                   \u001b[3m\u001b[90m<chr>\u001b[39m\u001b[23m \"OurAirports\", \"OurAirports\", \"OurAirports\", ~\n"
     ]
    }
   ],
   "source": [
    "library(airportr)\n",
    "dplyr::glimpse(airportr::airports)"
   ]
  },
  {
   "cell_type": "markdown",
   "metadata": {},
   "source": [
    "# dplyr::filter\n",
    "\n",
    "Keep those rows of data frame that satisfy a condition."
   ]
  },
  {
   "cell_type": "code",
   "execution_count": 24,
   "metadata": {
    "vscode": {
     "languageId": "r"
    }
   },
   "outputs": [
    {
     "data": {
      "text/html": [
       "<table class=\"dataframe\">\n",
       "<caption>A spec_tbl_df: 6 × 17</caption>\n",
       "<thead>\n",
       "\t<tr><th scope=col>OpenFlights ID</th><th scope=col>Name</th><th scope=col>City</th><th scope=col>IATA</th><th scope=col>ICAO</th><th scope=col>Country</th><th scope=col>Country Code</th><th scope=col>Country Code (Alpha-2)</th><th scope=col>Country Code (Alpha-3)</th><th scope=col>Latitude</th><th scope=col>Longitude</th><th scope=col>Altitude</th><th scope=col>UTC</th><th scope=col>DST</th><th scope=col>Timezone</th><th scope=col>Type</th><th scope=col>Source</th></tr>\n",
       "\t<tr><th scope=col>&lt;dbl&gt;</th><th scope=col>&lt;chr&gt;</th><th scope=col>&lt;chr&gt;</th><th scope=col>&lt;chr&gt;</th><th scope=col>&lt;chr&gt;</th><th scope=col>&lt;chr&gt;</th><th scope=col>&lt;chr&gt;</th><th scope=col>&lt;chr&gt;</th><th scope=col>&lt;chr&gt;</th><th scope=col>&lt;dbl&gt;</th><th scope=col>&lt;dbl&gt;</th><th scope=col>&lt;dbl&gt;</th><th scope=col>&lt;dbl&gt;</th><th scope=col>&lt;chr&gt;</th><th scope=col>&lt;chr&gt;</th><th scope=col>&lt;chr&gt;</th><th scope=col>&lt;chr&gt;</th></tr>\n",
       "</thead>\n",
       "<tbody>\n",
       "\t<tr><td>2259</td><td>Kinmen Airport                 </td><td>Kinmen      </td><td>KNH</td><td>RCBS</td><td>Taiwan</td><td>158</td><td>TW</td><td>TWN</td><td>24.4279</td><td>118.359</td><td> 93</td><td>8</td><td>U</td><td>Asia/Taipei</td><td>airport</td><td>OurAirports</td></tr>\n",
       "\t<tr><td>2260</td><td>Pingtung South Airport         </td><td>Pingtung    </td><td>\\N</td><td>RCDC</td><td>Taiwan</td><td>158</td><td>TW</td><td>TWN</td><td>22.6724</td><td>120.462</td><td> 78</td><td>8</td><td>U</td><td>Asia/Taipei</td><td>airport</td><td>OurAirports</td></tr>\n",
       "\t<tr><td>2261</td><td>Longtan Air Base               </td><td>Longtang    </td><td>\\N</td><td>RCDI</td><td>Taiwan</td><td>158</td><td>TW</td><td>TWN</td><td>24.8551</td><td>121.238</td><td>790</td><td>8</td><td>U</td><td>Asia/Taipei</td><td>airport</td><td>OurAirports</td></tr>\n",
       "\t<tr><td>2262</td><td>Taitung Airport                </td><td>Fengnin     </td><td>TTT</td><td>RCFN</td><td>Taiwan</td><td>158</td><td>TW</td><td>TWN</td><td>22.7550</td><td>121.102</td><td>143</td><td>8</td><td>U</td><td>Asia/Taipei</td><td>airport</td><td>OurAirports</td></tr>\n",
       "\t<tr><td>2263</td><td>Lyudao Airport                 </td><td>Green Island</td><td>GNI</td><td>RCGI</td><td>Taiwan</td><td>158</td><td>TW</td><td>TWN</td><td>22.6739</td><td>121.466</td><td> 28</td><td>8</td><td>U</td><td>Asia/Taipei</td><td>airport</td><td>OurAirports</td></tr>\n",
       "\t<tr><td>2264</td><td>Kaohsiung International Airport</td><td>Kaohsiung   </td><td>KHH</td><td>RCKH</td><td>Taiwan</td><td>158</td><td>TW</td><td>TWN</td><td>22.5771</td><td>120.350</td><td> 31</td><td>8</td><td>U</td><td>Asia/Taipei</td><td>airport</td><td>OurAirports</td></tr>\n",
       "</tbody>\n",
       "</table>\n"
      ],
      "text/latex": [
       "A spec\\_tbl\\_df: 6 × 17\n",
       "\\begin{tabular}{lllllllllllllllll}\n",
       " OpenFlights ID & Name & City & IATA & ICAO & Country & Country Code & Country Code (Alpha-2) & Country Code (Alpha-3) & Latitude & Longitude & Altitude & UTC & DST & Timezone & Type & Source\\\\\n",
       " <dbl> & <chr> & <chr> & <chr> & <chr> & <chr> & <chr> & <chr> & <chr> & <dbl> & <dbl> & <dbl> & <dbl> & <chr> & <chr> & <chr> & <chr>\\\\\n",
       "\\hline\n",
       "\t 2259 & Kinmen Airport                  & Kinmen       & KNH & RCBS & Taiwan & 158 & TW & TWN & 24.4279 & 118.359 &  93 & 8 & U & Asia/Taipei & airport & OurAirports\\\\\n",
       "\t 2260 & Pingtung South Airport          & Pingtung     & \\textbackslash{}N & RCDC & Taiwan & 158 & TW & TWN & 22.6724 & 120.462 &  78 & 8 & U & Asia/Taipei & airport & OurAirports\\\\\n",
       "\t 2261 & Longtan Air Base                & Longtang     & \\textbackslash{}N & RCDI & Taiwan & 158 & TW & TWN & 24.8551 & 121.238 & 790 & 8 & U & Asia/Taipei & airport & OurAirports\\\\\n",
       "\t 2262 & Taitung Airport                 & Fengnin      & TTT & RCFN & Taiwan & 158 & TW & TWN & 22.7550 & 121.102 & 143 & 8 & U & Asia/Taipei & airport & OurAirports\\\\\n",
       "\t 2263 & Lyudao Airport                  & Green Island & GNI & RCGI & Taiwan & 158 & TW & TWN & 22.6739 & 121.466 &  28 & 8 & U & Asia/Taipei & airport & OurAirports\\\\\n",
       "\t 2264 & Kaohsiung International Airport & Kaohsiung    & KHH & RCKH & Taiwan & 158 & TW & TWN & 22.5771 & 120.350 &  31 & 8 & U & Asia/Taipei & airport & OurAirports\\\\\n",
       "\\end{tabular}\n"
      ],
      "text/markdown": [
       "\n",
       "A spec_tbl_df: 6 × 17\n",
       "\n",
       "| OpenFlights ID &lt;dbl&gt; | Name &lt;chr&gt; | City &lt;chr&gt; | IATA &lt;chr&gt; | ICAO &lt;chr&gt; | Country &lt;chr&gt; | Country Code &lt;chr&gt; | Country Code (Alpha-2) &lt;chr&gt; | Country Code (Alpha-3) &lt;chr&gt; | Latitude &lt;dbl&gt; | Longitude &lt;dbl&gt; | Altitude &lt;dbl&gt; | UTC &lt;dbl&gt; | DST &lt;chr&gt; | Timezone &lt;chr&gt; | Type &lt;chr&gt; | Source &lt;chr&gt; |\n",
       "|---|---|---|---|---|---|---|---|---|---|---|---|---|---|---|---|---|\n",
       "| 2259 | Kinmen Airport                  | Kinmen       | KNH | RCBS | Taiwan | 158 | TW | TWN | 24.4279 | 118.359 |  93 | 8 | U | Asia/Taipei | airport | OurAirports |\n",
       "| 2260 | Pingtung South Airport          | Pingtung     | \\N | RCDC | Taiwan | 158 | TW | TWN | 22.6724 | 120.462 |  78 | 8 | U | Asia/Taipei | airport | OurAirports |\n",
       "| 2261 | Longtan Air Base                | Longtang     | \\N | RCDI | Taiwan | 158 | TW | TWN | 24.8551 | 121.238 | 790 | 8 | U | Asia/Taipei | airport | OurAirports |\n",
       "| 2262 | Taitung Airport                 | Fengnin      | TTT | RCFN | Taiwan | 158 | TW | TWN | 22.7550 | 121.102 | 143 | 8 | U | Asia/Taipei | airport | OurAirports |\n",
       "| 2263 | Lyudao Airport                  | Green Island | GNI | RCGI | Taiwan | 158 | TW | TWN | 22.6739 | 121.466 |  28 | 8 | U | Asia/Taipei | airport | OurAirports |\n",
       "| 2264 | Kaohsiung International Airport | Kaohsiung    | KHH | RCKH | Taiwan | 158 | TW | TWN | 22.5771 | 120.350 |  31 | 8 | U | Asia/Taipei | airport | OurAirports |\n",
       "\n"
      ],
      "text/plain": [
       "  OpenFlights ID Name                            City         IATA ICAO Country\n",
       "1 2259           Kinmen Airport                  Kinmen       KNH  RCBS Taiwan \n",
       "2 2260           Pingtung South Airport          Pingtung     \\\\N  RCDC Taiwan \n",
       "3 2261           Longtan Air Base                Longtang     \\\\N  RCDI Taiwan \n",
       "4 2262           Taitung Airport                 Fengnin      TTT  RCFN Taiwan \n",
       "5 2263           Lyudao Airport                  Green Island GNI  RCGI Taiwan \n",
       "6 2264           Kaohsiung International Airport Kaohsiung    KHH  RCKH Taiwan \n",
       "  Country Code Country Code (Alpha-2) Country Code (Alpha-3) Latitude Longitude\n",
       "1 158          TW                     TWN                    24.4279  118.359  \n",
       "2 158          TW                     TWN                    22.6724  120.462  \n",
       "3 158          TW                     TWN                    24.8551  121.238  \n",
       "4 158          TW                     TWN                    22.7550  121.102  \n",
       "5 158          TW                     TWN                    22.6739  121.466  \n",
       "6 158          TW                     TWN                    22.5771  120.350  \n",
       "  Altitude UTC DST Timezone    Type    Source     \n",
       "1  93      8   U   Asia/Taipei airport OurAirports\n",
       "2  78      8   U   Asia/Taipei airport OurAirports\n",
       "3 790      8   U   Asia/Taipei airport OurAirports\n",
       "4 143      8   U   Asia/Taipei airport OurAirports\n",
       "5  28      8   U   Asia/Taipei airport OurAirports\n",
       "6  31      8   U   Asia/Taipei airport OurAirports"
      ]
     },
     "metadata": {},
     "output_type": "display_data"
    }
   ],
   "source": [
    "dplyr::filter(\n",
    "  airports,\n",
    "  Country == \"Taiwan\"\n",
    ") -> airports_taiwan\n",
    "\n",
    "head(airports_taiwan)"
   ]
  },
  {
   "cell_type": "markdown",
   "metadata": {},
   "source": [
    " - `Country == \"Taiwan\"` is to compare if `Country` variable is equal to `\"Taiwan\"`.\n",
    "\n",
    " - [relational operators](https://tpemartin.github.io/NTPU-R-for-Data-Science-EN/operations-on-atomic-vectors.html#operations-on-atomic-vectors-1)"
   ]
  },
  {
   "cell_type": "code",
   "execution_count": 28,
   "metadata": {
    "vscode": {
     "languageId": "r"
    }
   },
   "outputs": [
    {
     "data": {
      "text/html": [
       "<style>\n",
       ".list-inline {list-style: none; margin:0; padding: 0}\n",
       ".list-inline>li {display: inline-block}\n",
       ".list-inline>li:not(:last-child)::after {content: \"\\00b7\"; padding: 0 .5ex}\n",
       "</style>\n",
       "<ol class=list-inline><li>'KNH'</li><li>'\\\\N'</li><li>'\\\\N'</li><li>'TTT'</li><li>'GNI'</li><li>'KHH'</li><li>'CYI'</li><li>'KYD'</li><li>'RMQ'</li><li>'TNN'</li><li>'HSZ'</li><li>'MZG'</li><li>'\\\\N'</li><li>'PIF'</li><li>'TSA'</li><li>'TPE'</li><li>'WOT'</li><li>'HUN'</li><li>'LZN'</li><li>'HCN'</li><li>'MFK'</li><li>'CMJ'</li><li>'TXG'</li><li>'\\\\N'</li><li>'\\\\N'</li></ol>\n"
      ],
      "text/latex": [
       "\\begin{enumerate*}\n",
       "\\item 'KNH'\n",
       "\\item '\\textbackslash{}\\textbackslash{}N'\n",
       "\\item '\\textbackslash{}\\textbackslash{}N'\n",
       "\\item 'TTT'\n",
       "\\item 'GNI'\n",
       "\\item 'KHH'\n",
       "\\item 'CYI'\n",
       "\\item 'KYD'\n",
       "\\item 'RMQ'\n",
       "\\item 'TNN'\n",
       "\\item 'HSZ'\n",
       "\\item 'MZG'\n",
       "\\item '\\textbackslash{}\\textbackslash{}N'\n",
       "\\item 'PIF'\n",
       "\\item 'TSA'\n",
       "\\item 'TPE'\n",
       "\\item 'WOT'\n",
       "\\item 'HUN'\n",
       "\\item 'LZN'\n",
       "\\item 'HCN'\n",
       "\\item 'MFK'\n",
       "\\item 'CMJ'\n",
       "\\item 'TXG'\n",
       "\\item '\\textbackslash{}\\textbackslash{}N'\n",
       "\\item '\\textbackslash{}\\textbackslash{}N'\n",
       "\\end{enumerate*}\n"
      ],
      "text/markdown": [
       "1. 'KNH'\n",
       "2. '\\\\N'\n",
       "3. '\\\\N'\n",
       "4. 'TTT'\n",
       "5. 'GNI'\n",
       "6. 'KHH'\n",
       "7. 'CYI'\n",
       "8. 'KYD'\n",
       "9. 'RMQ'\n",
       "10. 'TNN'\n",
       "11. 'HSZ'\n",
       "12. 'MZG'\n",
       "13. '\\\\N'\n",
       "14. 'PIF'\n",
       "15. 'TSA'\n",
       "16. 'TPE'\n",
       "17. 'WOT'\n",
       "18. 'HUN'\n",
       "19. 'LZN'\n",
       "20. 'HCN'\n",
       "21. 'MFK'\n",
       "22. 'CMJ'\n",
       "23. 'TXG'\n",
       "24. '\\\\N'\n",
       "25. '\\\\N'\n",
       "\n",
       "\n"
      ],
      "text/plain": [
       " [1] \"KNH\" \"\\\\N\" \"\\\\N\" \"TTT\" \"GNI\" \"KHH\" \"CYI\" \"KYD\" \"RMQ\" \"TNN\" \"HSZ\" \"MZG\"\n",
       "[13] \"\\\\N\" \"PIF\" \"TSA\" \"TPE\" \"WOT\" \"HUN\" \"LZN\" \"HCN\" \"MFK\" \"CMJ\" \"TXG\" \"\\\\N\"\n",
       "[25] \"\\\\N\""
      ]
     },
     "metadata": {},
     "output_type": "display_data"
    },
    {
     "data": {
      "text/html": [
       "<style>\n",
       ".list-inline {list-style: none; margin:0; padding: 0}\n",
       ".list-inline>li {display: inline-block}\n",
       ".list-inline>li:not(:last-child)::after {content: \"\\00b7\"; padding: 0 .5ex}\n",
       "</style>\n",
       "<ol class=list-inline><li>'KNH'</li><li>'\\\\N'</li><li>'TTT'</li><li>'GNI'</li><li>'KHH'</li><li>'CYI'</li><li>'KYD'</li><li>'RMQ'</li><li>'TNN'</li><li>'HSZ'</li><li>'MZG'</li><li>'PIF'</li><li>'TSA'</li><li>'TPE'</li><li>'WOT'</li><li>'HUN'</li><li>'LZN'</li><li>'HCN'</li><li>'MFK'</li><li>'CMJ'</li><li>'TXG'</li></ol>\n"
      ],
      "text/latex": [
       "\\begin{enumerate*}\n",
       "\\item 'KNH'\n",
       "\\item '\\textbackslash{}\\textbackslash{}N'\n",
       "\\item 'TTT'\n",
       "\\item 'GNI'\n",
       "\\item 'KHH'\n",
       "\\item 'CYI'\n",
       "\\item 'KYD'\n",
       "\\item 'RMQ'\n",
       "\\item 'TNN'\n",
       "\\item 'HSZ'\n",
       "\\item 'MZG'\n",
       "\\item 'PIF'\n",
       "\\item 'TSA'\n",
       "\\item 'TPE'\n",
       "\\item 'WOT'\n",
       "\\item 'HUN'\n",
       "\\item 'LZN'\n",
       "\\item 'HCN'\n",
       "\\item 'MFK'\n",
       "\\item 'CMJ'\n",
       "\\item 'TXG'\n",
       "\\end{enumerate*}\n"
      ],
      "text/markdown": [
       "1. 'KNH'\n",
       "2. '\\\\N'\n",
       "3. 'TTT'\n",
       "4. 'GNI'\n",
       "5. 'KHH'\n",
       "6. 'CYI'\n",
       "7. 'KYD'\n",
       "8. 'RMQ'\n",
       "9. 'TNN'\n",
       "10. 'HSZ'\n",
       "11. 'MZG'\n",
       "12. 'PIF'\n",
       "13. 'TSA'\n",
       "14. 'TPE'\n",
       "15. 'WOT'\n",
       "16. 'HUN'\n",
       "17. 'LZN'\n",
       "18. 'HCN'\n",
       "19. 'MFK'\n",
       "20. 'CMJ'\n",
       "21. 'TXG'\n",
       "\n",
       "\n"
      ],
      "text/plain": [
       " [1] \"KNH\" \"\\\\N\" \"TTT\" \"GNI\" \"KHH\" \"CYI\" \"KYD\" \"RMQ\" \"TNN\" \"HSZ\" \"MZG\" \"PIF\"\n",
       "[13] \"TSA\" \"TPE\" \"WOT\" \"HUN\" \"LZN\" \"HCN\" \"MFK\" \"CMJ\" \"TXG\""
      ]
     },
     "metadata": {},
     "output_type": "display_data"
    }
   ],
   "source": [
    "airports_taiwan$IATA\n",
    "\n",
    "# keep only unique values\n",
    "unique(airports_taiwan$IATA)"
   ]
  },
  {
   "cell_type": "code",
   "execution_count": 37,
   "metadata": {
    "vscode": {
     "languageId": "r"
    }
   },
   "outputs": [],
   "source": [
    "flightsData |>\n",
    " dplyr::filter(\n",
    "    DepartureAirportID %in% unique(airports_taiwan$IATA)) -> \n",
    "    departure_flightsData\n",
    "\n",
    "flightsData |>\n",
    "  dplyr::filter(\n",
    "    ArrivalAirportID %in% unique(airports_taiwan$IATA)) -> \n",
    "    arrival_flightsData\n",
    "\n",
    "\n",
    "flights$data[[3]] <- list(\n",
    "  departure_flightsData= departure_flightsData,\n",
    "  arrival_flightsData = arrival_flightsData\n",
    ")\n",
    "\n",
    "saveRDS(flights, file=\"flights.rds\")"
   ]
  },
  {
   "cell_type": "markdown",
   "metadata": {},
   "source": [
    "- `DepartureAirportID %in% unique(airports_taiwan$IATA)` has `%in%` operator. It is to check if a value is in a vector."
   ]
  },
  {
   "cell_type": "code",
   "execution_count": 33,
   "metadata": {
    "vscode": {
     "languageId": "r"
    }
   },
   "outputs": [
    {
     "data": {
      "text/html": [
       "2409"
      ],
      "text/latex": [
       "2409"
      ],
      "text/markdown": [
       "2409"
      ],
      "text/plain": [
       "[1] 2409"
      ]
     },
     "metadata": {},
     "output_type": "display_data"
    },
    {
     "data": {
      "text/html": [
       "2532"
      ],
      "text/latex": [
       "2532"
      ],
      "text/markdown": [
       "2532"
      ],
      "text/plain": [
       "[1] 2532"
      ]
     },
     "metadata": {},
     "output_type": "display_data"
    }
   ],
   "source": [
    "# number of departure flights\n",
    "nrow(derparture_flightsData)\n",
    "\n",
    "# number of arrival flights\n",
    "nrow(arrival_flightsData)"
   ]
  }
 ],
 "metadata": {
  "kernelspec": {
   "display_name": "R",
   "language": "R",
   "name": "ir"
  },
  "language_info": {
   "codemirror_mode": "r",
   "file_extension": ".r",
   "mimetype": "text/x-r-source",
   "name": "R",
   "pygments_lexer": "r",
   "version": "4.2.2"
  }
 },
 "nbformat": 4,
 "nbformat_minor": 2
}
