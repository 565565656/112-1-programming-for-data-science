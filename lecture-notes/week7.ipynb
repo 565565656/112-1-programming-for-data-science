{
 "cells": [
  {
   "cell_type": "code",
   "execution_count": null,
   "metadata": {
    "vscode": {
     "languageId": "r"
    }
   },
   "outputs": [],
   "source": [
    "# To ensure Chinese characters are displayed correctly\n",
    "options(encoding = \"UTF-8\")\n",
    "Sys.setlocale(\"LC_CTYPE\", \"zh_TW.UTF-8\")"
   ]
  },
  {
   "cell_type": "markdown",
   "metadata": {},
   "source": [
    "# Read progress file"
   ]
  },
  {
   "cell_type": "code",
   "execution_count": null,
   "metadata": {
    "vscode": {
     "languageId": "r"
    }
   },
   "outputs": [],
   "source": [
    "flights = readRDS(\"data/flights.rds\")"
   ]
  },
  {
   "cell_type": "code",
   "execution_count": null,
   "metadata": {
    "vscode": {
     "languageId": "r"
    }
   },
   "outputs": [],
   "source": [
    "str(flights)"
   ]
  },
  {
   "cell_type": "code",
   "execution_count": null,
   "metadata": {
    "vscode": {
     "languageId": "r"
    }
   },
   "outputs": [],
   "source": [
    "flights$data[[1]][[\"meta\"]][[\"name\"]]"
   ]
  },
  {
   "cell_type": "code",
   "execution_count": null,
   "metadata": {
    "vscode": {
     "languageId": "r"
    }
   },
   "outputs": [],
   "source": [
    "flightsData <- flights$data[[1]][[\"data_frame\"]]"
   ]
  },
  {
   "cell_type": "code",
   "execution_count": null,
   "metadata": {
    "vscode": {
     "languageId": "r"
    }
   },
   "outputs": [],
   "source": [
    "flightsData$AirlineID"
   ]
  },
  {
   "cell_type": "markdown",
   "metadata": {},
   "source": [
    "# Preliminary data observations\n",
    "\n",
    "We need to describe variables in `flightsData` that we want to use in our analysis. \n",
    "\n",
    "## AirlineID\n",
    "\n",
    "- factor data type\n",
    "  - describe levels\n",
    "  - table"
   ]
  },
  {
   "cell_type": "code",
   "execution_count": null,
   "metadata": {
    "vscode": {
     "languageId": "r"
    }
   },
   "outputs": [],
   "source": [
    "levels(flightsData$AirlineID) |> length()\n",
    "\n"
   ]
  },
  {
   "cell_type": "markdown",
   "metadata": {},
   "source": [
    "There are 74 different airlines.\n",
    "The top 10 operators are:\n"
   ]
  },
  {
   "cell_type": "code",
   "execution_count": null,
   "metadata": {
    "vscode": {
     "languageId": "r"
    }
   },
   "outputs": [],
   "source": [
    "table(flightsData$AirlineID) |> sort(decreasing = TRUE) |> head(10)"
   ]
  },
  {
   "cell_type": "code",
   "execution_count": null,
   "metadata": {
    "vscode": {
     "languageId": "r"
    }
   },
   "outputs": [],
   "source": [
    "dataSummary <- list()\n",
    "\n",
    "dataSummary$AirlineID <- table(flightsData$AirlineID) |> sort(decreasing = TRUE)"
   ]
  },
  {
   "cell_type": "markdown",
   "metadata": {},
   "source": [
    " `|>` pipe operator\n",
    "\n",
    "`a |> fun()` is the same as `fun(a)`\n",
    "`a |> fun(b)` is the same as `fun(a, b)`\n",
    "\n",
    "- pipe operator is only for the first argument of a function"
   ]
  },
  {
   "cell_type": "markdown",
   "metadata": {},
   "source": [
    "What are those airline names? "
   ]
  },
  {
   "cell_type": "code",
   "execution_count": null,
   "metadata": {
    "vscode": {
     "languageId": "r"
    }
   },
   "outputs": [],
   "source": [
    "\n",
    "data2 <- list(\n",
    "  meta = list(\n",
    "    name=\"航空公司統一代碼\",\n",
    "    source_link =\"https://data.gov.tw/dataset/8088\"\n",
    "  ),\n",
    "  file = \"data/airlines.json\"\n",
    ")\n",
    "\n",
    "flights$data[[2]] <- data2\n",
    "\n",
    "airlines <-\n",
    "  jsonlite::fromJSON(\n",
    "    flights$data[[2]][[\"file\"]]\n",
    "  )\n",
    "\n",
    "flights$data[[2]][[\"data_frame\"]] <- airlines\n",
    "\n",
    "saveRDS(flights, file=\"flights.rds\")"
   ]
  },
  {
   "cell_type": "code",
   "execution_count": null,
   "metadata": {
    "vscode": {
     "languageId": "r"
    }
   },
   "outputs": [],
   "source": [
    "dplyr::glimpse(airlines)"
   ]
  },
  {
   "cell_type": "markdown",
   "metadata": {},
   "source": [
    "# Join two data frames\n",
    "\n",
    "We can `airlines` data into `flightsData` using `AirlineID` variable. We can use `dplyr::left_join` function to do that. \n"
   ]
  },
  {
   "cell_type": "code",
   "execution_count": null,
   "metadata": {
    "vscode": {
     "languageId": "r"
    }
   },
   "outputs": [],
   "source": [
    "# dplyr::left_join example\n",
    "\n",
    "# two data frames\n",
    "df1 <- data.frame(\n",
    "  id = c(1, 2, 3, 4, 5),\n",
    "  name = c(\"A\", \"B\", \"C\", \"D\", \"E\")\n",
    ")\n",
    "\n",
    "df2 <- data.frame(\n",
    "  id = c(1, 2, 3, 4, 5, 7),\n",
    "  score = c(90, 80, 70, 60, 50, 40)\n",
    ")\n",
    "\n",
    "# join by id\n",
    "dplyr::left_join(df1, df2, by = \"id\")\n",
    "\n",
    "# join by id\n",
    "df3 <- data.frame(\n",
    "  ID = c(1, 2, 3, 4, 5, 7),\n",
    "  score = c(90, 80, 70, 60, 50, 40)\n",
    ")\n",
    "\n",
    "# join by df$id and df3$ID\n",
    "dplyr::left_join(df1, df3, by = c(\"id\" = \"ID\"))"
   ]
  },
  {
   "cell_type": "code",
   "execution_count": null,
   "metadata": {
    "vscode": {
     "languageId": "r"
    }
   },
   "outputs": [],
   "source": [
    "dplyr::left_join(\n",
    "  flightsData, airlines,\n",
    "  by=\"AirlineID\"\n",
    ") -> flightsData\n",
    "\n",
    "flightsData$AirlineName <-\n",
    "  factor(\n",
    "    flightsData[[\"AirlineName\"]]\n",
    "  )\n"
   ]
  },
  {
   "cell_type": "markdown",
   "metadata": {},
   "source": [
    "# Departure and Arrival Flights\n"
   ]
  },
  {
   "cell_type": "code",
   "execution_count": null,
   "metadata": {
    "vscode": {
     "languageId": "r"
    }
   },
   "outputs": [],
   "source": [
    "names(flightsData)"
   ]
  },
  {
   "cell_type": "markdown",
   "metadata": {},
   "source": [
    "If DepartureAirportID belong to Taiwan airport, it is a departure flight. If ArrivalAirportID belong to Taiwan airport, it is an arrival flight."
   ]
  },
  {
   "cell_type": "markdown",
   "metadata": {},
   "source": [
    "What are Taiwan's airport IDs?"
   ]
  },
  {
   "cell_type": "code",
   "execution_count": null,
   "metadata": {
    "vscode": {
     "languageId": "r"
    }
   },
   "outputs": [],
   "source": [
    "# airportr package has a airports data frame\n",
    "install.packages(\"airportr\")"
   ]
  },
  {
   "cell_type": "code",
   "execution_count": null,
   "metadata": {
    "vscode": {
     "languageId": "r"
    }
   },
   "outputs": [],
   "source": [
    "airports <- airportr::airports\n",
    "dplyr::glimpse(airports)"
   ]
  },
  {
   "cell_type": "markdown",
   "metadata": {},
   "source": [
    "# dplyr::filter\n",
    "\n",
    "Keep those rows of data frame that satisfy a condition."
   ]
  },
  {
   "cell_type": "code",
   "execution_count": null,
   "metadata": {
    "vscode": {
     "languageId": "r"
    }
   },
   "outputs": [],
   "source": [
    "dplyr::filter(\n",
    "  airports,\n",
    "  Country == \"Taiwan\"\n",
    ") -> airports_taiwan\n",
    "\n",
    "head(airports_taiwan)"
   ]
  },
  {
   "cell_type": "markdown",
   "metadata": {},
   "source": [
    " - `Country == \"Taiwan\"` is to compare if `Country` variable is equal to `\"Taiwan\"`.\n",
    "\n",
    " - [relational operators](https://tpemartin.github.io/NTPU-R-for-Data-Science-EN/operations-on-atomic-vectors.html#operations-on-atomic-vectors-1)"
   ]
  },
  {
   "cell_type": "code",
   "execution_count": null,
   "metadata": {
    "vscode": {
     "languageId": "r"
    }
   },
   "outputs": [],
   "source": [
    "airports_taiwan$IATA\n",
    "\n",
    "# keep only unique values\n",
    "unique(airports_taiwan$IATA)"
   ]
  },
  {
   "cell_type": "code",
   "execution_count": null,
   "metadata": {
    "vscode": {
     "languageId": "r"
    }
   },
   "outputs": [],
   "source": [
    "flightsData |>\n",
    " dplyr::filter(\n",
    "    DepartureAirportID %in% unique(airports_taiwan[[\"IATA\"]])) -> \n",
    "    departure_flightsData\n",
    "\n",
    "flightsData |>\n",
    "  dplyr::filter(\n",
    "    ArrivalAirportID %in% unique(airports_taiwan[[\"IATA\"]])) -> \n",
    "    arrival_flightsData\n",
    "\n",
    "\n",
    "flights$data[[3]] <- list(\n",
    "  departure_flightsData= departure_flightsData,\n",
    "  arrival_flightsData = arrival_flightsData\n",
    ")\n",
    "\n"
   ]
  },
  {
   "cell_type": "markdown",
   "metadata": {},
   "source": [
    "- `DepartureAirportID %in% unique(airports_taiwan$IATA)` has `%in%` operator. It is to check if a value is in a vector."
   ]
  },
  {
   "cell_type": "code",
   "execution_count": null,
   "metadata": {
    "vscode": {
     "languageId": "r"
    }
   },
   "outputs": [],
   "source": [
    "# number of departure flights\n",
    "nrow(departure_flightsData)\n",
    "\n",
    "# number of arrival flights\n",
    "nrow(arrival_flightsData)"
   ]
  },
  {
   "cell_type": "code",
   "execution_count": null,
   "metadata": {
    "vscode": {
     "languageId": "r"
    }
   },
   "outputs": [],
   "source": [
    "# Departure/Arrival contribution of each airlines\n",
    "departure_flightsData$AirlineID |> table() |> sort(decreasing = TRUE) -> \n",
    "    dataSummary[[\"departure\"]][[\"AirlineID\"]]\n",
    "arrival_flightsData$AirlineID |> table() |> sort(decreasing = TRUE) -> \n",
    "    dataSummary[[\"arrival\"]][[\"AirlineID\"]]\n",
    "\n",
    "flights$dataSummary <- dataSummary\n",
    "\n",
    "saveRDS(flights, file=\"data/flights.rds\")\n"
   ]
  }
 ],
 "metadata": {
  "kernelspec": {
   "display_name": "R",
   "language": "R",
   "name": "ir"
  },
  "language_info": {
   "codemirror_mode": "r",
   "file_extension": ".r",
   "mimetype": "text/x-r-source",
   "name": "R",
   "pygments_lexer": "r",
   "version": "4.2.2"
  }
 },
 "nbformat": 4,
 "nbformat_minor": 2
}
