{
 "cells": [
  {
   "cell_type": "code",
   "execution_count": 1,
   "metadata": {
    "vscode": {
     "languageId": "r"
    }
   },
   "outputs": [
    {
     "data": {
      "text/html": [
       "'zh_TW.UTF-8'"
      ],
      "text/latex": [
       "'zh\\_TW.UTF-8'"
      ],
      "text/markdown": [
       "'zh_TW.UTF-8'"
      ],
      "text/plain": [
       "[1] \"zh_TW.UTF-8\""
      ]
     },
     "metadata": {},
     "output_type": "display_data"
    }
   ],
   "source": [
    "# To ensure Chinese characters are displayed correctly\n",
    "options(encoding = \"UTF-8\")\n",
    "Sys.setlocale(\"LC_CTYPE\", \"zh_TW.UTF-8\")"
   ]
  },
  {
   "cell_type": "markdown",
   "metadata": {},
   "source": [
    "# Read progress file"
   ]
  },
  {
   "cell_type": "code",
   "execution_count": 2,
   "metadata": {
    "vscode": {
     "languageId": "r"
    }
   },
   "outputs": [],
   "source": [
    "flights = readRDS(\"data/flights.rds\")"
   ]
  },
  {
   "cell_type": "code",
   "execution_count": 3,
   "metadata": {
    "vscode": {
     "languageId": "r"
    }
   },
   "outputs": [
    {
     "name": "stdout",
     "output_type": "stream",
     "text": [
      "List of 1\n",
      " $ data:List of 1\n",
      "  ..$ :List of 3\n",
      "  .. ..$ file      : chr \"data/international_flights.json\"\n",
      "  .. ..$ meta      :List of 2\n",
      "  .. .. ..$ name       : chr \"<U+570B><U+969B><U+822A><U+7A7A><U+5B9A><U+671F><U+6642><U+523B><U+8868>\"\n",
      "  .. .. ..$ source_link: chr \"https://data.gov.tw/dataset/161167\"\n",
      "  .. ..$ data_frame:'data.frame':\t4941 obs. of  20 variables:\n",
      "  .. .. ..$ AirlineID         : chr [1:4941] \"3U\" \"3U\" \"3U\" \"3U\" ...\n",
      "  .. .. ..$ ScheduleStartDate : chr [1:4941] \"2023-10-13\" \"2023-10-20\" \"2023-10-27\" \"2023-10-13\" ...\n",
      "  .. .. ..$ ScheduleEndDate   : chr [1:4941] \"2023-10-15\" \"2023-10-22\" \"2023-10-27\" \"2023-10-15\" ...\n",
      "  .. .. ..$ FlightNumber      : chr [1:4941] \"3U3783\" \"3U3783\" \"3U3783\" \"3U3784\" ...\n",
      "  .. .. ..$ DepartureAirportID: chr [1:4941] \"CKG\" \"CKG\" \"CKG\" \"TSA\" ...\n",
      "  .. .. ..$ DepartureTime     : chr [1:4941] \"15:00\" \"15:00\" \"15:00\" \"19:00\" ...\n",
      "  .. .. ..$ CodeShare         :List of 4941\n",
      "  .. .. .. ..$ :'data.frame':\t0 obs. of  0 variables\n",
      "  .. .. .. ..$ :'data.frame':\t0 obs. of  0 variables\n",
      "  .. .. .. ..$ :'data.frame':\t0 obs. of  0 variables\n",
      "  .. .. .. ..$ :'data.frame':\t0 obs. of  0 variables\n",
      "  .. .. .. ..$ :'data.frame':\t0 obs. of  0 variables\n",
      "  .. .. .. ..$ :'data.frame':\t0 obs. of  0 variables\n",
      "  .. .. .. ..$ :'data.frame':\t0 obs. of  0 variables\n",
      "  .. .. .. ..$ :'data.frame':\t0 obs. of  0 variables\n",
      "  .. .. .. ..$ :'data.frame':\t0 obs. of  0 variables\n",
      "  .. .. .. ..$ :'data.frame':\t0 obs. of  0 variables\n",
      "  .. .. .. ..$ :'data.frame':\t0 obs. of  0 variables\n",
      "  .. .. .. ..$ :'data.frame':\t0 obs. of  0 variables\n",
      "  .. .. .. ..$ :'data.frame':\t0 obs. of  0 variables\n",
      "  .. .. .. ..$ :'data.frame':\t0 obs. of  0 variables\n",
      "  .. .. .. ..$ :'data.frame':\t0 obs. of  0 variables\n",
      "  .. .. .. ..$ :'data.frame':\t0 obs. of  0 variables\n",
      "  .. .. .. ..$ :'data.frame':\t0 obs. of  0 variables\n",
      "  .. .. .. ..$ :'data.frame':\t0 obs. of  0 variables\n",
      "  .. .. .. ..$ :'data.frame':\t0 obs. of  0 variables\n",
      "  .. .. .. ..$ :'data.frame':\t0 obs. of  0 variables\n",
      "  .. .. .. ..$ :'data.frame':\t0 obs. of  0 variables\n",
      "  .. .. .. ..$ :'data.frame':\t0 obs. of  0 variables\n",
      "  .. .. .. ..$ :'data.frame':\t0 obs. of  0 variables\n",
      "  .. .. .. ..$ :'data.frame':\t0 obs. of  0 variables\n",
      "  .. .. .. ..$ :'data.frame':\t0 obs. of  0 variables\n",
      "  .. .. .. ..$ :'data.frame':\t0 obs. of  0 variables\n",
      "  .. .. .. ..$ :'data.frame':\t0 obs. of  0 variables\n",
      "  .. .. .. ..$ :'data.frame':\t0 obs. of  0 variables\n",
      "  .. .. .. ..$ :'data.frame':\t0 obs. of  0 variables\n",
      "  .. .. .. ..$ :'data.frame':\t0 obs. of  0 variables\n",
      "  .. .. .. ..$ :'data.frame':\t0 obs. of  0 variables\n",
      "  .. .. .. ..$ :'data.frame':\t0 obs. of  0 variables\n",
      "  .. .. .. ..$ :'data.frame':\t0 obs. of  0 variables\n",
      "  .. .. .. ..$ :'data.frame':\t0 obs. of  0 variables\n",
      "  .. .. .. ..$ :'data.frame':\t0 obs. of  0 variables\n",
      "  .. .. .. ..$ :'data.frame':\t0 obs. of  0 variables\n",
      "  .. .. .. ..$ :'data.frame':\t0 obs. of  0 variables\n",
      "  .. .. .. ..$ :'data.frame':\t0 obs. of  0 variables\n",
      "  .. .. .. ..$ :'data.frame':\t0 obs. of  0 variables\n",
      "  .. .. .. ..$ :'data.frame':\t0 obs. of  0 variables\n",
      "  .. .. .. ..$ :'data.frame':\t0 obs. of  0 variables\n",
      "  .. .. .. ..$ :'data.frame':\t0 obs. of  0 variables\n",
      "  .. .. .. ..$ :'data.frame':\t0 obs. of  0 variables\n",
      "  .. .. .. ..$ :'data.frame':\t0 obs. of  0 variables\n",
      "  .. .. .. ..$ :'data.frame':\t0 obs. of  0 variables\n",
      "  .. .. .. ..$ :'data.frame':\t0 obs. of  0 variables\n",
      "  .. .. .. ..$ :'data.frame':\t0 obs. of  0 variables\n",
      "  .. .. .. ..$ :'data.frame':\t0 obs. of  0 variables\n",
      "  .. .. .. ..$ :'data.frame':\t0 obs. of  0 variables\n",
      "  .. .. .. ..$ :'data.frame':\t0 obs. of  0 variables\n",
      "  .. .. .. ..$ :'data.frame':\t0 obs. of  0 variables\n",
      "  .. .. .. ..$ :'data.frame':\t0 obs. of  0 variables\n",
      "  .. .. .. ..$ :'data.frame':\t0 obs. of  0 variables\n",
      "  .. .. .. ..$ :'data.frame':\t0 obs. of  0 variables\n",
      "  .. .. .. ..$ :'data.frame':\t0 obs. of  0 variables\n",
      "  .. .. .. ..$ :'data.frame':\t0 obs. of  0 variables\n",
      "  .. .. .. ..$ :'data.frame':\t0 obs. of  0 variables\n",
      "  .. .. .. ..$ :'data.frame':\t0 obs. of  0 variables\n",
      "  .. .. .. ..$ :'data.frame':\t0 obs. of  0 variables\n",
      "  .. .. .. ..$ :'data.frame':\t0 obs. of  0 variables\n",
      "  .. .. .. ..$ :'data.frame':\t0 obs. of  0 variables\n",
      "  .. .. .. ..$ :'data.frame':\t0 obs. of  0 variables\n",
      "  .. .. .. ..$ :'data.frame':\t0 obs. of  0 variables\n",
      "  .. .. .. ..$ :'data.frame':\t0 obs. of  0 variables\n",
      "  .. .. .. ..$ :'data.frame':\t0 obs. of  0 variables\n",
      "  .. .. .. ..$ :'data.frame':\t0 obs. of  0 variables\n",
      "  .. .. .. ..$ :'data.frame':\t0 obs. of  0 variables\n",
      "  .. .. .. ..$ :'data.frame':\t0 obs. of  0 variables\n",
      "  .. .. .. ..$ :'data.frame':\t0 obs. of  0 variables\n",
      "  .. .. .. ..$ :'data.frame':\t0 obs. of  0 variables\n",
      "  .. .. .. ..$ :'data.frame':\t0 obs. of  0 variables\n",
      "  .. .. .. ..$ :'data.frame':\t0 obs. of  0 variables\n",
      "  .. .. .. ..$ :'data.frame':\t0 obs. of  0 variables\n",
      "  .. .. .. ..$ :'data.frame':\t0 obs. of  0 variables\n",
      "  .. .. .. ..$ :'data.frame':\t0 obs. of  0 variables\n",
      "  .. .. .. ..$ :'data.frame':\t0 obs. of  0 variables\n",
      "  .. .. .. ..$ :'data.frame':\t0 obs. of  0 variables\n",
      "  .. .. .. ..$ :'data.frame':\t0 obs. of  0 variables\n",
      "  .. .. .. ..$ :'data.frame':\t0 obs. of  0 variables\n",
      "  .. .. .. ..$ :'data.frame':\t0 obs. of  0 variables\n",
      "  .. .. .. ..$ :'data.frame':\t0 obs. of  0 variables\n",
      "  .. .. .. ..$ :'data.frame':\t0 obs. of  0 variables\n",
      "  .. .. .. ..$ :'data.frame':\t0 obs. of  0 variables\n",
      "  .. .. .. ..$ :'data.frame':\t0 obs. of  0 variables\n",
      "  .. .. .. ..$ :'data.frame':\t0 obs. of  0 variables\n",
      "  .. .. .. ..$ :'data.frame':\t0 obs. of  0 variables\n",
      "  .. .. .. ..$ :'data.frame':\t0 obs. of  0 variables\n",
      "  .. .. .. ..$ :'data.frame':\t0 obs. of  0 variables\n",
      "  .. .. .. ..$ :'data.frame':\t0 obs. of  0 variables\n",
      "  .. .. .. ..$ :'data.frame':\t0 obs. of  0 variables\n",
      "  .. .. .. ..$ :'data.frame':\t0 obs. of  0 variables\n",
      "  .. .. .. ..$ :'data.frame':\t0 obs. of  0 variables\n",
      "  .. .. .. ..$ :'data.frame':\t0 obs. of  0 variables\n",
      "  .. .. .. ..$ :'data.frame':\t0 obs. of  0 variables\n",
      "  .. .. .. ..$ :'data.frame':\t0 obs. of  0 variables\n",
      "  .. .. .. ..$ :'data.frame':\t0 obs. of  0 variables\n",
      "  .. .. .. ..$ :'data.frame':\t0 obs. of  0 variables\n",
      "  .. .. .. ..$ :'data.frame':\t0 obs. of  0 variables\n",
      "  .. .. .. ..$ :'data.frame':\t0 obs. of  0 variables\n",
      "  .. .. .. .. [list output truncated]\n",
      "  .. .. ..$ ArrivalAirportID  : chr [1:4941] \"TSA\" \"TSA\" \"TSA\" \"CKG\" ...\n",
      "  .. .. ..$ ArrivalTime       : chr [1:4941] \"18:00\" \"18:00\" \"18:00\" \"22:15\" ...\n",
      "  .. .. ..$ Monday            : logi [1:4941] FALSE FALSE FALSE FALSE FALSE FALSE ...\n",
      "  .. .. ..$ Tuesday           : logi [1:4941] FALSE FALSE FALSE FALSE FALSE FALSE ...\n",
      "  .. .. ..$ Wednesday         : logi [1:4941] FALSE FALSE FALSE FALSE FALSE FALSE ...\n",
      "  .. .. ..$ Thursday          : logi [1:4941] FALSE FALSE FALSE FALSE FALSE FALSE ...\n",
      "  .. .. ..$ Friday            : logi [1:4941] TRUE TRUE TRUE TRUE TRUE TRUE ...\n",
      "  .. .. ..$ Saturday          : logi [1:4941] FALSE FALSE FALSE FALSE FALSE FALSE ...\n",
      "  .. .. ..$ Sunday            : logi [1:4941] TRUE TRUE FALSE TRUE TRUE FALSE ...\n",
      "  .. .. ..$ UpdateTime        : chr [1:4941] \"2023-10-10T08:26:07+08:00\" \"2023-10-10T08:26:07+08:00\" \"2023-10-10T08:26:07+08:00\" \"2023-10-10T08:26:07+08:00\" ...\n",
      "  .. .. ..$ VersionID         : int [1:4941] 1111 1111 1111 1111 1111 1111 1111 1111 1111 1111 ...\n",
      "  .. .. ..$ Terminal          : chr [1:4941] NA NA NA NA ...\n",
      "  .. .. ..$ num_codeShare     : int [1:4941] 0 0 0 0 0 0 0 0 0 0 ...\n"
     ]
    }
   ],
   "source": [
    "# check the progress object structure\n",
    "str(flights)"
   ]
  },
  {
   "cell_type": "markdown",
   "metadata": {},
   "source": [
    "![](../img/str_flight.png)"
   ]
  },
  {
   "cell_type": "markdown",
   "metadata": {},
   "source": [
    "- `flights` is a list with one element `data` (We can take `data` out via `$data`)\n",
    "- `data` element is a list of one element (no name on that element). (We can take that element out via `[[1]]`)\n",
    "- The first element of `data` is a list of three elements, named `file`, `meta` and `data_frame`. (We can take `data_frame` out via `$data_frame`)"
   ]
  },
  {
   "cell_type": "code",
   "execution_count": 4,
   "metadata": {
    "vscode": {
     "languageId": "r"
    }
   },
   "outputs": [],
   "source": [
    "flightsData <- flights$data[[1]]$data_frame"
   ]
  },
  {
   "cell_type": "markdown",
   "metadata": {},
   "source": [
    "> You can also interactively find out how to retrieve an element inside a list following:\n",
    "> #### Step 1:\n",
    "> ![observe flights1](img/observe_flights1.png)\n",
    "> #### Step 2:\n",
    "> ![observe flights2](img/observe_flights2.png)"
   ]
  },
  {
   "cell_type": "markdown",
   "metadata": {},
   "source": [
    "## Analysis on Data Frame\n",
    "\n",
    "### Recap\n",
    "\n",
    " - `[[...]]`, `$...`, and `[... , ...]` retrieval on data frame\n",
    "\n",
    "Data Frame is an extended class from list. It can use `[[...]]` and `$...` as list. Other than that, it has one more special retrieval tool `[... , ...]`."
   ]
  },
  {
   "cell_type": "code",
   "execution_count": 5,
   "metadata": {
    "vscode": {
     "languageId": "r"
    }
   },
   "outputs": [],
   "source": [
    "# Consider the following data frame of student grades\n",
    "\n",
    "grades <- data.frame(\n",
    "    student = c(\"Alice\", \"Bob\", \"Charlie\", \"David\", \"Eve\"),\n",
    "    midterm = c(95, 80, 70, 60, 75),\n",
    "    final = c(90, 85, 75, 95, 80)\n",
    ")\n"
   ]
  },
  {
   "cell_type": "code",
   "execution_count": 6,
   "metadata": {
    "vscode": {
     "languageId": "r"
    }
   },
   "outputs": [],
   "source": [
    "# it is an extended class out of the following list\n",
    "\n",
    "grades_list <- list(\n",
    "    student = c(\"Alice\", \"Bob\", \"Charlie\", \"David\", \"Eve\"),\n",
    "    midterm = c(95, 80, 70, 60, 75),\n",
    "    final = c(90, 85, 75, 95, 80)\n",
    ")"
   ]
  },
  {
   "cell_type": "markdown",
   "metadata": {},
   "source": [
    "  - It is like a list with named elements. Each element can be retrieve via `[[...]]` or `$...`"
   ]
  },
  {
   "cell_type": "code",
   "execution_count": 7,
   "metadata": {
    "vscode": {
     "languageId": "r"
    }
   },
   "outputs": [
    {
     "data": {
      "text/html": [
       "<style>\n",
       ".list-inline {list-style: none; margin:0; padding: 0}\n",
       ".list-inline>li {display: inline-block}\n",
       ".list-inline>li:not(:last-child)::after {content: \"\\00b7\"; padding: 0 .5ex}\n",
       "</style>\n",
       "<ol class=list-inline><li>'Alice'</li><li>'Bob'</li><li>'Charlie'</li><li>'David'</li><li>'Eve'</li></ol>\n"
      ],
      "text/latex": [
       "\\begin{enumerate*}\n",
       "\\item 'Alice'\n",
       "\\item 'Bob'\n",
       "\\item 'Charlie'\n",
       "\\item 'David'\n",
       "\\item 'Eve'\n",
       "\\end{enumerate*}\n"
      ],
      "text/markdown": [
       "1. 'Alice'\n",
       "2. 'Bob'\n",
       "3. 'Charlie'\n",
       "4. 'David'\n",
       "5. 'Eve'\n",
       "\n",
       "\n"
      ],
      "text/plain": [
       "[1] \"Alice\"   \"Bob\"     \"Charlie\" \"David\"   \"Eve\"    "
      ]
     },
     "metadata": {},
     "output_type": "display_data"
    },
    {
     "data": {
      "text/html": [
       "<style>\n",
       ".list-inline {list-style: none; margin:0; padding: 0}\n",
       ".list-inline>li {display: inline-block}\n",
       ".list-inline>li:not(:last-child)::after {content: \"\\00b7\"; padding: 0 .5ex}\n",
       "</style>\n",
       "<ol class=list-inline><li>95</li><li>80</li><li>70</li><li>60</li><li>75</li></ol>\n"
      ],
      "text/latex": [
       "\\begin{enumerate*}\n",
       "\\item 95\n",
       "\\item 80\n",
       "\\item 70\n",
       "\\item 60\n",
       "\\item 75\n",
       "\\end{enumerate*}\n"
      ],
      "text/markdown": [
       "1. 95\n",
       "2. 80\n",
       "3. 70\n",
       "4. 60\n",
       "5. 75\n",
       "\n",
       "\n"
      ],
      "text/plain": [
       "[1] 95 80 70 60 75"
      ]
     },
     "metadata": {},
     "output_type": "display_data"
    }
   ],
   "source": [
    "grades[[\"student\"]]\n",
    "grades[[\"midterm\"]]"
   ]
  },
  {
   "cell_type": "code",
   "execution_count": 8,
   "metadata": {
    "vscode": {
     "languageId": "r"
    }
   },
   "outputs": [
    {
     "data": {
      "text/html": [
       "<style>\n",
       ".list-inline {list-style: none; margin:0; padding: 0}\n",
       ".list-inline>li {display: inline-block}\n",
       ".list-inline>li:not(:last-child)::after {content: \"\\00b7\"; padding: 0 .5ex}\n",
       "</style>\n",
       "<ol class=list-inline><li>'Alice'</li><li>'Bob'</li><li>'Charlie'</li><li>'David'</li><li>'Eve'</li></ol>\n"
      ],
      "text/latex": [
       "\\begin{enumerate*}\n",
       "\\item 'Alice'\n",
       "\\item 'Bob'\n",
       "\\item 'Charlie'\n",
       "\\item 'David'\n",
       "\\item 'Eve'\n",
       "\\end{enumerate*}\n"
      ],
      "text/markdown": [
       "1. 'Alice'\n",
       "2. 'Bob'\n",
       "3. 'Charlie'\n",
       "4. 'David'\n",
       "5. 'Eve'\n",
       "\n",
       "\n"
      ],
      "text/plain": [
       "[1] \"Alice\"   \"Bob\"     \"Charlie\" \"David\"   \"Eve\"    "
      ]
     },
     "metadata": {},
     "output_type": "display_data"
    },
    {
     "data": {
      "text/html": [
       "<style>\n",
       ".list-inline {list-style: none; margin:0; padding: 0}\n",
       ".list-inline>li {display: inline-block}\n",
       ".list-inline>li:not(:last-child)::after {content: \"\\00b7\"; padding: 0 .5ex}\n",
       "</style>\n",
       "<ol class=list-inline><li>95</li><li>80</li><li>70</li><li>60</li><li>75</li></ol>\n"
      ],
      "text/latex": [
       "\\begin{enumerate*}\n",
       "\\item 95\n",
       "\\item 80\n",
       "\\item 70\n",
       "\\item 60\n",
       "\\item 75\n",
       "\\end{enumerate*}\n"
      ],
      "text/markdown": [
       "1. 95\n",
       "2. 80\n",
       "3. 70\n",
       "4. 60\n",
       "5. 75\n",
       "\n",
       "\n"
      ],
      "text/plain": [
       "[1] 95 80 70 60 75"
      ]
     },
     "metadata": {},
     "output_type": "display_data"
    }
   ],
   "source": [
    "grades$student\n",
    "grades$midterm"
   ]
  },
  {
   "cell_type": "markdown",
   "metadata": {},
   "source": [
    "- It has an extra retrieval tool `[..., ...]` which allows you to retrieve a subset of the data frame."
   ]
  },
  {
   "cell_type": "code",
   "execution_count": 9,
   "metadata": {
    "vscode": {
     "languageId": "r"
    }
   },
   "outputs": [
    {
     "data": {
      "text/html": [
       "<style>\n",
       ".list-inline {list-style: none; margin:0; padding: 0}\n",
       ".list-inline>li {display: inline-block}\n",
       ".list-inline>li:not(:last-child)::after {content: \"\\00b7\"; padding: 0 .5ex}\n",
       "</style>\n",
       "<ol class=list-inline><li>'Alice'</li><li>'Bob'</li><li>'Charlie'</li><li>'David'</li><li>'Eve'</li></ol>\n"
      ],
      "text/latex": [
       "\\begin{enumerate*}\n",
       "\\item 'Alice'\n",
       "\\item 'Bob'\n",
       "\\item 'Charlie'\n",
       "\\item 'David'\n",
       "\\item 'Eve'\n",
       "\\end{enumerate*}\n"
      ],
      "text/markdown": [
       "1. 'Alice'\n",
       "2. 'Bob'\n",
       "3. 'Charlie'\n",
       "4. 'David'\n",
       "5. 'Eve'\n",
       "\n",
       "\n"
      ],
      "text/plain": [
       "[1] \"Alice\"   \"Bob\"     \"Charlie\" \"David\"   \"Eve\"    "
      ]
     },
     "metadata": {},
     "output_type": "display_data"
    },
    {
     "data": {
      "text/html": [
       "<table class=\"dataframe\">\n",
       "<caption>A data.frame: 5 × 2</caption>\n",
       "<thead>\n",
       "\t<tr><th scope=col>student</th><th scope=col>midterm</th></tr>\n",
       "\t<tr><th scope=col>&lt;chr&gt;</th><th scope=col>&lt;dbl&gt;</th></tr>\n",
       "</thead>\n",
       "<tbody>\n",
       "\t<tr><td>Alice  </td><td>95</td></tr>\n",
       "\t<tr><td>Bob    </td><td>80</td></tr>\n",
       "\t<tr><td>Charlie</td><td>70</td></tr>\n",
       "\t<tr><td>David  </td><td>60</td></tr>\n",
       "\t<tr><td>Eve    </td><td>75</td></tr>\n",
       "</tbody>\n",
       "</table>\n"
      ],
      "text/latex": [
       "A data.frame: 5 × 2\n",
       "\\begin{tabular}{ll}\n",
       " student & midterm\\\\\n",
       " <chr> & <dbl>\\\\\n",
       "\\hline\n",
       "\t Alice   & 95\\\\\n",
       "\t Bob     & 80\\\\\n",
       "\t Charlie & 70\\\\\n",
       "\t David   & 60\\\\\n",
       "\t Eve     & 75\\\\\n",
       "\\end{tabular}\n"
      ],
      "text/markdown": [
       "\n",
       "A data.frame: 5 × 2\n",
       "\n",
       "| student &lt;chr&gt; | midterm &lt;dbl&gt; |\n",
       "|---|---|\n",
       "| Alice   | 95 |\n",
       "| Bob     | 80 |\n",
       "| Charlie | 70 |\n",
       "| David   | 60 |\n",
       "| Eve     | 75 |\n",
       "\n"
      ],
      "text/plain": [
       "  student midterm\n",
       "1 Alice   95     \n",
       "2 Bob     80     \n",
       "3 Charlie 70     \n",
       "4 David   60     \n",
       "5 Eve     75     "
      ]
     },
     "metadata": {},
     "output_type": "display_data"
    },
    {
     "data": {
      "text/html": [
       "<style>\n",
       ".list-inline {list-style: none; margin:0; padding: 0}\n",
       ".list-inline>li {display: inline-block}\n",
       ".list-inline>li:not(:last-child)::after {content: \"\\00b7\"; padding: 0 .5ex}\n",
       "</style>\n",
       "<ol class=list-inline><li>'Alice'</li><li>'Charlie'</li></ol>\n"
      ],
      "text/latex": [
       "\\begin{enumerate*}\n",
       "\\item 'Alice'\n",
       "\\item 'Charlie'\n",
       "\\end{enumerate*}\n"
      ],
      "text/markdown": [
       "1. 'Alice'\n",
       "2. 'Charlie'\n",
       "\n",
       "\n"
      ],
      "text/plain": [
       "[1] \"Alice\"   \"Charlie\""
      ]
     },
     "metadata": {},
     "output_type": "display_data"
    },
    {
     "data": {
      "text/html": [
       "<table class=\"dataframe\">\n",
       "<caption>A data.frame: 2 × 2</caption>\n",
       "<thead>\n",
       "\t<tr><th></th><th scope=col>student</th><th scope=col>midterm</th></tr>\n",
       "\t<tr><th></th><th scope=col>&lt;chr&gt;</th><th scope=col>&lt;dbl&gt;</th></tr>\n",
       "</thead>\n",
       "<tbody>\n",
       "\t<tr><th scope=row>1</th><td>Alice  </td><td>95</td></tr>\n",
       "\t<tr><th scope=row>3</th><td>Charlie</td><td>70</td></tr>\n",
       "</tbody>\n",
       "</table>\n"
      ],
      "text/latex": [
       "A data.frame: 2 × 2\n",
       "\\begin{tabular}{r|ll}\n",
       "  & student & midterm\\\\\n",
       "  & <chr> & <dbl>\\\\\n",
       "\\hline\n",
       "\t1 & Alice   & 95\\\\\n",
       "\t3 & Charlie & 70\\\\\n",
       "\\end{tabular}\n"
      ],
      "text/markdown": [
       "\n",
       "A data.frame: 2 × 2\n",
       "\n",
       "| <!--/--> | student &lt;chr&gt; | midterm &lt;dbl&gt; |\n",
       "|---|---|---|\n",
       "| 1 | Alice   | 95 |\n",
       "| 3 | Charlie | 70 |\n",
       "\n"
      ],
      "text/plain": [
       "  student midterm\n",
       "1 Alice   95     \n",
       "3 Charlie 70     "
      ]
     },
     "metadata": {},
     "output_type": "display_data"
    }
   ],
   "source": [
    "grades[, \"student\"] # retrieve student column\n",
    "grades[, c(\"student\", \"midterm\")] # retrieve student and midterm columns\n",
    "grades[c(1,3), \"student\"] # retrieve student column for rows 1 and 3\n",
    "grades[c(1,3), c(\"student\", \"midterm\")] # retrieve student and midterm columns for rows 1 and 3"
   ]
  },
  {
   "cell_type": "code",
   "execution_count": 10,
   "metadata": {
    "vscode": {
     "languageId": "r"
    }
   },
   "outputs": [
    {
     "name": "stdout",
     "output_type": "stream",
     "text": [
      "Rows: 4,941\n",
      "Columns: 20\n",
      "$ AirlineID          \u001b[3m\u001b[90m<chr>\u001b[39m\u001b[23m \"3U\", \"3U\", \"3U\", \"3U\", \"3U\", \"3U\", \"3U\", \"3U\", \"3U…\n",
      "$ ScheduleStartDate  \u001b[3m\u001b[90m<chr>\u001b[39m\u001b[23m \"2023-10-13\", \"2023-10-20\", \"2023-10-27\", \"2023-10-…\n",
      "$ ScheduleEndDate    \u001b[3m\u001b[90m<chr>\u001b[39m\u001b[23m \"2023-10-15\", \"2023-10-22\", \"2023-10-27\", \"2023-10-…\n",
      "$ FlightNumber       \u001b[3m\u001b[90m<chr>\u001b[39m\u001b[23m \"3U3783\", \"3U3783\", \"3U3783\", \"3U3784\", \"3U3784\", \"…\n",
      "$ DepartureAirportID \u001b[3m\u001b[90m<chr>\u001b[39m\u001b[23m \"CKG\", \"CKG\", \"CKG\", \"TSA\", \"TSA\", \"TSA\", \"TFU\", \"T…\n",
      "$ DepartureTime      \u001b[3m\u001b[90m<chr>\u001b[39m\u001b[23m \"15:00\", \"15:00\", \"15:00\", \"19:00\", \"19:00\", \"19:00…\n",
      "$ CodeShare          \u001b[3m\u001b[90m<list>\u001b[39m\u001b[23m [<data.frame[0 x 0]>], [<data.frame[0 x 0]>], [<da…\n",
      "$ ArrivalAirportID   \u001b[3m\u001b[90m<chr>\u001b[39m\u001b[23m \"TSA\", \"TSA\", \"TSA\", \"CKG\", \"CKG\", \"CKG\", \"TSA\", \"T…\n",
      "$ ArrivalTime        \u001b[3m\u001b[90m<chr>\u001b[39m\u001b[23m \"18:00\", \"18:00\", \"18:00\", \"22:15\", \"22:15\", \"22:15…\n",
      "$ Monday             \u001b[3m\u001b[90m<lgl>\u001b[39m\u001b[23m FALSE, FALSE, FALSE, FALSE, FALSE, FALSE, TRUE, TRU…\n",
      "$ Tuesday            \u001b[3m\u001b[90m<lgl>\u001b[39m\u001b[23m FALSE, FALSE, FALSE, FALSE, FALSE, FALSE, FALSE, FA…\n",
      "$ Wednesday          \u001b[3m\u001b[90m<lgl>\u001b[39m\u001b[23m FALSE, FALSE, FALSE, FALSE, FALSE, FALSE, TRUE, TRU…\n",
      "$ Thursday           \u001b[3m\u001b[90m<lgl>\u001b[39m\u001b[23m FALSE, FALSE, FALSE, FALSE, FALSE, FALSE, FALSE, FA…\n",
      "$ Friday             \u001b[3m\u001b[90m<lgl>\u001b[39m\u001b[23m TRUE, TRUE, TRUE, TRUE, TRUE, TRUE, TRUE, TRUE, TRU…\n",
      "$ Saturday           \u001b[3m\u001b[90m<lgl>\u001b[39m\u001b[23m FALSE, FALSE, FALSE, FALSE, FALSE, FALSE, FALSE, FA…\n",
      "$ Sunday             \u001b[3m\u001b[90m<lgl>\u001b[39m\u001b[23m TRUE, TRUE, FALSE, TRUE, TRUE, FALSE, TRUE, TRUE, F…\n",
      "$ UpdateTime         \u001b[3m\u001b[90m<chr>\u001b[39m\u001b[23m \"2023-10-10T08:26:07+08:00\", \"2023-10-10T08:26:07+0…\n",
      "$ VersionID          \u001b[3m\u001b[90m<int>\u001b[39m\u001b[23m 1111, 1111, 1111, 1111, 1111, 1111, 1111, 1111, 111…\n",
      "$ Terminal           \u001b[3m\u001b[90m<chr>\u001b[39m\u001b[23m NA, NA, NA, NA, NA, NA, NA, NA, NA, NA, NA, NA, \"1\"…\n",
      "$ num_codeShare      \u001b[3m\u001b[90m<int>\u001b[39m\u001b[23m 0, 0, 0, 0, 0, 0, 0, 0, 0, 0, 0, 0, 0, 0, 0, 0, 0, …\n"
     ]
    }
   ],
   "source": [
    "dplyr::glimpse(flights$data[[1]]$data_frame)"
   ]
  },
  {
   "cell_type": "markdown",
   "metadata": {},
   "source": [
    "> If you encounter errors saying No Package `dplyr` can be found, please install it via `install.packages(\"dplyr\")`"
   ]
  },
  {
   "cell_type": "markdown",
   "metadata": {},
   "source": [
    "### Column element's class"
   ]
  },
  {
   "cell_type": "code",
   "execution_count": 11,
   "metadata": {
    "vscode": {
     "languageId": "r"
    }
   },
   "outputs": [
    {
     "data": {
      "text/html": [
       "<style>\n",
       ".list-inline {list-style: none; margin:0; padding: 0}\n",
       ".list-inline>li {display: inline-block}\n",
       ".list-inline>li:not(:last-child)::after {content: \"\\00b7\"; padding: 0 .5ex}\n",
       "</style>\n",
       "<ol class=list-inline><li>'AirlineID'</li><li>'ScheduleStartDate'</li><li>'ScheduleEndDate'</li><li>'FlightNumber'</li><li>'DepartureAirportID'</li><li>'DepartureTime'</li><li>'CodeShare'</li><li>'ArrivalAirportID'</li><li>'ArrivalTime'</li><li>'Monday'</li><li>'Tuesday'</li><li>'Wednesday'</li><li>'Thursday'</li><li>'Friday'</li><li>'Saturday'</li><li>'Sunday'</li><li>'UpdateTime'</li><li>'VersionID'</li><li>'Terminal'</li><li>'num_codeShare'</li></ol>\n"
      ],
      "text/latex": [
       "\\begin{enumerate*}\n",
       "\\item 'AirlineID'\n",
       "\\item 'ScheduleStartDate'\n",
       "\\item 'ScheduleEndDate'\n",
       "\\item 'FlightNumber'\n",
       "\\item 'DepartureAirportID'\n",
       "\\item 'DepartureTime'\n",
       "\\item 'CodeShare'\n",
       "\\item 'ArrivalAirportID'\n",
       "\\item 'ArrivalTime'\n",
       "\\item 'Monday'\n",
       "\\item 'Tuesday'\n",
       "\\item 'Wednesday'\n",
       "\\item 'Thursday'\n",
       "\\item 'Friday'\n",
       "\\item 'Saturday'\n",
       "\\item 'Sunday'\n",
       "\\item 'UpdateTime'\n",
       "\\item 'VersionID'\n",
       "\\item 'Terminal'\n",
       "\\item 'num\\_codeShare'\n",
       "\\end{enumerate*}\n"
      ],
      "text/markdown": [
       "1. 'AirlineID'\n",
       "2. 'ScheduleStartDate'\n",
       "3. 'ScheduleEndDate'\n",
       "4. 'FlightNumber'\n",
       "5. 'DepartureAirportID'\n",
       "6. 'DepartureTime'\n",
       "7. 'CodeShare'\n",
       "8. 'ArrivalAirportID'\n",
       "9. 'ArrivalTime'\n",
       "10. 'Monday'\n",
       "11. 'Tuesday'\n",
       "12. 'Wednesday'\n",
       "13. 'Thursday'\n",
       "14. 'Friday'\n",
       "15. 'Saturday'\n",
       "16. 'Sunday'\n",
       "17. 'UpdateTime'\n",
       "18. 'VersionID'\n",
       "19. 'Terminal'\n",
       "20. 'num_codeShare'\n",
       "\n",
       "\n"
      ],
      "text/plain": [
       " [1] \"AirlineID\"          \"ScheduleStartDate\"  \"ScheduleEndDate\"   \n",
       " [4] \"FlightNumber\"       \"DepartureAirportID\" \"DepartureTime\"     \n",
       " [7] \"CodeShare\"          \"ArrivalAirportID\"   \"ArrivalTime\"       \n",
       "[10] \"Monday\"             \"Tuesday\"            \"Wednesday\"         \n",
       "[13] \"Thursday\"           \"Friday\"             \"Saturday\"          \n",
       "[16] \"Sunday\"             \"UpdateTime\"         \"VersionID\"         \n",
       "[19] \"Terminal\"           \"num_codeShare\"     "
      ]
     },
     "metadata": {},
     "output_type": "display_data"
    }
   ],
   "source": [
    "# check column names \n",
    "names(flightsData)"
   ]
  },
  {
   "cell_type": "code",
   "execution_count": 12,
   "metadata": {
    "vscode": {
     "languageId": "r"
    }
   },
   "outputs": [
    {
     "data": {
      "text/html": [
       "'character'"
      ],
      "text/latex": [
       "'character'"
      ],
      "text/markdown": [
       "'character'"
      ],
      "text/plain": [
       "[1] \"character\""
      ]
     },
     "metadata": {},
     "output_type": "display_data"
    },
    {
     "data": {
      "text/html": [
       "'character'"
      ],
      "text/latex": [
       "'character'"
      ],
      "text/markdown": [
       "'character'"
      ],
      "text/plain": [
       "[1] \"character\""
      ]
     },
     "metadata": {},
     "output_type": "display_data"
    }
   ],
   "source": [
    "class(flightsData$AirlineID)\n",
    "class(flightsData$ScheduleStartDate)"
   ]
  },
  {
   "cell_type": "markdown",
   "metadata": {},
   "source": [
    "## Factor class\n"
   ]
  },
  {
   "cell_type": "markdown",
   "metadata": {},
   "source": [
    "By default characters are imported as character class values. Pure character values are not very useful for analysis. We can not do much further analysis on it except reading its value.\n",
    "\n",
    "Some character values are actually categorical values. For example, the `AirlineID` column in `flightsData` data frame is a categorical value. \n",
    "\n",
    "Categorical values: \n",
    "\n",
    "- have a limited number of possible values\n",
    "  - How many distinct values? For each categorical value, how many rows are there?  \n",
    "\n",
    "There is another special categorical values which can be compared. For example, there are 10 households data. We categorise them into \"low income\", \"middle income\", \"high income\". \n",
    "\n",
    "- \"low income\" < \"middle income\" < \"high income\""
   ]
  },
  {
   "cell_type": "code",
   "execution_count": 13,
   "metadata": {
    "vscode": {
     "languageId": "r"
    }
   },
   "outputs": [],
   "source": [
    "householdIncomes <- c(\n",
    "    \"middle income\", \"high income\", \"middle income\", \"low income\",\n",
    "    \"middle income\", \"high income\", \"high income\", \"low income\",\n",
    "    \"high income\", \"middle income\", \"high income\", \"middle income\"\n",
    ")\n"
   ]
  },
  {
   "cell_type": "markdown",
   "metadata": {},
   "source": [
    "In R, categorical values should be parsed into `factor` or `ordered factor` class. `ordered factor` is for categorical values which can be compared."
   ]
  },
  {
   "cell_type": "code",
   "execution_count": 14,
   "metadata": {
    "vscode": {
     "languageId": "r"
    }
   },
   "outputs": [
    {
     "data": {
      "text/html": [
       "'character'"
      ],
      "text/latex": [
       "'character'"
      ],
      "text/markdown": [
       "'character'"
      ],
      "text/plain": [
       "[1] \"character\""
      ]
     },
     "metadata": {},
     "output_type": "display_data"
    }
   ],
   "source": [
    "# we want it to be factor class\n",
    "class(flightsData$AirlineID)"
   ]
  },
  {
   "cell_type": "markdown",
   "metadata": {},
   "source": [
    "\n",
    "- [4.2.2 Factor](https://tpemartin.github.io/NTPU-R-for-Data-Science-EN/operations-on-atomic-vectors.html#factor)\n",
    "\n",
    "How to parse into (ordered) factor:"
   ]
  },
  {
   "cell_type": "code",
   "execution_count": 15,
   "metadata": {
    "vscode": {
     "languageId": "r"
    }
   },
   "outputs": [
    {
     "ename": "ERROR",
     "evalue": "Error in parse(text = x, srcfile = src): <text>:2:12: unexpected symbol\n1: # parse to factor\n2: factor( an object\n              ^\n",
     "output_type": "error",
     "traceback": [
      "Error in parse(text = x, srcfile = src): <text>:2:12: unexpected symbol\n1: # parse to factor\n2: factor( an object\n              ^\nTraceback:\n"
     ]
    }
   ],
   "source": [
    "# parse to factor\n",
    "factor( an object of class character)\n",
    "\n",
    "# parse to ordered factor\n",
    "ordered( an object of class character, levels = a vector of levels from smallest to largest)"
   ]
  },
  {
   "cell_type": "markdown",
   "metadata": {},
   "source": [
    "> If an object to be parsed is not a character class, it will be converted into character implicitly first. "
   ]
  },
  {
   "cell_type": "code",
   "execution_count": null,
   "metadata": {
    "vscode": {
     "languageId": "r"
    }
   },
   "outputs": [],
   "source": [
    "fct_householdIncome <- factor(householdIncomes)\n",
    "\n",
    "ord_fct_householdIncome <- ordered(householdIncomes, levels = c(\"low income\", \"middle income\", \"high income\"))"
   ]
  },
  {
   "cell_type": "markdown",
   "metadata": {},
   "source": [
    "### Fequency table\n",
    "\n",
    "How many distinct values? For each categorical value, how many of them are there?"
   ]
  },
  {
   "cell_type": "code",
   "execution_count": null,
   "metadata": {
    "vscode": {
     "languageId": "r"
    }
   },
   "outputs": [
    {
     "data": {
      "text/plain": [
       "fct_householdIncome\n",
       "  high income    low income middle income \n",
       "            5             2             5 "
      ]
     },
     "metadata": {},
     "output_type": "display_data"
    },
    {
     "data": {
      "text/plain": [
       "ord_fct_householdIncome\n",
       "   low income middle income   high income \n",
       "            2             5             5 "
      ]
     },
     "metadata": {},
     "output_type": "display_data"
    }
   ],
   "source": [
    "# Counts on each level\n",
    "\n",
    "table(fct_householdIncome)\n",
    "table(ord_fct_householdIncome)"
   ]
  },
  {
   "cell_type": "markdown",
   "metadata": {},
   "source": [
    "For each categorical value, how much proportion does it take?"
   ]
  },
  {
   "cell_type": "code",
   "execution_count": null,
   "metadata": {
    "vscode": {
     "languageId": "r"
    }
   },
   "outputs": [
    {
     "data": {
      "text/plain": [
       "fct_householdIncome\n",
       "  high income    low income middle income \n",
       "    0.4166667     0.1666667     0.4166667 "
      ]
     },
     "metadata": {},
     "output_type": "display_data"
    },
    {
     "data": {
      "text/plain": [
       "ord_fct_householdIncome\n",
       "   low income middle income   high income \n",
       "    0.1666667     0.4166667     0.4166667 "
      ]
     },
     "metadata": {},
     "output_type": "display_data"
    }
   ],
   "source": [
    "# Proportion on each level\n",
    "tb_fct_householdIncome <- table(fct_householdIncome)\n",
    "prop.table(tb_fct_householdIncome)\n",
    "\n",
    "tb_ord_fct_householdIncome <- table(ord_fct_householdIncome)\n",
    "prop.table(tb_ord_fct_householdIncome)"
   ]
  },
  {
   "cell_type": "markdown",
   "metadata": {},
   "source": [
    "### Levels\n",
    "\n",
    "What are those distinct categorical values?"
   ]
  },
  {
   "cell_type": "code",
   "execution_count": null,
   "metadata": {
    "vscode": {
     "languageId": "r"
    }
   },
   "outputs": [
    {
     "data": {
      "text/html": [
       "<style>\n",
       ".list-inline {list-style: none; margin:0; padding: 0}\n",
       ".list-inline>li {display: inline-block}\n",
       ".list-inline>li:not(:last-child)::after {content: \"\\00b7\"; padding: 0 .5ex}\n",
       "</style>\n",
       "<ol class=list-inline><li>'high income'</li><li>'low income'</li><li>'middle income'</li></ol>\n"
      ],
      "text/latex": [
       "\\begin{enumerate*}\n",
       "\\item 'high income'\n",
       "\\item 'low income'\n",
       "\\item 'middle income'\n",
       "\\end{enumerate*}\n"
      ],
      "text/markdown": [
       "1. 'high income'\n",
       "2. 'low income'\n",
       "3. 'middle income'\n",
       "\n",
       "\n"
      ],
      "text/plain": [
       "[1] \"high income\"   \"low income\"    \"middle income\""
      ]
     },
     "metadata": {},
     "output_type": "display_data"
    }
   ],
   "source": [
    "levels(fct_householdIncome)"
   ]
  },
  {
   "cell_type": "markdown",
   "metadata": {},
   "source": [
    "### What levels do?\n",
    "\n",
    "> Sequence of levels determined how summaries and plots are ordered, unless otherwise specified. "
   ]
  },
  {
   "cell_type": "code",
   "execution_count": null,
   "metadata": {
    "vscode": {
     "languageId": "r"
    }
   },
   "outputs": [
    {
     "data": {
      "text/plain": [
       "fct_householdIncome\n",
       "  high income    low income middle income \n",
       "            5             2             5 "
      ]
     },
     "metadata": {},
     "output_type": "display_data"
    }
   ],
   "source": [
    "table(fct_householdIncome)"
   ]
  },
  {
   "cell_type": "code",
   "execution_count": null,
   "metadata": {
    "vscode": {
     "languageId": "r"
    }
   },
   "outputs": [
    {
     "data": {
      "text/html": [
       "<style>\n",
       ".list-inline {list-style: none; margin:0; padding: 0}\n",
       ".list-inline>li {display: inline-block}\n",
       ".list-inline>li:not(:last-child)::after {content: \"\\00b7\"; padding: 0 .5ex}\n",
       "</style>\n",
       "<ol class=list-inline><li>'high income'</li><li>'middle income'</li><li>'low income'</li></ol>\n"
      ],
      "text/latex": [
       "\\begin{enumerate*}\n",
       "\\item 'high income'\n",
       "\\item 'middle income'\n",
       "\\item 'low income'\n",
       "\\end{enumerate*}\n"
      ],
      "text/markdown": [
       "1. 'high income'\n",
       "2. 'middle income'\n",
       "3. 'low income'\n",
       "\n",
       "\n"
      ],
      "text/plain": [
       "[1] \"high income\"   \"middle income\" \"low income\"   "
      ]
     },
     "metadata": {},
     "output_type": "display_data"
    },
    {
     "data": {
      "text/plain": [
       "fct_householdIncome2\n",
       "  high income middle income    low income \n",
       "            5             5             2 "
      ]
     },
     "metadata": {},
     "output_type": "display_data"
    }
   ],
   "source": [
    "fct_householdIncome2 <- \n",
    "    factor(householdIncomes, \n",
    "    levels = c(\"high income\", \"middle income\", \"low income\"))\n",
    "\n",
    "levels(fct_householdIncome2)\n",
    "\n",
    "table(fct_householdIncome2)"
   ]
  },
  {
   "cell_type": "markdown",
   "metadata": {},
   "source": [
    "> Other than sequence of summaries and plots, **ordered factor**'s levels determined how levels are compared."
   ]
  },
  {
   "cell_type": "code",
   "execution_count": null,
   "metadata": {
    "vscode": {
     "languageId": "r"
    }
   },
   "outputs": [
    {
     "data": {
      "text/html": [
       "<style>\n",
       ".list-inline {list-style: none; margin:0; padding: 0}\n",
       ".list-inline>li {display: inline-block}\n",
       ".list-inline>li:not(:last-child)::after {content: \"\\00b7\"; padding: 0 .5ex}\n",
       "</style>\n",
       "<ol class=list-inline><li>'low income'</li><li>'middle income'</li><li>'high income'</li></ol>\n"
      ],
      "text/latex": [
       "\\begin{enumerate*}\n",
       "\\item 'low income'\n",
       "\\item 'middle income'\n",
       "\\item 'high income'\n",
       "\\end{enumerate*}\n"
      ],
      "text/markdown": [
       "1. 'low income'\n",
       "2. 'middle income'\n",
       "3. 'high income'\n",
       "\n",
       "\n"
      ],
      "text/plain": [
       "[1] \"low income\"    \"middle income\" \"high income\"  "
      ]
     },
     "metadata": {},
     "output_type": "display_data"
    }
   ],
   "source": [
    "levels(ord_fct_householdIncome)"
   ]
  },
  {
   "cell_type": "markdown",
   "metadata": {},
   "source": [
    "\n",
    "\n",
    "> Ordered factor can be compared. For example, \"low income\" < \"middle income\" < \"high income\". `LHS < RHS` is to check if `LHS` element values are smaller than `RHS` element values."
   ]
  },
  {
   "cell_type": "code",
   "execution_count": null,
   "metadata": {
    "vscode": {
     "languageId": "r"
    }
   },
   "outputs": [
    {
     "data": {
      "text/html": [
       "TRUE"
      ],
      "text/latex": [
       "TRUE"
      ],
      "text/markdown": [
       "TRUE"
      ],
      "text/plain": [
       "[1] TRUE"
      ]
     },
     "metadata": {},
     "output_type": "display_data"
    }
   ],
   "source": [
    "# Avoid comparing two strings with <, >, <=, >=\n",
    "\"high income\" < \"middle income\""
   ]
  },
  {
   "cell_type": "markdown",
   "metadata": {},
   "source": [
    "> When comparing strings, it is comparing the first letter's position in a-z (a is the smallest, z is the largetst). \"h\" is smaller than \"m\" because \"h\" is the 8th letter in a-z, \"m\" is the 13th letter in a-z."
   ]
  },
  {
   "cell_type": "code",
   "execution_count": null,
   "metadata": {
    "vscode": {
     "languageId": "r"
    }
   },
   "outputs": [
    {
     "data": {
      "text/html": [
       "<style>\n",
       ".list-inline {list-style: none; margin:0; padding: 0}\n",
       ".list-inline>li {display: inline-block}\n",
       ".list-inline>li:not(:last-child)::after {content: \"\\00b7\"; padding: 0 .5ex}\n",
       "</style>\n",
       "<ol class=list-inline><li>middle income</li><li>high income</li><li>middle income</li><li>low income</li><li>middle income</li><li>high income</li></ol>\n",
       "\n",
       "<details>\n",
       "\t<summary style=display:list-item;cursor:pointer>\n",
       "\t\t<strong>Levels</strong>:\n",
       "\t</summary>\n",
       "\t<style>\n",
       "\t.list-inline {list-style: none; margin:0; padding: 0}\n",
       "\t.list-inline>li {display: inline-block}\n",
       "\t.list-inline>li:not(:last-child)::after {content: \"\\00b7\"; padding: 0 .5ex}\n",
       "\t</style>\n",
       "\t<ol class=list-inline><li>'low income'</li><li>'middle income'</li><li>'high income'</li></ol>\n",
       "</details>"
      ],
      "text/latex": [
       "\\begin{enumerate*}\n",
       "\\item middle income\n",
       "\\item high income\n",
       "\\item middle income\n",
       "\\item low income\n",
       "\\item middle income\n",
       "\\item high income\n",
       "\\end{enumerate*}\n",
       "\n",
       "\\emph{Levels}: \\begin{enumerate*}\n",
       "\\item 'low income'\n",
       "\\item 'middle income'\n",
       "\\item 'high income'\n",
       "\\end{enumerate*}\n"
      ],
      "text/markdown": [
       "1. middle income\n",
       "2. high income\n",
       "3. middle income\n",
       "4. low income\n",
       "5. middle income\n",
       "6. high income\n",
       "\n",
       "\n",
       "\n",
       "**Levels**: 1. 'low income'\n",
       "2. 'middle income'\n",
       "3. 'high income'\n",
       "\n",
       "\n"
      ],
      "text/plain": [
       "[1] middle income high income   middle income low income    middle income\n",
       "[6] high income  \n",
       "Levels: low income < middle income < high income"
      ]
     },
     "metadata": {},
     "output_type": "display_data"
    },
    {
     "data": {
      "text/html": [
       "<style>\n",
       ".list-inline {list-style: none; margin:0; padding: 0}\n",
       ".list-inline>li {display: inline-block}\n",
       ".list-inline>li:not(:last-child)::after {content: \"\\00b7\"; padding: 0 .5ex}\n",
       "</style>\n",
       "<ol class=list-inline><li>TRUE</li><li>FALSE</li><li>TRUE</li><li>TRUE</li><li>TRUE</li><li>FALSE</li></ol>\n"
      ],
      "text/latex": [
       "\\begin{enumerate*}\n",
       "\\item TRUE\n",
       "\\item FALSE\n",
       "\\item TRUE\n",
       "\\item TRUE\n",
       "\\item TRUE\n",
       "\\item FALSE\n",
       "\\end{enumerate*}\n"
      ],
      "text/markdown": [
       "1. TRUE\n",
       "2. FALSE\n",
       "3. TRUE\n",
       "4. TRUE\n",
       "5. TRUE\n",
       "6. FALSE\n",
       "\n",
       "\n"
      ],
      "text/plain": [
       "[1]  TRUE FALSE  TRUE  TRUE  TRUE FALSE"
      ]
     },
     "metadata": {},
     "output_type": "display_data"
    }
   ],
   "source": [
    "# values in ordered factor can be compared to a level string\n",
    "head(ord_fct_householdIncome)\n",
    "head(ord_fct_householdIncome) < \"high income\"\n"
   ]
  },
  {
   "cell_type": "markdown",
   "metadata": {},
   "source": [
    "## Flight data"
   ]
  },
  {
   "cell_type": "code",
   "execution_count": 16,
   "metadata": {
    "vscode": {
     "languageId": "r"
    }
   },
   "outputs": [
    {
     "data": {
      "text/html": [
       "'factor'"
      ],
      "text/latex": [
       "'factor'"
      ],
      "text/markdown": [
       "'factor'"
      ],
      "text/plain": [
       "[1] \"factor\""
      ]
     },
     "metadata": {},
     "output_type": "display_data"
    }
   ],
   "source": [
    "flightsData[[\"AirlineID\"]] <- factor(flightsData[[\"AirlineID\"]])\n",
    "\n",
    "class(flightsData$AirlineID)"
   ]
  },
  {
   "cell_type": "markdown",
   "metadata": {},
   "source": [
    "> `factor(flightsData$AirlineID)` is involved with two steps:\n",
    "> 1. Name call `flightsData[[\"AirlineID\"]]` or `flightsData$AirlineID` to get the column element values, and make a copy of it (so won't change the original column element values).\n",
    "> 2. `factor(...)` parsed the copied column element values into factor class values.  \n",
    "> The entire process is dealing with a copied value of `flightsData$AirlineID` column element values. The original column element values are not changed. \n",
    "> If we want `flightsData$AirlineID` column element values to be parsed into factor class values **PERMANENTLY**, we need to assign the result of `factor(...)` back to `flightsData$AirlineID` column element values.\n",
    "\n",
    "> In R, most **name call** is dealing with a copy of the original values. The original values are not changed. If you want the original values to be changed, you need to assign the result of name call back to the original values. "
   ]
  },
  {
   "cell_type": "code",
   "execution_count": 39,
   "metadata": {
    "vscode": {
     "languageId": "r"
    }
   },
   "outputs": [
    {
     "data": {
      "text/plain": [
       "\n",
       " 3U  5J  7C  9C  AA  AC  AE  AF  AI  AK  AV  AZ  B7  BI  BR  BX  CA  CI  CM  CX \n",
       " 12  40  35   6   6  27  40   3  30  12  36   6  83  60 730  14 112 801  39  86 \n",
       " CZ  D7  DL  EK  FD  FM  GA  GK  HA  HB  HO  HU  HX  IT  JL  JX  KE  KL  LH  LJ \n",
       " 62  16  75  32  21  30   6   8  24  18  43  21  60 277 101 304  42  33   6  14 \n",
       " LY  MF  MH  MM  MU  NH  NU  NX  NZ  OD  OZ  PG  PR  QF  QH  RF  RW  SC  SL  SQ \n",
       " 10  52  49  80  85 116   2  68 111  42  35  24  41  21  14  12   6   6  26 143 \n",
       " TG  TK  TR  TW  UA  UK  UO  UX  VJ  VN  VZ  WE  Z2  ZH \n",
       "220  43  53  26   6  12  44  12  67  51  39  12  24  18 "
      ]
     },
     "metadata": {},
     "output_type": "display_data"
    }
   ],
   "source": [
    "tb_airlineID <-  table(flightsData$AirlineID)\n",
    "tb_airlineID"
   ]
  },
  {
   "cell_type": "code",
   "execution_count": 41,
   "metadata": {
    "vscode": {
     "languageId": "r"
    }
   },
   "outputs": [
    {
     "data": {
      "text/html": [
       "'integer'"
      ],
      "text/latex": [
       "'integer'"
      ],
      "text/markdown": [
       "'integer'"
      ],
      "text/plain": [
       "[1] \"integer\""
      ]
     },
     "metadata": {},
     "output_type": "display_data"
    }
   ],
   "source": [
    "typeof(tb_airlineID)"
   ]
  },
  {
   "cell_type": "markdown",
   "metadata": {},
   "source": [
    "For `integer` type values, we can `sort` it."
   ]
  },
  {
   "cell_type": "code",
   "execution_count": 42,
   "metadata": {
    "vscode": {
     "languageId": "r"
    }
   },
   "outputs": [
    {
     "data": {
      "text/plain": [
       "\n",
       " NU  AF  9C  AA  AZ  GA  LH  RW  SC  UA  GK  LY  3U  AK  RF  UK  UX  WE  BX  LJ \n",
       "  2   3   6   6   6   6   6   6   6   6   8  10  12  12  12  12  12  12  14  14 \n",
       " QH  D7  HB  ZH  FD  HU  QF  HA  PG  Z2  SL  TW  AC  AI  FM  EK  KL  7C  OZ  AV \n",
       " 14  16  18  18  21  21  21  24  24  24  26  26  27  30  30  32  33  35  35  36 \n",
       " CM  VZ  5J  AE  PR  KE  OD  HO  TK  UO  MH  VN  MF  TR  BI  HX  CZ  VJ  NX  DL \n",
       " 39  39  40  40  41  42  42  43  43  44  49  51  52  53  60  60  62  67  68  75 \n",
       " MM  B7  MU  CX  JL  NZ  CA  NH  SQ  TG  IT  JX  BR  CI \n",
       " 80  83  85  86 101 111 112 116 143 220 277 304 730 801 "
      ]
     },
     "metadata": {},
     "output_type": "display_data"
    },
    {
     "data": {
      "text/plain": [
       "\n",
       " CI  BR  JX  IT  TG  SQ  NH  CA  NZ  JL  CX  MU  B7  MM  DL  NX  VJ  CZ  BI  HX \n",
       "801 730 304 277 220 143 116 112 111 101  86  85  83  80  75  68  67  62  60  60 \n",
       " TR  MF  VN  MH  UO  HO  TK  KE  OD  PR  5J  AE  CM  VZ  AV  7C  OZ  KL  EK  AI \n",
       " 53  52  51  49  44  43  43  42  42  41  40  40  39  39  36  35  35  33  32  30 \n",
       " FM  AC  SL  TW  HA  PG  Z2  FD  HU  QF  HB  ZH  D7  BX  LJ  QH  3U  AK  RF  UK \n",
       " 30  27  26  26  24  24  24  21  21  21  18  18  16  14  14  14  12  12  12  12 \n",
       " UX  WE  LY  GK  9C  AA  AZ  GA  LH  RW  SC  UA  AF  NU \n",
       " 12  12  10   8   6   6   6   6   6   6   6   6   3   2 "
      ]
     },
     "metadata": {},
     "output_type": "display_data"
    }
   ],
   "source": [
    "sort(tb_airlineID)\n",
    "\n",
    "sort(tb_airlineID, decreasing = TRUE)"
   ]
  },
  {
   "cell_type": "markdown",
   "metadata": {},
   "source": [
    "- [Airports and airlines search](https://www.iata.org/en/publications/directories/code-search/)"
   ]
  },
  {
   "cell_type": "markdown",
   "metadata": {},
   "source": [
    "## Update your progress"
   ]
  },
  {
   "cell_type": "code",
   "execution_count": 45,
   "metadata": {
    "vscode": {
     "languageId": "r"
    }
   },
   "outputs": [],
   "source": [
    "flights$data[[1]]$data_frame <- flightsData\n",
    "\n",
    "flights$data[[1]][[\"analysis\"]][[\"airlineID\"]][[\"frequency_count\"]] <- sort(tb_airlineID, decreasing = TRUE)\n",
    "\n",
    "saveRDS(flights, \"data/flights.rds\")"
   ]
  }
 ],
 "metadata": {
  "kernelspec": {
   "display_name": "R",
   "language": "R",
   "name": "ir"
  },
  "language_info": {
   "codemirror_mode": "r",
   "file_extension": ".r",
   "mimetype": "text/x-r-source",
   "name": "R",
   "pygments_lexer": "r",
   "version": "4.2.2"
  }
 },
 "nbformat": 4,
 "nbformat_minor": 2
}
