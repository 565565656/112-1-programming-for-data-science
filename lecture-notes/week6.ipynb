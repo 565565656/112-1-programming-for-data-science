{
 "cells": [
  {
   "cell_type": "code",
   "execution_count": 2,
   "metadata": {
    "vscode": {
     "languageId": "r"
    }
   },
   "outputs": [
    {
     "data": {
      "text/html": [
       "'en_US.UTF-8'"
      ],
      "text/latex": [
       "'en\\_US.UTF-8'"
      ],
      "text/markdown": [
       "'en_US.UTF-8'"
      ],
      "text/plain": [
       "[1] \"en_US.UTF-8\""
      ]
     },
     "metadata": {},
     "output_type": "display_data"
    }
   ],
   "source": [
    "# To ensure Chinese characters are displayed correctly\n",
    "options(encoding = \"UTF-8\")\n",
    "Sys.setlocale(\"LC_CTYPE\", \"en_US.UTF-8\")"
   ]
  },
  {
   "cell_type": "markdown",
   "metadata": {},
   "source": [
    "# Read progress file"
   ]
  },
  {
   "cell_type": "code",
   "execution_count": 1,
   "metadata": {
    "vscode": {
     "languageId": "r"
    }
   },
   "outputs": [],
   "source": [
    "flights = readRDS(\"data/flights.rds\")"
   ]
  },
  {
   "cell_type": "code",
   "execution_count": null,
   "metadata": {
    "vscode": {
     "languageId": "r"
    }
   },
   "outputs": [],
   "source": [
    "# check the progress object structure\n",
    "str(flights)"
   ]
  },
  {
   "cell_type": "markdown",
   "metadata": {},
   "source": [
    "![](../img/str_flight.png)"
   ]
  },
  {
   "cell_type": "markdown",
   "metadata": {},
   "source": [
    "- `flights` is a list with one element `data` (We can take `data` out via `$data`)\n",
    "- `data` element is a list of one element (no name on that element). (We can take that element out via `[[1]]`)\n",
    "- The first element of `data` is a list of three elements, named `file`, `meta` and `data_frame`. (We can take `data_frame` out via `$data_frame`)"
   ]
  },
  {
   "cell_type": "code",
   "execution_count": 4,
   "metadata": {
    "vscode": {
     "languageId": "r"
    }
   },
   "outputs": [],
   "source": [
    "flightsData <- flights$data[[1]]$data_frame"
   ]
  },
  {
   "cell_type": "markdown",
   "metadata": {},
   "source": [
    "> You can also interactively find out how to retrieve an element inside a list following:\n",
    "> #### Step 1:\n",
    "> ![observe flights1](img/observe_flights1.png)\n",
    "> #### Step 2:\n",
    "> ![observe flights2](img/observe_flights2.png)"
   ]
  },
  {
   "cell_type": "markdown",
   "metadata": {},
   "source": [
    "## Analysis on Data Frame\n",
    "\n",
    "### Recap\n",
    "\n",
    "Data Frame is an extended class from list. "
   ]
  },
  {
   "cell_type": "code",
   "execution_count": 8,
   "metadata": {
    "vscode": {
     "languageId": "r"
    }
   },
   "outputs": [],
   "source": [
    "# Consider the following data frame of student grades\n",
    "\n",
    "grades = data.frame(\n",
    "    student = c(\"Alice\", \"Bob\", \"Charlie\", \"David\", \"Eve\"),\n",
    "    midterm = c(95, 80, 70, 60, 75),\n",
    "    final = c(90, 85, 75, 95, 80)\n",
    ")\n"
   ]
  },
  {
   "cell_type": "markdown",
   "metadata": {},
   "source": [
    "  - It is like a list with named elements. Each element can be retrieve via `[[...]]` or `$...`"
   ]
  },
  {
   "cell_type": "code",
   "execution_count": 9,
   "metadata": {
    "vscode": {
     "languageId": "r"
    }
   },
   "outputs": [
    {
     "data": {
      "text/html": [
       "<style>\n",
       ".list-inline {list-style: none; margin:0; padding: 0}\n",
       ".list-inline>li {display: inline-block}\n",
       ".list-inline>li:not(:last-child)::after {content: \"\\00b7\"; padding: 0 .5ex}\n",
       "</style>\n",
       "<ol class=list-inline><li>'Alice'</li><li>'Bob'</li><li>'Charlie'</li><li>'David'</li><li>'Eve'</li></ol>\n"
      ],
      "text/latex": [
       "\\begin{enumerate*}\n",
       "\\item 'Alice'\n",
       "\\item 'Bob'\n",
       "\\item 'Charlie'\n",
       "\\item 'David'\n",
       "\\item 'Eve'\n",
       "\\end{enumerate*}\n"
      ],
      "text/markdown": [
       "1. 'Alice'\n",
       "2. 'Bob'\n",
       "3. 'Charlie'\n",
       "4. 'David'\n",
       "5. 'Eve'\n",
       "\n",
       "\n"
      ],
      "text/plain": [
       "[1] \"Alice\"   \"Bob\"     \"Charlie\" \"David\"   \"Eve\"    "
      ]
     },
     "metadata": {},
     "output_type": "display_data"
    },
    {
     "data": {
      "text/html": [
       "<style>\n",
       ".list-inline {list-style: none; margin:0; padding: 0}\n",
       ".list-inline>li {display: inline-block}\n",
       ".list-inline>li:not(:last-child)::after {content: \"\\00b7\"; padding: 0 .5ex}\n",
       "</style>\n",
       "<ol class=list-inline><li>95</li><li>80</li><li>70</li><li>60</li><li>75</li></ol>\n"
      ],
      "text/latex": [
       "\\begin{enumerate*}\n",
       "\\item 95\n",
       "\\item 80\n",
       "\\item 70\n",
       "\\item 60\n",
       "\\item 75\n",
       "\\end{enumerate*}\n"
      ],
      "text/markdown": [
       "1. 95\n",
       "2. 80\n",
       "3. 70\n",
       "4. 60\n",
       "5. 75\n",
       "\n",
       "\n"
      ],
      "text/plain": [
       "[1] 95 80 70 60 75"
      ]
     },
     "metadata": {},
     "output_type": "display_data"
    }
   ],
   "source": [
    "grades[[\"student\"]]\n",
    "grades[[\"midterm\"]]"
   ]
  },
  {
   "cell_type": "code",
   "execution_count": 10,
   "metadata": {
    "vscode": {
     "languageId": "r"
    }
   },
   "outputs": [
    {
     "data": {
      "text/html": [
       "<style>\n",
       ".list-inline {list-style: none; margin:0; padding: 0}\n",
       ".list-inline>li {display: inline-block}\n",
       ".list-inline>li:not(:last-child)::after {content: \"\\00b7\"; padding: 0 .5ex}\n",
       "</style>\n",
       "<ol class=list-inline><li>'Alice'</li><li>'Bob'</li><li>'Charlie'</li><li>'David'</li><li>'Eve'</li></ol>\n"
      ],
      "text/latex": [
       "\\begin{enumerate*}\n",
       "\\item 'Alice'\n",
       "\\item 'Bob'\n",
       "\\item 'Charlie'\n",
       "\\item 'David'\n",
       "\\item 'Eve'\n",
       "\\end{enumerate*}\n"
      ],
      "text/markdown": [
       "1. 'Alice'\n",
       "2. 'Bob'\n",
       "3. 'Charlie'\n",
       "4. 'David'\n",
       "5. 'Eve'\n",
       "\n",
       "\n"
      ],
      "text/plain": [
       "[1] \"Alice\"   \"Bob\"     \"Charlie\" \"David\"   \"Eve\"    "
      ]
     },
     "metadata": {},
     "output_type": "display_data"
    },
    {
     "data": {
      "text/html": [
       "<style>\n",
       ".list-inline {list-style: none; margin:0; padding: 0}\n",
       ".list-inline>li {display: inline-block}\n",
       ".list-inline>li:not(:last-child)::after {content: \"\\00b7\"; padding: 0 .5ex}\n",
       "</style>\n",
       "<ol class=list-inline><li>95</li><li>80</li><li>70</li><li>60</li><li>75</li></ol>\n"
      ],
      "text/latex": [
       "\\begin{enumerate*}\n",
       "\\item 95\n",
       "\\item 80\n",
       "\\item 70\n",
       "\\item 60\n",
       "\\item 75\n",
       "\\end{enumerate*}\n"
      ],
      "text/markdown": [
       "1. 95\n",
       "2. 80\n",
       "3. 70\n",
       "4. 60\n",
       "5. 75\n",
       "\n",
       "\n"
      ],
      "text/plain": [
       "[1] 95 80 70 60 75"
      ]
     },
     "metadata": {},
     "output_type": "display_data"
    }
   ],
   "source": [
    "grades$student\n",
    "grades$midterm"
   ]
  },
  {
   "cell_type": "markdown",
   "metadata": {},
   "source": [
    "- It has an extra retrieval tool `[..., ...]` which allows you to retrieve a subset of the data frame."
   ]
  },
  {
   "cell_type": "code",
   "execution_count": 12,
   "metadata": {
    "vscode": {
     "languageId": "r"
    }
   },
   "outputs": [
    {
     "data": {
      "text/html": [
       "<style>\n",
       ".list-inline {list-style: none; margin:0; padding: 0}\n",
       ".list-inline>li {display: inline-block}\n",
       ".list-inline>li:not(:last-child)::after {content: \"\\00b7\"; padding: 0 .5ex}\n",
       "</style>\n",
       "<ol class=list-inline><li>'Alice'</li><li>'Bob'</li><li>'Charlie'</li><li>'David'</li><li>'Eve'</li></ol>\n"
      ],
      "text/latex": [
       "\\begin{enumerate*}\n",
       "\\item 'Alice'\n",
       "\\item 'Bob'\n",
       "\\item 'Charlie'\n",
       "\\item 'David'\n",
       "\\item 'Eve'\n",
       "\\end{enumerate*}\n"
      ],
      "text/markdown": [
       "1. 'Alice'\n",
       "2. 'Bob'\n",
       "3. 'Charlie'\n",
       "4. 'David'\n",
       "5. 'Eve'\n",
       "\n",
       "\n"
      ],
      "text/plain": [
       "[1] \"Alice\"   \"Bob\"     \"Charlie\" \"David\"   \"Eve\"    "
      ]
     },
     "metadata": {},
     "output_type": "display_data"
    },
    {
     "data": {
      "text/html": [
       "<table class=\"dataframe\">\n",
       "<caption>A data.frame: 5 × 2</caption>\n",
       "<thead>\n",
       "\t<tr><th scope=col>student</th><th scope=col>midterm</th></tr>\n",
       "\t<tr><th scope=col>&lt;chr&gt;</th><th scope=col>&lt;dbl&gt;</th></tr>\n",
       "</thead>\n",
       "<tbody>\n",
       "\t<tr><td>Alice  </td><td>95</td></tr>\n",
       "\t<tr><td>Bob    </td><td>80</td></tr>\n",
       "\t<tr><td>Charlie</td><td>70</td></tr>\n",
       "\t<tr><td>David  </td><td>60</td></tr>\n",
       "\t<tr><td>Eve    </td><td>75</td></tr>\n",
       "</tbody>\n",
       "</table>\n"
      ],
      "text/latex": [
       "A data.frame: 5 × 2\n",
       "\\begin{tabular}{ll}\n",
       " student & midterm\\\\\n",
       " <chr> & <dbl>\\\\\n",
       "\\hline\n",
       "\t Alice   & 95\\\\\n",
       "\t Bob     & 80\\\\\n",
       "\t Charlie & 70\\\\\n",
       "\t David   & 60\\\\\n",
       "\t Eve     & 75\\\\\n",
       "\\end{tabular}\n"
      ],
      "text/markdown": [
       "\n",
       "A data.frame: 5 × 2\n",
       "\n",
       "| student &lt;chr&gt; | midterm &lt;dbl&gt; |\n",
       "|---|---|\n",
       "| Alice   | 95 |\n",
       "| Bob     | 80 |\n",
       "| Charlie | 70 |\n",
       "| David   | 60 |\n",
       "| Eve     | 75 |\n",
       "\n"
      ],
      "text/plain": [
       "  student midterm\n",
       "1 Alice   95     \n",
       "2 Bob     80     \n",
       "3 Charlie 70     \n",
       "4 David   60     \n",
       "5 Eve     75     "
      ]
     },
     "metadata": {},
     "output_type": "display_data"
    },
    {
     "data": {
      "text/html": [
       "<style>\n",
       ".list-inline {list-style: none; margin:0; padding: 0}\n",
       ".list-inline>li {display: inline-block}\n",
       ".list-inline>li:not(:last-child)::after {content: \"\\00b7\"; padding: 0 .5ex}\n",
       "</style>\n",
       "<ol class=list-inline><li>'Alice'</li><li>'Charlie'</li></ol>\n"
      ],
      "text/latex": [
       "\\begin{enumerate*}\n",
       "\\item 'Alice'\n",
       "\\item 'Charlie'\n",
       "\\end{enumerate*}\n"
      ],
      "text/markdown": [
       "1. 'Alice'\n",
       "2. 'Charlie'\n",
       "\n",
       "\n"
      ],
      "text/plain": [
       "[1] \"Alice\"   \"Charlie\""
      ]
     },
     "metadata": {},
     "output_type": "display_data"
    },
    {
     "data": {
      "text/html": [
       "<table class=\"dataframe\">\n",
       "<caption>A data.frame: 2 × 2</caption>\n",
       "<thead>\n",
       "\t<tr><th></th><th scope=col>student</th><th scope=col>midterm</th></tr>\n",
       "\t<tr><th></th><th scope=col>&lt;chr&gt;</th><th scope=col>&lt;dbl&gt;</th></tr>\n",
       "</thead>\n",
       "<tbody>\n",
       "\t<tr><th scope=row>1</th><td>Alice  </td><td>95</td></tr>\n",
       "\t<tr><th scope=row>3</th><td>Charlie</td><td>70</td></tr>\n",
       "</tbody>\n",
       "</table>\n"
      ],
      "text/latex": [
       "A data.frame: 2 × 2\n",
       "\\begin{tabular}{r|ll}\n",
       "  & student & midterm\\\\\n",
       "  & <chr> & <dbl>\\\\\n",
       "\\hline\n",
       "\t1 & Alice   & 95\\\\\n",
       "\t3 & Charlie & 70\\\\\n",
       "\\end{tabular}\n"
      ],
      "text/markdown": [
       "\n",
       "A data.frame: 2 × 2\n",
       "\n",
       "| <!--/--> | student &lt;chr&gt; | midterm &lt;dbl&gt; |\n",
       "|---|---|---|\n",
       "| 1 | Alice   | 95 |\n",
       "| 3 | Charlie | 70 |\n",
       "\n"
      ],
      "text/plain": [
       "  student midterm\n",
       "1 Alice   95     \n",
       "3 Charlie 70     "
      ]
     },
     "metadata": {},
     "output_type": "display_data"
    }
   ],
   "source": [
    "grades[, \"student\"] # retrieve student column\n",
    "grades[, c(\"student\", \"midterm\")] # retrieve student and midterm columns\n",
    "grades[c(1,3), \"student\"] # retrieve student column for rows 1 and 3\n",
    "grades[c(1,3), c(\"student\", \"midterm\")] # retrieve student and midterm columns for rows 1 and 3"
   ]
  },
  {
   "cell_type": "code",
   "execution_count": 8,
   "metadata": {
    "vscode": {
     "languageId": "r"
    }
   },
   "outputs": [
    {
     "name": "stdout",
     "output_type": "stream",
     "text": [
      "Rows: 4,941\n",
      "Columns: 20\n",
      "$ AirlineID          \u001b[3m\u001b[90m<chr>\u001b[39m\u001b[23m \"3U\", \"3U\", \"3U\", \"3U\", \"3U\", \"3U\", \"3U\", \"3U\", \"3U~\n",
      "$ ScheduleStartDate  \u001b[3m\u001b[90m<chr>\u001b[39m\u001b[23m \"2023-10-13\", \"2023-10-20\", \"2023-10-27\", \"2023-10-~\n",
      "$ ScheduleEndDate    \u001b[3m\u001b[90m<chr>\u001b[39m\u001b[23m \"2023-10-15\", \"2023-10-22\", \"2023-10-27\", \"2023-10-~\n",
      "$ FlightNumber       \u001b[3m\u001b[90m<chr>\u001b[39m\u001b[23m \"3U3783\", \"3U3783\", \"3U3783\", \"3U3784\", \"3U3784\", \"~\n",
      "$ DepartureAirportID \u001b[3m\u001b[90m<chr>\u001b[39m\u001b[23m \"CKG\", \"CKG\", \"CKG\", \"TSA\", \"TSA\", \"TSA\", \"TFU\", \"T~\n",
      "$ DepartureTime      \u001b[3m\u001b[90m<chr>\u001b[39m\u001b[23m \"15:00\", \"15:00\", \"15:00\", \"19:00\", \"19:00\", \"19:00~\n",
      "$ CodeShare          \u001b[3m\u001b[90m<list>\u001b[39m\u001b[23m [<data.frame[0 x 0]>], [<data.frame[0 x 0]>], [<da~\n",
      "$ ArrivalAirportID   \u001b[3m\u001b[90m<chr>\u001b[39m\u001b[23m \"TSA\", \"TSA\", \"TSA\", \"CKG\", \"CKG\", \"CKG\", \"TSA\", \"T~\n",
      "$ ArrivalTime        \u001b[3m\u001b[90m<chr>\u001b[39m\u001b[23m \"18:00\", \"18:00\", \"18:00\", \"22:15\", \"22:15\", \"22:15~\n",
      "$ Monday             \u001b[3m\u001b[90m<lgl>\u001b[39m\u001b[23m FALSE, FALSE, FALSE, FALSE, FALSE, FALSE, TRUE, TRU~\n",
      "$ Tuesday            \u001b[3m\u001b[90m<lgl>\u001b[39m\u001b[23m FALSE, FALSE, FALSE, FALSE, FALSE, FALSE, FALSE, FA~\n",
      "$ Wednesday          \u001b[3m\u001b[90m<lgl>\u001b[39m\u001b[23m FALSE, FALSE, FALSE, FALSE, FALSE, FALSE, TRUE, TRU~\n",
      "$ Thursday           \u001b[3m\u001b[90m<lgl>\u001b[39m\u001b[23m FALSE, FALSE, FALSE, FALSE, FALSE, FALSE, FALSE, FA~\n",
      "$ Friday             \u001b[3m\u001b[90m<lgl>\u001b[39m\u001b[23m TRUE, TRUE, TRUE, TRUE, TRUE, TRUE, TRUE, TRUE, TRU~\n",
      "$ Saturday           \u001b[3m\u001b[90m<lgl>\u001b[39m\u001b[23m FALSE, FALSE, FALSE, FALSE, FALSE, FALSE, FALSE, FA~\n",
      "$ Sunday             \u001b[3m\u001b[90m<lgl>\u001b[39m\u001b[23m TRUE, TRUE, FALSE, TRUE, TRUE, FALSE, TRUE, TRUE, F~\n",
      "$ UpdateTime         \u001b[3m\u001b[90m<chr>\u001b[39m\u001b[23m \"2023-10-10T08:26:07+08:00\", \"2023-10-10T08:26:07+0~\n",
      "$ VersionID          \u001b[3m\u001b[90m<int>\u001b[39m\u001b[23m 1111, 1111, 1111, 1111, 1111, 1111, 1111, 1111, 111~\n",
      "$ Terminal           \u001b[3m\u001b[90m<chr>\u001b[39m\u001b[23m NA, NA, NA, NA, NA, NA, NA, NA, NA, NA, NA, NA, \"1\"~\n",
      "$ num_codeShare      \u001b[3m\u001b[90m<int>\u001b[39m\u001b[23m 0, 0, 0, 0, 0, 0, 0, 0, 0, 0, 0, 0, 0, 0, 0, 0, 0, ~\n"
     ]
    }
   ],
   "source": [
    "dplyr::glimpse(flights$data[[1]]$data_frame)"
   ]
  }
 ],
 "metadata": {
  "kernelspec": {
   "display_name": "R",
   "language": "R",
   "name": "ir"
  },
  "language_info": {
   "codemirror_mode": "r",
   "file_extension": ".r",
   "mimetype": "text/x-r-source",
   "name": "R",
   "pygments_lexer": "r",
   "version": "4.2.2"
  }
 },
 "nbformat": 4,
 "nbformat_minor": 2
}
