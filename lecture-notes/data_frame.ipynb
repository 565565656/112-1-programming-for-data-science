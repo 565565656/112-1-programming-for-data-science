{
 "cells": [
  {
   "cell_type": "code",
   "execution_count": 7,
   "metadata": {
    "vscode": {
     "languageId": "r"
    }
   },
   "outputs": [
    {
     "data": {
      "text/html": [
       "'en_US.UTF-8'"
      ],
      "text/latex": [
       "'en\\_US.UTF-8'"
      ],
      "text/markdown": [
       "'en_US.UTF-8'"
      ],
      "text/plain": [
       "[1] \"en_US.UTF-8\""
      ]
     },
     "metadata": {},
     "output_type": "display_data"
    }
   ],
   "source": [
    "options(encoding = \"UTF-8\")\n",
    "Sys.setlocale(\"LC_CTYPE\", \"en_US.UTF-8\")\n"
   ]
  },
  {
   "cell_type": "code",
   "execution_count": 4,
   "metadata": {
    "vscode": {
     "languageId": "r"
    }
   },
   "outputs": [
    {
     "name": "stderr",
     "output_type": "stream",
     "text": [
      "\u001b[1mRows: \u001b[22m\u001b[34m47\u001b[39m \u001b[1mColumns: \u001b[22m\u001b[34m7\u001b[39m\n",
      "\u001b[36m--\u001b[39m \u001b[1mColumn specification\u001b[22m \u001b[36m--------------------------------------------------------\u001b[39m\n",
      "\u001b[1mDelimiter:\u001b[22m \",\"\n",
      "\u001b[31mchr\u001b[39m (6): 名稱, 網址, 電話, 行政區, 地址, 介紹\n",
      "\u001b[32mdbl\u001b[39m (1): AreaCode\n",
      "\n",
      "\u001b[36mi\u001b[39m Use `spec()` to retrieve the full column specification for this data.\n",
      "\u001b[36mi\u001b[39m Specify the column types or set `show_col_types = FALSE` to quiet this message.\n"
     ]
    }
   ],
   "source": [
    "dataFrame = readr::read_csv(\"https://odws.hccg.gov.tw/001/Upload/25/opendataback/9059/1550/6fdcec19-414f-4ca1-a920-d5ad18c86e59.csv\")"
   ]
  },
  {
   "cell_type": "code",
   "execution_count": 9,
   "metadata": {
    "vscode": {
     "languageId": "r"
    }
   },
   "outputs": [
    {
     "name": "stdout",
     "output_type": "stream",
     "text": [
      "Rows: 47\n",
      "Columns: 7\n",
      "$ 名稱     \u001b[3m\u001b[90m<chr>\u001b[39m\u001b[23m \"新竹水潤餅\", \"彭成珍餅舖\", \"淵明餅舖\", \"新復珍商行\", \"光華冰…\n",
      "$ 網址     \u001b[3m\u001b[90m<chr>\u001b[39m\u001b[23m \"https://www.facebook.com/profile.php?id=100063955144117\", \"h…\n",
      "$ 電話     \u001b[3m\u001b[90m<chr>\u001b[39m\u001b[23m \"(03)5243708\", \"(03)5224877\", \"0952170115\", \"(03)5222205\", \"(…\n",
      "$ 行政區   \u001b[3m\u001b[90m<chr>\u001b[39m\u001b[23m \"北區\", \"北區\", \"北區\", \"北區\", \"北區\", \"北區\", \"北區\", \"北區…\n",
      "$ AreaCode \u001b[3m\u001b[90m<dbl>\u001b[39m\u001b[23m 10018020, 10018020, 10018020, 10018020, 10018020, 10018020, 1…\n",
      "$ 地址     \u001b[3m\u001b[90m<chr>\u001b[39m\u001b[23m \"成功路326號\", \"西安街5巷21號\", \"中山路112號\", \"北門街6號\", \"…\n",
      "$ 介紹     \u001b[3m\u001b[90m<chr>\u001b[39m\u001b[23m \"外地人乍聽「水潤餅」的名字時，會以為是潤餅的一種，其實水潤餅…\n"
     ]
    }
   ],
   "source": [
    "dplyr::glimpse(dataFrame)"
   ]
  }
 ],
 "metadata": {
  "kernelspec": {
   "display_name": "R",
   "language": "R",
   "name": "ir"
  },
  "language_info": {
   "codemirror_mode": "r",
   "file_extension": ".r",
   "mimetype": "text/x-r-source",
   "name": "R",
   "pygments_lexer": "r",
   "version": "4.2.2"
  },
  "orig_nbformat": 4
 },
 "nbformat": 4,
 "nbformat_minor": 2
}
