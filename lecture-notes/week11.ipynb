{
 "cells": [
  {
   "cell_type": "code",
   "execution_count": null,
   "metadata": {
    "vscode": {
     "languageId": "r"
    }
   },
   "outputs": [],
   "source": [
    "# To ensure Chinese characters are displayed correctly\n",
    "options(encoding = \"UTF-8\")\n",
    "Sys.setlocale(\"LC_CTYPE\", \"zh_TW.UTF-8\")"
   ]
  },
  {
   "cell_type": "markdown",
   "metadata": {},
   "source": [
    "# Recap\n",
    "\n",
    "## week 8, 9 & 10\n",
    "\n",
    "Previously. `ScheduleStartDate` is in `Date` class, `DepartureTime` is still in `character` class. Our goal is to have a `Date/Time` class `DepartureTime`. \n",
    "\n",
    "> However only a string like \"2018-01-01 10:09\" with its timezone supplied can be converted to a `Date/Time` class."
   ]
  },
  {
   "cell_type": "code",
   "execution_count": null,
   "metadata": {
    "vscode": {
     "languageId": "r"
    }
   },
   "outputs": [],
   "source": [
    "# demo data \n",
    "flightsData <- data.frame(\n",
    "  ScheduleStartDate = lubridate::ymd(c(\"2023-10-10\", \"2023-10-09\")),\n",
    "  DepartureTime = c(\"10:00+1\",\"12:20\"),\n",
    "  DepartureTimeZone = c(\"Asia/Bangkok\", \"Asia/Taipei\")\n",
    ")\n",
    "dplyr::glimpse(flightsData)"
   ]
  },
  {
   "cell_type": "markdown",
   "metadata": {},
   "source": [
    "\n",
    "For `DepartureTime`, We need to\n",
    "\n",
    "1. Find out which `ScheduleStartDate` needs to plus one day, and plus one day on those `ScheduleStartDate`.\n"
   ]
  },
  {
   "cell_type": "code",
   "execution_count": null,
   "metadata": {
    "vscode": {
     "languageId": "r"
    }
   },
   "outputs": [],
   "source": [
    "# week 8\n",
    "whichNeedPlus1 <- grep(pattern = \"+1\", flightsData$DepartureTime, fixed = TRUE) # fixed=TRUE, not treating \"+1\" as REGEX\n",
    "\n",
    "departureDate <- flightsData$ScheduleStartDate # create departureDate object\n",
    "departureDate[whichNeedPlus1] <- departureDate[whichNeedPlus1] + lubridate::days(1) # element values replacement"
   ]
  },
  {
   "cell_type": "code",
   "execution_count": null,
   "metadata": {
    "vscode": {
     "languageId": "r"
    }
   },
   "outputs": [],
   "source": [
    "# before\n",
    "flightsData$ScheduleStartDate\n",
    "# after\n",
    "departureDate "
   ]
  },
  {
   "cell_type": "markdown",
   "metadata": {},
   "source": [
    "\n",
    "2. Paste `ScheduleStartDate` and `DepartureTime` together -- remove `+1` from `DepartureTime` string if there is `+1`."
   ]
  },
  {
   "cell_type": "code",
   "execution_count": null,
   "metadata": {
    "vscode": {
     "languageId": "r"
    }
   },
   "outputs": [],
   "source": [
    "flightsData$DepartureTime"
   ]
  },
  {
   "cell_type": "code",
   "execution_count": null,
   "metadata": {
    "vscode": {
     "languageId": "r"
    }
   },
   "outputs": [],
   "source": [
    "# week 9\n",
    "departureTimeString <- flightsData$DepartureTime\n",
    "# remove \"+1\" at the end\n",
    "departureTimeString <- flightsData$DepartureTime\n",
    "departureTimeString <- sub(\"+1\", \"\", departureTimeString, fixed = T) # find \"+1\" pattern and replace it with \"\"\n",
    "\n",
    "departureTime <- paste(departureDate, departureTimeString)\n",
    "flightsData$DepartureTime <- departureTime \n"
   ]
  },
  {
   "cell_type": "code",
   "execution_count": null,
   "metadata": {
    "vscode": {
     "languageId": "r"
    }
   },
   "outputs": [],
   "source": [
    "departureTimeString\n",
    "departureTime\n",
    "flightsData$DepartureTime"
   ]
  },
  {
   "cell_type": "markdown",
   "metadata": {},
   "source": [
    "3. Parse the string into `Data/Time` class with time zone specification\n"
   ]
  },
  {
   "cell_type": "code",
   "execution_count": null,
   "metadata": {
    "vscode": {
     "languageId": "r"
    }
   },
   "outputs": [],
   "source": [
    "# week 10\n",
    "flightsData |>\n",
    "    dplyr::group_by(DepartureTimeZone) |>\n",
    "    dplyr::mutate(\n",
    "        DepartureTime = lubridate::ymd_hm(DepartureTime, tz = DepartureTimeZone[[1]])\n",
    "    ) |>\n",
    "    dplyr::ungroup() -> flightsData_new\n",
    "\n",
    "flightsData_new"
   ]
  },
  {
   "cell_type": "code",
   "execution_count": null,
   "metadata": {
    "vscode": {
     "languageId": "r"
    }
   },
   "outputs": [],
   "source": [
    "flightsData$DepartureTime\n",
    "flightsData_new$DepartureTime"
   ]
  },
  {
   "cell_type": "markdown",
   "metadata": {},
   "source": [
    "- Within a Data/Time class vector, all values are stored in the same time zone. That is why they look different."
   ]
  },
  {
   "cell_type": "markdown",
   "metadata": {},
   "source": [
    "# Programming block\n",
    "\n",
    "Codes surrounded by `{}` are programming block: \n",
    "\n",
    "  - used to group statements together.\n",
    "  - If there is a binding with the programming block, i.e. `<- {}`, `= {}` or `{} ->` is used, the last executed statement in the block will be returned. Otherwise, the block will return `NULL`.\n"
   ]
  },
  {
   "cell_type": "code",
   "execution_count": null,
   "metadata": {
    "vscode": {
     "languageId": "r"
    }
   },
   "outputs": [],
   "source": [
    "# mini example\n",
    "{\n",
    "  # Perform some operations or calculations\n",
    "  x <- 10\n",
    "  y <- 20\n",
    "  result <- x + y\n",
    "  \n",
    "} -> output\n",
    "\n",
    "output"
   ]
  },
  {
   "cell_type": "code",
   "execution_count": null,
   "metadata": {
    "vscode": {
     "languageId": "r"
    }
   },
   "outputs": [],
   "source": [
    "output2 = {\n",
    "  # Perform some operations or calculations\n",
    "  x <- 10\n",
    "  y <- 20\n",
    "  result <- x + y\n",
    "}\n",
    "\n",
    "output2"
   ]
  },
  {
   "cell_type": "markdown",
   "metadata": {},
   "source": [
    "- No matter which direction of binding you are using, the bindede value is always the last exectued statement in the block `result <- x + y`"
   ]
  },
  {
   "cell_type": "code",
   "execution_count": null,
   "metadata": {
    "vscode": {
     "languageId": "r"
    }
   },
   "outputs": [],
   "source": [
    "output3 <- {\n",
    "    # Perform some operations or calculations\n",
    "    x <- 10\n",
    "    y <- 20\n",
    "    if (x < 20) {\n",
    "        result <- x + y\n",
    "    } else {\n",
    "        result <- 70\n",
    "    }\n",
    "}\n",
    "output3\n"
   ]
  },
  {
   "cell_type": "markdown",
   "metadata": {},
   "source": [
    "- last executed line is not always the last line in the block. "
   ]
  },
  {
   "cell_type": "code",
   "execution_count": null,
   "metadata": {
    "vscode": {
     "languageId": "r"
    }
   },
   "outputs": [],
   "source": [
    "flightsData <- data.frame(\n",
    "  ScheduleStartDate = lubridate::ymd(c(\"2023-10-10\", \"2023-10-09\")),\n",
    "  DepartureTime = c(\"10:00+1\", \"12:20\"),\n",
    "  DepartureTimeZone = c(\"Asia/Bangkok\", \"Asia/Taipei\")\n",
    ")\n",
    "\n",
    "flightsData\n",
    "\n",
    "{\n",
    "  # week 8\n",
    "  whichNeedPlus1 <- grep(pattern = \"+1\", flightsData$DepartureTime, fixed = TRUE) # fixed=TRUE, not treating \"+1\" as REGEX\n",
    "\n",
    "  departureDate <- flightsData$ScheduleStartDate # create departureDate object\n",
    "  departureDate[whichNeedPlus1] <- departureDate[whichNeedPlus1] + lubridate::days(1) # element values replacement\n",
    "\n",
    "  # week 9\n",
    "  departureTimeString <- flightsData$DepartureTime\n",
    "  # remove \"+1\" at the end\n",
    "  departureTimeString <- flightsData$DepartureTime\n",
    "  departureTimeString <- sub(\"+1\", \"\", departureTimeString, fixed = T) # find \"+1\" pattern and replace it with \"\"\n",
    "\n",
    "  departureTime <- paste(departureDate, departureTimeString)\n",
    "  flightsData$DepartureTime <- departureTime\n",
    "\n",
    "  # week 10\n",
    "  flightsData |>\n",
    "    dplyr::group_by(DepartureTimeZone) |>\n",
    "    dplyr::mutate(\n",
    "      DepartureTime = lubridate::ymd_hm(DepartureTime, tz = DepartureTimeZone[[1]])\n",
    "    ) |>\n",
    "    dplyr::ungroup() -> flightsData_new\n",
    "\n",
    "  flightsData_new\n",
    "}\n"
   ]
  },
  {
   "cell_type": "markdown",
   "metadata": {},
   "source": [
    "# Function\n",
    "\n",
    "Sometimes you want to reuse a block of code with a slightly different setup. You can do this by writing a function that wraps around the programming block. \n",
    "\n",
    "## 1. resuse on other objects\n",
    "\n",
    "`function_name <- function(object_name_to_be_substituted_inside_the_programming_block) { programming block }`"
   ]
  },
  {
   "cell_type": "code",
   "execution_count": null,
   "metadata": {
    "vscode": {
     "languageId": "r"
    }
   },
   "outputs": [],
   "source": [
    "# sum odd index values\n",
    "fullValues <- c(45.4, 44.8, 37.3, 37.9, 28, 11.8, 39.7, 18.4, 41.2, 29.8, 1, \n",
    "44.2)\n",
    "{\n",
    "  odd_indices <- seq(1, length(fullValues), 2)\n",
    "  sum_odd <- sum(fullValues[odd_indices])\n",
    "  sum_odd\n",
    "} \n"
   ]
  },
  {
   "cell_type": "code",
   "execution_count": null,
   "metadata": {
    "vscode": {
     "languageId": "r"
    }
   },
   "outputs": [],
   "source": [
    "myfun <- function(fullValues){\n",
    "  odd_indices <- seq(1, length(fullValues), 2)\n",
    "  sum_odd <- sum(fullValues[odd_indices])\n",
    "  sum_odd\n",
    "} "
   ]
  },
  {
   "cell_type": "code",
   "execution_count": null,
   "metadata": {
    "vscode": {
     "languageId": "r"
    }
   },
   "outputs": [],
   "source": [
    "fullValues2 <- c(13.6, 31.9, 3.4, 7, 21.7, 45.4, 19.3, 24.7, 10.3, 14.8, 29.2, 12.1)"
   ]
  },
  {
   "cell_type": "code",
   "execution_count": null,
   "metadata": {
    "vscode": {
     "languageId": "r"
    }
   },
   "outputs": [],
   "source": [
    "myfun(fullValues2)"
   ]
  },
  {
   "cell_type": "markdown",
   "metadata": {},
   "source": [
    "## 2. have flexible values\n",
    "\n",
    "Suppose I want to reuse the sum on different sequences of numbers, with different increment of the sequence. Currently it is set to 2 (`seq(1, length(fullValues), 2)`)\n",
    "\n",
    "This involves two steps (1) replace the value with a object name, (2) put the object name as input argument of the function."
   ]
  },
  {
   "cell_type": "code",
   "execution_count": null,
   "metadata": {
    "vscode": {
     "languageId": "r"
    }
   },
   "outputs": [],
   "source": [
    "myfun2 <- function(fullValues, increment){ # increment is an input argument\n",
    "  odd_indices <- seq(1, length(fullValues), increment) # repace 2 with increment object name\n",
    "  sum_odd <- sum(fullValues[odd_indices])\n",
    "  sum_odd\n",
    "} "
   ]
  },
  {
   "cell_type": "code",
   "execution_count": null,
   "metadata": {
    "vscode": {
     "languageId": "r"
    }
   },
   "outputs": [],
   "source": [
    "myfun2(fullValues2, 2)\n",
    "myfun2(fullValues2, 3)"
   ]
  },
  {
   "cell_type": "markdown",
   "metadata": {},
   "source": [
    "## Function return\n",
    "\n",
    "When you bind the function call to an object, the returned value from the the function block will be assigned to the object."
   ]
  },
  {
   "cell_type": "code",
   "execution_count": null,
   "metadata": {
    "vscode": {
     "languageId": "r"
    }
   },
   "outputs": [],
   "source": [
    "result <- myfun2(fullValues2, 2)\n",
    "result"
   ]
  },
  {
   "cell_type": "markdown",
   "metadata": {},
   "source": [
    "\n",
    "If you simply wrap around your programming block into a function, the returned value depends on your last statement from the programming block:\n",
    "\n",
    "- if it is a name call or using `print`, the value of the object will be returned.\n",
    "- if it is a return statement, the value of the return statement will be returned.\n",
    "- otherwise, `NULL` will be returned."
   ]
  },
  {
   "cell_type": "code",
   "execution_count": null,
   "metadata": {
    "vscode": {
     "languageId": "r"
    }
   },
   "outputs": [],
   "source": [
    "myfun2 <- function(fullValues, increment){ # increment is an input argument\n",
    "  odd_indices <- seq(1, length(fullValues), increment) # repace 2 with increment object name\n",
    "  sum_odd <- sum(fullValues[odd_indices])\n",
    "  cat(sum_odd) # print on screen without return value\n",
    "}"
   ]
  },
  {
   "cell_type": "code",
   "execution_count": null,
   "metadata": {
    "vscode": {
     "languageId": "r"
    }
   },
   "outputs": [],
   "source": [
    "result <- myfun2(fullValues2, 2)\n",
    "result"
   ]
  },
  {
   "cell_type": "markdown",
   "metadata": {},
   "source": [
    "## Application on flightsData\n",
    "\n",
    "Suppose we have another data need to be date/time parsed on its `DepartureTime` column.\n"
   ]
  },
  {
   "cell_type": "code",
   "execution_count": null,
   "metadata": {
    "vscode": {
     "languageId": "r"
    }
   },
   "outputs": [],
   "source": [
    "flightsData2 <- data.frame(\n",
    "  ScheduleStartDate = lubridate::ymd(c(\"2023-11-10\", \"2023-11-19\")),\n",
    "  DepartureTime = c(\"10:00+1\",\"12:20+1\"),\n",
    "  DepartureTimeZone = c(\"Asia/Bangkok\", \"Asia/Taipei\")\n",
    ")"
   ]
  },
  {
   "cell_type": "code",
   "execution_count": null,
   "metadata": {
    "vscode": {
     "languageId": "r"
    }
   },
   "outputs": [],
   "source": [
    "parse_departureTime <- function(flightsData){\n",
    "  # week 8\n",
    "  whichNeedPlus1 <- grep(pattern = \"+1\", flightsData$DepartureTime, fixed = TRUE) # fixed=TRUE, not treating \"+1\" as REGEX\n",
    "\n",
    "  departureDate <- flightsData$ScheduleStartDate # create departureDate object\n",
    "  departureDate[whichNeedPlus1] <- departureDate[whichNeedPlus1] + lubridate::days(1) # element values replacement\n",
    "\n",
    "  # week 9\n",
    "  departureTimeString <- flightsData$DepartureTime\n",
    "  # remove \"+1\" at the end\n",
    "  departureTimeString <- flightsData$DepartureTime\n",
    "  departureTimeString <- sub(\"+1\", \"\", departureTimeString, fixed = T) # find \"+1\" pattern and replace it with \"\"\n",
    "\n",
    "  departureTime <- paste(departureDate, departureTimeString)\n",
    "  flightsData$DepartureTime <- departureTime\n",
    "\n",
    "  # week 10\n",
    "  flightsData |>\n",
    "    dplyr::group_by(DepartureTimeZone) |>\n",
    "    dplyr::mutate(\n",
    "      DepartureTime = lubridate::ymd_hm(DepartureTime, tz = DepartureTimeZone[[1]])\n",
    "    ) |>\n",
    "    dplyr::ungroup() -> flightsData_new\n",
    "\n",
    "  flightsData_new\n",
    "}\n"
   ]
  },
  {
   "cell_type": "code",
   "execution_count": null,
   "metadata": {
    "vscode": {
     "languageId": "r"
    }
   },
   "outputs": [],
   "source": [
    "flightsData2\n",
    "parse_departureTime(flightsData2)"
   ]
  },
  {
   "cell_type": "code",
   "execution_count": null,
   "metadata": {
    "vscode": {
     "languageId": "r"
    }
   },
   "outputs": [],
   "source": [
    "flights <- readRDS(\"../data/flights_week11.rds\")\n",
    "flightsData <- flights$data[[1]]$data_frame"
   ]
  },
  {
   "cell_type": "code",
   "execution_count": null,
   "metadata": {
    "vscode": {
     "languageId": "r"
    }
   },
   "outputs": [],
   "source": [
    "dplyr::glimpse(flightsData)"
   ]
  },
  {
   "cell_type": "code",
   "execution_count": null,
   "metadata": {
    "vscode": {
     "languageId": "r"
    }
   },
   "outputs": [],
   "source": [
    "library(dplyr)\n",
    "\n",
    "# select relevant columns\n",
    "flightsData |>\n",
    "  select(ScheduleStartDate, ArrivalTime, ArrivalTimeZone) -> flightsData_selected\n",
    "\n",
    "# rename for parse_departureTime function to work\n",
    "names(flightsData_selected)[c(2,3)] <- c(\"DepartureTime\", \"DepartureTimeZone\")\n"
   ]
  },
  {
   "cell_type": "code",
   "execution_count": null,
   "metadata": {
    "vscode": {
     "languageId": "r"
    }
   },
   "outputs": [],
   "source": [
    "flightsData_renamed_parsed <- parse_departureTime(flightsData_renamed)\n",
    "dplyr::glimpse(flightsData_renamed_parsed)"
   ]
  },
  {
   "cell_type": "code",
   "execution_count": null,
   "metadata": {
    "vscode": {
     "languageId": "r"
    }
   },
   "outputs": [],
   "source": [
    "flightsData[,c(\"ArriavlTime\", \"ArrivalTimeZone\")] <- \n",
    "    flightsData_renamed_parsed[,c(\"DepartureTime\", \"DepartureTimeZone\")]"
   ]
  },
  {
   "cell_type": "code",
   "execution_count": null,
   "metadata": {
    "vscode": {
     "languageId": "r"
    }
   },
   "outputs": [],
   "source": [
    "glimpse(flightsData)"
   ]
  }
 ],
 "metadata": {
  "kernelspec": {
   "display_name": "R",
   "language": "R",
   "name": "ir"
  },
  "language_info": {
   "codemirror_mode": "r",
   "file_extension": ".r",
   "mimetype": "text/x-r-source",
   "name": "R",
   "pygments_lexer": "r",
   "version": "4.2.2"
  }
 },
 "nbformat": 4,
 "nbformat_minor": 2
}
