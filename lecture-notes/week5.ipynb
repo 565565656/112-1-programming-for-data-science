{
 "cells": [
  {
   "cell_type": "code",
   "execution_count": 1,
   "metadata": {
    "vscode": {
     "languageId": "r"
    }
   },
   "outputs": [
    {
     "data": {
      "text/html": [
       "'en_US.UTF-8'"
      ],
      "text/latex": [
       "'en\\_US.UTF-8'"
      ],
      "text/markdown": [
       "'en_US.UTF-8'"
      ],
      "text/plain": [
       "[1] \"en_US.UTF-8\""
      ]
     },
     "metadata": {},
     "output_type": "display_data"
    }
   ],
   "source": [
    "# To ensure Chinese characters are displayed correctly\n",
    "options(encoding = \"UTF-8\")\n",
    "Sys.setlocale(\"LC_CTYPE\", \"en_US.UTF-8\")"
   ]
  },
  {
   "cell_type": "markdown",
   "metadata": {},
   "source": [
    "# Rule on names\n",
    "\n",
    "  * [Rules](https://hyp.is/QQ4DmGflEe6G8SsIYP70Gg/tpemartin.github.io/NTPU-R-for-Data-Science-EN/r-basics.html):  \n",
    "    * starts only with LETTERS (`a` to `z`, `A` to `Z`) or dot (`.`)  \n",
    "    * non-starting place can have LETTERS, numbers (`0` to `9`), dot (`.`), or underline (`_`)\n",
    "\n",
    "  * [Common styles](https://hyp.is/qUJrrGflEe67khOW7wxCXw/tpemartin.github.io/NTPU-R-for-Data-Science-EN/r-basics.html)"
   ]
  },
  {
   "cell_type": "markdown",
   "metadata": {},
   "source": [
    "# Progress storage\n",
    "\n",
    "During the research process, you will need to save your progress and come back the next data to pick up where you left off. This is a good practice to avoid losing your work. In this section, we will learn how to save and load data in R.\n",
    "\n",
    "  - Download `international_flights.json` from [here](https://classroom.google.com/c/NTg5NjUwNjM0MjA4/m/NjMwNDMyNzc5MDgz/details) and\n",
    "  - Put it in the `data` folder of your project folder"
   ]
  },
  {
   "cell_type": "code",
   "execution_count": 5,
   "metadata": {
    "vscode": {
     "languageId": "r"
    }
   },
   "outputs": [],
   "source": [
    "data1 <- list(\n",
    "            file = \"data/international_flights.json\",\n",
    "            meta = list(\n",
    "                name = \"國際航空定期時刻表\",\n",
    "                source_link = \"https://data.gov.tw/dataset/161167\")\n",
    "            )\n",
    "\n",
    "flights <- list(\n",
    "    data = list(data1)\n",
    ")"
   ]
  },
  {
   "cell_type": "markdown",
   "metadata": {},
   "source": [
    "- we will constantly save our research progress under `flights` list.  \n",
    "- when we want to save our progress, run:"
   ]
  },
  {
   "cell_type": "code",
   "execution_count": 6,
   "metadata": {
    "vscode": {
     "languageId": "r"
    }
   },
   "outputs": [],
   "source": [
    "saveRDS(flights, \"data/flights.rds\")"
   ]
  },
  {
   "cell_type": "markdown",
   "metadata": {},
   "source": [
    "- if you turn off your computer and want to come back the next day, run:"
   ]
  },
  {
   "cell_type": "code",
   "execution_count": 7,
   "metadata": {
    "vscode": {
     "languageId": "r"
    }
   },
   "outputs": [],
   "source": [
    "flights = readRDS(\"data/flights.rds\")"
   ]
  },
  {
   "cell_type": "markdown",
   "metadata": {},
   "source": [
    "# Exercise: understand your data\n",
    "\n",
    "- what's the name of the dataset? where is it from? "
   ]
  },
  {
   "cell_type": "markdown",
   "metadata": {},
   "source": [
    "# Import data"
   ]
  },
  {
   "cell_type": "code",
   "execution_count": 9,
   "metadata": {
    "vscode": {
     "languageId": "r"
    }
   },
   "outputs": [],
   "source": [
    "# Read JSON file\n",
    "\n",
    "filepath = flights$data[[1]]$file\n",
    "flightsData <- jsonlite::fromJSON(filepath)"
   ]
  },
  {
   "cell_type": "markdown",
   "metadata": {},
   "source": [
    "Let's save the `flightsData` object inside `flight` list so that in the future we can retrieve its value from \n",
    "\n",
    "```\n",
    "flights$data[[1]]$data_frame\n",
    "```\n",
    "\n",
    "We can do it through:"
   ]
  },
  {
   "cell_type": "code",
   "execution_count": 10,
   "metadata": {
    "vscode": {
     "languageId": "r"
    }
   },
   "outputs": [],
   "source": [
    "flights$data[[1]]$data_frame <- flightsData\n",
    "\n",
    "saveRDS(flights, \"data/flights.rds\")"
   ]
  },
  {
   "cell_type": "markdown",
   "metadata": {},
   "source": [
    "# Data acquantance\n",
    "\n",
    "## Data structure\n",
    "\n",
    "- Type of storage: an atomic vector, a list, a data frame, or a matrix.  \n",
    "- Class: numeric, character, integer, list, data frame, or matrix.  "
   ]
  },
  {
   "cell_type": "code",
   "execution_count": 14,
   "metadata": {
    "vscode": {
     "languageId": "r"
    }
   },
   "outputs": [
    {
     "data": {
      "text/html": [
       "'list'"
      ],
      "text/latex": [
       "'list'"
      ],
      "text/markdown": [
       "'list'"
      ],
      "text/plain": [
       "[1] \"list\""
      ]
     },
     "metadata": {},
     "output_type": "display_data"
    },
    {
     "data": {
      "text/html": [
       "'data.frame'"
      ],
      "text/latex": [
       "'data.frame'"
      ],
      "text/markdown": [
       "'data.frame'"
      ],
      "text/plain": [
       "[1] \"data.frame\""
      ]
     },
     "metadata": {},
     "output_type": "display_data"
    }
   ],
   "source": [
    "typeof(flightsData)\n",
    "class(flightsData)"
   ]
  },
  {
   "cell_type": "markdown",
   "metadata": {},
   "source": [
    "- imported value is stored as a list. (`typeof`)  \n",
    "- imported value can be managed as a data frame. (`class`)   \n",
    "\n",
    "\"Stored\" means the value is saved in the memory of your computer. The storage type gives you basic ideal what you can do with it, such as retrieving element values, adding new elements, or deleting elements. The class gives you a more specific idea of what you can do with it."
   ]
  },
  {
   "cell_type": "markdown",
   "metadata": {},
   "source": [
    "### Two classes of collective data \n",
    "\n",
    "Our previous example has the data structure picked up by the way you import the data file. However, sometimes you construct your data within the program, instead of importing from outside. In this case, you need to choose the data structure you want to use.\n",
    "\n",
    "- Observation by observation (obo): mostly a `list` class.\n",
    "- Feature by feature (fbf): mostly a `data.frame` class.\n",
    "\n",
    "[3.1.1 Json data](https://tpemartin.github.io/NTPU-R-for-Data-Science-EN/element-values.html#json-data)  \n",
    "[4.2.4 Data frame](https://tpemartin.github.io/NTPU-R-for-Data-Science-EN/operations-on-atomic-vectors.html#data-frame)\n"
   ]
  },
  {
   "cell_type": "code",
   "execution_count": 53,
   "metadata": {
    "vscode": {
     "languageId": "r"
    }
   },
   "outputs": [],
   "source": [
    "person1 <- list(\n",
    "    name = \"John\",\n",
    "    age = 30,\n",
    "    married = TRUE\n",
    ")\n",
    "person2 <- list(\n",
    "    name = \"Mary\",\n",
    "    age = 25,\n",
    "    married = FALSE\n",
    ")\n",
    "person3 <- list(\n",
    "    name = \"Tom\",\n",
    "    age = 35,\n",
    "    married = TRUE\n",
    ")\n",
    "\n",
    "# observation by observation stacking\n",
    "data_obo <- list(person1, person2, person3)"
   ]
  },
  {
   "cell_type": "code",
   "execution_count": 54,
   "metadata": {
    "vscode": {
     "languageId": "r"
    }
   },
   "outputs": [],
   "source": [
    "names = c(\"John\", \"Mary\", \"Tom\")\n",
    "ages = c(30, 25, 35)\n",
    "isMarried = c(TRUE, FALSE, TRUE)\n",
    "\n",
    "# feature by feature stacking\n",
    "data_fbf <- list(\n",
    "    name = names, \n",
    "    age = ages, \n",
    "    married = isMarried)"
   ]
  },
  {
   "cell_type": "markdown",
   "metadata": {},
   "source": [
    "- Feature by feature: each element has the same length."
   ]
  },
  {
   "cell_type": "code",
   "execution_count": null,
   "metadata": {
    "vscode": {
     "languageId": "r"
    }
   },
   "outputs": [],
   "source": [
    "length(data_fbf$name)\n",
    "length(data_fbf$age)\n",
    "length(data_fbf$married)"
   ]
  },
  {
   "cell_type": "markdown",
   "metadata": {},
   "source": [
    "- Within each feature, its values are of the same type."
   ]
  },
  {
   "cell_type": "code",
   "execution_count": 57,
   "metadata": {
    "vscode": {
     "languageId": "r"
    }
   },
   "outputs": [
    {
     "data": {
      "text/html": [
       "'character'"
      ],
      "text/latex": [
       "'character'"
      ],
      "text/markdown": [
       "'character'"
      ],
      "text/plain": [
       "[1] \"character\""
      ]
     },
     "metadata": {},
     "output_type": "display_data"
    },
    {
     "data": {
      "text/html": [
       "'double'"
      ],
      "text/latex": [
       "'double'"
      ],
      "text/markdown": [
       "'double'"
      ],
      "text/plain": [
       "[1] \"double\""
      ]
     },
     "metadata": {},
     "output_type": "display_data"
    },
    {
     "data": {
      "text/html": [
       "'logical'"
      ],
      "text/latex": [
       "'logical'"
      ],
      "text/markdown": [
       "'logical'"
      ],
      "text/plain": [
       "[1] \"logical\""
      ]
     },
     "metadata": {},
     "output_type": "display_data"
    }
   ],
   "source": [
    "typeof(data_fbf$name)\n",
    "typeof(data_fbf$age)\n",
    "typeof(data_fbf$married)"
   ]
  },
  {
   "cell_type": "markdown",
   "metadata": {},
   "source": [
    "For fbf stacking, mostly we will use a new way to store data: `data.frame` class.\n",
    "\n",
    "### Data frame"
   ]
  },
  {
   "cell_type": "code",
   "execution_count": 56,
   "metadata": {
    "vscode": {
     "languageId": "r"
    }
   },
   "outputs": [
    {
     "data": {
      "text/html": [
       "<table class=\"dataframe\">\n",
       "<caption>A data.frame: 3 × 3</caption>\n",
       "<thead>\n",
       "\t<tr><th scope=col>name</th><th scope=col>age</th><th scope=col>married</th></tr>\n",
       "\t<tr><th scope=col>&lt;chr&gt;</th><th scope=col>&lt;dbl&gt;</th><th scope=col>&lt;lgl&gt;</th></tr>\n",
       "</thead>\n",
       "<tbody>\n",
       "\t<tr><td>John</td><td>30</td><td> TRUE</td></tr>\n",
       "\t<tr><td>Mary</td><td>25</td><td>FALSE</td></tr>\n",
       "\t<tr><td>Tom </td><td>35</td><td> TRUE</td></tr>\n",
       "</tbody>\n",
       "</table>\n"
      ],
      "text/latex": [
       "A data.frame: 3 × 3\n",
       "\\begin{tabular}{lll}\n",
       " name & age & married\\\\\n",
       " <chr> & <dbl> & <lgl>\\\\\n",
       "\\hline\n",
       "\t John & 30 &  TRUE\\\\\n",
       "\t Mary & 25 & FALSE\\\\\n",
       "\t Tom  & 35 &  TRUE\\\\\n",
       "\\end{tabular}\n"
      ],
      "text/markdown": [
       "\n",
       "A data.frame: 3 × 3\n",
       "\n",
       "| name &lt;chr&gt; | age &lt;dbl&gt; | married &lt;lgl&gt; |\n",
       "|---|---|---|\n",
       "| John | 30 |  TRUE |\n",
       "| Mary | 25 | FALSE |\n",
       "| Tom  | 35 |  TRUE |\n",
       "\n"
      ],
      "text/plain": [
       "  name age married\n",
       "1 John 30   TRUE  \n",
       "2 Mary 25  FALSE  \n",
       "3 Tom  35   TRUE  "
      ]
     },
     "metadata": {},
     "output_type": "display_data"
    }
   ],
   "source": [
    "df <- list2DF(data_fbf) # use list2DF to convert a list fbf into a data frame\n"
   ]
  },
  {
   "cell_type": "code",
   "execution_count": null,
   "metadata": {
    "vscode": {
     "languageId": "r"
    }
   },
   "outputs": [],
   "source": [
    "\n",
    "df <- data.frame(\n",
    "    name = names, \n",
    "    age = ages, \n",
    "    married = isMarried\n",
    ") # directly forming a data frame"
   ]
  },
  {
   "cell_type": "markdown",
   "metadata": {},
   "source": [
    "> Our flights data can also be imported as in observation by observation format using `simplifyDataFrame = FALSE` option when importing the data.\n"
   ]
  },
  {
   "cell_type": "code",
   "execution_count": 11,
   "metadata": {
    "vscode": {
     "languageId": "r"
    }
   },
   "outputs": [],
   "source": [
    "flights_obo <- jsonlite::fromJSON(flights$data[[1]]$file, simplifyDataFrame = FALSE)"
   ]
  },
  {
   "cell_type": "code",
   "execution_count": 13,
   "metadata": {
    "vscode": {
     "languageId": "r"
    }
   },
   "outputs": [
    {
     "data": {
      "text/html": [
       "<ol>\n",
       "\t<li><dl>\n",
       "\t<dt>$AirlineID</dt>\n",
       "\t\t<dd>'3U'</dd>\n",
       "\t<dt>$ScheduleStartDate</dt>\n",
       "\t\t<dd>'2023-10-13'</dd>\n",
       "\t<dt>$ScheduleEndDate</dt>\n",
       "\t\t<dd>'2023-10-15'</dd>\n",
       "\t<dt>$FlightNumber</dt>\n",
       "\t\t<dd>'3U3783'</dd>\n",
       "\t<dt>$DepartureAirportID</dt>\n",
       "\t\t<dd>'CKG'</dd>\n",
       "\t<dt>$DepartureTime</dt>\n",
       "\t\t<dd>'15:00'</dd>\n",
       "\t<dt>$CodeShare</dt>\n",
       "\t\t<dd><ol>\n",
       "</ol>\n",
       "</dd>\n",
       "\t<dt>$ArrivalAirportID</dt>\n",
       "\t\t<dd>'TSA'</dd>\n",
       "\t<dt>$ArrivalTime</dt>\n",
       "\t\t<dd>'18:00'</dd>\n",
       "\t<dt>$Monday</dt>\n",
       "\t\t<dd>FALSE</dd>\n",
       "\t<dt>$Tuesday</dt>\n",
       "\t\t<dd>FALSE</dd>\n",
       "\t<dt>$Wednesday</dt>\n",
       "\t\t<dd>FALSE</dd>\n",
       "\t<dt>$Thursday</dt>\n",
       "\t\t<dd>FALSE</dd>\n",
       "\t<dt>$Friday</dt>\n",
       "\t\t<dd>TRUE</dd>\n",
       "\t<dt>$Saturday</dt>\n",
       "\t\t<dd>FALSE</dd>\n",
       "\t<dt>$Sunday</dt>\n",
       "\t\t<dd>TRUE</dd>\n",
       "\t<dt>$UpdateTime</dt>\n",
       "\t\t<dd>'2023-10-10T08:26:07+08:00'</dd>\n",
       "\t<dt>$VersionID</dt>\n",
       "\t\t<dd>1111</dd>\n",
       "\t<dt>$Terminal</dt>\n",
       "\t\t<dd>&lt;NA&gt;</dd>\n",
       "\t<dt>$num_codeShare</dt>\n",
       "\t\t<dd>0</dd>\n",
       "</dl>\n",
       "</li>\n",
       "\t<li><dl>\n",
       "\t<dt>$AirlineID</dt>\n",
       "\t\t<dd>'3U'</dd>\n",
       "\t<dt>$ScheduleStartDate</dt>\n",
       "\t\t<dd>'2023-10-20'</dd>\n",
       "\t<dt>$ScheduleEndDate</dt>\n",
       "\t\t<dd>'2023-10-22'</dd>\n",
       "\t<dt>$FlightNumber</dt>\n",
       "\t\t<dd>'3U3783'</dd>\n",
       "\t<dt>$DepartureAirportID</dt>\n",
       "\t\t<dd>'CKG'</dd>\n",
       "\t<dt>$DepartureTime</dt>\n",
       "\t\t<dd>'15:00'</dd>\n",
       "\t<dt>$CodeShare</dt>\n",
       "\t\t<dd><ol>\n",
       "</ol>\n",
       "</dd>\n",
       "\t<dt>$ArrivalAirportID</dt>\n",
       "\t\t<dd>'TSA'</dd>\n",
       "\t<dt>$ArrivalTime</dt>\n",
       "\t\t<dd>'18:00'</dd>\n",
       "\t<dt>$Monday</dt>\n",
       "\t\t<dd>FALSE</dd>\n",
       "\t<dt>$Tuesday</dt>\n",
       "\t\t<dd>FALSE</dd>\n",
       "\t<dt>$Wednesday</dt>\n",
       "\t\t<dd>FALSE</dd>\n",
       "\t<dt>$Thursday</dt>\n",
       "\t\t<dd>FALSE</dd>\n",
       "\t<dt>$Friday</dt>\n",
       "\t\t<dd>TRUE</dd>\n",
       "\t<dt>$Saturday</dt>\n",
       "\t\t<dd>FALSE</dd>\n",
       "\t<dt>$Sunday</dt>\n",
       "\t\t<dd>TRUE</dd>\n",
       "\t<dt>$UpdateTime</dt>\n",
       "\t\t<dd>'2023-10-10T08:26:07+08:00'</dd>\n",
       "\t<dt>$VersionID</dt>\n",
       "\t\t<dd>1111</dd>\n",
       "\t<dt>$Terminal</dt>\n",
       "\t\t<dd>&lt;NA&gt;</dd>\n",
       "\t<dt>$num_codeShare</dt>\n",
       "\t\t<dd>0</dd>\n",
       "</dl>\n",
       "</li>\n",
       "\t<li><dl>\n",
       "\t<dt>$AirlineID</dt>\n",
       "\t\t<dd>'3U'</dd>\n",
       "\t<dt>$ScheduleStartDate</dt>\n",
       "\t\t<dd>'2023-10-27'</dd>\n",
       "\t<dt>$ScheduleEndDate</dt>\n",
       "\t\t<dd>'2023-10-27'</dd>\n",
       "\t<dt>$FlightNumber</dt>\n",
       "\t\t<dd>'3U3783'</dd>\n",
       "\t<dt>$DepartureAirportID</dt>\n",
       "\t\t<dd>'CKG'</dd>\n",
       "\t<dt>$DepartureTime</dt>\n",
       "\t\t<dd>'15:00'</dd>\n",
       "\t<dt>$CodeShare</dt>\n",
       "\t\t<dd><ol>\n",
       "</ol>\n",
       "</dd>\n",
       "\t<dt>$ArrivalAirportID</dt>\n",
       "\t\t<dd>'TSA'</dd>\n",
       "\t<dt>$ArrivalTime</dt>\n",
       "\t\t<dd>'18:00'</dd>\n",
       "\t<dt>$Monday</dt>\n",
       "\t\t<dd>FALSE</dd>\n",
       "\t<dt>$Tuesday</dt>\n",
       "\t\t<dd>FALSE</dd>\n",
       "\t<dt>$Wednesday</dt>\n",
       "\t\t<dd>FALSE</dd>\n",
       "\t<dt>$Thursday</dt>\n",
       "\t\t<dd>FALSE</dd>\n",
       "\t<dt>$Friday</dt>\n",
       "\t\t<dd>TRUE</dd>\n",
       "\t<dt>$Saturday</dt>\n",
       "\t\t<dd>FALSE</dd>\n",
       "\t<dt>$Sunday</dt>\n",
       "\t\t<dd>FALSE</dd>\n",
       "\t<dt>$UpdateTime</dt>\n",
       "\t\t<dd>'2023-10-10T08:26:07+08:00'</dd>\n",
       "\t<dt>$VersionID</dt>\n",
       "\t\t<dd>1111</dd>\n",
       "\t<dt>$Terminal</dt>\n",
       "\t\t<dd>&lt;NA&gt;</dd>\n",
       "\t<dt>$num_codeShare</dt>\n",
       "\t\t<dd>0</dd>\n",
       "</dl>\n",
       "</li>\n",
       "</ol>\n"
      ],
      "text/latex": [
       "\\begin{enumerate}\n",
       "\\item \\begin{description}\n",
       "\\item[\\$AirlineID] '3U'\n",
       "\\item[\\$ScheduleStartDate] '2023-10-13'\n",
       "\\item[\\$ScheduleEndDate] '2023-10-15'\n",
       "\\item[\\$FlightNumber] '3U3783'\n",
       "\\item[\\$DepartureAirportID] 'CKG'\n",
       "\\item[\\$DepartureTime] '15:00'\n",
       "\\item[\\$CodeShare] \\begin{enumerate}\n",
       "\\end{enumerate}\n",
       "\n",
       "\\item[\\$ArrivalAirportID] 'TSA'\n",
       "\\item[\\$ArrivalTime] '18:00'\n",
       "\\item[\\$Monday] FALSE\n",
       "\\item[\\$Tuesday] FALSE\n",
       "\\item[\\$Wednesday] FALSE\n",
       "\\item[\\$Thursday] FALSE\n",
       "\\item[\\$Friday] TRUE\n",
       "\\item[\\$Saturday] FALSE\n",
       "\\item[\\$Sunday] TRUE\n",
       "\\item[\\$UpdateTime] '2023-10-10T08:26:07+08:00'\n",
       "\\item[\\$VersionID] 1111\n",
       "\\item[\\$Terminal] <NA>\n",
       "\\item[\\$num\\_codeShare] 0\n",
       "\\end{description}\n",
       "\n",
       "\\item \\begin{description}\n",
       "\\item[\\$AirlineID] '3U'\n",
       "\\item[\\$ScheduleStartDate] '2023-10-20'\n",
       "\\item[\\$ScheduleEndDate] '2023-10-22'\n",
       "\\item[\\$FlightNumber] '3U3783'\n",
       "\\item[\\$DepartureAirportID] 'CKG'\n",
       "\\item[\\$DepartureTime] '15:00'\n",
       "\\item[\\$CodeShare] \\begin{enumerate}\n",
       "\\end{enumerate}\n",
       "\n",
       "\\item[\\$ArrivalAirportID] 'TSA'\n",
       "\\item[\\$ArrivalTime] '18:00'\n",
       "\\item[\\$Monday] FALSE\n",
       "\\item[\\$Tuesday] FALSE\n",
       "\\item[\\$Wednesday] FALSE\n",
       "\\item[\\$Thursday] FALSE\n",
       "\\item[\\$Friday] TRUE\n",
       "\\item[\\$Saturday] FALSE\n",
       "\\item[\\$Sunday] TRUE\n",
       "\\item[\\$UpdateTime] '2023-10-10T08:26:07+08:00'\n",
       "\\item[\\$VersionID] 1111\n",
       "\\item[\\$Terminal] <NA>\n",
       "\\item[\\$num\\_codeShare] 0\n",
       "\\end{description}\n",
       "\n",
       "\\item \\begin{description}\n",
       "\\item[\\$AirlineID] '3U'\n",
       "\\item[\\$ScheduleStartDate] '2023-10-27'\n",
       "\\item[\\$ScheduleEndDate] '2023-10-27'\n",
       "\\item[\\$FlightNumber] '3U3783'\n",
       "\\item[\\$DepartureAirportID] 'CKG'\n",
       "\\item[\\$DepartureTime] '15:00'\n",
       "\\item[\\$CodeShare] \\begin{enumerate}\n",
       "\\end{enumerate}\n",
       "\n",
       "\\item[\\$ArrivalAirportID] 'TSA'\n",
       "\\item[\\$ArrivalTime] '18:00'\n",
       "\\item[\\$Monday] FALSE\n",
       "\\item[\\$Tuesday] FALSE\n",
       "\\item[\\$Wednesday] FALSE\n",
       "\\item[\\$Thursday] FALSE\n",
       "\\item[\\$Friday] TRUE\n",
       "\\item[\\$Saturday] FALSE\n",
       "\\item[\\$Sunday] FALSE\n",
       "\\item[\\$UpdateTime] '2023-10-10T08:26:07+08:00'\n",
       "\\item[\\$VersionID] 1111\n",
       "\\item[\\$Terminal] <NA>\n",
       "\\item[\\$num\\_codeShare] 0\n",
       "\\end{description}\n",
       "\n",
       "\\end{enumerate}\n"
      ],
      "text/markdown": [
       "1. $AirlineID\n",
       ":   '3U'\n",
       "$ScheduleStartDate\n",
       ":   '2023-10-13'\n",
       "$ScheduleEndDate\n",
       ":   '2023-10-15'\n",
       "$FlightNumber\n",
       ":   '3U3783'\n",
       "$DepartureAirportID\n",
       ":   'CKG'\n",
       "$DepartureTime\n",
       ":   '15:00'\n",
       "$CodeShare\n",
       ":   \n",
       "\n",
       "\n",
       "$ArrivalAirportID\n",
       ":   'TSA'\n",
       "$ArrivalTime\n",
       ":   '18:00'\n",
       "$Monday\n",
       ":   FALSE\n",
       "$Tuesday\n",
       ":   FALSE\n",
       "$Wednesday\n",
       ":   FALSE\n",
       "$Thursday\n",
       ":   FALSE\n",
       "$Friday\n",
       ":   TRUE\n",
       "$Saturday\n",
       ":   FALSE\n",
       "$Sunday\n",
       ":   TRUE\n",
       "$UpdateTime\n",
       ":   '2023-10-10T08:26:07+08:00'\n",
       "$VersionID\n",
       ":   1111\n",
       "$Terminal\n",
       ":   &lt;NA&gt;\n",
       "$num_codeShare\n",
       ":   0\n",
       "\n",
       "\n",
       "\n",
       "2. $AirlineID\n",
       ":   '3U'\n",
       "$ScheduleStartDate\n",
       ":   '2023-10-20'\n",
       "$ScheduleEndDate\n",
       ":   '2023-10-22'\n",
       "$FlightNumber\n",
       ":   '3U3783'\n",
       "$DepartureAirportID\n",
       ":   'CKG'\n",
       "$DepartureTime\n",
       ":   '15:00'\n",
       "$CodeShare\n",
       ":   \n",
       "\n",
       "\n",
       "$ArrivalAirportID\n",
       ":   'TSA'\n",
       "$ArrivalTime\n",
       ":   '18:00'\n",
       "$Monday\n",
       ":   FALSE\n",
       "$Tuesday\n",
       ":   FALSE\n",
       "$Wednesday\n",
       ":   FALSE\n",
       "$Thursday\n",
       ":   FALSE\n",
       "$Friday\n",
       ":   TRUE\n",
       "$Saturday\n",
       ":   FALSE\n",
       "$Sunday\n",
       ":   TRUE\n",
       "$UpdateTime\n",
       ":   '2023-10-10T08:26:07+08:00'\n",
       "$VersionID\n",
       ":   1111\n",
       "$Terminal\n",
       ":   &lt;NA&gt;\n",
       "$num_codeShare\n",
       ":   0\n",
       "\n",
       "\n",
       "\n",
       "3. $AirlineID\n",
       ":   '3U'\n",
       "$ScheduleStartDate\n",
       ":   '2023-10-27'\n",
       "$ScheduleEndDate\n",
       ":   '2023-10-27'\n",
       "$FlightNumber\n",
       ":   '3U3783'\n",
       "$DepartureAirportID\n",
       ":   'CKG'\n",
       "$DepartureTime\n",
       ":   '15:00'\n",
       "$CodeShare\n",
       ":   \n",
       "\n",
       "\n",
       "$ArrivalAirportID\n",
       ":   'TSA'\n",
       "$ArrivalTime\n",
       ":   '18:00'\n",
       "$Monday\n",
       ":   FALSE\n",
       "$Tuesday\n",
       ":   FALSE\n",
       "$Wednesday\n",
       ":   FALSE\n",
       "$Thursday\n",
       ":   FALSE\n",
       "$Friday\n",
       ":   TRUE\n",
       "$Saturday\n",
       ":   FALSE\n",
       "$Sunday\n",
       ":   FALSE\n",
       "$UpdateTime\n",
       ":   '2023-10-10T08:26:07+08:00'\n",
       "$VersionID\n",
       ":   1111\n",
       "$Terminal\n",
       ":   &lt;NA&gt;\n",
       "$num_codeShare\n",
       ":   0\n",
       "\n",
       "\n",
       "\n",
       "\n",
       "\n"
      ],
      "text/plain": [
       "[[1]]\n",
       "[[1]]$AirlineID\n",
       "[1] \"3U\"\n",
       "\n",
       "[[1]]$ScheduleStartDate\n",
       "[1] \"2023-10-13\"\n",
       "\n",
       "[[1]]$ScheduleEndDate\n",
       "[1] \"2023-10-15\"\n",
       "\n",
       "[[1]]$FlightNumber\n",
       "[1] \"3U3783\"\n",
       "\n",
       "[[1]]$DepartureAirportID\n",
       "[1] \"CKG\"\n",
       "\n",
       "[[1]]$DepartureTime\n",
       "[1] \"15:00\"\n",
       "\n",
       "[[1]]$CodeShare\n",
       "list()\n",
       "\n",
       "[[1]]$ArrivalAirportID\n",
       "[1] \"TSA\"\n",
       "\n",
       "[[1]]$ArrivalTime\n",
       "[1] \"18:00\"\n",
       "\n",
       "[[1]]$Monday\n",
       "[1] FALSE\n",
       "\n",
       "[[1]]$Tuesday\n",
       "[1] FALSE\n",
       "\n",
       "[[1]]$Wednesday\n",
       "[1] FALSE\n",
       "\n",
       "[[1]]$Thursday\n",
       "[1] FALSE\n",
       "\n",
       "[[1]]$Friday\n",
       "[1] TRUE\n",
       "\n",
       "[[1]]$Saturday\n",
       "[1] FALSE\n",
       "\n",
       "[[1]]$Sunday\n",
       "[1] TRUE\n",
       "\n",
       "[[1]]$UpdateTime\n",
       "[1] \"2023-10-10T08:26:07+08:00\"\n",
       "\n",
       "[[1]]$VersionID\n",
       "[1] 1111\n",
       "\n",
       "[[1]]$Terminal\n",
       "[1] NA\n",
       "\n",
       "[[1]]$num_codeShare\n",
       "[1] 0\n",
       "\n",
       "\n",
       "[[2]]\n",
       "[[2]]$AirlineID\n",
       "[1] \"3U\"\n",
       "\n",
       "[[2]]$ScheduleStartDate\n",
       "[1] \"2023-10-20\"\n",
       "\n",
       "[[2]]$ScheduleEndDate\n",
       "[1] \"2023-10-22\"\n",
       "\n",
       "[[2]]$FlightNumber\n",
       "[1] \"3U3783\"\n",
       "\n",
       "[[2]]$DepartureAirportID\n",
       "[1] \"CKG\"\n",
       "\n",
       "[[2]]$DepartureTime\n",
       "[1] \"15:00\"\n",
       "\n",
       "[[2]]$CodeShare\n",
       "list()\n",
       "\n",
       "[[2]]$ArrivalAirportID\n",
       "[1] \"TSA\"\n",
       "\n",
       "[[2]]$ArrivalTime\n",
       "[1] \"18:00\"\n",
       "\n",
       "[[2]]$Monday\n",
       "[1] FALSE\n",
       "\n",
       "[[2]]$Tuesday\n",
       "[1] FALSE\n",
       "\n",
       "[[2]]$Wednesday\n",
       "[1] FALSE\n",
       "\n",
       "[[2]]$Thursday\n",
       "[1] FALSE\n",
       "\n",
       "[[2]]$Friday\n",
       "[1] TRUE\n",
       "\n",
       "[[2]]$Saturday\n",
       "[1] FALSE\n",
       "\n",
       "[[2]]$Sunday\n",
       "[1] TRUE\n",
       "\n",
       "[[2]]$UpdateTime\n",
       "[1] \"2023-10-10T08:26:07+08:00\"\n",
       "\n",
       "[[2]]$VersionID\n",
       "[1] 1111\n",
       "\n",
       "[[2]]$Terminal\n",
       "[1] NA\n",
       "\n",
       "[[2]]$num_codeShare\n",
       "[1] 0\n",
       "\n",
       "\n",
       "[[3]]\n",
       "[[3]]$AirlineID\n",
       "[1] \"3U\"\n",
       "\n",
       "[[3]]$ScheduleStartDate\n",
       "[1] \"2023-10-27\"\n",
       "\n",
       "[[3]]$ScheduleEndDate\n",
       "[1] \"2023-10-27\"\n",
       "\n",
       "[[3]]$FlightNumber\n",
       "[1] \"3U3783\"\n",
       "\n",
       "[[3]]$DepartureAirportID\n",
       "[1] \"CKG\"\n",
       "\n",
       "[[3]]$DepartureTime\n",
       "[1] \"15:00\"\n",
       "\n",
       "[[3]]$CodeShare\n",
       "list()\n",
       "\n",
       "[[3]]$ArrivalAirportID\n",
       "[1] \"TSA\"\n",
       "\n",
       "[[3]]$ArrivalTime\n",
       "[1] \"18:00\"\n",
       "\n",
       "[[3]]$Monday\n",
       "[1] FALSE\n",
       "\n",
       "[[3]]$Tuesday\n",
       "[1] FALSE\n",
       "\n",
       "[[3]]$Wednesday\n",
       "[1] FALSE\n",
       "\n",
       "[[3]]$Thursday\n",
       "[1] FALSE\n",
       "\n",
       "[[3]]$Friday\n",
       "[1] TRUE\n",
       "\n",
       "[[3]]$Saturday\n",
       "[1] FALSE\n",
       "\n",
       "[[3]]$Sunday\n",
       "[1] FALSE\n",
       "\n",
       "[[3]]$UpdateTime\n",
       "[1] \"2023-10-10T08:26:07+08:00\"\n",
       "\n",
       "[[3]]$VersionID\n",
       "[1] 1111\n",
       "\n",
       "[[3]]$Terminal\n",
       "[1] NA\n",
       "\n",
       "[[3]]$num_codeShare\n",
       "[1] 0\n",
       "\n"
      ]
     },
     "metadata": {},
     "output_type": "display_data"
    }
   ],
   "source": [
    "head(flights_obo, 3)"
   ]
  },
  {
   "cell_type": "markdown",
   "metadata": {},
   "source": [
    "- `head()`: show the first 6 values. `head( , 3)` will show the first 3 values."
   ]
  },
  {
   "cell_type": "markdown",
   "metadata": {},
   "source": [
    "## Extra Management tools on data frame\n",
    "\n",
    "Data frame has an extra management tool in element retrieval, which is `[row(s), column(s)]`.\n",
    "\n",
    "[Benefit of data frame](https://hyp.is/K1GeGme-Ee6m2vNkdp7lnw/tpemartin.github.io/NTPU-R-for-Data-Science-EN/operations-on-atomic-vectors.html)"
   ]
  },
  {
   "cell_type": "markdown",
   "metadata": {},
   "source": [
    "## Names of columns"
   ]
  },
  {
   "cell_type": "code",
   "execution_count": 13,
   "metadata": {
    "vscode": {
     "languageId": "r"
    }
   },
   "outputs": [
    {
     "data": {
      "text/html": [
       "<style>\n",
       ".list-inline {list-style: none; margin:0; padding: 0}\n",
       ".list-inline>li {display: inline-block}\n",
       ".list-inline>li:not(:last-child)::after {content: \"\\00b7\"; padding: 0 .5ex}\n",
       "</style>\n",
       "<ol class=list-inline><li>'AirlineID'</li><li>'ScheduleStartDate'</li><li>'ScheduleEndDate'</li><li>'FlightNumber'</li><li>'DepartureAirportID'</li><li>'DepartureTime'</li><li>'CodeShare'</li><li>'ArrivalAirportID'</li><li>'ArrivalTime'</li><li>'Monday'</li><li>'Tuesday'</li><li>'Wednesday'</li><li>'Thursday'</li><li>'Friday'</li><li>'Saturday'</li><li>'Sunday'</li><li>'UpdateTime'</li><li>'VersionID'</li><li>'Terminal'</li><li>'num_codeShare'</li></ol>\n"
      ],
      "text/latex": [
       "\\begin{enumerate*}\n",
       "\\item 'AirlineID'\n",
       "\\item 'ScheduleStartDate'\n",
       "\\item 'ScheduleEndDate'\n",
       "\\item 'FlightNumber'\n",
       "\\item 'DepartureAirportID'\n",
       "\\item 'DepartureTime'\n",
       "\\item 'CodeShare'\n",
       "\\item 'ArrivalAirportID'\n",
       "\\item 'ArrivalTime'\n",
       "\\item 'Monday'\n",
       "\\item 'Tuesday'\n",
       "\\item 'Wednesday'\n",
       "\\item 'Thursday'\n",
       "\\item 'Friday'\n",
       "\\item 'Saturday'\n",
       "\\item 'Sunday'\n",
       "\\item 'UpdateTime'\n",
       "\\item 'VersionID'\n",
       "\\item 'Terminal'\n",
       "\\item 'num\\_codeShare'\n",
       "\\end{enumerate*}\n"
      ],
      "text/markdown": [
       "1. 'AirlineID'\n",
       "2. 'ScheduleStartDate'\n",
       "3. 'ScheduleEndDate'\n",
       "4. 'FlightNumber'\n",
       "5. 'DepartureAirportID'\n",
       "6. 'DepartureTime'\n",
       "7. 'CodeShare'\n",
       "8. 'ArrivalAirportID'\n",
       "9. 'ArrivalTime'\n",
       "10. 'Monday'\n",
       "11. 'Tuesday'\n",
       "12. 'Wednesday'\n",
       "13. 'Thursday'\n",
       "14. 'Friday'\n",
       "15. 'Saturday'\n",
       "16. 'Sunday'\n",
       "17. 'UpdateTime'\n",
       "18. 'VersionID'\n",
       "19. 'Terminal'\n",
       "20. 'num_codeShare'\n",
       "\n",
       "\n"
      ],
      "text/plain": [
       " [1] \"AirlineID\"          \"ScheduleStartDate\"  \"ScheduleEndDate\"   \n",
       " [4] \"FlightNumber\"       \"DepartureAirportID\" \"DepartureTime\"     \n",
       " [7] \"CodeShare\"          \"ArrivalAirportID\"   \"ArrivalTime\"       \n",
       "[10] \"Monday\"             \"Tuesday\"            \"Wednesday\"         \n",
       "[13] \"Thursday\"           \"Friday\"             \"Saturday\"          \n",
       "[16] \"Sunday\"             \"UpdateTime\"         \"VersionID\"         \n",
       "[19] \"Terminal\"           \"num_codeShare\"     "
      ]
     },
     "metadata": {},
     "output_type": "display_data"
    }
   ],
   "source": [
    "names(flightsData)"
   ]
  },
  {
   "cell_type": "markdown",
   "metadata": {},
   "source": [
    "Each name represents:\n",
    "\n",
    "- `AirlineID`: an identification number assigned by IATA to identify a unique airline (carrier).\n",
    "- `ScheduleStartDate`: the start date of the flight schedule season for which the row of data is relevant to.\n",
    "- `ScheduleEndDate`: the end date of the flight schedule season for which the row of data is relevant to.\n",
    "- `FlightNumber`: the flight number assigned by the carrier.\n",
    "- `DepartureAirportID`: an identification number assigned by IATA to identify a unique airport.\n",
    "- `ArrivalAirportID`: an identification number assigned by IATA to identify a unique airport.\n",
    "- `DepartureTime`: the scheduled departure time of the flight.\n",
    "- `ArrivalTime`: the scheduled arrival time of the flight.\n",
    "- `Monday` to `Sunday`: the days of the week on which the flight operates based on departure date.\n",
    "- `CodeShare`: a code share flight is a flight booked through one airline but operated by another airline (as indicated by the carrier code).\n",
    "\n"
   ]
  },
  {
   "cell_type": "markdown",
   "metadata": {},
   "source": [
    "## Check the first few rows"
   ]
  },
  {
   "cell_type": "code",
   "execution_count": 14,
   "metadata": {
    "vscode": {
     "languageId": "r"
    }
   },
   "outputs": [
    {
     "data": {
      "text/html": [
       "<table class=\"dataframe\">\n",
       "<caption>A data.frame: 6 × 20</caption>\n",
       "<thead>\n",
       "\t<tr><th></th><th scope=col>AirlineID</th><th scope=col>ScheduleStartDate</th><th scope=col>ScheduleEndDate</th><th scope=col>FlightNumber</th><th scope=col>DepartureAirportID</th><th scope=col>DepartureTime</th><th scope=col>CodeShare</th><th scope=col>ArrivalAirportID</th><th scope=col>ArrivalTime</th><th scope=col>Monday</th><th scope=col>Tuesday</th><th scope=col>Wednesday</th><th scope=col>Thursday</th><th scope=col>Friday</th><th scope=col>Saturday</th><th scope=col>Sunday</th><th scope=col>UpdateTime</th><th scope=col>VersionID</th><th scope=col>Terminal</th><th scope=col>num_codeShare</th></tr>\n",
       "\t<tr><th></th><th scope=col>&lt;list&gt;</th><th scope=col>&lt;list&gt;</th><th scope=col>&lt;list&gt;</th><th scope=col>&lt;list&gt;</th><th scope=col>&lt;list&gt;</th><th scope=col>&lt;list&gt;</th><th scope=col>&lt;list&gt;</th><th scope=col>&lt;list&gt;</th><th scope=col>&lt;list&gt;</th><th scope=col>&lt;list&gt;</th><th scope=col>&lt;list&gt;</th><th scope=col>&lt;list&gt;</th><th scope=col>&lt;list&gt;</th><th scope=col>&lt;list&gt;</th><th scope=col>&lt;list&gt;</th><th scope=col>&lt;list&gt;</th><th scope=col>&lt;list&gt;</th><th scope=col>&lt;list&gt;</th><th scope=col>&lt;list&gt;</th><th scope=col>&lt;int&gt;</th></tr>\n",
       "</thead>\n",
       "<tbody>\n",
       "\t<tr><th scope=row>1</th><td>3U</td><td>2023-10-13</td><td>2023-10-15</td><td>3U3783</td><td>CKG</td><td>15:00</td><td>NULL</td><td>TSA</td><td>18:00</td><td>FALSE</td><td>FALSE</td><td>FALSE</td><td>FALSE</td><td>TRUE</td><td>FALSE</td><td>TRUE</td><td>2023-10-10T08:26:07+08:00</td><td>1111</td><td>NA</td><td>0</td></tr>\n",
       "\t<tr><th scope=row>2</th><td>3U</td><td>2023-10-20</td><td>2023-10-22</td><td>3U3783</td><td>CKG</td><td>15:00</td><td>NULL</td><td>TSA</td><td>18:00</td><td>FALSE</td><td>FALSE</td><td>FALSE</td><td>FALSE</td><td>TRUE</td><td>FALSE</td><td>TRUE</td><td>2023-10-10T08:26:07+08:00</td><td>1111</td><td>NA</td><td>0</td></tr>\n",
       "\t<tr><th scope=row>3</th><td>3U</td><td>2023-10-27</td><td>2023-10-27</td><td>3U3783</td><td>CKG</td><td>15:00</td><td>NULL</td><td>TSA</td><td>18:00</td><td>FALSE</td><td>FALSE</td><td>FALSE</td><td>FALSE</td><td>TRUE</td><td>FALSE</td><td>FALSE</td><td>2023-10-10T08:26:07+08:00</td><td>1111</td><td>NA</td><td>0</td></tr>\n",
       "\t<tr><th scope=row>4</th><td>3U</td><td>2023-10-13</td><td>2023-10-15</td><td>3U3784</td><td>TSA</td><td>19:00</td><td>NULL</td><td>CKG</td><td>22:15</td><td>FALSE</td><td>FALSE</td><td>FALSE</td><td>FALSE</td><td>TRUE</td><td>FALSE</td><td>TRUE</td><td>2023-10-10T08:26:07+08:00</td><td>1111</td><td>NA</td><td>0</td></tr>\n",
       "\t<tr><th scope=row>5</th><td>3U</td><td>2023-10-20</td><td>2023-10-22</td><td>3U3784</td><td>TSA</td><td>19:00</td><td>NULL</td><td>CKG</td><td>22:15</td><td>FALSE</td><td>FALSE</td><td>FALSE</td><td>FALSE</td><td>TRUE</td><td>FALSE</td><td>TRUE</td><td>2023-10-10T08:26:07+08:00</td><td>1111</td><td>NA</td><td>0</td></tr>\n",
       "\t<tr><th scope=row>6</th><td>3U</td><td>2023-10-27</td><td>2023-10-27</td><td>3U3784</td><td>TSA</td><td>19:00</td><td>NULL</td><td>CKG</td><td>22:15</td><td>FALSE</td><td>FALSE</td><td>FALSE</td><td>FALSE</td><td>TRUE</td><td>FALSE</td><td>FALSE</td><td>2023-10-10T08:26:07+08:00</td><td>1111</td><td>NA</td><td>0</td></tr>\n",
       "</tbody>\n",
       "</table>\n"
      ],
      "text/latex": [
       "A data.frame: 6 × 20\n",
       "\\begin{tabular}{r|llllllllllllllllllll}\n",
       "  & AirlineID & ScheduleStartDate & ScheduleEndDate & FlightNumber & DepartureAirportID & DepartureTime & CodeShare & ArrivalAirportID & ArrivalTime & Monday & Tuesday & Wednesday & Thursday & Friday & Saturday & Sunday & UpdateTime & VersionID & Terminal & num\\_codeShare\\\\\n",
       "  & <list> & <list> & <list> & <list> & <list> & <list> & <list> & <list> & <list> & <list> & <list> & <list> & <list> & <list> & <list> & <list> & <list> & <list> & <list> & <int>\\\\\n",
       "\\hline\n",
       "\t1 & 3U & 2023-10-13 & 2023-10-15 & 3U3783 & CKG & 15:00 & NULL & TSA & 18:00 & FALSE & FALSE & FALSE & FALSE & TRUE & FALSE & TRUE & 2023-10-10T08:26:07+08:00 & 1111 & NA & 0\\\\\n",
       "\t2 & 3U & 2023-10-20 & 2023-10-22 & 3U3783 & CKG & 15:00 & NULL & TSA & 18:00 & FALSE & FALSE & FALSE & FALSE & TRUE & FALSE & TRUE & 2023-10-10T08:26:07+08:00 & 1111 & NA & 0\\\\\n",
       "\t3 & 3U & 2023-10-27 & 2023-10-27 & 3U3783 & CKG & 15:00 & NULL & TSA & 18:00 & FALSE & FALSE & FALSE & FALSE & TRUE & FALSE & FALSE & 2023-10-10T08:26:07+08:00 & 1111 & NA & 0\\\\\n",
       "\t4 & 3U & 2023-10-13 & 2023-10-15 & 3U3784 & TSA & 19:00 & NULL & CKG & 22:15 & FALSE & FALSE & FALSE & FALSE & TRUE & FALSE & TRUE & 2023-10-10T08:26:07+08:00 & 1111 & NA & 0\\\\\n",
       "\t5 & 3U & 2023-10-20 & 2023-10-22 & 3U3784 & TSA & 19:00 & NULL & CKG & 22:15 & FALSE & FALSE & FALSE & FALSE & TRUE & FALSE & TRUE & 2023-10-10T08:26:07+08:00 & 1111 & NA & 0\\\\\n",
       "\t6 & 3U & 2023-10-27 & 2023-10-27 & 3U3784 & TSA & 19:00 & NULL & CKG & 22:15 & FALSE & FALSE & FALSE & FALSE & TRUE & FALSE & FALSE & 2023-10-10T08:26:07+08:00 & 1111 & NA & 0\\\\\n",
       "\\end{tabular}\n"
      ],
      "text/markdown": [
       "\n",
       "A data.frame: 6 × 20\n",
       "\n",
       "| <!--/--> | AirlineID &lt;list&gt; | ScheduleStartDate &lt;list&gt; | ScheduleEndDate &lt;list&gt; | FlightNumber &lt;list&gt; | DepartureAirportID &lt;list&gt; | DepartureTime &lt;list&gt; | CodeShare &lt;list&gt; | ArrivalAirportID &lt;list&gt; | ArrivalTime &lt;list&gt; | Monday &lt;list&gt; | Tuesday &lt;list&gt; | Wednesday &lt;list&gt; | Thursday &lt;list&gt; | Friday &lt;list&gt; | Saturday &lt;list&gt; | Sunday &lt;list&gt; | UpdateTime &lt;list&gt; | VersionID &lt;list&gt; | Terminal &lt;list&gt; | num_codeShare &lt;int&gt; |\n",
       "|---|---|---|---|---|---|---|---|---|---|---|---|---|---|---|---|---|---|---|---|---|\n",
       "| 1 | 3U | 2023-10-13 | 2023-10-15 | 3U3783 | CKG | 15:00 | NULL | TSA | 18:00 | FALSE | FALSE | FALSE | FALSE | TRUE | FALSE | TRUE | 2023-10-10T08:26:07+08:00 | 1111 | NA | 0 |\n",
       "| 2 | 3U | 2023-10-20 | 2023-10-22 | 3U3783 | CKG | 15:00 | NULL | TSA | 18:00 | FALSE | FALSE | FALSE | FALSE | TRUE | FALSE | TRUE | 2023-10-10T08:26:07+08:00 | 1111 | NA | 0 |\n",
       "| 3 | 3U | 2023-10-27 | 2023-10-27 | 3U3783 | CKG | 15:00 | NULL | TSA | 18:00 | FALSE | FALSE | FALSE | FALSE | TRUE | FALSE | FALSE | 2023-10-10T08:26:07+08:00 | 1111 | NA | 0 |\n",
       "| 4 | 3U | 2023-10-13 | 2023-10-15 | 3U3784 | TSA | 19:00 | NULL | CKG | 22:15 | FALSE | FALSE | FALSE | FALSE | TRUE | FALSE | TRUE | 2023-10-10T08:26:07+08:00 | 1111 | NA | 0 |\n",
       "| 5 | 3U | 2023-10-20 | 2023-10-22 | 3U3784 | TSA | 19:00 | NULL | CKG | 22:15 | FALSE | FALSE | FALSE | FALSE | TRUE | FALSE | TRUE | 2023-10-10T08:26:07+08:00 | 1111 | NA | 0 |\n",
       "| 6 | 3U | 2023-10-27 | 2023-10-27 | 3U3784 | TSA | 19:00 | NULL | CKG | 22:15 | FALSE | FALSE | FALSE | FALSE | TRUE | FALSE | FALSE | 2023-10-10T08:26:07+08:00 | 1111 | NA | 0 |\n",
       "\n"
      ],
      "text/plain": [
       "  AirlineID ScheduleStartDate ScheduleEndDate FlightNumber DepartureAirportID\n",
       "1 3U        2023-10-13        2023-10-15      3U3783       CKG               \n",
       "2 3U        2023-10-20        2023-10-22      3U3783       CKG               \n",
       "3 3U        2023-10-27        2023-10-27      3U3783       CKG               \n",
       "4 3U        2023-10-13        2023-10-15      3U3784       TSA               \n",
       "5 3U        2023-10-20        2023-10-22      3U3784       TSA               \n",
       "6 3U        2023-10-27        2023-10-27      3U3784       TSA               \n",
       "  DepartureTime CodeShare ArrivalAirportID ArrivalTime Monday Tuesday Wednesday\n",
       "1 15:00         NULL      TSA              18:00       FALSE  FALSE   FALSE    \n",
       "2 15:00         NULL      TSA              18:00       FALSE  FALSE   FALSE    \n",
       "3 15:00         NULL      TSA              18:00       FALSE  FALSE   FALSE    \n",
       "4 19:00         NULL      CKG              22:15       FALSE  FALSE   FALSE    \n",
       "5 19:00         NULL      CKG              22:15       FALSE  FALSE   FALSE    \n",
       "6 19:00         NULL      CKG              22:15       FALSE  FALSE   FALSE    \n",
       "  Thursday Friday Saturday Sunday UpdateTime                VersionID Terminal\n",
       "1 FALSE    TRUE   FALSE    TRUE   2023-10-10T08:26:07+08:00 1111      NA      \n",
       "2 FALSE    TRUE   FALSE    TRUE   2023-10-10T08:26:07+08:00 1111      NA      \n",
       "3 FALSE    TRUE   FALSE    FALSE  2023-10-10T08:26:07+08:00 1111      NA      \n",
       "4 FALSE    TRUE   FALSE    TRUE   2023-10-10T08:26:07+08:00 1111      NA      \n",
       "5 FALSE    TRUE   FALSE    TRUE   2023-10-10T08:26:07+08:00 1111      NA      \n",
       "6 FALSE    TRUE   FALSE    FALSE  2023-10-10T08:26:07+08:00 1111      NA      \n",
       "  num_codeShare\n",
       "1 0            \n",
       "2 0            \n",
       "3 0            \n",
       "4 0            \n",
       "5 0            \n",
       "6 0            "
      ]
     },
     "metadata": {},
     "output_type": "display_data"
    }
   ],
   "source": [
    "head(flightsData)"
   ]
  },
  {
   "cell_type": "code",
   "execution_count": 30,
   "metadata": {
    "vscode": {
     "languageId": "r"
    }
   },
   "outputs": [
    {
     "data": {
      "text/plain": [
       "\n",
       " TPE  PVG  KHH  HKG  NRT  BKK  KIX  ICN  TSA  SIN  MFM  FUK  HAN  BWN  LAX  SGN \n",
       "2268  156  140  138  134  120  120  108   99   82   70   66   63   60   60   59 \n",
       " SFO  MNL  KUL  OKA  PEK  CEB  PUS  SDJ  DAD  CTS  HND  SZX  CAN  KMQ  SHA  HGH \n",
       "  57   54   50   49   42   41   37   36   35   33   33   33   27   27   24   23 \n",
       " XMN  DMK  RMQ  GMP  NGO  PEN  BKI  JFK  DXB  NKG  FOC  TFU  YVR  CGK  CKG  CNX \n",
       "  23   22   22   21   21   21   19   18   16   16   15   15   15   12   12   12 \n",
       " MEL  ORD  PNH  TAO  YYZ  BNE  TAE  CRK  DPS  LHR  SEA  SYD  TAK  WUH  VIE  AKL \n",
       "  12   12   12   12   12   11   10    9    9    9    9    9    9    9    8    6 \n",
       " AMS  CJJ  CJU  FCO  FRA  GAJ  HIJ  IAH  IST  KMJ  MUC  NGB  KIJ  MXP  TKS  CXR \n",
       "   6    6    6    6    6    6    6    6    6    6    6    6    5    5    5    4 \n",
       " PRG  AKJ  CDG  CGO  HKD  HKT  HNA  HSG  HUI  IBR  KCZ  KLO  MPH  OKJ  ONT  PPS \n",
       "   4    3    3    3    3    3    3    3    3    3    3    3    3    3    3    3 \n",
       " RGN  ROR  TNN  AOJ  IZO  TOY  TTJ  NTQ  VII \n",
       "   3    3    3    2    2    2    2    1    1 "
      ]
     },
     "metadata": {},
     "output_type": "display_data"
    }
   ],
   "source": [
    "flightsData$ArrivalAirportID |> unlist() |> table() |> sort(decreasing = T)"
   ]
  },
  {
   "cell_type": "markdown",
   "metadata": {},
   "source": [
    "## Understand column values\n",
    "\n",
    "### `...AirportID`"
   ]
  },
  {
   "cell_type": "code",
   "execution_count": null,
   "metadata": {
    "vscode": {
     "languageId": "r"
    }
   },
   "outputs": [],
   "source": [
    "install.packages(\"airportr\")\n"
   ]
  },
  {
   "cell_type": "code",
   "execution_count": 49,
   "metadata": {
    "vscode": {
     "languageId": "r"
    }
   },
   "outputs": [
    {
     "data": {
      "text/html": [
       "'Hanoi'"
      ],
      "text/latex": [
       "'Hanoi'"
      ],
      "text/markdown": [
       "'Hanoi'"
      ],
      "text/plain": [
       "[1] \"Hanoi\""
      ]
     },
     "metadata": {},
     "output_type": "display_data"
    }
   ],
   "source": [
    "library(airportr)\n",
    "han <- airport_lookup(\"HAN\", output_type=c(\"city\"))\n",
    "\n",
    "han "
   ]
  },
  {
   "cell_type": "code",
   "execution_count": 48,
   "metadata": {
    "vscode": {
     "languageId": "r"
    }
   },
   "outputs": [
    {
     "data": {
      "text/html": [
       "1633.79180239335"
      ],
      "text/latex": [
       "1633.79180239335"
      ],
      "text/markdown": [
       "1633.79180239335"
      ],
      "text/plain": [
       "[1] 1633.792"
      ]
     },
     "metadata": {},
     "output_type": "display_data"
    }
   ],
   "source": [
    "tpe_han <- airport_distance(\"TPE\",\"HAN\")\n",
    "\n",
    "tpe_han"
   ]
  },
  {
   "cell_type": "markdown",
   "metadata": {},
   "source": [
    "> Warning message could be ignored most of the time since the command still goes through. "
   ]
  }
 ],
 "metadata": {
  "kernelspec": {
   "display_name": "R",
   "language": "R",
   "name": "ir"
  },
  "language_info": {
   "codemirror_mode": "r",
   "file_extension": ".r",
   "mimetype": "text/x-r-source",
   "name": "R",
   "pygments_lexer": "r",
   "version": "4.2.2"
  },
  "orig_nbformat": 4
 },
 "nbformat": 4,
 "nbformat_minor": 2
}
