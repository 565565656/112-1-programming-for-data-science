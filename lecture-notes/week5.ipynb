{
 "cells": [
  {
   "cell_type": "code",
   "execution_count": 1,
   "metadata": {
    "vscode": {
     "languageId": "r"
    }
   },
   "outputs": [
    {
     "data": {
      "text/html": [
       "'en_US.UTF-8'"
      ],
      "text/latex": [
       "'en\\_US.UTF-8'"
      ],
      "text/markdown": [
       "'en_US.UTF-8'"
      ],
      "text/plain": [
       "[1] \"en_US.UTF-8\""
      ]
     },
     "metadata": {},
     "output_type": "display_data"
    }
   ],
   "source": [
    "# To ensure Chinese characters are displayed correctly\n",
    "options(encoding = \"UTF-8\")\n",
    "Sys.setlocale(\"LC_CTYPE\", \"en_US.UTF-8\")"
   ]
  },
  {
   "cell_type": "markdown",
   "metadata": {},
   "source": [
    "# Progress storage\n",
    "\n",
    "During the research process, you will need to save your progress and come back the next data to pick up where you left off. This is a good practice to avoid losing your work. In this section, we will learn how to save and load data in R."
   ]
  },
  {
   "cell_type": "code",
   "execution_count": 2,
   "metadata": {
    "vscode": {
     "languageId": "r"
    }
   },
   "outputs": [],
   "source": [
    "flights <- list(\n",
    "    data = list(\n",
    "        file = \"data/international_flights.json\",\n",
    "        meta = list(\n",
    "            name = \"國際航空定期時刻表\",\n",
    "            source_link = \"https://data.gov.tw/dataset/161167\"\n",
    "        )\n",
    "    )\n",
    ")"
   ]
  },
  {
   "cell_type": "markdown",
   "metadata": {},
   "source": [
    "- we will constantly save our research progress under `flights` list.  \n",
    "- when we want to save our progress, run:"
   ]
  },
  {
   "cell_type": "code",
   "execution_count": 3,
   "metadata": {
    "vscode": {
     "languageId": "r"
    }
   },
   "outputs": [],
   "source": [
    "saveRDS(flights, \"data/flights.rds\")"
   ]
  },
  {
   "cell_type": "markdown",
   "metadata": {},
   "source": [
    "- if you turn off your computer and want to come back the next day, run:"
   ]
  },
  {
   "cell_type": "code",
   "execution_count": null,
   "metadata": {
    "vscode": {
     "languageId": "r"
    }
   },
   "outputs": [],
   "source": [
    "flights = readRDS(\"data/flights.rds\")"
   ]
  },
  {
   "cell_type": "markdown",
   "metadata": {},
   "source": [
    "# Exercise: understand your data\n",
    "\n",
    "- what's the name of the dataset? where is it from? "
   ]
  },
  {
   "cell_type": "markdown",
   "metadata": {},
   "source": [
    "# Import data"
   ]
  },
  {
   "cell_type": "code",
   "execution_count": 7,
   "metadata": {
    "vscode": {
     "languageId": "r"
    }
   },
   "outputs": [],
   "source": [
    "# Read JSON file\n",
    "\n",
    "filepath = flights$data$file\n",
    "flightsData <- jsonlite::fromJSON(filepath)"
   ]
  },
  {
   "cell_type": "markdown",
   "metadata": {},
   "source": [
    "# Store progress"
   ]
  },
  {
   "cell_type": "code",
   "execution_count": null,
   "metadata": {
    "vscode": {
     "languageId": "r"
    }
   },
   "outputs": [],
   "source": [
    "flights$data"
   ]
  },
  {
   "cell_type": "markdown",
   "metadata": {},
   "source": [
    "# Data acquantance\n",
    "\n",
    "## Data structure\n",
    "\n",
    "- Type of storage: an atomic vector, a list, a data frame, or a matrix.  \n",
    "- Class: numeric, character, integer, list, data frame, or matrix.  "
   ]
  },
  {
   "cell_type": "code",
   "execution_count": 12,
   "metadata": {
    "vscode": {
     "languageId": "r"
    }
   },
   "outputs": [
    {
     "data": {
      "text/html": [
       "'list'"
      ],
      "text/latex": [
       "'list'"
      ],
      "text/markdown": [
       "'list'"
      ],
      "text/plain": [
       "[1] \"list\""
      ]
     },
     "metadata": {},
     "output_type": "display_data"
    },
    {
     "data": {
      "text/html": [
       "'data.frame'"
      ],
      "text/latex": [
       "'data.frame'"
      ],
      "text/markdown": [
       "'data.frame'"
      ],
      "text/plain": [
       "[1] \"data.frame\""
      ]
     },
     "metadata": {},
     "output_type": "display_data"
    }
   ],
   "source": [
    "typeof(flightsData)\n",
    "class(flightsData)"
   ]
  },
  {
   "cell_type": "markdown",
   "metadata": {},
   "source": [
    "### Two classes of collective data \n",
    "\n",
    "- Observation by observation (obo): mostly a `list` class.\n",
    "- Feature by feature (fbf): mostly a `data.frame` class.\n",
    "\n",
    "[3.1.1 Json data](https://tpemartin.github.io/NTPU-R-for-Data-Science-EN/element-values.html#json-data)  \n",
    "[4.2.4 Data frame](https://tpemartin.github.io/NTPU-R-for-Data-Science-EN/operations-on-atomic-vectors.html#data-frame)\n",
    "\n",
    "[Benefit of data frame](https://hyp.is/K1GeGme-Ee6m2vNkdp7lnw/tpemartin.github.io/NTPU-R-for-Data-Science-EN/operations-on-atomic-vectors.html)"
   ]
  },
  {
   "cell_type": "code",
   "execution_count": 53,
   "metadata": {
    "vscode": {
     "languageId": "r"
    }
   },
   "outputs": [],
   "source": [
    "person1 <- list(\n",
    "    name = \"John\",\n",
    "    age = 30,\n",
    "    married = TRUE\n",
    ")\n",
    "person2 <- list(\n",
    "    name = \"Mary\",\n",
    "    age = 25,\n",
    "    married = FALSE\n",
    ")\n",
    "person3 <- list(\n",
    "    name = \"Tom\",\n",
    "    age = 35,\n",
    "    married = TRUE\n",
    ")\n",
    "\n",
    "# observation by observation stacking\n",
    "data_obo <- list(person1, person2, person3)"
   ]
  },
  {
   "cell_type": "code",
   "execution_count": 54,
   "metadata": {
    "vscode": {
     "languageId": "r"
    }
   },
   "outputs": [],
   "source": [
    "names = c(\"John\", \"Mary\", \"Tom\")\n",
    "ages = c(30, 25, 35)\n",
    "isMarried = c(TRUE, FALSE, TRUE)\n",
    "\n",
    "# feature by feature stacking\n",
    "data_fbf <- list(\n",
    "    name = names, \n",
    "    age = ages, \n",
    "    married = isMarried)"
   ]
  },
  {
   "cell_type": "markdown",
   "metadata": {},
   "source": [
    "- Feature by feature: each element has the same length."
   ]
  },
  {
   "cell_type": "code",
   "execution_count": null,
   "metadata": {
    "vscode": {
     "languageId": "r"
    }
   },
   "outputs": [],
   "source": [
    "length(data_fbf$name)\n",
    "length(data_fbf$age)\n",
    "length(data_fbf$married)"
   ]
  },
  {
   "cell_type": "markdown",
   "metadata": {},
   "source": [
    "- Within each feature, its values are of the same type."
   ]
  },
  {
   "cell_type": "code",
   "execution_count": 57,
   "metadata": {
    "vscode": {
     "languageId": "r"
    }
   },
   "outputs": [
    {
     "data": {
      "text/html": [
       "'character'"
      ],
      "text/latex": [
       "'character'"
      ],
      "text/markdown": [
       "'character'"
      ],
      "text/plain": [
       "[1] \"character\""
      ]
     },
     "metadata": {},
     "output_type": "display_data"
    },
    {
     "data": {
      "text/html": [
       "'double'"
      ],
      "text/latex": [
       "'double'"
      ],
      "text/markdown": [
       "'double'"
      ],
      "text/plain": [
       "[1] \"double\""
      ]
     },
     "metadata": {},
     "output_type": "display_data"
    },
    {
     "data": {
      "text/html": [
       "'logical'"
      ],
      "text/latex": [
       "'logical'"
      ],
      "text/markdown": [
       "'logical'"
      ],
      "text/plain": [
       "[1] \"logical\""
      ]
     },
     "metadata": {},
     "output_type": "display_data"
    }
   ],
   "source": [
    "typeof(data_fbf$name)\n",
    "typeof(data_fbf$age)\n",
    "typeof(data_fbf$married)"
   ]
  },
  {
   "cell_type": "markdown",
   "metadata": {},
   "source": [
    "For fbf stacking, mostly we will use a new way to store data: `data.frame` class.\n",
    "\n",
    "### Data frame"
   ]
  },
  {
   "cell_type": "code",
   "execution_count": 56,
   "metadata": {
    "vscode": {
     "languageId": "r"
    }
   },
   "outputs": [
    {
     "data": {
      "text/html": [
       "<table class=\"dataframe\">\n",
       "<caption>A data.frame: 3 × 3</caption>\n",
       "<thead>\n",
       "\t<tr><th scope=col>name</th><th scope=col>age</th><th scope=col>married</th></tr>\n",
       "\t<tr><th scope=col>&lt;chr&gt;</th><th scope=col>&lt;dbl&gt;</th><th scope=col>&lt;lgl&gt;</th></tr>\n",
       "</thead>\n",
       "<tbody>\n",
       "\t<tr><td>John</td><td>30</td><td> TRUE</td></tr>\n",
       "\t<tr><td>Mary</td><td>25</td><td>FALSE</td></tr>\n",
       "\t<tr><td>Tom </td><td>35</td><td> TRUE</td></tr>\n",
       "</tbody>\n",
       "</table>\n"
      ],
      "text/latex": [
       "A data.frame: 3 × 3\n",
       "\\begin{tabular}{lll}\n",
       " name & age & married\\\\\n",
       " <chr> & <dbl> & <lgl>\\\\\n",
       "\\hline\n",
       "\t John & 30 &  TRUE\\\\\n",
       "\t Mary & 25 & FALSE\\\\\n",
       "\t Tom  & 35 &  TRUE\\\\\n",
       "\\end{tabular}\n"
      ],
      "text/markdown": [
       "\n",
       "A data.frame: 3 × 3\n",
       "\n",
       "| name &lt;chr&gt; | age &lt;dbl&gt; | married &lt;lgl&gt; |\n",
       "|---|---|---|\n",
       "| John | 30 |  TRUE |\n",
       "| Mary | 25 | FALSE |\n",
       "| Tom  | 35 |  TRUE |\n",
       "\n"
      ],
      "text/plain": [
       "  name age married\n",
       "1 John 30   TRUE  \n",
       "2 Mary 25  FALSE  \n",
       "3 Tom  35   TRUE  "
      ]
     },
     "metadata": {},
     "output_type": "display_data"
    }
   ],
   "source": [
    "df <- list2DF(data_fbf) # use list2DF to convert a list fbf into a data frame\n"
   ]
  },
  {
   "cell_type": "code",
   "execution_count": null,
   "metadata": {
    "vscode": {
     "languageId": "r"
    }
   },
   "outputs": [],
   "source": [
    "\n",
    "df <- data.frame(\n",
    "    name = names, \n",
    "    age = ages, \n",
    "    married = isMarried\n",
    ") # directly forming a data frame"
   ]
  },
  {
   "cell_type": "code",
   "execution_count": 15,
   "metadata": {
    "vscode": {
     "languageId": "r"
    }
   },
   "outputs": [],
   "source": [
    "# Observation by observation\n",
    "concerts_obo <-\n",
    "  jsonlite::fromJSON(\"https://cloud.culture.tw/frontsite/trans/SearchShowAction.do?method=doFindTypeJ&category=17\", simplifyDataFrame = F)\n",
    "\n",
    "# Feature by feature\n",
    "concerts_fbf <-\n",
    "  jsonlite::fromJSON(\"https://cloud.culture.tw/frontsite/trans/SearchShowAction.do?method=doFindTypeJ&category=17\", simplifyDataFrame = T)"
   ]
  },
  {
   "cell_type": "code",
   "execution_count": 51,
   "metadata": {
    "vscode": {
     "languageId": "r"
    }
   },
   "outputs": [
    {
     "data": {
      "text/html": [
       "<ol>\n",
       "\t<li><dl>\n",
       "\t<dt>$version</dt>\n",
       "\t\t<dd>'1.4'</dd>\n",
       "\t<dt>$UID</dt>\n",
       "\t\t<dd>'64b83da673f77c49dcd265d4'</dd>\n",
       "\t<dt>$title</dt>\n",
       "\t\t<dd>'國際沈文程日 十二月九彼下暗巡迴演唱會'</dd>\n",
       "\t<dt>$category</dt>\n",
       "\t\t<dd>'17'</dd>\n",
       "\t<dt>$showInfo</dt>\n",
       "\t\t<dd><ol>\n",
       "\t<li><dl>\n",
       "\t<dt>$time</dt>\n",
       "\t\t<dd>'2023/12/09 19:30:00'</dd>\n",
       "\t<dt>$location</dt>\n",
       "\t\t<dd>'高雄市鹽埕區真愛路1號'</dd>\n",
       "\t<dt>$locationName</dt>\n",
       "\t\t<dd>'高雄流行音樂中心 海音館'</dd>\n",
       "\t<dt>$onSales</dt>\n",
       "\t\t<dd>'Y'</dd>\n",
       "\t<dt>$price</dt>\n",
       "\t\t<dd>'3600、3200、2800、2400、2000、1600、1200、800'</dd>\n",
       "\t<dt>$latitude</dt>\n",
       "\t\t<dd>'22.6181635'</dd>\n",
       "\t<dt>$longitude</dt>\n",
       "\t\t<dd>'120.2885658'</dd>\n",
       "\t<dt>$endTime</dt>\n",
       "\t\t<dd>'2023/12/09 23:00:00'</dd>\n",
       "</dl>\n",
       "</li>\n",
       "</ol>\n",
       "</dd>\n",
       "\t<dt>$showUnit</dt>\n",
       "\t\t<dd>''</dd>\n",
       "\t<dt>$discountInfo</dt>\n",
       "\t\t<dd>''</dd>\n",
       "\t<dt>$descriptionFilterHtml</dt>\n",
       "\t\t<dd>''</dd>\n",
       "\t<dt>$imageUrl</dt>\n",
       "\t\t<dd>''</dd>\n",
       "\t<dt>$masterUnit</dt>\n",
       "\t\t<dd><ol>\n",
       "</ol>\n",
       "</dd>\n",
       "\t<dt>$subUnit</dt>\n",
       "\t\t<dd><ol>\n",
       "</ol>\n",
       "</dd>\n",
       "\t<dt>$supportUnit</dt>\n",
       "\t\t<dd><ol>\n",
       "</ol>\n",
       "</dd>\n",
       "\t<dt>$otherUnit</dt>\n",
       "\t\t<dd><ol>\n",
       "</ol>\n",
       "</dd>\n",
       "\t<dt>$webSales</dt>\n",
       "\t\t<dd>'https://ticket.com.tw/Application/UTK02/UTK0201_.aspx?PRODUCT_ID=P07VL56F'</dd>\n",
       "\t<dt>$sourceWebPromote</dt>\n",
       "\t\t<dd>'https://ticket.com.tw/Application/UTK02/UTK0201_.aspx?PRODUCT_ID=P07VL56F'</dd>\n",
       "\t<dt>$comment</dt>\n",
       "\t\t<dd>''</dd>\n",
       "\t<dt>$editModifyDate</dt>\n",
       "\t\t<dd>''</dd>\n",
       "\t<dt>$sourceWebName</dt>\n",
       "\t\t<dd>'年代'</dd>\n",
       "\t<dt>$startDate</dt>\n",
       "\t\t<dd>'2023/12/09'</dd>\n",
       "\t<dt>$endDate</dt>\n",
       "\t\t<dd>'2023/12/09'</dd>\n",
       "\t<dt>$hitRate</dt>\n",
       "\t\t<dd>39</dd>\n",
       "</dl>\n",
       "</li>\n",
       "\t<li><dl>\n",
       "\t<dt>$version</dt>\n",
       "\t\t<dd>'1.4'</dd>\n",
       "\t<dt>$UID</dt>\n",
       "\t\t<dd>'64dfbac673f77c2b484e677e'</dd>\n",
       "\t<dt>$title</dt>\n",
       "\t\t<dd>'「歌之饗宴8-破繭而出 SAYA 張惠春」演唱會'</dd>\n",
       "\t<dt>$category</dt>\n",
       "\t\t<dd>'17'</dd>\n",
       "\t<dt>$showInfo</dt>\n",
       "\t\t<dd><ol>\n",
       "\t<li><dl>\n",
       "\t<dt>$time</dt>\n",
       "\t\t<dd>'2023/10/28 19:00:00'</dd>\n",
       "\t<dt>$location</dt>\n",
       "\t\t<dd>'台北市信義區信義路五段一號'</dd>\n",
       "\t<dt>$locationName</dt>\n",
       "\t\t<dd>'台北國際會議中心大會堂'</dd>\n",
       "\t<dt>$onSales</dt>\n",
       "\t\t<dd>'Y'</dd>\n",
       "\t<dt>$price</dt>\n",
       "\t\t<dd>'4000、3600、3200、2800、2400、2000、1600'</dd>\n",
       "\t<dt>$latitude</dt>\n",
       "\t\t<dd>'25.0336111'</dd>\n",
       "\t<dt>$longitude</dt>\n",
       "\t\t<dd>'121.5608333'</dd>\n",
       "\t<dt>$endTime</dt>\n",
       "\t\t<dd>'2023/10/28 23:59:00'</dd>\n",
       "</dl>\n",
       "</li>\n",
       "\t<li><dl>\n",
       "\t<dt>$time</dt>\n",
       "\t\t<dd>'2023/10/29 19:00:00'</dd>\n",
       "\t<dt>$location</dt>\n",
       "\t\t<dd>'台北市信義區信義路五段一號'</dd>\n",
       "\t<dt>$locationName</dt>\n",
       "\t\t<dd>'台北國際會議中心大會堂'</dd>\n",
       "\t<dt>$onSales</dt>\n",
       "\t\t<dd>'Y'</dd>\n",
       "\t<dt>$price</dt>\n",
       "\t\t<dd>'4000、3600、3200、2800、2400、2000、1600'</dd>\n",
       "\t<dt>$latitude</dt>\n",
       "\t\t<dd>'25.0336111'</dd>\n",
       "\t<dt>$longitude</dt>\n",
       "\t\t<dd>'121.5608333'</dd>\n",
       "\t<dt>$endTime</dt>\n",
       "\t\t<dd>'2023/10/29 23:59:00'</dd>\n",
       "</dl>\n",
       "</li>\n",
       "</ol>\n",
       "</dd>\n",
       "\t<dt>$showUnit</dt>\n",
       "\t\t<dd>''</dd>\n",
       "\t<dt>$discountInfo</dt>\n",
       "\t\t<dd>''</dd>\n",
       "\t<dt>$descriptionFilterHtml</dt>\n",
       "\t\t<dd>''</dd>\n",
       "\t<dt>$imageUrl</dt>\n",
       "\t\t<dd>''</dd>\n",
       "\t<dt>$masterUnit</dt>\n",
       "\t\t<dd><ol>\n",
       "</ol>\n",
       "</dd>\n",
       "\t<dt>$subUnit</dt>\n",
       "\t\t<dd><ol>\n",
       "</ol>\n",
       "</dd>\n",
       "\t<dt>$supportUnit</dt>\n",
       "\t\t<dd><ol>\n",
       "</ol>\n",
       "</dd>\n",
       "\t<dt>$otherUnit</dt>\n",
       "\t\t<dd><ol>\n",
       "</ol>\n",
       "</dd>\n",
       "\t<dt>$webSales</dt>\n",
       "\t\t<dd>'https://ticket.com.tw/Application/UTK02/UTK0201_.aspx?PRODUCT_ID=P091DXL3'</dd>\n",
       "\t<dt>$sourceWebPromote</dt>\n",
       "\t\t<dd>'https://ticket.com.tw/Application/UTK02/UTK0201_.aspx?PRODUCT_ID=P091DXL3'</dd>\n",
       "\t<dt>$comment</dt>\n",
       "\t\t<dd>''</dd>\n",
       "\t<dt>$editModifyDate</dt>\n",
       "\t\t<dd>''</dd>\n",
       "\t<dt>$sourceWebName</dt>\n",
       "\t\t<dd>'年代'</dd>\n",
       "\t<dt>$startDate</dt>\n",
       "\t\t<dd>'2023/10/28'</dd>\n",
       "\t<dt>$endDate</dt>\n",
       "\t\t<dd>'2023/10/29'</dd>\n",
       "\t<dt>$hitRate</dt>\n",
       "\t\t<dd>133</dd>\n",
       "</dl>\n",
       "</li>\n",
       "\t<li><dl>\n",
       "\t<dt>$version</dt>\n",
       "\t\t<dd>'1.4'</dd>\n",
       "\t<dt>$UID</dt>\n",
       "\t\t<dd>'64de6cdd73f77c2b484e6718'</dd>\n",
       "\t<dt>$title</dt>\n",
       "\t\t<dd>'時也 運也 命也 2024楊哲公益巡迴演唱會'</dd>\n",
       "\t<dt>$category</dt>\n",
       "\t\t<dd>'17'</dd>\n",
       "\t<dt>$showInfo</dt>\n",
       "\t\t<dd><ol>\n",
       "\t<li><dl>\n",
       "\t<dt>$time</dt>\n",
       "\t\t<dd>'2024/01/20 19:30:00'</dd>\n",
       "\t<dt>$location</dt>\n",
       "\t\t<dd>'台中市南區興大路145號'</dd>\n",
       "\t<dt>$locationName</dt>\n",
       "\t\t<dd>'台中中興大學惠蓀堂'</dd>\n",
       "\t<dt>$onSales</dt>\n",
       "\t\t<dd>'Y'</dd>\n",
       "\t<dt>$price</dt>\n",
       "\t\t<dd>'6800、5800、3800、2800、1800、1600、1200、800'</dd>\n",
       "\t<dt>$latitude</dt>\n",
       "\t\t<dd>'24.1234884'</dd>\n",
       "\t<dt>$longitude</dt>\n",
       "\t\t<dd>'120.6769368'</dd>\n",
       "\t<dt>$endTime</dt>\n",
       "\t\t<dd>'2024/01/20 21:30:00'</dd>\n",
       "</dl>\n",
       "</li>\n",
       "</ol>\n",
       "</dd>\n",
       "\t<dt>$showUnit</dt>\n",
       "\t\t<dd>''</dd>\n",
       "\t<dt>$discountInfo</dt>\n",
       "\t\t<dd>''</dd>\n",
       "\t<dt>$descriptionFilterHtml</dt>\n",
       "\t\t<dd>''</dd>\n",
       "\t<dt>$imageUrl</dt>\n",
       "\t\t<dd>''</dd>\n",
       "\t<dt>$masterUnit</dt>\n",
       "\t\t<dd><ol>\n",
       "</ol>\n",
       "</dd>\n",
       "\t<dt>$subUnit</dt>\n",
       "\t\t<dd><ol>\n",
       "</ol>\n",
       "</dd>\n",
       "\t<dt>$supportUnit</dt>\n",
       "\t\t<dd><ol>\n",
       "</ol>\n",
       "</dd>\n",
       "\t<dt>$otherUnit</dt>\n",
       "\t\t<dd><ol>\n",
       "</ol>\n",
       "</dd>\n",
       "\t<dt>$webSales</dt>\n",
       "\t\t<dd>'https://ticket.com.tw/Application/UTK02/UTK0201_.aspx?PRODUCT_ID=P09843UA'</dd>\n",
       "\t<dt>$sourceWebPromote</dt>\n",
       "\t\t<dd>'https://ticket.com.tw/Application/UTK02/UTK0201_.aspx?PRODUCT_ID=P09843UA'</dd>\n",
       "\t<dt>$comment</dt>\n",
       "\t\t<dd>''</dd>\n",
       "\t<dt>$editModifyDate</dt>\n",
       "\t\t<dd>''</dd>\n",
       "\t<dt>$sourceWebName</dt>\n",
       "\t\t<dd>'年代'</dd>\n",
       "\t<dt>$startDate</dt>\n",
       "\t\t<dd>'2024/01/20'</dd>\n",
       "\t<dt>$endDate</dt>\n",
       "\t\t<dd>'2024/01/20'</dd>\n",
       "\t<dt>$hitRate</dt>\n",
       "\t\t<dd>117</dd>\n",
       "</dl>\n",
       "</li>\n",
       "</ol>\n"
      ],
      "text/latex": [
       "\\begin{enumerate}\n",
       "\\item \\begin{description}\n",
       "\\item[\\$version] '1.4'\n",
       "\\item[\\$UID] '64b83da673f77c49dcd265d4'\n",
       "\\item[\\$title] '國際沈文程日 十二月九彼下暗巡迴演唱會'\n",
       "\\item[\\$category] '17'\n",
       "\\item[\\$showInfo] \\begin{enumerate}\n",
       "\\item \\begin{description}\n",
       "\\item[\\$time] '2023/12/09 19:30:00'\n",
       "\\item[\\$location] '高雄市鹽埕區真愛路1號'\n",
       "\\item[\\$locationName] '高雄流行音樂中心 海音館'\n",
       "\\item[\\$onSales] 'Y'\n",
       "\\item[\\$price] '3600、3200、2800、2400、2000、1600、1200、800'\n",
       "\\item[\\$latitude] '22.6181635'\n",
       "\\item[\\$longitude] '120.2885658'\n",
       "\\item[\\$endTime] '2023/12/09 23:00:00'\n",
       "\\end{description}\n",
       "\n",
       "\\end{enumerate}\n",
       "\n",
       "\\item[\\$showUnit] ''\n",
       "\\item[\\$discountInfo] ''\n",
       "\\item[\\$descriptionFilterHtml] ''\n",
       "\\item[\\$imageUrl] ''\n",
       "\\item[\\$masterUnit] \\begin{enumerate}\n",
       "\\end{enumerate}\n",
       "\n",
       "\\item[\\$subUnit] \\begin{enumerate}\n",
       "\\end{enumerate}\n",
       "\n",
       "\\item[\\$supportUnit] \\begin{enumerate}\n",
       "\\end{enumerate}\n",
       "\n",
       "\\item[\\$otherUnit] \\begin{enumerate}\n",
       "\\end{enumerate}\n",
       "\n",
       "\\item[\\$webSales] 'https://ticket.com.tw/Application/UTK02/UTK0201\\_.aspx?PRODUCT\\_ID=P07VL56F'\n",
       "\\item[\\$sourceWebPromote] 'https://ticket.com.tw/Application/UTK02/UTK0201\\_.aspx?PRODUCT\\_ID=P07VL56F'\n",
       "\\item[\\$comment] ''\n",
       "\\item[\\$editModifyDate] ''\n",
       "\\item[\\$sourceWebName] '年代'\n",
       "\\item[\\$startDate] '2023/12/09'\n",
       "\\item[\\$endDate] '2023/12/09'\n",
       "\\item[\\$hitRate] 39\n",
       "\\end{description}\n",
       "\n",
       "\\item \\begin{description}\n",
       "\\item[\\$version] '1.4'\n",
       "\\item[\\$UID] '64dfbac673f77c2b484e677e'\n",
       "\\item[\\$title] '「歌之饗宴8-破繭而出 SAYA 張惠春」演唱會'\n",
       "\\item[\\$category] '17'\n",
       "\\item[\\$showInfo] \\begin{enumerate}\n",
       "\\item \\begin{description}\n",
       "\\item[\\$time] '2023/10/28 19:00:00'\n",
       "\\item[\\$location] '台北市信義區信義路五段一號'\n",
       "\\item[\\$locationName] '台北國際會議中心大會堂'\n",
       "\\item[\\$onSales] 'Y'\n",
       "\\item[\\$price] '4000、3600、3200、2800、2400、2000、1600'\n",
       "\\item[\\$latitude] '25.0336111'\n",
       "\\item[\\$longitude] '121.5608333'\n",
       "\\item[\\$endTime] '2023/10/28 23:59:00'\n",
       "\\end{description}\n",
       "\n",
       "\\item \\begin{description}\n",
       "\\item[\\$time] '2023/10/29 19:00:00'\n",
       "\\item[\\$location] '台北市信義區信義路五段一號'\n",
       "\\item[\\$locationName] '台北國際會議中心大會堂'\n",
       "\\item[\\$onSales] 'Y'\n",
       "\\item[\\$price] '4000、3600、3200、2800、2400、2000、1600'\n",
       "\\item[\\$latitude] '25.0336111'\n",
       "\\item[\\$longitude] '121.5608333'\n",
       "\\item[\\$endTime] '2023/10/29 23:59:00'\n",
       "\\end{description}\n",
       "\n",
       "\\end{enumerate}\n",
       "\n",
       "\\item[\\$showUnit] ''\n",
       "\\item[\\$discountInfo] ''\n",
       "\\item[\\$descriptionFilterHtml] ''\n",
       "\\item[\\$imageUrl] ''\n",
       "\\item[\\$masterUnit] \\begin{enumerate}\n",
       "\\end{enumerate}\n",
       "\n",
       "\\item[\\$subUnit] \\begin{enumerate}\n",
       "\\end{enumerate}\n",
       "\n",
       "\\item[\\$supportUnit] \\begin{enumerate}\n",
       "\\end{enumerate}\n",
       "\n",
       "\\item[\\$otherUnit] \\begin{enumerate}\n",
       "\\end{enumerate}\n",
       "\n",
       "\\item[\\$webSales] 'https://ticket.com.tw/Application/UTK02/UTK0201\\_.aspx?PRODUCT\\_ID=P091DXL3'\n",
       "\\item[\\$sourceWebPromote] 'https://ticket.com.tw/Application/UTK02/UTK0201\\_.aspx?PRODUCT\\_ID=P091DXL3'\n",
       "\\item[\\$comment] ''\n",
       "\\item[\\$editModifyDate] ''\n",
       "\\item[\\$sourceWebName] '年代'\n",
       "\\item[\\$startDate] '2023/10/28'\n",
       "\\item[\\$endDate] '2023/10/29'\n",
       "\\item[\\$hitRate] 133\n",
       "\\end{description}\n",
       "\n",
       "\\item \\begin{description}\n",
       "\\item[\\$version] '1.4'\n",
       "\\item[\\$UID] '64de6cdd73f77c2b484e6718'\n",
       "\\item[\\$title] '時也 運也 命也 2024楊哲公益巡迴演唱會'\n",
       "\\item[\\$category] '17'\n",
       "\\item[\\$showInfo] \\begin{enumerate}\n",
       "\\item \\begin{description}\n",
       "\\item[\\$time] '2024/01/20 19:30:00'\n",
       "\\item[\\$location] '台中市南區興大路145號'\n",
       "\\item[\\$locationName] '台中中興大學惠蓀堂'\n",
       "\\item[\\$onSales] 'Y'\n",
       "\\item[\\$price] '6800、5800、3800、2800、1800、1600、1200、800'\n",
       "\\item[\\$latitude] '24.1234884'\n",
       "\\item[\\$longitude] '120.6769368'\n",
       "\\item[\\$endTime] '2024/01/20 21:30:00'\n",
       "\\end{description}\n",
       "\n",
       "\\end{enumerate}\n",
       "\n",
       "\\item[\\$showUnit] ''\n",
       "\\item[\\$discountInfo] ''\n",
       "\\item[\\$descriptionFilterHtml] ''\n",
       "\\item[\\$imageUrl] ''\n",
       "\\item[\\$masterUnit] \\begin{enumerate}\n",
       "\\end{enumerate}\n",
       "\n",
       "\\item[\\$subUnit] \\begin{enumerate}\n",
       "\\end{enumerate}\n",
       "\n",
       "\\item[\\$supportUnit] \\begin{enumerate}\n",
       "\\end{enumerate}\n",
       "\n",
       "\\item[\\$otherUnit] \\begin{enumerate}\n",
       "\\end{enumerate}\n",
       "\n",
       "\\item[\\$webSales] 'https://ticket.com.tw/Application/UTK02/UTK0201\\_.aspx?PRODUCT\\_ID=P09843UA'\n",
       "\\item[\\$sourceWebPromote] 'https://ticket.com.tw/Application/UTK02/UTK0201\\_.aspx?PRODUCT\\_ID=P09843UA'\n",
       "\\item[\\$comment] ''\n",
       "\\item[\\$editModifyDate] ''\n",
       "\\item[\\$sourceWebName] '年代'\n",
       "\\item[\\$startDate] '2024/01/20'\n",
       "\\item[\\$endDate] '2024/01/20'\n",
       "\\item[\\$hitRate] 117\n",
       "\\end{description}\n",
       "\n",
       "\\end{enumerate}\n"
      ],
      "text/markdown": [
       "1. $version\n",
       ":   '1.4'\n",
       "$UID\n",
       ":   '64b83da673f77c49dcd265d4'\n",
       "$title\n",
       ":   '國際沈文程日 十二月九彼下暗巡迴演唱會'\n",
       "$category\n",
       ":   '17'\n",
       "$showInfo\n",
       ":   1. $time\n",
       ":   '2023/12/09 19:30:00'\n",
       "$location\n",
       ":   '高雄市鹽埕區真愛路1號'\n",
       "$locationName\n",
       ":   '高雄流行音樂中心 海音館'\n",
       "$onSales\n",
       ":   'Y'\n",
       "$price\n",
       ":   '3600、3200、2800、2400、2000、1600、1200、800'\n",
       "$latitude\n",
       ":   '22.6181635'\n",
       "$longitude\n",
       ":   '120.2885658'\n",
       "$endTime\n",
       ":   '2023/12/09 23:00:00'\n",
       "\n",
       "\n",
       "\n",
       "\n",
       "\n",
       "\n",
       "$showUnit\n",
       ":   ''\n",
       "$discountInfo\n",
       ":   ''\n",
       "$descriptionFilterHtml\n",
       ":   ''\n",
       "$imageUrl\n",
       ":   ''\n",
       "$masterUnit\n",
       ":   \n",
       "\n",
       "\n",
       "$subUnit\n",
       ":   \n",
       "\n",
       "\n",
       "$supportUnit\n",
       ":   \n",
       "\n",
       "\n",
       "$otherUnit\n",
       ":   \n",
       "\n",
       "\n",
       "$webSales\n",
       ":   'https://ticket.com.tw/Application/UTK02/UTK0201_.aspx?PRODUCT_ID=P07VL56F'\n",
       "$sourceWebPromote\n",
       ":   'https://ticket.com.tw/Application/UTK02/UTK0201_.aspx?PRODUCT_ID=P07VL56F'\n",
       "$comment\n",
       ":   ''\n",
       "$editModifyDate\n",
       ":   ''\n",
       "$sourceWebName\n",
       ":   '年代'\n",
       "$startDate\n",
       ":   '2023/12/09'\n",
       "$endDate\n",
       ":   '2023/12/09'\n",
       "$hitRate\n",
       ":   39\n",
       "\n",
       "\n",
       "\n",
       "2. $version\n",
       ":   '1.4'\n",
       "$UID\n",
       ":   '64dfbac673f77c2b484e677e'\n",
       "$title\n",
       ":   '「歌之饗宴8-破繭而出 SAYA 張惠春」演唱會'\n",
       "$category\n",
       ":   '17'\n",
       "$showInfo\n",
       ":   1. $time\n",
       ":   '2023/10/28 19:00:00'\n",
       "$location\n",
       ":   '台北市信義區信義路五段一號'\n",
       "$locationName\n",
       ":   '台北國際會議中心大會堂'\n",
       "$onSales\n",
       ":   'Y'\n",
       "$price\n",
       ":   '4000、3600、3200、2800、2400、2000、1600'\n",
       "$latitude\n",
       ":   '25.0336111'\n",
       "$longitude\n",
       ":   '121.5608333'\n",
       "$endTime\n",
       ":   '2023/10/28 23:59:00'\n",
       "\n",
       "\n",
       "\n",
       "2. $time\n",
       ":   '2023/10/29 19:00:00'\n",
       "$location\n",
       ":   '台北市信義區信義路五段一號'\n",
       "$locationName\n",
       ":   '台北國際會議中心大會堂'\n",
       "$onSales\n",
       ":   'Y'\n",
       "$price\n",
       ":   '4000、3600、3200、2800、2400、2000、1600'\n",
       "$latitude\n",
       ":   '25.0336111'\n",
       "$longitude\n",
       ":   '121.5608333'\n",
       "$endTime\n",
       ":   '2023/10/29 23:59:00'\n",
       "\n",
       "\n",
       "\n",
       "\n",
       "\n",
       "\n",
       "$showUnit\n",
       ":   ''\n",
       "$discountInfo\n",
       ":   ''\n",
       "$descriptionFilterHtml\n",
       ":   ''\n",
       "$imageUrl\n",
       ":   ''\n",
       "$masterUnit\n",
       ":   \n",
       "\n",
       "\n",
       "$subUnit\n",
       ":   \n",
       "\n",
       "\n",
       "$supportUnit\n",
       ":   \n",
       "\n",
       "\n",
       "$otherUnit\n",
       ":   \n",
       "\n",
       "\n",
       "$webSales\n",
       ":   'https://ticket.com.tw/Application/UTK02/UTK0201_.aspx?PRODUCT_ID=P091DXL3'\n",
       "$sourceWebPromote\n",
       ":   'https://ticket.com.tw/Application/UTK02/UTK0201_.aspx?PRODUCT_ID=P091DXL3'\n",
       "$comment\n",
       ":   ''\n",
       "$editModifyDate\n",
       ":   ''\n",
       "$sourceWebName\n",
       ":   '年代'\n",
       "$startDate\n",
       ":   '2023/10/28'\n",
       "$endDate\n",
       ":   '2023/10/29'\n",
       "$hitRate\n",
       ":   133\n",
       "\n",
       "\n",
       "\n",
       "3. $version\n",
       ":   '1.4'\n",
       "$UID\n",
       ":   '64de6cdd73f77c2b484e6718'\n",
       "$title\n",
       ":   '時也 運也 命也 2024楊哲公益巡迴演唱會'\n",
       "$category\n",
       ":   '17'\n",
       "$showInfo\n",
       ":   1. $time\n",
       ":   '2024/01/20 19:30:00'\n",
       "$location\n",
       ":   '台中市南區興大路145號'\n",
       "$locationName\n",
       ":   '台中中興大學惠蓀堂'\n",
       "$onSales\n",
       ":   'Y'\n",
       "$price\n",
       ":   '6800、5800、3800、2800、1800、1600、1200、800'\n",
       "$latitude\n",
       ":   '24.1234884'\n",
       "$longitude\n",
       ":   '120.6769368'\n",
       "$endTime\n",
       ":   '2024/01/20 21:30:00'\n",
       "\n",
       "\n",
       "\n",
       "\n",
       "\n",
       "\n",
       "$showUnit\n",
       ":   ''\n",
       "$discountInfo\n",
       ":   ''\n",
       "$descriptionFilterHtml\n",
       ":   ''\n",
       "$imageUrl\n",
       ":   ''\n",
       "$masterUnit\n",
       ":   \n",
       "\n",
       "\n",
       "$subUnit\n",
       ":   \n",
       "\n",
       "\n",
       "$supportUnit\n",
       ":   \n",
       "\n",
       "\n",
       "$otherUnit\n",
       ":   \n",
       "\n",
       "\n",
       "$webSales\n",
       ":   'https://ticket.com.tw/Application/UTK02/UTK0201_.aspx?PRODUCT_ID=P09843UA'\n",
       "$sourceWebPromote\n",
       ":   'https://ticket.com.tw/Application/UTK02/UTK0201_.aspx?PRODUCT_ID=P09843UA'\n",
       "$comment\n",
       ":   ''\n",
       "$editModifyDate\n",
       ":   ''\n",
       "$sourceWebName\n",
       ":   '年代'\n",
       "$startDate\n",
       ":   '2024/01/20'\n",
       "$endDate\n",
       ":   '2024/01/20'\n",
       "$hitRate\n",
       ":   117\n",
       "\n",
       "\n",
       "\n",
       "\n",
       "\n"
      ],
      "text/plain": [
       "[[1]]\n",
       "[[1]]$version\n",
       "[1] \"1.4\"\n",
       "\n",
       "[[1]]$UID\n",
       "[1] \"64b83da673f77c49dcd265d4\"\n",
       "\n",
       "[[1]]$title\n",
       "[1] \"國際沈文程日 十二月九彼下暗巡迴演唱會\"\n",
       "\n",
       "[[1]]$category\n",
       "[1] \"17\"\n",
       "\n",
       "[[1]]$showInfo\n",
       "[[1]]$showInfo[[1]]\n",
       "[[1]]$showInfo[[1]]$time\n",
       "[1] \"2023/12/09 19:30:00\"\n",
       "\n",
       "[[1]]$showInfo[[1]]$location\n",
       "[1] \"高雄市鹽埕區真愛路1號\"\n",
       "\n",
       "[[1]]$showInfo[[1]]$locationName\n",
       "[1] \"高雄流行音樂中心 海音館\"\n",
       "\n",
       "[[1]]$showInfo[[1]]$onSales\n",
       "[1] \"Y\"\n",
       "\n",
       "[[1]]$showInfo[[1]]$price\n",
       "[1] \"3600、3200、2800、2400、2000、1600、1200、800\"\n",
       "\n",
       "[[1]]$showInfo[[1]]$latitude\n",
       "[1] \"22.6181635\"\n",
       "\n",
       "[[1]]$showInfo[[1]]$longitude\n",
       "[1] \"120.2885658\"\n",
       "\n",
       "[[1]]$showInfo[[1]]$endTime\n",
       "[1] \"2023/12/09 23:00:00\"\n",
       "\n",
       "\n",
       "\n",
       "[[1]]$showUnit\n",
       "[1] \"\"\n",
       "\n",
       "[[1]]$discountInfo\n",
       "[1] \"\"\n",
       "\n",
       "[[1]]$descriptionFilterHtml\n",
       "[1] \"\"\n",
       "\n",
       "[[1]]$imageUrl\n",
       "[1] \"\"\n",
       "\n",
       "[[1]]$masterUnit\n",
       "list()\n",
       "\n",
       "[[1]]$subUnit\n",
       "list()\n",
       "\n",
       "[[1]]$supportUnit\n",
       "list()\n",
       "\n",
       "[[1]]$otherUnit\n",
       "list()\n",
       "\n",
       "[[1]]$webSales\n",
       "[1] \"https://ticket.com.tw/Application/UTK02/UTK0201_.aspx?PRODUCT_ID=P07VL56F\"\n",
       "\n",
       "[[1]]$sourceWebPromote\n",
       "[1] \"https://ticket.com.tw/Application/UTK02/UTK0201_.aspx?PRODUCT_ID=P07VL56F\"\n",
       "\n",
       "[[1]]$comment\n",
       "[1] \"\"\n",
       "\n",
       "[[1]]$editModifyDate\n",
       "[1] \"\"\n",
       "\n",
       "[[1]]$sourceWebName\n",
       "[1] \"年代\"\n",
       "\n",
       "[[1]]$startDate\n",
       "[1] \"2023/12/09\"\n",
       "\n",
       "[[1]]$endDate\n",
       "[1] \"2023/12/09\"\n",
       "\n",
       "[[1]]$hitRate\n",
       "[1] 39\n",
       "\n",
       "\n",
       "[[2]]\n",
       "[[2]]$version\n",
       "[1] \"1.4\"\n",
       "\n",
       "[[2]]$UID\n",
       "[1] \"64dfbac673f77c2b484e677e\"\n",
       "\n",
       "[[2]]$title\n",
       "[1] \"「歌之饗宴8-破繭而出 SAYA 張惠春」演唱會\"\n",
       "\n",
       "[[2]]$category\n",
       "[1] \"17\"\n",
       "\n",
       "[[2]]$showInfo\n",
       "[[2]]$showInfo[[1]]\n",
       "[[2]]$showInfo[[1]]$time\n",
       "[1] \"2023/10/28 19:00:00\"\n",
       "\n",
       "[[2]]$showInfo[[1]]$location\n",
       "[1] \"台北市信義區信義路五段一號\"\n",
       "\n",
       "[[2]]$showInfo[[1]]$locationName\n",
       "[1] \"台北國際會議中心大會堂\"\n",
       "\n",
       "[[2]]$showInfo[[1]]$onSales\n",
       "[1] \"Y\"\n",
       "\n",
       "[[2]]$showInfo[[1]]$price\n",
       "[1] \"4000、3600、3200、2800、2400、2000、1600\"\n",
       "\n",
       "[[2]]$showInfo[[1]]$latitude\n",
       "[1] \"25.0336111\"\n",
       "\n",
       "[[2]]$showInfo[[1]]$longitude\n",
       "[1] \"121.5608333\"\n",
       "\n",
       "[[2]]$showInfo[[1]]$endTime\n",
       "[1] \"2023/10/28 23:59:00\"\n",
       "\n",
       "\n",
       "[[2]]$showInfo[[2]]\n",
       "[[2]]$showInfo[[2]]$time\n",
       "[1] \"2023/10/29 19:00:00\"\n",
       "\n",
       "[[2]]$showInfo[[2]]$location\n",
       "[1] \"台北市信義區信義路五段一號\"\n",
       "\n",
       "[[2]]$showInfo[[2]]$locationName\n",
       "[1] \"台北國際會議中心大會堂\"\n",
       "\n",
       "[[2]]$showInfo[[2]]$onSales\n",
       "[1] \"Y\"\n",
       "\n",
       "[[2]]$showInfo[[2]]$price\n",
       "[1] \"4000、3600、3200、2800、2400、2000、1600\"\n",
       "\n",
       "[[2]]$showInfo[[2]]$latitude\n",
       "[1] \"25.0336111\"\n",
       "\n",
       "[[2]]$showInfo[[2]]$longitude\n",
       "[1] \"121.5608333\"\n",
       "\n",
       "[[2]]$showInfo[[2]]$endTime\n",
       "[1] \"2023/10/29 23:59:00\"\n",
       "\n",
       "\n",
       "\n",
       "[[2]]$showUnit\n",
       "[1] \"\"\n",
       "\n",
       "[[2]]$discountInfo\n",
       "[1] \"\"\n",
       "\n",
       "[[2]]$descriptionFilterHtml\n",
       "[1] \"\"\n",
       "\n",
       "[[2]]$imageUrl\n",
       "[1] \"\"\n",
       "\n",
       "[[2]]$masterUnit\n",
       "list()\n",
       "\n",
       "[[2]]$subUnit\n",
       "list()\n",
       "\n",
       "[[2]]$supportUnit\n",
       "list()\n",
       "\n",
       "[[2]]$otherUnit\n",
       "list()\n",
       "\n",
       "[[2]]$webSales\n",
       "[1] \"https://ticket.com.tw/Application/UTK02/UTK0201_.aspx?PRODUCT_ID=P091DXL3\"\n",
       "\n",
       "[[2]]$sourceWebPromote\n",
       "[1] \"https://ticket.com.tw/Application/UTK02/UTK0201_.aspx?PRODUCT_ID=P091DXL3\"\n",
       "\n",
       "[[2]]$comment\n",
       "[1] \"\"\n",
       "\n",
       "[[2]]$editModifyDate\n",
       "[1] \"\"\n",
       "\n",
       "[[2]]$sourceWebName\n",
       "[1] \"年代\"\n",
       "\n",
       "[[2]]$startDate\n",
       "[1] \"2023/10/28\"\n",
       "\n",
       "[[2]]$endDate\n",
       "[1] \"2023/10/29\"\n",
       "\n",
       "[[2]]$hitRate\n",
       "[1] 133\n",
       "\n",
       "\n",
       "[[3]]\n",
       "[[3]]$version\n",
       "[1] \"1.4\"\n",
       "\n",
       "[[3]]$UID\n",
       "[1] \"64de6cdd73f77c2b484e6718\"\n",
       "\n",
       "[[3]]$title\n",
       "[1] \"時也 運也 命也 2024楊哲公益巡迴演唱會\"\n",
       "\n",
       "[[3]]$category\n",
       "[1] \"17\"\n",
       "\n",
       "[[3]]$showInfo\n",
       "[[3]]$showInfo[[1]]\n",
       "[[3]]$showInfo[[1]]$time\n",
       "[1] \"2024/01/20 19:30:00\"\n",
       "\n",
       "[[3]]$showInfo[[1]]$location\n",
       "[1] \"台中市南區興大路145號\"\n",
       "\n",
       "[[3]]$showInfo[[1]]$locationName\n",
       "[1] \"台中中興大學惠蓀堂\"\n",
       "\n",
       "[[3]]$showInfo[[1]]$onSales\n",
       "[1] \"Y\"\n",
       "\n",
       "[[3]]$showInfo[[1]]$price\n",
       "[1] \"6800、5800、3800、2800、1800、1600、1200、800\"\n",
       "\n",
       "[[3]]$showInfo[[1]]$latitude\n",
       "[1] \"24.1234884\"\n",
       "\n",
       "[[3]]$showInfo[[1]]$longitude\n",
       "[1] \"120.6769368\"\n",
       "\n",
       "[[3]]$showInfo[[1]]$endTime\n",
       "[1] \"2024/01/20 21:30:00\"\n",
       "\n",
       "\n",
       "\n",
       "[[3]]$showUnit\n",
       "[1] \"\"\n",
       "\n",
       "[[3]]$discountInfo\n",
       "[1] \"\"\n",
       "\n",
       "[[3]]$descriptionFilterHtml\n",
       "[1] \"\"\n",
       "\n",
       "[[3]]$imageUrl\n",
       "[1] \"\"\n",
       "\n",
       "[[3]]$masterUnit\n",
       "list()\n",
       "\n",
       "[[3]]$subUnit\n",
       "list()\n",
       "\n",
       "[[3]]$supportUnit\n",
       "list()\n",
       "\n",
       "[[3]]$otherUnit\n",
       "list()\n",
       "\n",
       "[[3]]$webSales\n",
       "[1] \"https://ticket.com.tw/Application/UTK02/UTK0201_.aspx?PRODUCT_ID=P09843UA\"\n",
       "\n",
       "[[3]]$sourceWebPromote\n",
       "[1] \"https://ticket.com.tw/Application/UTK02/UTK0201_.aspx?PRODUCT_ID=P09843UA\"\n",
       "\n",
       "[[3]]$comment\n",
       "[1] \"\"\n",
       "\n",
       "[[3]]$editModifyDate\n",
       "[1] \"\"\n",
       "\n",
       "[[3]]$sourceWebName\n",
       "[1] \"年代\"\n",
       "\n",
       "[[3]]$startDate\n",
       "[1] \"2024/01/20\"\n",
       "\n",
       "[[3]]$endDate\n",
       "[1] \"2024/01/20\"\n",
       "\n",
       "[[3]]$hitRate\n",
       "[1] 117\n",
       "\n"
      ]
     },
     "metadata": {},
     "output_type": "display_data"
    }
   ],
   "source": [
    "head(concerts_obo,3)\n"
   ]
  },
  {
   "cell_type": "code",
   "execution_count": 52,
   "metadata": {
    "vscode": {
     "languageId": "r"
    }
   },
   "outputs": [
    {
     "data": {
      "text/html": [
       "<table class=\"dataframe\">\n",
       "<caption>A data.frame: 6 × 21</caption>\n",
       "<thead>\n",
       "\t<tr><th></th><th scope=col>version</th><th scope=col>UID</th><th scope=col>title</th><th scope=col>category</th><th scope=col>showInfo</th><th scope=col>showUnit</th><th scope=col>discountInfo</th><th scope=col>descriptionFilterHtml</th><th scope=col>imageUrl</th><th scope=col>masterUnit</th><th scope=col>⋯</th><th scope=col>supportUnit</th><th scope=col>otherUnit</th><th scope=col>webSales</th><th scope=col>sourceWebPromote</th><th scope=col>comment</th><th scope=col>editModifyDate</th><th scope=col>sourceWebName</th><th scope=col>startDate</th><th scope=col>endDate</th><th scope=col>hitRate</th></tr>\n",
       "\t<tr><th></th><th scope=col>&lt;chr&gt;</th><th scope=col>&lt;chr&gt;</th><th scope=col>&lt;chr&gt;</th><th scope=col>&lt;chr&gt;</th><th scope=col>&lt;list&gt;</th><th scope=col>&lt;chr&gt;</th><th scope=col>&lt;chr&gt;</th><th scope=col>&lt;chr&gt;</th><th scope=col>&lt;chr&gt;</th><th scope=col>&lt;list&gt;</th><th scope=col>⋯</th><th scope=col>&lt;list&gt;</th><th scope=col>&lt;list&gt;</th><th scope=col>&lt;chr&gt;</th><th scope=col>&lt;chr&gt;</th><th scope=col>&lt;chr&gt;</th><th scope=col>&lt;chr&gt;</th><th scope=col>&lt;chr&gt;</th><th scope=col>&lt;chr&gt;</th><th scope=col>&lt;chr&gt;</th><th scope=col>&lt;int&gt;</th></tr>\n",
       "</thead>\n",
       "<tbody>\n",
       "\t<tr><th scope=row>1</th><td>1.4</td><td>64b83da673f77c49dcd265d4</td><td>國際沈文程日 十二月九彼下暗巡迴演唱會   </td><td>17</td><td>2023/12/09 19:30:00                          , 高雄市鹽埕區真愛路1號                        , 高雄流行音樂中心 海音館                      , Y                                            , 3600、3200、2800、2400、2000、1600、1200、800, 22.6181635                                   , 120.2885658                                  , 2023/12/09 23:00:00                          </td><td></td><td></td><td></td><td></td><td>NULL</td><td>⋯</td><td>NULL</td><td>NULL</td><td>https://ticket.com.tw/Application/UTK02/UTK0201_.aspx?PRODUCT_ID=P07VL56F</td><td>https://ticket.com.tw/Application/UTK02/UTK0201_.aspx?PRODUCT_ID=P07VL56F</td><td></td><td></td><td>年代</td><td>2023/12/09</td><td>2023/12/09</td><td> 39</td></tr>\n",
       "\t<tr><th scope=row>2</th><td>1.4</td><td>64dfbac673f77c2b484e677e</td><td>「歌之饗宴8-破繭而出 SAYA 張惠春」演唱會</td><td>17</td><td>2023/10/28 19:00:00                     , 2023/10/29 19:00:00                     , 台北市信義區信義路五段一號              , 台北市信義區信義路五段一號              , 台北國際會議中心大會堂                  , 台北國際會議中心大會堂                  , Y                                       , Y                                       , 4000、3600、3200、2800、2400、2000、1600, 4000、3600、3200、2800、2400、2000、1600, 25.0336111                              , 25.0336111                              , 121.5608333                             , 121.5608333                             , 2023/10/28 23:59:00                     , 2023/10/29 23:59:00                     </td><td></td><td></td><td></td><td></td><td>NULL</td><td>⋯</td><td>NULL</td><td>NULL</td><td>https://ticket.com.tw/Application/UTK02/UTK0201_.aspx?PRODUCT_ID=P091DXL3</td><td>https://ticket.com.tw/Application/UTK02/UTK0201_.aspx?PRODUCT_ID=P091DXL3</td><td></td><td></td><td>年代</td><td>2023/10/28</td><td>2023/10/29</td><td>133</td></tr>\n",
       "\t<tr><th scope=row>3</th><td>1.4</td><td>64de6cdd73f77c2b484e6718</td><td>時也 運也 命也 2024楊哲公益巡迴演唱會   </td><td>17</td><td>2024/01/20 19:30:00                          , 台中市南區興大路145號                        , 台中中興大學惠蓀堂                           , Y                                            , 6800、5800、3800、2800、1800、1600、1200、800, 24.1234884                                   , 120.6769368                                  , 2024/01/20 21:30:00                          </td><td></td><td></td><td></td><td></td><td>NULL</td><td>⋯</td><td>NULL</td><td>NULL</td><td>https://ticket.com.tw/Application/UTK02/UTK0201_.aspx?PRODUCT_ID=P09843UA</td><td>https://ticket.com.tw/Application/UTK02/UTK0201_.aspx?PRODUCT_ID=P09843UA</td><td></td><td></td><td>年代</td><td>2024/01/20</td><td>2024/01/20</td><td>117</td></tr>\n",
       "\t<tr><th scope=row>4</th><td>1.4</td><td>64e7b90573f77c2b484e693c</td><td>黃金歲月青春99演唱會                    </td><td>17</td><td>2023/12/02 15:00:00                           , 台中市南區興大路145號                         , 台中中興大學惠蓀堂                            , Y                                             , 5200、4200、3600、3000、2400、1800、1500、1200, 24.1234884                                    , 120.6769368                                   , 2023/12/02 23:59:00                           </td><td></td><td></td><td></td><td></td><td>NULL</td><td>⋯</td><td>NULL</td><td>NULL</td><td>https://ticket.com.tw/Application/UTK02/UTK0201_.aspx?PRODUCT_ID=P093YMH8</td><td>https://ticket.com.tw/Application/UTK02/UTK0201_.aspx?PRODUCT_ID=P093YMH8</td><td></td><td></td><td>年代</td><td>2023/12/02</td><td>2023/12/02</td><td> 28</td></tr>\n",
       "\t<tr><th scope=row>5</th><td>1.4</td><td>64e50d8973f77c2b484e68a5</td><td>師與徒聖歌演唱會-濟公本色               </td><td>17</td><td>2023/12/23 19:30:00       , 2023/12/24 14:30:00       , 2024/01/06 19:30:00       , 2024/01/07 14:30:00       , 高雄市小港區學府路115號   , 高雄市小港區學府路115號   , 臺中市豐原區圓環東路782號 , 臺中市豐原區圓環東路782號 , 高雄市立社會教育館演藝廳  , 高雄市立社會教育館演藝廳  , 臺中市葫蘆墩文化中心演奏廳, 臺中市葫蘆墩文化中心演奏廳, Y                         , Y                         , Y                         , Y                         , 1200、1000、800、600      , 1200、1000、800、600      , 1200、1000、800、600      , 1200、1000、800、600      , 22.5652855                , 22.5652855                , 24.2528099                , 24.2528099                , 120.3592853               , 120.3592853               , 120.73019                 , 120.73019                 , 2023/12/23 23:00:00       , 2023/12/24 23:00:00       , 2024/01/06 23:00:00       , 2024/01/07 23:00:00       </td><td></td><td></td><td></td><td></td><td>NULL</td><td>⋯</td><td>NULL</td><td>NULL</td><td>https://ticket.com.tw/Application/UTK02/UTK0201_.aspx?PRODUCT_ID=P090G7AF</td><td>https://ticket.com.tw/Application/UTK02/UTK0201_.aspx?PRODUCT_ID=P090G7AF</td><td></td><td></td><td>年代</td><td>2023/12/23</td><td>2024/01/07</td><td> 26</td></tr>\n",
       "\t<tr><th scope=row>6</th><td>1.4</td><td>64f0ec2573f77c2b484e6bf8</td><td>2024夏川里美出道25週年十全十美台北演唱會</td><td>17</td><td>2024/02/03 19:30:00                     , 台北市信義區信義路五段一號              , 台北國際會議中心大會堂                  , Y                                       , 5000、4500、4000、3500、3000、2500、2000, 25.0336111                              , 121.5608333                             , 2024/02/03 23:59:00                     </td><td></td><td></td><td></td><td></td><td>NULL</td><td>⋯</td><td>NULL</td><td>NULL</td><td>https://ticket.com.tw/Application/UTK02/UTK0201_.aspx?PRODUCT_ID=P09ETYZR</td><td>https://ticket.com.tw/Application/UTK02/UTK0201_.aspx?PRODUCT_ID=P09ETYZR</td><td></td><td></td><td>年代</td><td>2024/02/03</td><td>2024/02/03</td><td> 36</td></tr>\n",
       "</tbody>\n",
       "</table>\n"
      ],
      "text/latex": [
       "A data.frame: 6 × 21\n",
       "\\begin{tabular}{r|lllllllllllllllllllll}\n",
       "  & version & UID & title & category & showInfo & showUnit & discountInfo & descriptionFilterHtml & imageUrl & masterUnit & ⋯ & supportUnit & otherUnit & webSales & sourceWebPromote & comment & editModifyDate & sourceWebName & startDate & endDate & hitRate\\\\\n",
       "  & <chr> & <chr> & <chr> & <chr> & <list> & <chr> & <chr> & <chr> & <chr> & <list> & ⋯ & <list> & <list> & <chr> & <chr> & <chr> & <chr> & <chr> & <chr> & <chr> & <int>\\\\\n",
       "\\hline\n",
       "\t1 & 1.4 & 64b83da673f77c49dcd265d4 & 國際沈文程日 十二月九彼下暗巡迴演唱會    & 17 & 2023/12/09 19:30:00                          , 高雄市鹽埕區真愛路1號                        , 高雄流行音樂中心 海音館                      , Y                                            , 3600、3200、2800、2400、2000、1600、1200、800, 22.6181635                                   , 120.2885658                                  , 2023/12/09 23:00:00                           &  &  &  &  & NULL & ⋯ & NULL & NULL & https://ticket.com.tw/Application/UTK02/UTK0201\\_.aspx?PRODUCT\\_ID=P07VL56F & https://ticket.com.tw/Application/UTK02/UTK0201\\_.aspx?PRODUCT\\_ID=P07VL56F &  &  & 年代 & 2023/12/09 & 2023/12/09 &  39\\\\\n",
       "\t2 & 1.4 & 64dfbac673f77c2b484e677e & 「歌之饗宴8-破繭而出 SAYA 張惠春」演唱會 & 17 & 2023/10/28 19:00:00                     , 2023/10/29 19:00:00                     , 台北市信義區信義路五段一號              , 台北市信義區信義路五段一號              , 台北國際會議中心大會堂                  , 台北國際會議中心大會堂                  , Y                                       , Y                                       , 4000、3600、3200、2800、2400、2000、1600, 4000、3600、3200、2800、2400、2000、1600, 25.0336111                              , 25.0336111                              , 121.5608333                             , 121.5608333                             , 2023/10/28 23:59:00                     , 2023/10/29 23:59:00                      &  &  &  &  & NULL & ⋯ & NULL & NULL & https://ticket.com.tw/Application/UTK02/UTK0201\\_.aspx?PRODUCT\\_ID=P091DXL3 & https://ticket.com.tw/Application/UTK02/UTK0201\\_.aspx?PRODUCT\\_ID=P091DXL3 &  &  & 年代 & 2023/10/28 & 2023/10/29 & 133\\\\\n",
       "\t3 & 1.4 & 64de6cdd73f77c2b484e6718 & 時也 運也 命也 2024楊哲公益巡迴演唱會    & 17 & 2024/01/20 19:30:00                          , 台中市南區興大路145號                        , 台中中興大學惠蓀堂                           , Y                                            , 6800、5800、3800、2800、1800、1600、1200、800, 24.1234884                                   , 120.6769368                                  , 2024/01/20 21:30:00                           &  &  &  &  & NULL & ⋯ & NULL & NULL & https://ticket.com.tw/Application/UTK02/UTK0201\\_.aspx?PRODUCT\\_ID=P09843UA & https://ticket.com.tw/Application/UTK02/UTK0201\\_.aspx?PRODUCT\\_ID=P09843UA &  &  & 年代 & 2024/01/20 & 2024/01/20 & 117\\\\\n",
       "\t4 & 1.4 & 64e7b90573f77c2b484e693c & 黃金歲月青春99演唱會                     & 17 & 2023/12/02 15:00:00                           , 台中市南區興大路145號                         , 台中中興大學惠蓀堂                            , Y                                             , 5200、4200、3600、3000、2400、1800、1500、1200, 24.1234884                                    , 120.6769368                                   , 2023/12/02 23:59:00                            &  &  &  &  & NULL & ⋯ & NULL & NULL & https://ticket.com.tw/Application/UTK02/UTK0201\\_.aspx?PRODUCT\\_ID=P093YMH8 & https://ticket.com.tw/Application/UTK02/UTK0201\\_.aspx?PRODUCT\\_ID=P093YMH8 &  &  & 年代 & 2023/12/02 & 2023/12/02 &  28\\\\\n",
       "\t5 & 1.4 & 64e50d8973f77c2b484e68a5 & 師與徒聖歌演唱會-濟公本色                & 17 & 2023/12/23 19:30:00       , 2023/12/24 14:30:00       , 2024/01/06 19:30:00       , 2024/01/07 14:30:00       , 高雄市小港區學府路115號   , 高雄市小港區學府路115號   , 臺中市豐原區圓環東路782號 , 臺中市豐原區圓環東路782號 , 高雄市立社會教育館演藝廳  , 高雄市立社會教育館演藝廳  , 臺中市葫蘆墩文化中心演奏廳, 臺中市葫蘆墩文化中心演奏廳, Y                         , Y                         , Y                         , Y                         , 1200、1000、800、600      , 1200、1000、800、600      , 1200、1000、800、600      , 1200、1000、800、600      , 22.5652855                , 22.5652855                , 24.2528099                , 24.2528099                , 120.3592853               , 120.3592853               , 120.73019                 , 120.73019                 , 2023/12/23 23:00:00       , 2023/12/24 23:00:00       , 2024/01/06 23:00:00       , 2024/01/07 23:00:00        &  &  &  &  & NULL & ⋯ & NULL & NULL & https://ticket.com.tw/Application/UTK02/UTK0201\\_.aspx?PRODUCT\\_ID=P090G7AF & https://ticket.com.tw/Application/UTK02/UTK0201\\_.aspx?PRODUCT\\_ID=P090G7AF &  &  & 年代 & 2023/12/23 & 2024/01/07 &  26\\\\\n",
       "\t6 & 1.4 & 64f0ec2573f77c2b484e6bf8 & 2024夏川里美出道25週年十全十美台北演唱會 & 17 & 2024/02/03 19:30:00                     , 台北市信義區信義路五段一號              , 台北國際會議中心大會堂                  , Y                                       , 5000、4500、4000、3500、3000、2500、2000, 25.0336111                              , 121.5608333                             , 2024/02/03 23:59:00                      &  &  &  &  & NULL & ⋯ & NULL & NULL & https://ticket.com.tw/Application/UTK02/UTK0201\\_.aspx?PRODUCT\\_ID=P09ETYZR & https://ticket.com.tw/Application/UTK02/UTK0201\\_.aspx?PRODUCT\\_ID=P09ETYZR &  &  & 年代 & 2024/02/03 & 2024/02/03 &  36\\\\\n",
       "\\end{tabular}\n"
      ],
      "text/markdown": [
       "\n",
       "A data.frame: 6 × 21\n",
       "\n",
       "| <!--/--> | version &lt;chr&gt; | UID &lt;chr&gt; | title &lt;chr&gt; | category &lt;chr&gt; | showInfo &lt;list&gt; | showUnit &lt;chr&gt; | discountInfo &lt;chr&gt; | descriptionFilterHtml &lt;chr&gt; | imageUrl &lt;chr&gt; | masterUnit &lt;list&gt; | ⋯ ⋯ | supportUnit &lt;list&gt; | otherUnit &lt;list&gt; | webSales &lt;chr&gt; | sourceWebPromote &lt;chr&gt; | comment &lt;chr&gt; | editModifyDate &lt;chr&gt; | sourceWebName &lt;chr&gt; | startDate &lt;chr&gt; | endDate &lt;chr&gt; | hitRate &lt;int&gt; |\n",
       "|---|---|---|---|---|---|---|---|---|---|---|---|---|---|---|---|---|---|---|---|---|---|\n",
       "| 1 | 1.4 | 64b83da673f77c49dcd265d4 | 國際沈文程日 十二月九彼下暗巡迴演唱會    | 17 | 2023/12/09 19:30:00                          , 高雄市鹽埕區真愛路1號                        , 高雄流行音樂中心 海音館                      , Y                                            , 3600、3200、2800、2400、2000、1600、1200、800, 22.6181635                                   , 120.2885658                                  , 2023/12/09 23:00:00                           | <!----> | <!----> | <!----> | <!----> | NULL | ⋯ | NULL | NULL | https://ticket.com.tw/Application/UTK02/UTK0201_.aspx?PRODUCT_ID=P07VL56F | https://ticket.com.tw/Application/UTK02/UTK0201_.aspx?PRODUCT_ID=P07VL56F | <!----> | <!----> | 年代 | 2023/12/09 | 2023/12/09 |  39 |\n",
       "| 2 | 1.4 | 64dfbac673f77c2b484e677e | 「歌之饗宴8-破繭而出 SAYA 張惠春」演唱會 | 17 | 2023/10/28 19:00:00                     , 2023/10/29 19:00:00                     , 台北市信義區信義路五段一號              , 台北市信義區信義路五段一號              , 台北國際會議中心大會堂                  , 台北國際會議中心大會堂                  , Y                                       , Y                                       , 4000、3600、3200、2800、2400、2000、1600, 4000、3600、3200、2800、2400、2000、1600, 25.0336111                              , 25.0336111                              , 121.5608333                             , 121.5608333                             , 2023/10/28 23:59:00                     , 2023/10/29 23:59:00                      | <!----> | <!----> | <!----> | <!----> | NULL | ⋯ | NULL | NULL | https://ticket.com.tw/Application/UTK02/UTK0201_.aspx?PRODUCT_ID=P091DXL3 | https://ticket.com.tw/Application/UTK02/UTK0201_.aspx?PRODUCT_ID=P091DXL3 | <!----> | <!----> | 年代 | 2023/10/28 | 2023/10/29 | 133 |\n",
       "| 3 | 1.4 | 64de6cdd73f77c2b484e6718 | 時也 運也 命也 2024楊哲公益巡迴演唱會    | 17 | 2024/01/20 19:30:00                          , 台中市南區興大路145號                        , 台中中興大學惠蓀堂                           , Y                                            , 6800、5800、3800、2800、1800、1600、1200、800, 24.1234884                                   , 120.6769368                                  , 2024/01/20 21:30:00                           | <!----> | <!----> | <!----> | <!----> | NULL | ⋯ | NULL | NULL | https://ticket.com.tw/Application/UTK02/UTK0201_.aspx?PRODUCT_ID=P09843UA | https://ticket.com.tw/Application/UTK02/UTK0201_.aspx?PRODUCT_ID=P09843UA | <!----> | <!----> | 年代 | 2024/01/20 | 2024/01/20 | 117 |\n",
       "| 4 | 1.4 | 64e7b90573f77c2b484e693c | 黃金歲月青春99演唱會                     | 17 | 2023/12/02 15:00:00                           , 台中市南區興大路145號                         , 台中中興大學惠蓀堂                            , Y                                             , 5200、4200、3600、3000、2400、1800、1500、1200, 24.1234884                                    , 120.6769368                                   , 2023/12/02 23:59:00                            | <!----> | <!----> | <!----> | <!----> | NULL | ⋯ | NULL | NULL | https://ticket.com.tw/Application/UTK02/UTK0201_.aspx?PRODUCT_ID=P093YMH8 | https://ticket.com.tw/Application/UTK02/UTK0201_.aspx?PRODUCT_ID=P093YMH8 | <!----> | <!----> | 年代 | 2023/12/02 | 2023/12/02 |  28 |\n",
       "| 5 | 1.4 | 64e50d8973f77c2b484e68a5 | 師與徒聖歌演唱會-濟公本色                | 17 | 2023/12/23 19:30:00       , 2023/12/24 14:30:00       , 2024/01/06 19:30:00       , 2024/01/07 14:30:00       , 高雄市小港區學府路115號   , 高雄市小港區學府路115號   , 臺中市豐原區圓環東路782號 , 臺中市豐原區圓環東路782號 , 高雄市立社會教育館演藝廳  , 高雄市立社會教育館演藝廳  , 臺中市葫蘆墩文化中心演奏廳, 臺中市葫蘆墩文化中心演奏廳, Y                         , Y                         , Y                         , Y                         , 1200、1000、800、600      , 1200、1000、800、600      , 1200、1000、800、600      , 1200、1000、800、600      , 22.5652855                , 22.5652855                , 24.2528099                , 24.2528099                , 120.3592853               , 120.3592853               , 120.73019                 , 120.73019                 , 2023/12/23 23:00:00       , 2023/12/24 23:00:00       , 2024/01/06 23:00:00       , 2024/01/07 23:00:00        | <!----> | <!----> | <!----> | <!----> | NULL | ⋯ | NULL | NULL | https://ticket.com.tw/Application/UTK02/UTK0201_.aspx?PRODUCT_ID=P090G7AF | https://ticket.com.tw/Application/UTK02/UTK0201_.aspx?PRODUCT_ID=P090G7AF | <!----> | <!----> | 年代 | 2023/12/23 | 2024/01/07 |  26 |\n",
       "| 6 | 1.4 | 64f0ec2573f77c2b484e6bf8 | 2024夏川里美出道25週年十全十美台北演唱會 | 17 | 2024/02/03 19:30:00                     , 台北市信義區信義路五段一號              , 台北國際會議中心大會堂                  , Y                                       , 5000、4500、4000、3500、3000、2500、2000, 25.0336111                              , 121.5608333                             , 2024/02/03 23:59:00                      | <!----> | <!----> | <!----> | <!----> | NULL | ⋯ | NULL | NULL | https://ticket.com.tw/Application/UTK02/UTK0201_.aspx?PRODUCT_ID=P09ETYZR | https://ticket.com.tw/Application/UTK02/UTK0201_.aspx?PRODUCT_ID=P09ETYZR | <!----> | <!----> | 年代 | 2024/02/03 | 2024/02/03 |  36 |\n",
       "\n"
      ],
      "text/plain": [
       "  version UID                      title                                   \n",
       "1 1.4     64b83da673f77c49dcd265d4 國際沈文程日 十二月九彼下暗巡迴演唱會   \n",
       "2 1.4     64dfbac673f77c2b484e677e 「歌之饗宴8-破繭而出 SAYA 張惠春」演唱會\n",
       "3 1.4     64de6cdd73f77c2b484e6718 時也 運也 命也 2024楊哲公益巡迴演唱會   \n",
       "4 1.4     64e7b90573f77c2b484e693c 黃金歲月青春99演唱會                    \n",
       "5 1.4     64e50d8973f77c2b484e68a5 師與徒聖歌演唱會-濟公本色               \n",
       "6 1.4     64f0ec2573f77c2b484e6bf8 2024夏川里美出道25週年十全十美台北演唱會\n",
       "  category\n",
       "1 17      \n",
       "2 17      \n",
       "3 17      \n",
       "4 17      \n",
       "5 17      \n",
       "6 17      \n",
       "  showInfo                                                                                                                                                                                                                                                                                                                                                                                                                                                                                                                                                                                                                                                                                                                                                                                                                                                                                                                      \n",
       "1 2023/12/09 19:30:00                          , 高雄市鹽埕區真愛路1號                        , 高雄流行音樂中心 海音館                      , Y                                            , 3600、3200、2800、2400、2000、1600、1200、800, 22.6181635                                   , 120.2885658                                  , 2023/12/09 23:00:00                                                                                                                                                                                                                                                                                                                                                                                                                                                                                                                                                                  \n",
       "2 2023/10/28 19:00:00                     , 2023/10/29 19:00:00                     , 台北市信義區信義路五段一號              , 台北市信義區信義路五段一號              , 台北國際會議中心大會堂                  , 台北國際會議中心大會堂                  , Y                                       , Y                                       , 4000、3600、3200、2800、2400、2000、1600, 4000、3600、3200、2800、2400、2000、1600, 25.0336111                              , 25.0336111                              , 121.5608333                             , 121.5608333                             , 2023/10/28 23:59:00                     , 2023/10/29 23:59:00                                                                                                                                                                                                                                                     \n",
       "3 2024/01/20 19:30:00                          , 台中市南區興大路145號                        , 台中中興大學惠蓀堂                           , Y                                            , 6800、5800、3800、2800、1800、1600、1200、800, 24.1234884                                   , 120.6769368                                  , 2024/01/20 21:30:00                                                                                                                                                                                                                                                                                                                                                                                                                                                                                                                                                                  \n",
       "4 2023/12/02 15:00:00                           , 台中市南區興大路145號                         , 台中中興大學惠蓀堂                            , Y                                             , 5200、4200、3600、3000、2400、1800、1500、1200, 24.1234884                                    , 120.6769368                                   , 2023/12/02 23:59:00                                                                                                                                                                                                                                                                                                                                                                                                                                                                                                                                                           \n",
       "5 2023/12/23 19:30:00       , 2023/12/24 14:30:00       , 2024/01/06 19:30:00       , 2024/01/07 14:30:00       , 高雄市小港區學府路115號   , 高雄市小港區學府路115號   , 臺中市豐原區圓環東路782號 , 臺中市豐原區圓環東路782號 , 高雄市立社會教育館演藝廳  , 高雄市立社會教育館演藝廳  , 臺中市葫蘆墩文化中心演奏廳, 臺中市葫蘆墩文化中心演奏廳, Y                         , Y                         , Y                         , Y                         , 1200、1000、800、600      , 1200、1000、800、600      , 1200、1000、800、600      , 1200、1000、800、600      , 22.5652855                , 22.5652855                , 24.2528099                , 24.2528099                , 120.3592853               , 120.3592853               , 120.73019                 , 120.73019                 , 2023/12/23 23:00:00       , 2023/12/24 23:00:00       , 2024/01/06 23:00:00       , 2024/01/07 23:00:00       \n",
       "6 2024/02/03 19:30:00                     , 台北市信義區信義路五段一號              , 台北國際會議中心大會堂                  , Y                                       , 5000、4500、4000、3500、3000、2500、2000, 25.0336111                              , 121.5608333                             , 2024/02/03 23:59:00                                                                                                                                                                                                                                                                                                                                                                                                                                                                                                                                                                                                     \n",
       "  showUnit discountInfo descriptionFilterHtml imageUrl masterUnit ⋯ supportUnit\n",
       "1                                                      NULL       ⋯ NULL       \n",
       "2                                                      NULL       ⋯ NULL       \n",
       "3                                                      NULL       ⋯ NULL       \n",
       "4                                                      NULL       ⋯ NULL       \n",
       "5                                                      NULL       ⋯ NULL       \n",
       "6                                                      NULL       ⋯ NULL       \n",
       "  otherUnit\n",
       "1 NULL     \n",
       "2 NULL     \n",
       "3 NULL     \n",
       "4 NULL     \n",
       "5 NULL     \n",
       "6 NULL     \n",
       "  webSales                                                                 \n",
       "1 https://ticket.com.tw/Application/UTK02/UTK0201_.aspx?PRODUCT_ID=P07VL56F\n",
       "2 https://ticket.com.tw/Application/UTK02/UTK0201_.aspx?PRODUCT_ID=P091DXL3\n",
       "3 https://ticket.com.tw/Application/UTK02/UTK0201_.aspx?PRODUCT_ID=P09843UA\n",
       "4 https://ticket.com.tw/Application/UTK02/UTK0201_.aspx?PRODUCT_ID=P093YMH8\n",
       "5 https://ticket.com.tw/Application/UTK02/UTK0201_.aspx?PRODUCT_ID=P090G7AF\n",
       "6 https://ticket.com.tw/Application/UTK02/UTK0201_.aspx?PRODUCT_ID=P09ETYZR\n",
       "  sourceWebPromote                                                         \n",
       "1 https://ticket.com.tw/Application/UTK02/UTK0201_.aspx?PRODUCT_ID=P07VL56F\n",
       "2 https://ticket.com.tw/Application/UTK02/UTK0201_.aspx?PRODUCT_ID=P091DXL3\n",
       "3 https://ticket.com.tw/Application/UTK02/UTK0201_.aspx?PRODUCT_ID=P09843UA\n",
       "4 https://ticket.com.tw/Application/UTK02/UTK0201_.aspx?PRODUCT_ID=P093YMH8\n",
       "5 https://ticket.com.tw/Application/UTK02/UTK0201_.aspx?PRODUCT_ID=P090G7AF\n",
       "6 https://ticket.com.tw/Application/UTK02/UTK0201_.aspx?PRODUCT_ID=P09ETYZR\n",
       "  comment editModifyDate sourceWebName startDate  endDate    hitRate\n",
       "1                        年代          2023/12/09 2023/12/09  39    \n",
       "2                        年代          2023/10/28 2023/10/29 133    \n",
       "3                        年代          2024/01/20 2024/01/20 117    \n",
       "4                        年代          2023/12/02 2023/12/02  28    \n",
       "5                        年代          2023/12/23 2024/01/07  26    \n",
       "6                        年代          2024/02/03 2024/02/03  36    "
      ]
     },
     "metadata": {},
     "output_type": "display_data"
    }
   ],
   "source": [
    "head(concerts_fbf)"
   ]
  },
  {
   "cell_type": "markdown",
   "metadata": {},
   "source": [
    "## Names of columns"
   ]
  },
  {
   "cell_type": "code",
   "execution_count": 13,
   "metadata": {
    "vscode": {
     "languageId": "r"
    }
   },
   "outputs": [
    {
     "data": {
      "text/html": [
       "<style>\n",
       ".list-inline {list-style: none; margin:0; padding: 0}\n",
       ".list-inline>li {display: inline-block}\n",
       ".list-inline>li:not(:last-child)::after {content: \"\\00b7\"; padding: 0 .5ex}\n",
       "</style>\n",
       "<ol class=list-inline><li>'AirlineID'</li><li>'ScheduleStartDate'</li><li>'ScheduleEndDate'</li><li>'FlightNumber'</li><li>'DepartureAirportID'</li><li>'DepartureTime'</li><li>'CodeShare'</li><li>'ArrivalAirportID'</li><li>'ArrivalTime'</li><li>'Monday'</li><li>'Tuesday'</li><li>'Wednesday'</li><li>'Thursday'</li><li>'Friday'</li><li>'Saturday'</li><li>'Sunday'</li><li>'UpdateTime'</li><li>'VersionID'</li><li>'Terminal'</li><li>'num_codeShare'</li></ol>\n"
      ],
      "text/latex": [
       "\\begin{enumerate*}\n",
       "\\item 'AirlineID'\n",
       "\\item 'ScheduleStartDate'\n",
       "\\item 'ScheduleEndDate'\n",
       "\\item 'FlightNumber'\n",
       "\\item 'DepartureAirportID'\n",
       "\\item 'DepartureTime'\n",
       "\\item 'CodeShare'\n",
       "\\item 'ArrivalAirportID'\n",
       "\\item 'ArrivalTime'\n",
       "\\item 'Monday'\n",
       "\\item 'Tuesday'\n",
       "\\item 'Wednesday'\n",
       "\\item 'Thursday'\n",
       "\\item 'Friday'\n",
       "\\item 'Saturday'\n",
       "\\item 'Sunday'\n",
       "\\item 'UpdateTime'\n",
       "\\item 'VersionID'\n",
       "\\item 'Terminal'\n",
       "\\item 'num\\_codeShare'\n",
       "\\end{enumerate*}\n"
      ],
      "text/markdown": [
       "1. 'AirlineID'\n",
       "2. 'ScheduleStartDate'\n",
       "3. 'ScheduleEndDate'\n",
       "4. 'FlightNumber'\n",
       "5. 'DepartureAirportID'\n",
       "6. 'DepartureTime'\n",
       "7. 'CodeShare'\n",
       "8. 'ArrivalAirportID'\n",
       "9. 'ArrivalTime'\n",
       "10. 'Monday'\n",
       "11. 'Tuesday'\n",
       "12. 'Wednesday'\n",
       "13. 'Thursday'\n",
       "14. 'Friday'\n",
       "15. 'Saturday'\n",
       "16. 'Sunday'\n",
       "17. 'UpdateTime'\n",
       "18. 'VersionID'\n",
       "19. 'Terminal'\n",
       "20. 'num_codeShare'\n",
       "\n",
       "\n"
      ],
      "text/plain": [
       " [1] \"AirlineID\"          \"ScheduleStartDate\"  \"ScheduleEndDate\"   \n",
       " [4] \"FlightNumber\"       \"DepartureAirportID\" \"DepartureTime\"     \n",
       " [7] \"CodeShare\"          \"ArrivalAirportID\"   \"ArrivalTime\"       \n",
       "[10] \"Monday\"             \"Tuesday\"            \"Wednesday\"         \n",
       "[13] \"Thursday\"           \"Friday\"             \"Saturday\"          \n",
       "[16] \"Sunday\"             \"UpdateTime\"         \"VersionID\"         \n",
       "[19] \"Terminal\"           \"num_codeShare\"     "
      ]
     },
     "metadata": {},
     "output_type": "display_data"
    }
   ],
   "source": [
    "names(flightsData)"
   ]
  },
  {
   "cell_type": "markdown",
   "metadata": {},
   "source": [
    "Each name represents:\n",
    "\n",
    "- `AirlineID`: an identification number assigned by IATA to identify a unique airline (carrier).\n",
    "- `ScheduleStartDate`: the start date of the flight schedule season for which the row of data is relevant to.\n",
    "- `ScheduleEndDate`: the end date of the flight schedule season for which the row of data is relevant to.\n",
    "- `FlightNumber`: the flight number assigned by the carrier.\n",
    "- `DepartureAirportID`: an identification number assigned by IATA to identify a unique airport.\n",
    "- `ArrivalAirportID`: an identification number assigned by IATA to identify a unique airport.\n",
    "- `DepartureTime`: the scheduled departure time of the flight.\n",
    "- `ArrivalTime`: the scheduled arrival time of the flight.\n",
    "- `Monday` to `Sunday`: the days of the week on which the flight operates based on departure date.\n",
    "- `CodeShare`: a code share flight is a flight booked through one airline but operated by another airline (as indicated by the carrier code).\n",
    "\n"
   ]
  },
  {
   "cell_type": "markdown",
   "metadata": {},
   "source": [
    "## Check the first few rows"
   ]
  },
  {
   "cell_type": "code",
   "execution_count": 14,
   "metadata": {
    "vscode": {
     "languageId": "r"
    }
   },
   "outputs": [
    {
     "data": {
      "text/html": [
       "<table class=\"dataframe\">\n",
       "<caption>A data.frame: 6 × 20</caption>\n",
       "<thead>\n",
       "\t<tr><th></th><th scope=col>AirlineID</th><th scope=col>ScheduleStartDate</th><th scope=col>ScheduleEndDate</th><th scope=col>FlightNumber</th><th scope=col>DepartureAirportID</th><th scope=col>DepartureTime</th><th scope=col>CodeShare</th><th scope=col>ArrivalAirportID</th><th scope=col>ArrivalTime</th><th scope=col>Monday</th><th scope=col>Tuesday</th><th scope=col>Wednesday</th><th scope=col>Thursday</th><th scope=col>Friday</th><th scope=col>Saturday</th><th scope=col>Sunday</th><th scope=col>UpdateTime</th><th scope=col>VersionID</th><th scope=col>Terminal</th><th scope=col>num_codeShare</th></tr>\n",
       "\t<tr><th></th><th scope=col>&lt;list&gt;</th><th scope=col>&lt;list&gt;</th><th scope=col>&lt;list&gt;</th><th scope=col>&lt;list&gt;</th><th scope=col>&lt;list&gt;</th><th scope=col>&lt;list&gt;</th><th scope=col>&lt;list&gt;</th><th scope=col>&lt;list&gt;</th><th scope=col>&lt;list&gt;</th><th scope=col>&lt;list&gt;</th><th scope=col>&lt;list&gt;</th><th scope=col>&lt;list&gt;</th><th scope=col>&lt;list&gt;</th><th scope=col>&lt;list&gt;</th><th scope=col>&lt;list&gt;</th><th scope=col>&lt;list&gt;</th><th scope=col>&lt;list&gt;</th><th scope=col>&lt;list&gt;</th><th scope=col>&lt;list&gt;</th><th scope=col>&lt;int&gt;</th></tr>\n",
       "</thead>\n",
       "<tbody>\n",
       "\t<tr><th scope=row>1</th><td>3U</td><td>2023-10-13</td><td>2023-10-15</td><td>3U3783</td><td>CKG</td><td>15:00</td><td>NULL</td><td>TSA</td><td>18:00</td><td>FALSE</td><td>FALSE</td><td>FALSE</td><td>FALSE</td><td>TRUE</td><td>FALSE</td><td>TRUE</td><td>2023-10-10T08:26:07+08:00</td><td>1111</td><td>NA</td><td>0</td></tr>\n",
       "\t<tr><th scope=row>2</th><td>3U</td><td>2023-10-20</td><td>2023-10-22</td><td>3U3783</td><td>CKG</td><td>15:00</td><td>NULL</td><td>TSA</td><td>18:00</td><td>FALSE</td><td>FALSE</td><td>FALSE</td><td>FALSE</td><td>TRUE</td><td>FALSE</td><td>TRUE</td><td>2023-10-10T08:26:07+08:00</td><td>1111</td><td>NA</td><td>0</td></tr>\n",
       "\t<tr><th scope=row>3</th><td>3U</td><td>2023-10-27</td><td>2023-10-27</td><td>3U3783</td><td>CKG</td><td>15:00</td><td>NULL</td><td>TSA</td><td>18:00</td><td>FALSE</td><td>FALSE</td><td>FALSE</td><td>FALSE</td><td>TRUE</td><td>FALSE</td><td>FALSE</td><td>2023-10-10T08:26:07+08:00</td><td>1111</td><td>NA</td><td>0</td></tr>\n",
       "\t<tr><th scope=row>4</th><td>3U</td><td>2023-10-13</td><td>2023-10-15</td><td>3U3784</td><td>TSA</td><td>19:00</td><td>NULL</td><td>CKG</td><td>22:15</td><td>FALSE</td><td>FALSE</td><td>FALSE</td><td>FALSE</td><td>TRUE</td><td>FALSE</td><td>TRUE</td><td>2023-10-10T08:26:07+08:00</td><td>1111</td><td>NA</td><td>0</td></tr>\n",
       "\t<tr><th scope=row>5</th><td>3U</td><td>2023-10-20</td><td>2023-10-22</td><td>3U3784</td><td>TSA</td><td>19:00</td><td>NULL</td><td>CKG</td><td>22:15</td><td>FALSE</td><td>FALSE</td><td>FALSE</td><td>FALSE</td><td>TRUE</td><td>FALSE</td><td>TRUE</td><td>2023-10-10T08:26:07+08:00</td><td>1111</td><td>NA</td><td>0</td></tr>\n",
       "\t<tr><th scope=row>6</th><td>3U</td><td>2023-10-27</td><td>2023-10-27</td><td>3U3784</td><td>TSA</td><td>19:00</td><td>NULL</td><td>CKG</td><td>22:15</td><td>FALSE</td><td>FALSE</td><td>FALSE</td><td>FALSE</td><td>TRUE</td><td>FALSE</td><td>FALSE</td><td>2023-10-10T08:26:07+08:00</td><td>1111</td><td>NA</td><td>0</td></tr>\n",
       "</tbody>\n",
       "</table>\n"
      ],
      "text/latex": [
       "A data.frame: 6 × 20\n",
       "\\begin{tabular}{r|llllllllllllllllllll}\n",
       "  & AirlineID & ScheduleStartDate & ScheduleEndDate & FlightNumber & DepartureAirportID & DepartureTime & CodeShare & ArrivalAirportID & ArrivalTime & Monday & Tuesday & Wednesday & Thursday & Friday & Saturday & Sunday & UpdateTime & VersionID & Terminal & num\\_codeShare\\\\\n",
       "  & <list> & <list> & <list> & <list> & <list> & <list> & <list> & <list> & <list> & <list> & <list> & <list> & <list> & <list> & <list> & <list> & <list> & <list> & <list> & <int>\\\\\n",
       "\\hline\n",
       "\t1 & 3U & 2023-10-13 & 2023-10-15 & 3U3783 & CKG & 15:00 & NULL & TSA & 18:00 & FALSE & FALSE & FALSE & FALSE & TRUE & FALSE & TRUE & 2023-10-10T08:26:07+08:00 & 1111 & NA & 0\\\\\n",
       "\t2 & 3U & 2023-10-20 & 2023-10-22 & 3U3783 & CKG & 15:00 & NULL & TSA & 18:00 & FALSE & FALSE & FALSE & FALSE & TRUE & FALSE & TRUE & 2023-10-10T08:26:07+08:00 & 1111 & NA & 0\\\\\n",
       "\t3 & 3U & 2023-10-27 & 2023-10-27 & 3U3783 & CKG & 15:00 & NULL & TSA & 18:00 & FALSE & FALSE & FALSE & FALSE & TRUE & FALSE & FALSE & 2023-10-10T08:26:07+08:00 & 1111 & NA & 0\\\\\n",
       "\t4 & 3U & 2023-10-13 & 2023-10-15 & 3U3784 & TSA & 19:00 & NULL & CKG & 22:15 & FALSE & FALSE & FALSE & FALSE & TRUE & FALSE & TRUE & 2023-10-10T08:26:07+08:00 & 1111 & NA & 0\\\\\n",
       "\t5 & 3U & 2023-10-20 & 2023-10-22 & 3U3784 & TSA & 19:00 & NULL & CKG & 22:15 & FALSE & FALSE & FALSE & FALSE & TRUE & FALSE & TRUE & 2023-10-10T08:26:07+08:00 & 1111 & NA & 0\\\\\n",
       "\t6 & 3U & 2023-10-27 & 2023-10-27 & 3U3784 & TSA & 19:00 & NULL & CKG & 22:15 & FALSE & FALSE & FALSE & FALSE & TRUE & FALSE & FALSE & 2023-10-10T08:26:07+08:00 & 1111 & NA & 0\\\\\n",
       "\\end{tabular}\n"
      ],
      "text/markdown": [
       "\n",
       "A data.frame: 6 × 20\n",
       "\n",
       "| <!--/--> | AirlineID &lt;list&gt; | ScheduleStartDate &lt;list&gt; | ScheduleEndDate &lt;list&gt; | FlightNumber &lt;list&gt; | DepartureAirportID &lt;list&gt; | DepartureTime &lt;list&gt; | CodeShare &lt;list&gt; | ArrivalAirportID &lt;list&gt; | ArrivalTime &lt;list&gt; | Monday &lt;list&gt; | Tuesday &lt;list&gt; | Wednesday &lt;list&gt; | Thursday &lt;list&gt; | Friday &lt;list&gt; | Saturday &lt;list&gt; | Sunday &lt;list&gt; | UpdateTime &lt;list&gt; | VersionID &lt;list&gt; | Terminal &lt;list&gt; | num_codeShare &lt;int&gt; |\n",
       "|---|---|---|---|---|---|---|---|---|---|---|---|---|---|---|---|---|---|---|---|---|\n",
       "| 1 | 3U | 2023-10-13 | 2023-10-15 | 3U3783 | CKG | 15:00 | NULL | TSA | 18:00 | FALSE | FALSE | FALSE | FALSE | TRUE | FALSE | TRUE | 2023-10-10T08:26:07+08:00 | 1111 | NA | 0 |\n",
       "| 2 | 3U | 2023-10-20 | 2023-10-22 | 3U3783 | CKG | 15:00 | NULL | TSA | 18:00 | FALSE | FALSE | FALSE | FALSE | TRUE | FALSE | TRUE | 2023-10-10T08:26:07+08:00 | 1111 | NA | 0 |\n",
       "| 3 | 3U | 2023-10-27 | 2023-10-27 | 3U3783 | CKG | 15:00 | NULL | TSA | 18:00 | FALSE | FALSE | FALSE | FALSE | TRUE | FALSE | FALSE | 2023-10-10T08:26:07+08:00 | 1111 | NA | 0 |\n",
       "| 4 | 3U | 2023-10-13 | 2023-10-15 | 3U3784 | TSA | 19:00 | NULL | CKG | 22:15 | FALSE | FALSE | FALSE | FALSE | TRUE | FALSE | TRUE | 2023-10-10T08:26:07+08:00 | 1111 | NA | 0 |\n",
       "| 5 | 3U | 2023-10-20 | 2023-10-22 | 3U3784 | TSA | 19:00 | NULL | CKG | 22:15 | FALSE | FALSE | FALSE | FALSE | TRUE | FALSE | TRUE | 2023-10-10T08:26:07+08:00 | 1111 | NA | 0 |\n",
       "| 6 | 3U | 2023-10-27 | 2023-10-27 | 3U3784 | TSA | 19:00 | NULL | CKG | 22:15 | FALSE | FALSE | FALSE | FALSE | TRUE | FALSE | FALSE | 2023-10-10T08:26:07+08:00 | 1111 | NA | 0 |\n",
       "\n"
      ],
      "text/plain": [
       "  AirlineID ScheduleStartDate ScheduleEndDate FlightNumber DepartureAirportID\n",
       "1 3U        2023-10-13        2023-10-15      3U3783       CKG               \n",
       "2 3U        2023-10-20        2023-10-22      3U3783       CKG               \n",
       "3 3U        2023-10-27        2023-10-27      3U3783       CKG               \n",
       "4 3U        2023-10-13        2023-10-15      3U3784       TSA               \n",
       "5 3U        2023-10-20        2023-10-22      3U3784       TSA               \n",
       "6 3U        2023-10-27        2023-10-27      3U3784       TSA               \n",
       "  DepartureTime CodeShare ArrivalAirportID ArrivalTime Monday Tuesday Wednesday\n",
       "1 15:00         NULL      TSA              18:00       FALSE  FALSE   FALSE    \n",
       "2 15:00         NULL      TSA              18:00       FALSE  FALSE   FALSE    \n",
       "3 15:00         NULL      TSA              18:00       FALSE  FALSE   FALSE    \n",
       "4 19:00         NULL      CKG              22:15       FALSE  FALSE   FALSE    \n",
       "5 19:00         NULL      CKG              22:15       FALSE  FALSE   FALSE    \n",
       "6 19:00         NULL      CKG              22:15       FALSE  FALSE   FALSE    \n",
       "  Thursday Friday Saturday Sunday UpdateTime                VersionID Terminal\n",
       "1 FALSE    TRUE   FALSE    TRUE   2023-10-10T08:26:07+08:00 1111      NA      \n",
       "2 FALSE    TRUE   FALSE    TRUE   2023-10-10T08:26:07+08:00 1111      NA      \n",
       "3 FALSE    TRUE   FALSE    FALSE  2023-10-10T08:26:07+08:00 1111      NA      \n",
       "4 FALSE    TRUE   FALSE    TRUE   2023-10-10T08:26:07+08:00 1111      NA      \n",
       "5 FALSE    TRUE   FALSE    TRUE   2023-10-10T08:26:07+08:00 1111      NA      \n",
       "6 FALSE    TRUE   FALSE    FALSE  2023-10-10T08:26:07+08:00 1111      NA      \n",
       "  num_codeShare\n",
       "1 0            \n",
       "2 0            \n",
       "3 0            \n",
       "4 0            \n",
       "5 0            \n",
       "6 0            "
      ]
     },
     "metadata": {},
     "output_type": "display_data"
    }
   ],
   "source": [
    "head(flightsData)"
   ]
  },
  {
   "cell_type": "code",
   "execution_count": 30,
   "metadata": {
    "vscode": {
     "languageId": "r"
    }
   },
   "outputs": [
    {
     "data": {
      "text/plain": [
       "\n",
       " TPE  PVG  KHH  HKG  NRT  BKK  KIX  ICN  TSA  SIN  MFM  FUK  HAN  BWN  LAX  SGN \n",
       "2268  156  140  138  134  120  120  108   99   82   70   66   63   60   60   59 \n",
       " SFO  MNL  KUL  OKA  PEK  CEB  PUS  SDJ  DAD  CTS  HND  SZX  CAN  KMQ  SHA  HGH \n",
       "  57   54   50   49   42   41   37   36   35   33   33   33   27   27   24   23 \n",
       " XMN  DMK  RMQ  GMP  NGO  PEN  BKI  JFK  DXB  NKG  FOC  TFU  YVR  CGK  CKG  CNX \n",
       "  23   22   22   21   21   21   19   18   16   16   15   15   15   12   12   12 \n",
       " MEL  ORD  PNH  TAO  YYZ  BNE  TAE  CRK  DPS  LHR  SEA  SYD  TAK  WUH  VIE  AKL \n",
       "  12   12   12   12   12   11   10    9    9    9    9    9    9    9    8    6 \n",
       " AMS  CJJ  CJU  FCO  FRA  GAJ  HIJ  IAH  IST  KMJ  MUC  NGB  KIJ  MXP  TKS  CXR \n",
       "   6    6    6    6    6    6    6    6    6    6    6    6    5    5    5    4 \n",
       " PRG  AKJ  CDG  CGO  HKD  HKT  HNA  HSG  HUI  IBR  KCZ  KLO  MPH  OKJ  ONT  PPS \n",
       "   4    3    3    3    3    3    3    3    3    3    3    3    3    3    3    3 \n",
       " RGN  ROR  TNN  AOJ  IZO  TOY  TTJ  NTQ  VII \n",
       "   3    3    3    2    2    2    2    1    1 "
      ]
     },
     "metadata": {},
     "output_type": "display_data"
    }
   ],
   "source": [
    "flightsData$ArrivalAirportID |> unlist() |> table() |> sort(decreasing = T)"
   ]
  },
  {
   "cell_type": "markdown",
   "metadata": {},
   "source": [
    "## Understand column values\n",
    "\n",
    "### `...AirportID`"
   ]
  },
  {
   "cell_type": "code",
   "execution_count": null,
   "metadata": {
    "vscode": {
     "languageId": "r"
    }
   },
   "outputs": [],
   "source": [
    "install.packages(\"airportr\")\n"
   ]
  },
  {
   "cell_type": "code",
   "execution_count": 49,
   "metadata": {
    "vscode": {
     "languageId": "r"
    }
   },
   "outputs": [
    {
     "data": {
      "text/html": [
       "'Hanoi'"
      ],
      "text/latex": [
       "'Hanoi'"
      ],
      "text/markdown": [
       "'Hanoi'"
      ],
      "text/plain": [
       "[1] \"Hanoi\""
      ]
     },
     "metadata": {},
     "output_type": "display_data"
    }
   ],
   "source": [
    "library(airportr)\n",
    "han <- airport_lookup(\"HAN\", output_type=c(\"city\"))\n",
    "\n",
    "han "
   ]
  },
  {
   "cell_type": "code",
   "execution_count": 48,
   "metadata": {
    "vscode": {
     "languageId": "r"
    }
   },
   "outputs": [
    {
     "data": {
      "text/html": [
       "1633.79180239335"
      ],
      "text/latex": [
       "1633.79180239335"
      ],
      "text/markdown": [
       "1633.79180239335"
      ],
      "text/plain": [
       "[1] 1633.792"
      ]
     },
     "metadata": {},
     "output_type": "display_data"
    }
   ],
   "source": [
    "tpe_han <- airport_distance(\"TPE\",\"HAN\")\n",
    "\n",
    "tpe_han"
   ]
  },
  {
   "cell_type": "markdown",
   "metadata": {},
   "source": [
    "> Warning message could be ignored most of the time since the command still goes through. "
   ]
  }
 ],
 "metadata": {
  "kernelspec": {
   "display_name": "R",
   "language": "R",
   "name": "ir"
  },
  "language_info": {
   "codemirror_mode": "r",
   "file_extension": ".r",
   "mimetype": "text/x-r-source",
   "name": "R",
   "pygments_lexer": "r",
   "version": "4.2.2"
  },
  "orig_nbformat": 4
 },
 "nbformat": 4,
 "nbformat_minor": 2
}
